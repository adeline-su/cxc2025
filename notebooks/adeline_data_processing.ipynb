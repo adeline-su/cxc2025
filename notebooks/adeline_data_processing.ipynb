{
 "cells": [
  {
   "cell_type": "markdown",
   "id": "57473881",
   "metadata": {},
   "source": [
    "# load data"
   ]
  },
  {
   "cell_type": "code",
   "execution_count": 2,
   "id": "3d7c2093-9609-416c-9114-ece7320f17d4",
   "metadata": {},
   "outputs": [],
   "source": [
    "import pandas as pd\n",
    "import json\n",
    "from ast import literal_eval\n",
    "import plotly.express as px\n",
    "import matplotlib.pyplot as plt\n",
    "from datetime import datetime"
   ]
  },
  {
   "cell_type": "code",
   "execution_count": 3,
   "id": "301cd8b2-21ef-4029-894c-fba89dbadcab",
   "metadata": {},
   "outputs": [
    {
     "name": "stdout",
     "output_type": "stream",
     "text": [
      "Index(['$insert_id', 'amplitude_id', 'app', 'city', 'client_event_time',\n",
      "       'client_upload_time', 'country', 'data', 'data_type', 'device_family',\n",
      "       'device_id', 'device_type', 'dma', 'event_id', 'event_properties',\n",
      "       'event_time', 'event_type', 'language', 'library', 'os_name',\n",
      "       'os_version', 'platform', 'processed_time', 'region',\n",
      "       'server_received_time', 'server_upload_time', 'session_id', 'user_id',\n",
      "       'user_properties', 'uuid'],\n",
      "      dtype='object')\n"
     ]
    }
   ],
   "source": [
    "df_all = pd.read_csv('../datasets/2025_csv/_chunk_0_100000.csv')\n",
    "\n",
    "print(df_all.columns)"
   ]
  },
  {
   "cell_type": "markdown",
   "id": "bf4ec69b",
   "metadata": {},
   "source": [
    "# process data - unnest"
   ]
  },
  {
   "cell_type": "code",
   "execution_count": 4,
   "id": "f9667b78-13c1-4fce-a5fd-ff542ef0b7f4",
   "metadata": {},
   "outputs": [],
   "source": [
    "# Parse nested JSON columns\n",
    "json_cols = ['data', 'event_properties', 'user_properties']\n",
    "for col in json_cols:\n",
    "    df_all[col] = df_all[col].apply(lambda x: literal_eval(str(x)) if pd.notna(x) else {})\n",
    "\n",
    "# Flatten nested columns\n",
    "df_all['event_slug'] = df_all['event_properties'].apply(lambda x: x.get('slug', 'unknown'))\n",
    "df_all['event_displayName'] = df_all['event_properties'].apply(lambda x: x.get('displayName', 'unknown'))\n",
    "df_all['user_roles'] = df_all['user_properties'].apply(lambda x: x.get('roles', []))\n",
    "\n",
    "# Convert timestamps to a parsable time value\n",
    "time_cols = ['client_event_time', 'event_time', 'server_received_time']\n",
    "for col in time_cols:\n",
    "    df_all[col] = pd.to_datetime(df_all[col], errors='coerce')"
   ]
  },
  {
   "cell_type": "code",
   "execution_count": 5,
   "id": "a36ab86f",
   "metadata": {},
   "outputs": [
    {
     "data": {
      "text/html": [
       "<div>\n",
       "<style scoped>\n",
       "    .dataframe tbody tr th:only-of-type {\n",
       "        vertical-align: middle;\n",
       "    }\n",
       "\n",
       "    .dataframe tbody tr th {\n",
       "        vertical-align: top;\n",
       "    }\n",
       "\n",
       "    .dataframe thead th {\n",
       "        text-align: right;\n",
       "    }\n",
       "</style>\n",
       "<table border=\"1\" class=\"dataframe\">\n",
       "  <thead>\n",
       "    <tr style=\"text-align: right;\">\n",
       "      <th></th>\n",
       "      <th>session_id</th>\n",
       "      <th>event_time</th>\n",
       "      <th>client_event_time</th>\n",
       "      <th>user_id</th>\n",
       "      <th>user_roles</th>\n",
       "      <th>city</th>\n",
       "      <th>event_displayName</th>\n",
       "      <th>event_slug</th>\n",
       "      <th>event_type</th>\n",
       "    </tr>\n",
       "  </thead>\n",
       "  <tbody>\n",
       "    <tr>\n",
       "      <th>0</th>\n",
       "      <td>1737495248013</td>\n",
       "      <td>2025-01-21 21:34:08.373</td>\n",
       "      <td>2025-01-21 21:34:08.373</td>\n",
       "      <td>a5093711-4508-4f51-99f7-f7d493cd800a</td>\n",
       "      <td>[underwriter]</td>\n",
       "      <td>Chicago</td>\n",
       "      <td>unknown</td>\n",
       "      <td>unknown</td>\n",
       "      <td>session_end</td>\n",
       "    </tr>\n",
       "    <tr>\n",
       "      <th>1</th>\n",
       "      <td>1737502763521</td>\n",
       "      <td>2025-01-21 23:39:20.650</td>\n",
       "      <td>2025-01-21 23:39:20.650</td>\n",
       "      <td>a5093711-4508-4f51-99f7-f7d493cd800a</td>\n",
       "      <td>[underwriter]</td>\n",
       "      <td>Chicago</td>\n",
       "      <td>unknown</td>\n",
       "      <td>unknown</td>\n",
       "      <td>application-window-opened</td>\n",
       "    </tr>\n",
       "    <tr>\n",
       "      <th>2</th>\n",
       "      <td>1737502763521</td>\n",
       "      <td>2025-01-21 23:39:22.802</td>\n",
       "      <td>2025-01-21 23:39:22.802</td>\n",
       "      <td>a5093711-4508-4f51-99f7-f7d493cd800a</td>\n",
       "      <td>[underwriter]</td>\n",
       "      <td>Chicago</td>\n",
       "      <td>unknown</td>\n",
       "      <td>unknown</td>\n",
       "      <td>dashboard:my-book::view</td>\n",
       "    </tr>\n",
       "    <tr>\n",
       "      <th>3</th>\n",
       "      <td>1737502763521</td>\n",
       "      <td>2025-01-21 23:39:22.802</td>\n",
       "      <td>2025-01-21 23:39:22.802</td>\n",
       "      <td>a5093711-4508-4f51-99f7-f7d493cd800a</td>\n",
       "      <td>[underwriter]</td>\n",
       "      <td>Chicago</td>\n",
       "      <td>unknown</td>\n",
       "      <td>my-book</td>\n",
       "      <td>dashboard:my-book:layout:render</td>\n",
       "    </tr>\n",
       "    <tr>\n",
       "      <th>4</th>\n",
       "      <td>1737502763521</td>\n",
       "      <td>2025-01-21 23:39:22.986</td>\n",
       "      <td>2025-01-21 23:39:22.986</td>\n",
       "      <td>a5093711-4508-4f51-99f7-f7d493cd800a</td>\n",
       "      <td>[underwriter]</td>\n",
       "      <td>Chicago</td>\n",
       "      <td>Actions</td>\n",
       "      <td>actions</td>\n",
       "      <td>dashboard:my-book:widget:render</td>\n",
       "    </tr>\n",
       "  </tbody>\n",
       "</table>\n",
       "</div>"
      ],
      "text/plain": [
       "      session_id              event_time       client_event_time  \\\n",
       "0  1737495248013 2025-01-21 21:34:08.373 2025-01-21 21:34:08.373   \n",
       "1  1737502763521 2025-01-21 23:39:20.650 2025-01-21 23:39:20.650   \n",
       "2  1737502763521 2025-01-21 23:39:22.802 2025-01-21 23:39:22.802   \n",
       "3  1737502763521 2025-01-21 23:39:22.802 2025-01-21 23:39:22.802   \n",
       "4  1737502763521 2025-01-21 23:39:22.986 2025-01-21 23:39:22.986   \n",
       "\n",
       "                                user_id     user_roles     city  \\\n",
       "0  a5093711-4508-4f51-99f7-f7d493cd800a  [underwriter]  Chicago   \n",
       "1  a5093711-4508-4f51-99f7-f7d493cd800a  [underwriter]  Chicago   \n",
       "2  a5093711-4508-4f51-99f7-f7d493cd800a  [underwriter]  Chicago   \n",
       "3  a5093711-4508-4f51-99f7-f7d493cd800a  [underwriter]  Chicago   \n",
       "4  a5093711-4508-4f51-99f7-f7d493cd800a  [underwriter]  Chicago   \n",
       "\n",
       "  event_displayName event_slug                       event_type  \n",
       "0           unknown    unknown                      session_end  \n",
       "1           unknown    unknown        application-window-opened  \n",
       "2           unknown    unknown          dashboard:my-book::view  \n",
       "3           unknown    my-book  dashboard:my-book:layout:render  \n",
       "4           Actions    actions  dashboard:my-book:widget:render  "
      ]
     },
     "execution_count": 5,
     "metadata": {},
     "output_type": "execute_result"
    }
   ],
   "source": [
    "# session_id will be the uuid \n",
    "cols = ['session_id', 'event_time', 'client_event_time', 'user_id', 'user_roles', 'city', 'event_displayName', 'event_slug', 'event_type']\n",
    "df_granular = df_all[cols]\n",
    "df_granular.head()"
   ]
  },
  {
   "cell_type": "markdown",
   "id": "c739bf85",
   "metadata": {},
   "source": [
    "# process data - aggregate by session id"
   ]
  },
  {
   "cell_type": "code",
   "execution_count": 17,
   "id": "77b3fd39",
   "metadata": {},
   "outputs": [
    {
     "name": "stdout",
     "output_type": "stream",
     "text": [
      "True\n",
      "0                                                                                                                                                                                                                                       [session_end, session_end, session_end, session_end, session_end, session_end, session_end, session_end, session_end, session_end, session_end, session_end, session_end, session_end, session_end, session_end, session_end, session_end, session_end, session_end, session_end]\n",
      "1                                                                                                                                                                                                                                                                              [session_end, session_end, session_end, session_end, session_end, session_end, session_end, session_end, session_end, session_end, session_end, session_end, session_end, session_end, session_end, session_end, session_end, session_end]\n",
      "2                                                                                                                                                                                                                                                                                                                                                                                                                                                                                                           [session_end]\n",
      "3                                                                                                                                            [session_end, session_end, session_end, session_end, session_end, session_end, session_end, session_end, session_end, session_end, session_end, session_end, session_end, session_end, session_end, session_end, session_end, session_end, session_end, session_end, session_end, session_end, session_end, session_end, session_end, session_end, session_end, session_end]\n",
      "4                                                                                                                                                                                                                                                                                                                                                                                                                                                                                                           [session_end]\n",
      "5                                                                                                                                                                                                                                                                                                                                                                                                                                                                                              [session_end, session_end]\n",
      "6                                                                                                                                                                                                                                                                                                                                                                                                                             [session_end, session_end, session_end, session_end, session_end, session_end, session_end]\n",
      "7                                                                                                                                                                                                                                                                                                                                                                                                                                                                                                           [session_end]\n",
      "8                                                                                                                                                                                                                                                    [session_end, session_end, session_end, session_end, session_end, session_end, session_end, session_end, session_end, session_end, session_end, session_end, session_end, session_end, session_end, session_end, session_end, session_end, session_end, session_end]\n",
      "9                                                                                                                                                                                                                                                                                                                                                                                                                                                                                                           [session_end]\n",
      "10                                                                                                                                                                                                                                                                                                                                                                                                                                                                                                          [session_end]\n",
      "11                                                                                                                                                                                                                                                                                                                                                                                                                                                                                                          [session_end]\n",
      "12                                                                                                                                                                                                                                                                                                                                                                                                                                                                                                          [session_end]\n",
      "13                                                                                                                                                                                                                                                                                                                                                                                                                                                                                             [session_end, session_end]\n",
      "14                                                                                                                                                                                                                                                                                                                                                                                                                                                                                                          [session_end]\n",
      "15                                                                                                                                                                                                                                                                                                                                                                                                                                                                                                          [session_end]\n",
      "16                                                                                                                                                                                                                                                                                                                                                                                                                                                                                                          [session_end]\n",
      "17                                                                                                                                                                                                                                                                                                                                                                                                                                                                                                          [session_end]\n",
      "18                                                                                                                                                                                                                                                                                                                                                                                                                                                                                                          [session_end]\n",
      "19                                                                                                                                                                                                                                                                                                                                                                                                                                                                                                          [session_end]\n",
      "20                                                                                                                                                                                                                                                                                                                                                                                                                                                                            [::nav-header:user-signed-out, session_end]\n",
      "21                                                                                                                                                                                                                                                                                                                    [session_end, session_end, session_end, session_end, session_end, session_end, session_end, session_end, session_end, session_end, session_end, session_end, session_end, session_end, session_end]\n",
      "22                                                                                                                                                                                                                                                                                                                                                                                                                                                                                                          [session_end]\n",
      "23                                                                                                                                                                                                                                                                                                                                                                                                                                                                                                          [session_end]\n",
      "24                                                                                                                                                                                                                                                                                                                                                                                                                                                                            [::nav-header:user-signed-out, session_end]\n",
      "25                                                                                                                                                                                                                                                                                                                                                                                                                                                                                                          [session_end]\n",
      "26                                                                                                                                                                                                                                                                                                                                                                                                                                                                                                          [session_end]\n",
      "27                                                                                                                                                                                                                                                                                                                                                                                                                                                                                                          [session_end]\n",
      "28                                                                                                                                                                                                                                                                                                                                                                                                                                                                                                          [session_end]\n",
      "29                                                                                                                                                                                                                                                                                                                                                                                                                                                                                                          [session_end]\n",
      "30                                                                                                                                                                                                                                                                                                                                                                                                                                                                                                          [session_end]\n",
      "31                                                                                                                                                                                                                                                                                                                                                                                                                                                                                                          [session_end]\n",
      "32                                                                                                                                                                                                                                                                                                                                                                                                                                                                                                          [session_end]\n",
      "33                                                                                                                                                                                                                                                                                                                                                                                                                                                                                                          [session_end]\n",
      "34                                                                                                                                                                                                                                                                                                                                                                                                                                                                                                          [session_end]\n",
      "35                                                                                                                                                                                                                                                                                                                                                                                                                                                                                                          [session_end]\n",
      "36                                                                                                                                                                                                                                                                                                                                                                                                                                                                                                          [session_end]\n",
      "37    [account-lines::widget:render, account-lines::configurable-table:render, account-lines::widget:render, account-lines::configurable-table:render, account-lines::widget:render, account-lines::configurable-table:render, account-lines::widget:render, account-lines::configurable-table:render, account-lines::widget:render, account-lines::layout:render, account-lines:::view, :all-accounts:configurable-table:render, :all-accounts:widget:render, :all-accounts:layout:render, :all-accounts::view, accou...\n",
      "38    [account-lines::configurable-table:render, account-lines::widget:render, account-lines::configurable-table:render, account-lines::widget:render, account-lines::widget:render, account-lines::configurable-table:render, account-lines::configurable-table:render, account-lines::configurable-table:render, account-lines::widget:render, account-lines::layout:render, account-lines:::view, account-lines::widget:render, account-lines::configurable-table:render, account-lines::widget:render, account-lin...\n",
      "39                                                                                                                                                                                                                                                                                                                                                                                                                                                                                                        [session_start]\n",
      "40                                                                                                                                                                                                                                                                                                                                                                                    [session_start, ::configurable-table:render, ::configurable-table:render, ::configurable-table:render, ::configurable-table:render]\n",
      "41    [session_start, ::configurable-table:render, ::configurable-table:render, ::configurable-table:render, ::configurable-table:render, application-window-opened, account:::view, account-lines::layout:render, account-lines:::view, account-lines::configurable-table:render, account-lines::widget:render, account-lines::configurable-table:render, account-lines::widget:render, account-lines::widget:render, account-lines:::view, account-lines::layout:render, account-lines::widget:render, account-lines...\n",
      "42                                                                                                                                                                                                                                                                                                                                                                                                                                                                                                        [session_start]\n",
      "43                                                                                                                                                                                                                                                                                                                                                                                                                                                                                                        [session_start]\n",
      "44                                                                                                                                                                                                                                                                                                                                                                                                                                                                                                        [session_start]\n",
      "45                                                                                                                                                                                                                                                                                                                                                                                                                                                                                                        [session_start]\n",
      "46                          [session_start, application-window-opened, dashboard:my-book:layout:render, dashboard:my-book::view, dashboard:my-book:widget:render, dashboard:my-book:widget:render, dashboard:my-book:widget:render, dashboard:my-book:configurable-table:render, dashboard:my-book:configurable-table:render, triaged-submission-list:my-book:configurable-table:render, triaged-submission-list:my-book::view, dashboard:my-book:configurable-table:render, dashboard:my-book:configurable-table:render]\n",
      "47                          [session_start, application-window-opened, dashboard:my-book::view, dashboard:my-book:layout:render, dashboard:my-book:widget:render, dashboard:my-book:widget:render, dashboard:my-book:widget:render, dashboard:my-book:configurable-table:render, triaged-submission-list:my-book:configurable-table:render, dashboard:my-book:configurable-table:render, triaged-submission-list:my-book::view, dashboard:my-book:configurable-table:render, dashboard:my-book:configurable-table:render]\n",
      "48                          [session_start, application-window-opened, dashboard:my-book:layout:render, dashboard:my-book::view, dashboard:my-book:widget:render, dashboard:my-book:widget:render, dashboard:my-book:widget:render, dashboard:my-book:configurable-table:render, dashboard:my-book:configurable-table:render, triaged-submission-list:my-book:configurable-table:render, triaged-submission-list:my-book::view, dashboard:my-book:configurable-table:render, dashboard:my-book:configurable-table:render]\n",
      "49                          [session_start, application-window-opened, dashboard:my-book:layout:render, dashboard:my-book::view, dashboard:my-book:widget:render, dashboard:my-book:widget:render, dashboard:my-book:widget:render, dashboard:my-book:configurable-table:render, dashboard:my-book:configurable-table:render, triaged-submission-list:my-book::view, triaged-submission-list:my-book:configurable-table:render, dashboard:my-book:configurable-table:render, dashboard:my-book:configurable-table:render]\n",
      "Name: event_types, dtype: object\n"
     ]
    }
   ],
   "source": [
    "# The original ordering is not sorted by session_id\n",
    "df_granular = df_granular.sort_values(['session_id', 'event_time'])\n",
    "\n",
    "# Group together consequetive events in the same session\n",
    "df_granular['session_change'] = df_granular['session_id'].ne(df_granular['session_id'].shift()).cumsum()\n",
    "df = df_granular.groupby('session_change').agg(\n",
    "    session_id=('session_id', 'first'),\n",
    "\n",
    "    start_time=('event_time', 'first'),\n",
    "    num_events=('event_time', 'count'),\n",
    "    elapsed_time=('event_time', lambda x: (x.max() - x.min()).total_seconds() / 60 if len(x) > 1 else 0),\n",
    "\n",
    "    user_id=('user_id', 'first'),\n",
    "    user_roles=('user_roles', 'first'),\n",
    "    city=('city', 'first'),\n",
    "    \n",
    "    event_displayNames=('event_displayName', list),\n",
    "    event_slugs=('event_slug', list),\n",
    "    event_types=('event_type', list)\n",
    ").reset_index(drop=True)\n",
    "\n",
    "print(df['session_id'].is_unique)\n",
    "\n",
    "# df.head(50)\n",
    "# df['event_types'].head(50)\n",
    "pd.set_option('display.max_colwidth', 500)\n",
    "print(df['event_types'].head(50))\n"
   ]
  },
  {
   "cell_type": "markdown",
   "id": "bf515b7c",
   "metadata": {},
   "source": [
    "# Sankey diagram"
   ]
  },
  {
   "cell_type": "code",
   "execution_count": 7,
   "id": "dcf5f6b7",
   "metadata": {},
   "outputs": [
    {
     "name": "stdout",
     "output_type": "stream",
     "text": [
      "174\n",
      "['session_end' '::nav-header:user-signed-out'\n",
      " 'account-lines::widget:render' 'account-lines::configurable-table:render'\n",
      " 'account-lines::layout:render' 'account-lines:::view'\n",
      " ':all-accounts:configurable-table:render' ':all-accounts:widget:render'\n",
      " ':all-accounts:layout:render' ':all-accounts::view' 'account:::view'\n",
      " 'dashboard:my-book:configurable-table:render'\n",
      " 'dashboard:my-book:widget:render' 'dashboard:my-book:layout:render'\n",
      " 'dashboard:my-book::view' 'application-window-opened'\n",
      " 'account-lines:::change-rating-click' 'session_start'\n",
      " '::configurable-table:render'\n",
      " 'triaged-submission-list:my-book:configurable-table:render'\n",
      " 'triaged-submission-list:my-book::view'\n",
      " 'submissions:policy-definition::submit-click'\n",
      " 'submissions:all-policy:configurable-table:render'\n",
      " 'submissions:all-policy::view' 'submissions:all-renewal::view'\n",
      " 'submissions:renewal-create::view'\n",
      " 'submissions:renewal-create::submit-click'\n",
      " 'submissions:all-renewal:configurable-table:render'\n",
      " 'submissions:policy-definition::view'\n",
      " 'submissions:policy-definition:configurable-table:render'\n",
      " 'submissions:policy-create::view'\n",
      " 'submissions:policy-create:configurable-table:render'\n",
      " 'submissions:policy-create::submit-click'\n",
      " 'submissions:triaged_submissions-definition::view'\n",
      " 'triaged-submission:triaged_submissions-definition:layout:render'\n",
      " 'triaged-submission:triaged_submissions-definition::view'\n",
      " 'triaged-submission:triaged_submissions-definition:widget:render'\n",
      " 'triaged-submission-list:triaged_submissions-definition:configurable-table:render'\n",
      " 'triaged-submission-list:triaged_submissions-definition::view'\n",
      " 'submissions:renewal-definition::view' '::nav-header:action-center-click'\n",
      " 'action-center:::view' 'action-center:::submit-click'\n",
      " 'action-center:action-details::view' 'action-center:::close-click'\n",
      " 'account-lines::templeton-docs:create-document-click'\n",
      " 'account-property-rating:perils:configurable-table:render'\n",
      " 'account-property-rating:perils::view'\n",
      " 'submissions:exposures-create::view'\n",
      " 'submissions:exposures-create::submit-click'\n",
      " 'submissions:all-exposures:configurable-table:render'\n",
      " 'submissions:all-exposures::view'\n",
      " 'action-center:action-details:response-form:submit-click'\n",
      " 'triaged-submission:triaged_submissions-definition::winnability-click'\n",
      " 'triaged-submission:triaged_submissions-definition::appetite-click'\n",
      " 'submissions:exposures-definition::view'\n",
      " 'account-property-rating:perils:perils-table:add-click'\n",
      " 'account-property-rating:perils:perils-table:edit-click'\n",
      " 'dashboard:my-book:recent-actions-table:account-click'\n",
      " 'account-auto-rating:::view' 'dashboard:portfolio-insights:widget:render'\n",
      " 'dashboard:portfolio-insights:layout:render'\n",
      " 'dashboard:portfolio-insights::view'\n",
      " 'account-auto-rating::configurable-table:render'\n",
      " 'account-broker-view:::view' 'account-broker-view::widget:render'\n",
      " 'account-broker-view::configurable-table:render'\n",
      " 'dashboard:my-book::action-click'\n",
      " 'account-lines::construction-excess-rater:modify-existing-quote-click'\n",
      " 'agency-dashboard::layout:render' 'agency-dashboard:::view'\n",
      " 'agency-dashboard::widget:render'\n",
      " 'agency-dashboard::configurable-table:render' 'EMPTY'\n",
      " 'account-lines::duplicate-policy-modal:duplicate-rating'\n",
      " 'account-property-rating::configurable-table:render'\n",
      " 'submissions:all-ingest_policy_through_pd:configurable-table:render'\n",
      " 'submissions:all-ingest_policy_through_pd::view'\n",
      " 'submissions:ingest_policy_through_pd-create::view'\n",
      " 'all-accounts:new-business:layout:render'\n",
      " 'all-accounts:new-business::view'\n",
      " 'all-accounts:new-business:configurable-table:render'\n",
      " 'all-accounts:new-business:widget:render'\n",
      " 'account-property-rating:perils:layers:add-click'\n",
      " 'account-property-rating:perils:layers:delete-click'\n",
      " 'account-property-rating:perils:model-request-details:save-click'\n",
      " 'submissions:all-financial_lines::view'\n",
      " 'account-lines:::action-center-click'\n",
      " 'account-lines::construction-excess-rater:create-document-click'\n",
      " 'submissions:all-account:configurable-table:render'\n",
      " 'submissions:all-account::view' 'account-broker-view::layout:render'\n",
      " 'dashboard:my-book:recent-actions-table:action-click'\n",
      " '::nav-header:help-menu-opened'\n",
      " 'submissions:all-generic_submission::view'\n",
      " 'submissions:all-generic_submission:configurable-table:render'\n",
      " 'submissions:generic_submission-create::view'\n",
      " 'submissions:all-sashco_submission:configurable-table:render'\n",
      " 'submissions:all-sashco_submission::view'\n",
      " 'submissions:all-test_conditional_form_inputs::view'\n",
      " 'submissions:all-example_submission::view'\n",
      " 'submissions:example_submission-definition::view'\n",
      " 'submissions:example_submission-definition:layout:render'\n",
      " 'submissions:example_submission-definition:widget:render'\n",
      " 'submissions:example_submission-definition:configurable-table:render'\n",
      " 'submissions:all-exposure_demo::view'\n",
      " 'submissions:all-exposure_demo:configurable-table:render'\n",
      " 'submissions:generic_submission-definition::view'\n",
      " 'submissions:all-single_step_submission::view'\n",
      " 'submissions:exposure_demo-create::view' 'submissions:all-auto::view'\n",
      " 'submissions:auto-create::view'\n",
      " 'submissions:all-auto:configurable-table:render'\n",
      " 'submissions:example_submission-create::view'\n",
      " 'submissions:all-example_submission:configurable-table:render'\n",
      " 'submissions:generic_submission-definition:layout:render'\n",
      " 'submissions:generic_submission-definition:widget:render'\n",
      " 'assigned-email-thread:::email-thread-expansion' '::widget:render'\n",
      " 'submissions:financial_lines-create::view'\n",
      " 'submissions:all-financial_lines:configurable-table:render'\n",
      " 'account-broker-readonly-view::layout:render'\n",
      " 'account-broker-readonly-view:::view'\n",
      " 'account-broker-readonly-view::widget:render'\n",
      " 'account-broker-readonly-view::configurable-table:render'\n",
      " 'agency-account::layout:render' 'agency-account:::view'\n",
      " 'agency-account::widget:render'\n",
      " 'agency-account::configurable-table:render'\n",
      " 'submissions:all-justin_test_submission::view'\n",
      " 'submissions:all-old_renewal::view'\n",
      " 'submissions:old_renewal-create::view'\n",
      " 'account-workers-comp-rating:::view' '::layout:render'\n",
      " 'classification-rules::configurable-table:render'\n",
      " 'brokerage::configurable-table:render'\n",
      " 'contacts::configurable-table:render' 'brokerage::layout:render'\n",
      " 'brokerage:::view' 'brokerage::widget:render'\n",
      " 'carriers::configurable-table:render'\n",
      " 'all-accounts:new-business:accounts-table:account-click'\n",
      " 'account-lines::construction-excess-rater:save-new-quote-click'\n",
      " 'all-policies::configurable-table:render' 'all-policies:::view'\n",
      " 'goals-and-rules:goals:configurable-table:render'\n",
      " 'goals-and-rules:goals::view' 'goals-and-rules:new-goal::view'\n",
      " 'goals-and-rules:new-goal::close-click'\n",
      " 'goals-and-rules:goal-definition::view' 'goals-and-rules:edit-goal::view'\n",
      " 'goals-and-rules:edit-goal::advanced-filters-applied'\n",
      " 'goals-and-rules:edit-goal::close-click'\n",
      " 'submissions:account-create::view' 'submissions:all-terrorism::view'\n",
      " 'all-accounts:renewals:layout:render' 'all-accounts:renewals::view'\n",
      " 'linked-email-thread-attachments:triaged_submissions-definition::document-download-click'\n",
      " 'complex-rules::configurable-table:render'\n",
      " '::duplicate-policy-modal:duplicate-rating'\n",
      " 'account-property-rating:pricing-detail:configurable-table:render'\n",
      " 'account-property-rating:pricing-detail::view'\n",
      " 'account-property-rating:pricing-detail::open-ra-file-click'\n",
      " 'account-policy-rating:::view' 'goals-and-rules:edit-goal::save-click'\n",
      " 'goals-and-rules:goal-definition::delete-click'\n",
      " 'all-accounts:renewals:configurable-table:render'\n",
      " 'all-accounts:renewals:widget:render'\n",
      " 'account-auto-rating:::change-rating-click'\n",
      " 'account-property-rating:::change-rating-click'\n",
      " 'goals-and-rules:rules:configurable-table:render'\n",
      " 'goals-and-rules:rules::view' 'submissions:policy-definition::save-click'\n",
      " 'submissions:policy-create::save-click']\n"
     ]
    }
   ],
   "source": [
    "print(len(df_granular['event_type'].unique()))\n",
    "print(df_granular['event_type'].unique())"
   ]
  },
  {
   "cell_type": "code",
   "execution_count": 45,
   "id": "19825ab9",
   "metadata": {},
   "outputs": [
    {
     "name": "stdout",
     "output_type": "stream",
     "text": [
      "there are 75 distinct event_types: ['session_end', ':', 'account-lines:', ':all-accounts', 'account:', 'dashboard:my-book', 'application-window-opened', 'session_start', 'triaged-submission-list:my-book', 'submissions:policy-definition', 'submissions:all-policy', 'submissions:all-renewal', 'submissions:renewal-create', 'submissions:policy-create', 'submissions:triaged_submissions-definition', 'triaged-submission:triaged_submissions-definition', 'triaged-submission-list:triaged_submissions-definition', 'submissions:renewal-definition', 'action-center:', 'action-center:action-details', 'account-property-rating:perils', 'submissions:exposures-create', 'submissions:all-exposures', 'submissions:exposures-definition', 'account-auto-rating:', 'dashboard:portfolio-insights', 'account-broker-view:', 'agency-dashboard:', 'EMPTY', 'account-property-rating:', 'submissions:all-ingest_policy_through_pd', 'submissions:ingest_policy_through_pd-create', 'all-accounts:new-business', 'submissions:all-financial_lines', 'submissions:all-account', 'submissions:all-generic_submission', 'submissions:generic_submission-create', 'submissions:all-sashco_submission', 'submissions:all-test_conditional_form_inputs', 'submissions:all-example_submission', 'submissions:example_submission-definition', 'submissions:all-exposure_demo', 'submissions:generic_submission-definition', 'submissions:all-single_step_submission', 'submissions:exposure_demo-create', 'submissions:all-auto', 'submissions:auto-create', 'submissions:example_submission-create', 'assigned-email-thread:', 'submissions:financial_lines-create', 'account-broker-readonly-view:', 'agency-account:', 'submissions:all-justin_test_submission', 'submissions:all-old_renewal', 'submissions:old_renewal-create', 'account-workers-comp-rating:', 'classification-rules:', 'brokerage:', 'contacts:', 'carriers:', 'all-policies:', 'goals-and-rules:goals', 'goals-and-rules:new-goal', 'goals-and-rules:goal-definition', 'goals-and-rules:edit-goal', 'submissions:account-create', 'submissions:all-terrorism', 'all-accounts:renewals', 'linked-email-thread-attachments:triaged_submissions-definition', 'complex-rules:', 'account-property-rating:pricing-detail', 'account-policy-rating:', 'goals-and-rules:rules', 'START', 'END']\n",
      "(32295, 2)\n"
     ]
    },
    {
     "data": {
      "application/vnd.plotly.v1+json": {
       "config": {
        "plotlyServerURL": "https://plot.ly"
       },
       "data": [
        {
         "link": {
          "source": [
           4,
           2,
           73,
           3,
           1,
           2,
           18,
           5,
           8,
           2,
           6,
           2,
           19,
           73,
           6,
           2,
           18,
           5,
           5,
           7,
           7,
           2,
           7,
           5,
           6,
           7,
           5,
           18,
           10,
           6,
           7,
           21,
           5,
           9,
           18,
           22,
           73,
           5,
           18,
           2,
           3,
           18,
           6,
           73,
           3,
           20,
           2,
           18,
           6,
           1,
           7,
           2,
           19,
           20,
           6,
           6,
           5,
           1,
           3,
           10,
           15,
           16,
           13,
           19,
           10,
           73,
           5,
           19,
           14,
           10,
           7,
           19,
           5,
           7,
           6,
           10,
           5,
           20,
           73,
           22,
           19,
           6,
           3,
           3,
           20,
           5,
           20,
           21,
           4,
           3,
           2,
           5,
           73,
           4,
           10,
           5,
           9,
           7,
           73,
           9,
           2,
           22,
           6,
           24,
           6,
           24,
           3,
           8,
           25,
           15,
           73,
           34,
           27,
           24,
           10,
           6,
           15,
           10,
           27,
           25,
           20,
           24,
           1,
           34,
           7,
           34,
           1,
           22,
           4,
           11,
           32,
           25,
           73,
           11,
           28,
           73,
           34,
           2,
           25,
           1,
           27,
           1,
           4,
           12,
           4,
           3,
           31,
           61,
           26,
           30
          ],
          "target": [
           2,
           4,
           7,
           2,
           18,
           3,
           19,
           8,
           5,
           6,
           5,
           74,
           18,
           6,
           2,
           1,
           2,
           2,
           74,
           5,
           2,
           5,
           3,
           18,
           20,
           74,
           7,
           5,
           9,
           4,
           6,
           22,
           3,
           10,
           74,
           21,
           2,
           6,
           1,
           7,
           6,
           6,
           3,
           3,
           74,
           1,
           18,
           3,
           1,
           6,
           1,
           10,
           6,
           74,
           24,
           7,
           4,
           74,
           5,
           13,
           16,
           15,
           10,
           74,
           5,
           5,
           10,
           5,
           15,
           4,
           18,
           2,
           25,
           4,
           74,
           22,
           14,
           2,
           1,
           74,
           3,
           34,
           18,
           4,
           3,
           1,
           6,
           6,
           1,
           10,
           19,
           19,
           21,
           3,
           3,
           27,
           3,
           10,
           10,
           74,
           20,
           3,
           21,
           2,
           27,
           6,
           7,
           7,
           5,
           5,
           9,
           7,
           5,
           74,
           74,
           25,
           10,
           11,
           7,
           74,
           5,
           7,
           2,
           74,
           34,
           50,
           5,
           23,
           7,
           12,
           2,
           6,
           19,
           17,
           4,
           18,
           26,
           32,
           3,
           3,
           74,
           7,
           74,
           11,
           6,
           1,
           30,
           63,
           74,
           10
          ],
          "value": [
           3327,
           2943,
           2569,
           1617,
           1053,
           1024,
           1020,
           958,
           931,
           928,
           836,
           826,
           794,
           738,
           713,
           704,
           506,
           441,
           435,
           398,
           355,
           354,
           297,
           295,
           293,
           277,
           271,
           246,
           223,
           216,
           205,
           198,
           194,
           194,
           178,
           174,
           173,
           169,
           142,
           128,
           120,
           116,
           115,
           112,
           110,
           108,
           105,
           103,
           98,
           88,
           83,
           79,
           77,
           75,
           74,
           70,
           70,
           67,
           66,
           66,
           64,
           63,
           62,
           61,
           60,
           59,
           57,
           56,
           55,
           53,
           51,
           48,
           46,
           45,
           45,
           43,
           42,
           41,
           41,
           39,
           39,
           38,
           35,
           34,
           34,
           34,
           29,
           29,
           27,
           27,
           27,
           27,
           26,
           25,
           25,
           24,
           24,
           24,
           24,
           23,
           23,
           22,
           22,
           22,
           22,
           21,
           21,
           21,
           20,
           20,
           20,
           20,
           19,
           19,
           19,
           19,
           19,
           18,
           17,
           17,
           17,
           17,
           15,
           14,
           14,
           14,
           14,
           14,
           13,
           13,
           13,
           13,
           13,
           12,
           12,
           12,
           12,
           12,
           11,
           11,
           11,
           11,
           11,
           11,
           10,
           10,
           10,
           10,
           10,
           10
          ]
         },
         "node": {
          "label": [
           "session_end",
           ":",
           "account-lines:",
           ":all-accounts",
           "account:",
           "dashboard:my-book",
           "application-window-opened",
           "session_start",
           "triaged-submission-list:my-book",
           "submissions:policy-definition",
           "submissions:all-policy",
           "submissions:all-renewal",
           "submissions:renewal-create",
           "submissions:policy-create",
           "submissions:triaged_submissions-definition",
           "triaged-submission:triaged_submissions-definition",
           "triaged-submission-list:triaged_submissions-definition",
           "submissions:renewal-definition",
           "action-center:",
           "action-center:action-details",
           "account-property-rating:perils",
           "submissions:exposures-create",
           "submissions:all-exposures",
           "submissions:exposures-definition",
           "account-auto-rating:",
           "dashboard:portfolio-insights",
           "account-broker-view:",
           "agency-dashboard:",
           "EMPTY",
           "account-property-rating:",
           "submissions:all-ingest_policy_through_pd",
           "submissions:ingest_policy_through_pd-create",
           "all-accounts:new-business",
           "submissions:all-financial_lines",
           "submissions:all-account",
           "submissions:all-generic_submission",
           "submissions:generic_submission-create",
           "submissions:all-sashco_submission",
           "submissions:all-test_conditional_form_inputs",
           "submissions:all-example_submission",
           "submissions:example_submission-definition",
           "submissions:all-exposure_demo",
           "submissions:generic_submission-definition",
           "submissions:all-single_step_submission",
           "submissions:exposure_demo-create",
           "submissions:all-auto",
           "submissions:auto-create",
           "submissions:example_submission-create",
           "assigned-email-thread:",
           "submissions:financial_lines-create",
           "account-broker-readonly-view:",
           "agency-account:",
           "submissions:all-justin_test_submission",
           "submissions:all-old_renewal",
           "submissions:old_renewal-create",
           "account-workers-comp-rating:",
           "classification-rules:",
           "brokerage:",
           "contacts:",
           "carriers:",
           "all-policies:",
           "goals-and-rules:goals",
           "goals-and-rules:new-goal",
           "goals-and-rules:goal-definition",
           "goals-and-rules:edit-goal",
           "submissions:account-create",
           "submissions:all-terrorism",
           "all-accounts:renewals",
           "linked-email-thread-attachments:triaged_submissions-definition",
           "complex-rules:",
           "account-property-rating:pricing-detail",
           "account-policy-rating:",
           "goals-and-rules:rules",
           "START",
           "END"
          ],
          "x": [
           0,
           0,
           0,
           0,
           0,
           0,
           0,
           0,
           0,
           0,
           0,
           0,
           0,
           0,
           0,
           0,
           0,
           0,
           0,
           0,
           0,
           0,
           0,
           0,
           0,
           0,
           0,
           0,
           0,
           0,
           0,
           0,
           0,
           0,
           0,
           0,
           0,
           0,
           0,
           0,
           0,
           0,
           0,
           0,
           0,
           0,
           0,
           0,
           0,
           0,
           0,
           0,
           0,
           0,
           0,
           0,
           0,
           0,
           0,
           0,
           0,
           0,
           0,
           0,
           0,
           0,
           0,
           0,
           0,
           0,
           0,
           0,
           0,
           0,
           0
          ]
         },
         "type": "sankey"
        }
       ],
       "layout": {
        "font": {
         "size": 10
        },
        "height": 800,
        "template": {
         "data": {
          "bar": [
           {
            "error_x": {
             "color": "#2a3f5f"
            },
            "error_y": {
             "color": "#2a3f5f"
            },
            "marker": {
             "line": {
              "color": "#E5ECF6",
              "width": 0.5
             },
             "pattern": {
              "fillmode": "overlay",
              "size": 10,
              "solidity": 0.2
             }
            },
            "type": "bar"
           }
          ],
          "barpolar": [
           {
            "marker": {
             "line": {
              "color": "#E5ECF6",
              "width": 0.5
             },
             "pattern": {
              "fillmode": "overlay",
              "size": 10,
              "solidity": 0.2
             }
            },
            "type": "barpolar"
           }
          ],
          "carpet": [
           {
            "aaxis": {
             "endlinecolor": "#2a3f5f",
             "gridcolor": "white",
             "linecolor": "white",
             "minorgridcolor": "white",
             "startlinecolor": "#2a3f5f"
            },
            "baxis": {
             "endlinecolor": "#2a3f5f",
             "gridcolor": "white",
             "linecolor": "white",
             "minorgridcolor": "white",
             "startlinecolor": "#2a3f5f"
            },
            "type": "carpet"
           }
          ],
          "choropleth": [
           {
            "colorbar": {
             "outlinewidth": 0,
             "ticks": ""
            },
            "type": "choropleth"
           }
          ],
          "contour": [
           {
            "colorbar": {
             "outlinewidth": 0,
             "ticks": ""
            },
            "colorscale": [
             [
              0,
              "#0d0887"
             ],
             [
              0.1111111111111111,
              "#46039f"
             ],
             [
              0.2222222222222222,
              "#7201a8"
             ],
             [
              0.3333333333333333,
              "#9c179e"
             ],
             [
              0.4444444444444444,
              "#bd3786"
             ],
             [
              0.5555555555555556,
              "#d8576b"
             ],
             [
              0.6666666666666666,
              "#ed7953"
             ],
             [
              0.7777777777777778,
              "#fb9f3a"
             ],
             [
              0.8888888888888888,
              "#fdca26"
             ],
             [
              1,
              "#f0f921"
             ]
            ],
            "type": "contour"
           }
          ],
          "contourcarpet": [
           {
            "colorbar": {
             "outlinewidth": 0,
             "ticks": ""
            },
            "type": "contourcarpet"
           }
          ],
          "heatmap": [
           {
            "colorbar": {
             "outlinewidth": 0,
             "ticks": ""
            },
            "colorscale": [
             [
              0,
              "#0d0887"
             ],
             [
              0.1111111111111111,
              "#46039f"
             ],
             [
              0.2222222222222222,
              "#7201a8"
             ],
             [
              0.3333333333333333,
              "#9c179e"
             ],
             [
              0.4444444444444444,
              "#bd3786"
             ],
             [
              0.5555555555555556,
              "#d8576b"
             ],
             [
              0.6666666666666666,
              "#ed7953"
             ],
             [
              0.7777777777777778,
              "#fb9f3a"
             ],
             [
              0.8888888888888888,
              "#fdca26"
             ],
             [
              1,
              "#f0f921"
             ]
            ],
            "type": "heatmap"
           }
          ],
          "heatmapgl": [
           {
            "colorbar": {
             "outlinewidth": 0,
             "ticks": ""
            },
            "colorscale": [
             [
              0,
              "#0d0887"
             ],
             [
              0.1111111111111111,
              "#46039f"
             ],
             [
              0.2222222222222222,
              "#7201a8"
             ],
             [
              0.3333333333333333,
              "#9c179e"
             ],
             [
              0.4444444444444444,
              "#bd3786"
             ],
             [
              0.5555555555555556,
              "#d8576b"
             ],
             [
              0.6666666666666666,
              "#ed7953"
             ],
             [
              0.7777777777777778,
              "#fb9f3a"
             ],
             [
              0.8888888888888888,
              "#fdca26"
             ],
             [
              1,
              "#f0f921"
             ]
            ],
            "type": "heatmapgl"
           }
          ],
          "histogram": [
           {
            "marker": {
             "pattern": {
              "fillmode": "overlay",
              "size": 10,
              "solidity": 0.2
             }
            },
            "type": "histogram"
           }
          ],
          "histogram2d": [
           {
            "colorbar": {
             "outlinewidth": 0,
             "ticks": ""
            },
            "colorscale": [
             [
              0,
              "#0d0887"
             ],
             [
              0.1111111111111111,
              "#46039f"
             ],
             [
              0.2222222222222222,
              "#7201a8"
             ],
             [
              0.3333333333333333,
              "#9c179e"
             ],
             [
              0.4444444444444444,
              "#bd3786"
             ],
             [
              0.5555555555555556,
              "#d8576b"
             ],
             [
              0.6666666666666666,
              "#ed7953"
             ],
             [
              0.7777777777777778,
              "#fb9f3a"
             ],
             [
              0.8888888888888888,
              "#fdca26"
             ],
             [
              1,
              "#f0f921"
             ]
            ],
            "type": "histogram2d"
           }
          ],
          "histogram2dcontour": [
           {
            "colorbar": {
             "outlinewidth": 0,
             "ticks": ""
            },
            "colorscale": [
             [
              0,
              "#0d0887"
             ],
             [
              0.1111111111111111,
              "#46039f"
             ],
             [
              0.2222222222222222,
              "#7201a8"
             ],
             [
              0.3333333333333333,
              "#9c179e"
             ],
             [
              0.4444444444444444,
              "#bd3786"
             ],
             [
              0.5555555555555556,
              "#d8576b"
             ],
             [
              0.6666666666666666,
              "#ed7953"
             ],
             [
              0.7777777777777778,
              "#fb9f3a"
             ],
             [
              0.8888888888888888,
              "#fdca26"
             ],
             [
              1,
              "#f0f921"
             ]
            ],
            "type": "histogram2dcontour"
           }
          ],
          "mesh3d": [
           {
            "colorbar": {
             "outlinewidth": 0,
             "ticks": ""
            },
            "type": "mesh3d"
           }
          ],
          "parcoords": [
           {
            "line": {
             "colorbar": {
              "outlinewidth": 0,
              "ticks": ""
             }
            },
            "type": "parcoords"
           }
          ],
          "pie": [
           {
            "automargin": true,
            "type": "pie"
           }
          ],
          "scatter": [
           {
            "fillpattern": {
             "fillmode": "overlay",
             "size": 10,
             "solidity": 0.2
            },
            "type": "scatter"
           }
          ],
          "scatter3d": [
           {
            "line": {
             "colorbar": {
              "outlinewidth": 0,
              "ticks": ""
             }
            },
            "marker": {
             "colorbar": {
              "outlinewidth": 0,
              "ticks": ""
             }
            },
            "type": "scatter3d"
           }
          ],
          "scattercarpet": [
           {
            "marker": {
             "colorbar": {
              "outlinewidth": 0,
              "ticks": ""
             }
            },
            "type": "scattercarpet"
           }
          ],
          "scattergeo": [
           {
            "marker": {
             "colorbar": {
              "outlinewidth": 0,
              "ticks": ""
             }
            },
            "type": "scattergeo"
           }
          ],
          "scattergl": [
           {
            "marker": {
             "colorbar": {
              "outlinewidth": 0,
              "ticks": ""
             }
            },
            "type": "scattergl"
           }
          ],
          "scattermapbox": [
           {
            "marker": {
             "colorbar": {
              "outlinewidth": 0,
              "ticks": ""
             }
            },
            "type": "scattermapbox"
           }
          ],
          "scatterpolar": [
           {
            "marker": {
             "colorbar": {
              "outlinewidth": 0,
              "ticks": ""
             }
            },
            "type": "scatterpolar"
           }
          ],
          "scatterpolargl": [
           {
            "marker": {
             "colorbar": {
              "outlinewidth": 0,
              "ticks": ""
             }
            },
            "type": "scatterpolargl"
           }
          ],
          "scatterternary": [
           {
            "marker": {
             "colorbar": {
              "outlinewidth": 0,
              "ticks": ""
             }
            },
            "type": "scatterternary"
           }
          ],
          "surface": [
           {
            "colorbar": {
             "outlinewidth": 0,
             "ticks": ""
            },
            "colorscale": [
             [
              0,
              "#0d0887"
             ],
             [
              0.1111111111111111,
              "#46039f"
             ],
             [
              0.2222222222222222,
              "#7201a8"
             ],
             [
              0.3333333333333333,
              "#9c179e"
             ],
             [
              0.4444444444444444,
              "#bd3786"
             ],
             [
              0.5555555555555556,
              "#d8576b"
             ],
             [
              0.6666666666666666,
              "#ed7953"
             ],
             [
              0.7777777777777778,
              "#fb9f3a"
             ],
             [
              0.8888888888888888,
              "#fdca26"
             ],
             [
              1,
              "#f0f921"
             ]
            ],
            "type": "surface"
           }
          ],
          "table": [
           {
            "cells": {
             "fill": {
              "color": "#EBF0F8"
             },
             "line": {
              "color": "white"
             }
            },
            "header": {
             "fill": {
              "color": "#C8D4E3"
             },
             "line": {
              "color": "white"
             }
            },
            "type": "table"
           }
          ]
         },
         "layout": {
          "annotationdefaults": {
           "arrowcolor": "#2a3f5f",
           "arrowhead": 0,
           "arrowwidth": 1
          },
          "autotypenumbers": "strict",
          "coloraxis": {
           "colorbar": {
            "outlinewidth": 0,
            "ticks": ""
           }
          },
          "colorscale": {
           "diverging": [
            [
             0,
             "#8e0152"
            ],
            [
             0.1,
             "#c51b7d"
            ],
            [
             0.2,
             "#de77ae"
            ],
            [
             0.3,
             "#f1b6da"
            ],
            [
             0.4,
             "#fde0ef"
            ],
            [
             0.5,
             "#f7f7f7"
            ],
            [
             0.6,
             "#e6f5d0"
            ],
            [
             0.7,
             "#b8e186"
            ],
            [
             0.8,
             "#7fbc41"
            ],
            [
             0.9,
             "#4d9221"
            ],
            [
             1,
             "#276419"
            ]
           ],
           "sequential": [
            [
             0,
             "#0d0887"
            ],
            [
             0.1111111111111111,
             "#46039f"
            ],
            [
             0.2222222222222222,
             "#7201a8"
            ],
            [
             0.3333333333333333,
             "#9c179e"
            ],
            [
             0.4444444444444444,
             "#bd3786"
            ],
            [
             0.5555555555555556,
             "#d8576b"
            ],
            [
             0.6666666666666666,
             "#ed7953"
            ],
            [
             0.7777777777777778,
             "#fb9f3a"
            ],
            [
             0.8888888888888888,
             "#fdca26"
            ],
            [
             1,
             "#f0f921"
            ]
           ],
           "sequentialminus": [
            [
             0,
             "#0d0887"
            ],
            [
             0.1111111111111111,
             "#46039f"
            ],
            [
             0.2222222222222222,
             "#7201a8"
            ],
            [
             0.3333333333333333,
             "#9c179e"
            ],
            [
             0.4444444444444444,
             "#bd3786"
            ],
            [
             0.5555555555555556,
             "#d8576b"
            ],
            [
             0.6666666666666666,
             "#ed7953"
            ],
            [
             0.7777777777777778,
             "#fb9f3a"
            ],
            [
             0.8888888888888888,
             "#fdca26"
            ],
            [
             1,
             "#f0f921"
            ]
           ]
          },
          "colorway": [
           "#636efa",
           "#EF553B",
           "#00cc96",
           "#ab63fa",
           "#FFA15A",
           "#19d3f3",
           "#FF6692",
           "#B6E880",
           "#FF97FF",
           "#FECB52"
          ],
          "font": {
           "color": "#2a3f5f"
          },
          "geo": {
           "bgcolor": "white",
           "lakecolor": "white",
           "landcolor": "#E5ECF6",
           "showlakes": true,
           "showland": true,
           "subunitcolor": "white"
          },
          "hoverlabel": {
           "align": "left"
          },
          "hovermode": "closest",
          "mapbox": {
           "style": "light"
          },
          "paper_bgcolor": "white",
          "plot_bgcolor": "#E5ECF6",
          "polar": {
           "angularaxis": {
            "gridcolor": "white",
            "linecolor": "white",
            "ticks": ""
           },
           "bgcolor": "#E5ECF6",
           "radialaxis": {
            "gridcolor": "white",
            "linecolor": "white",
            "ticks": ""
           }
          },
          "scene": {
           "xaxis": {
            "backgroundcolor": "#E5ECF6",
            "gridcolor": "white",
            "gridwidth": 2,
            "linecolor": "white",
            "showbackground": true,
            "ticks": "",
            "zerolinecolor": "white"
           },
           "yaxis": {
            "backgroundcolor": "#E5ECF6",
            "gridcolor": "white",
            "gridwidth": 2,
            "linecolor": "white",
            "showbackground": true,
            "ticks": "",
            "zerolinecolor": "white"
           },
           "zaxis": {
            "backgroundcolor": "#E5ECF6",
            "gridcolor": "white",
            "gridwidth": 2,
            "linecolor": "white",
            "showbackground": true,
            "ticks": "",
            "zerolinecolor": "white"
           }
          },
          "shapedefaults": {
           "line": {
            "color": "#2a3f5f"
           }
          },
          "ternary": {
           "aaxis": {
            "gridcolor": "white",
            "linecolor": "white",
            "ticks": ""
           },
           "baxis": {
            "gridcolor": "white",
            "linecolor": "white",
            "ticks": ""
           },
           "bgcolor": "#E5ECF6",
           "caxis": {
            "gridcolor": "white",
            "linecolor": "white",
            "ticks": ""
           }
          },
          "title": {
           "x": 0.05
          },
          "xaxis": {
           "automargin": true,
           "gridcolor": "white",
           "linecolor": "white",
           "ticks": "",
           "title": {
            "standoff": 15
           },
           "zerolinecolor": "white",
           "zerolinewidth": 2
          },
          "yaxis": {
           "automargin": true,
           "gridcolor": "white",
           "linecolor": "white",
           "ticks": "",
           "title": {
            "standoff": 15
           },
           "zerolinecolor": "white",
           "zerolinewidth": 2
          }
         }
        },
        "title": {
         "text": "User Journey Flow"
        }
       }
      }
     },
     "metadata": {},
     "output_type": "display_data"
    }
   ],
   "source": [
    "import plotly.graph_objects as go\n",
    "\n",
    "df_granular_test = pd.DataFrame({'event_type': df_granular['event_type'].apply(lambda event: event.split(':')[0]).unique()})\n",
    "\n",
    "df_test = df.copy()\n",
    "# df_test['event_types'] = df['event_types'].apply(lambda events: [event.split(':')[0] for event in events])\n",
    "df_test['event_types'] = df['event_types'].apply(lambda events: ['START'] + [ (event.split(':')[0] + ':' + event.split(':')[1] if len(event.split(':')) > 1 else event.split(':')[0]) for event in events] + ['END'])\n",
    "\n",
    "nodes = list(df_granular['event_type'].apply(lambda event: (event.split(':')[0] + ':' + event.split(':')[1] if len(event.split(':')) > 1 else event.split(':')[0]) ).unique())\n",
    "nodes += ['START', 'END']\n",
    "\n",
    "node_indices = {node: i for i, node in enumerate(nodes)}\n",
    "\n",
    "print(f\"there are {len(nodes)} distinct event_types: {nodes}\")\n",
    "df_test['event_types'].head(50)\n",
    "\n",
    "transitions = []\n",
    "# for seq in df_test['event_types'].head(10000):\n",
    "for seq in df_test['event_types']:\n",
    "    # print(seq)\n",
    "    for i in range(len(seq) - 1):\n",
    "        if (seq[i] != seq[i+1]) and seq[i] != \"session_end\" and seq[i+1] != \"session_end\":\n",
    "            transitions.append((seq[i], seq[i+1]))\n",
    "\n",
    "df_sankey = pd.DataFrame(transitions, columns=['source', 'target'])\n",
    "transition_counts = df_sankey.value_counts().reset_index()\n",
    "transition_counts.columns = ['source', 'target', 'count']\n",
    "transition_counts = transition_counts[transition_counts['count'] >= 10]\n",
    "\n",
    "\n",
    "df_sankey.head()\n",
    "print(df_sankey.shape)\n",
    "\n",
    "\n",
    "x_positions = [0] * len(nodes)  # Default all to 0\n",
    "\n",
    "# Set the 'session_start' node to be at the far left (x=0)\n",
    "session_start_index = nodes.index('session_start')\n",
    "x_positions[session_start_index] = 0\n",
    "\n",
    "fig = go.Figure(go.Sankey(\n",
    "    node=dict(label=nodes, x=x_positions),\n",
    "    link=dict(\n",
    "        source=[node_indices[src] for src in transition_counts['source']],\n",
    "        target=[node_indices[tgt] for tgt in transition_counts['target']],\n",
    "        value=transition_counts['count']\n",
    "    )\n",
    "))\n",
    "\n",
    "fig.update_layout(title_text=\"User Journey Flow\", font_size=10, height=800)\n",
    "fig.show()\n"
   ]
  },
  {
   "cell_type": "code",
   "execution_count": null,
   "id": "0231086b",
   "metadata": {},
   "outputs": [
    {
     "name": "stdout",
     "output_type": "stream",
     "text": [
      "(15230, 2)\n",
      "                                       source  \\\n",
      "0                account-lines::widget:render   \n",
      "1    account-lines::configurable-table:render   \n",
      "2                account-lines::layout:render   \n",
      "3                        account-lines:::view   \n",
      "4                              account:::view   \n",
      "..                                        ...   \n",
      "546                   dashboard:my-book::view   \n",
      "547                   dashboard:my-book::view   \n",
      "548                   dashboard:my-book::view   \n",
      "549                   dashboard:my-book::view   \n",
      "550                 application-window-opened   \n",
      "\n",
      "                                                              target  count  \n",
      "0                           account-lines::configurable-table:render   1704  \n",
      "1                                       account-lines::widget:render   1493  \n",
      "2                                               account-lines:::view    989  \n",
      "3                                                     account:::view    487  \n",
      "4                                       account-lines::widget:render    407  \n",
      "..                                                               ...    ...  \n",
      "546                                      action-center:::close-click      1  \n",
      "547                                                      session_end      1  \n",
      "548                       submissions:exposures-create::submit-click      1  \n",
      "549  triaged-submission:triaged_submissions-definition:widget:render      1  \n",
      "550                              account-lines:::change-rating-click      1  \n",
      "\n",
      "[551 rows x 3 columns]\n"
     ]
    }
   ],
   "source": [
    "import plotly.graph_objects as go\n",
    "\n",
    "\n",
    "nodes = list(df_granular['event_type'].unique())\n",
    "node_indices = {node: i for i, node in enumerate(nodes)}\n",
    "\n",
    "# print(f\"there are {len(nodes)} distinct event_types: {nodes}\")\n",
    "\n",
    "transitions = []\n",
    "for seq in df['event_types'].head(1000):\n",
    "    # print(seq)\n",
    "    for i in range(len(seq) - 1):\n",
    "        if (seq[i] != seq[i+1]):\n",
    "            transitions.append((seq[i], seq[i+1]))\n",
    "\n",
    "df_sankey = pd.DataFrame(transitions, columns=['source', 'target'])\n",
    "transition_counts = df_sankey.value_counts().reset_index()\n",
    "transition_counts.columns = ['source', 'target', 'count']\n",
    "\n",
    "df_sankey.head()\n",
    "print(df_sankey.shape)\n",
    "print(transition_counts)\n"
   ]
  },
  {
   "cell_type": "code",
   "execution_count": 19,
   "id": "c4f3c263",
   "metadata": {},
   "outputs": [
    {
     "data": {
      "application/vnd.plotly.v1+json": {
       "config": {
        "plotlyServerURL": "https://plot.ly"
       },
       "data": [
        {
         "link": {
          "source": [
           2,
           3,
           4,
           5,
           10,
           12,
           8,
           11,
           6,
           5,
           2,
           13,
           7,
           17,
           40,
           5,
           22,
           12,
           19,
           9,
           3,
           14,
           10,
           9,
           42,
           43,
           20,
           41,
           50,
           12,
           49,
           2,
           7,
           48,
           5,
           15,
           41,
           11,
           51,
           2,
           15,
           23,
           3,
           4,
           20,
           15,
           10,
           14,
           14,
           4,
           15,
           13,
           3,
           46,
           10,
           44,
           16,
           2,
           3,
           43,
           6,
           2,
           15,
           21,
           9,
           17,
           41,
           15,
           67,
           28,
           29,
           52,
           2,
           17,
           11,
           19,
           11,
           11,
           3,
           17,
           20,
           44,
           7,
           11,
           3,
           2,
           23,
           17,
           45,
           47,
           44,
           44,
           17,
           17,
           45,
           9,
           16,
           23,
           28,
           37,
           15,
           3,
           34,
           36,
           38,
           17,
           44,
           32,
           33,
           35,
           14,
           14,
           23,
           44,
           9,
           23,
           15,
           30,
           9,
           61,
           31,
           14,
           11,
           44,
           2,
           2,
           9,
           17,
           3,
           41,
           17,
           15,
           3,
           71,
           47,
           6,
           36,
           15,
           15,
           94,
           23,
           69,
           28,
           60,
           41,
           3,
           17,
           2,
           2,
           67,
           18,
           12,
           8,
           43,
           24,
           42,
           21,
           45,
           76,
           59,
           58,
           23,
           11,
           15,
           15,
           3,
           14,
           2,
           43,
           44,
           14,
           41,
           12,
           11,
           10,
           14,
           65,
           105,
           15,
           17,
           7,
           11,
           11,
           43,
           52,
           70,
           64,
           17,
           15,
           89,
           44,
           14,
           56,
           46,
           66,
           2,
           3,
           2,
           47,
           57,
           26,
           24,
           14,
           18,
           45,
           5,
           0,
           27,
           51,
           72,
           23,
           3,
           25,
           23,
           17,
           47,
           46,
           62,
           11,
           90,
           9,
           43,
           15,
           2,
           5,
           3,
           115,
           36,
           6,
           3,
           94,
           116,
           46,
           44,
           17,
           17,
           96,
           65,
           11,
           51,
           11,
           95,
           5,
           63,
           48,
           44,
           6,
           62,
           39,
           2,
           17,
           107,
           106,
           2,
           39,
           1,
           17,
           9,
           44,
           44,
           71,
           103,
           52,
           43,
           43,
           46,
           7,
           51,
           8,
           43,
           41,
           4,
           6,
           52,
           7,
           15,
           10,
           10,
           11,
           70,
           3,
           14,
           72,
           15,
           62,
           86,
           95,
           106,
           17,
           51,
           11,
           11,
           13,
           11,
           92,
           94,
           17,
           17,
           11,
           17,
           77,
           17,
           77,
           60,
           36,
           42,
           46,
           6,
           63,
           6,
           8,
           44,
           44,
           19,
           10,
           55,
           96,
           7,
           2,
           4,
           73,
           47,
           47,
           47,
           47,
           107,
           73,
           45,
           23,
           102,
           2,
           42,
           42,
           3,
           15,
           3,
           15,
           3,
           1,
           15,
           30,
           3,
           3,
           24,
           52,
           43,
           5,
           30,
           9,
           68,
           35,
           16,
           6,
           104,
           39,
           28,
           39,
           77,
           20,
           51,
           33,
           100,
           36,
           100,
           114,
           36,
           105,
           53,
           105,
           106,
           106,
           54,
           106,
           21,
           20,
           33,
           21,
           116,
           51,
           50,
           101,
           113,
           111,
           77,
           99,
           97,
           98,
           98,
           77,
           24,
           22,
           77,
           23,
           23,
           23,
           103,
           109,
           112,
           115,
           30,
           94,
           78,
           94,
           94,
           94,
           107,
           95,
           94,
           107,
           95,
           95,
           55,
           48,
           100,
           18,
           110,
           88,
           2,
           2,
           2,
           4,
           4,
           74,
           3,
           110,
           5,
           5,
           5,
           5,
           5,
           5,
           2,
           2,
           47,
           47,
           47,
           46,
           83,
           84,
           85,
           57,
           44,
           44,
           44,
           44,
           44,
           44,
           42,
           16,
           16,
           87,
           8,
           18,
           18,
           18,
           18,
           9,
           9,
           9,
           9,
           9,
           6,
           6,
           6,
           6,
           8,
           7,
           91,
           7,
           7,
           7,
           7,
           59,
           59,
           59,
           59,
           59,
           63,
           63,
           63,
           63,
           66,
           41,
           41,
           41,
           17,
           92,
           92,
           12,
           12,
           12,
           12,
           12,
           60,
           60,
           0,
           0,
           0,
           0,
           0,
           17,
           11,
           17,
           17,
           17,
           17,
           17,
           17,
           17,
           17,
           17,
           17,
           17,
           90,
           90,
           89,
           13,
           11,
           41,
           79,
           41,
           43,
           43,
           43,
           43,
           52,
           52,
           52,
           70,
           72,
           69,
           80,
           81,
           81,
           82,
           11,
           18,
           15,
           15,
           15,
           15,
           15,
           15,
           117,
           14,
           14,
           14,
           14,
           14,
           14,
           15
          ],
          "target": [
           3,
           2,
           5,
           10,
           2,
           11,
           9,
           12,
           7,
           2,
           4,
           14,
           8,
           0,
           41,
           3,
           23,
           13,
           20,
           4,
           4,
           12,
           4,
           6,
           43,
           44,
           12,
           42,
           51,
           19,
           50,
           15,
           6,
           49,
           4,
           13,
           43,
           19,
           48,
           6,
           4,
           28,
           6,
           10,
           11,
           5,
           3,
           11,
           13,
           2,
           14,
           12,
           15,
           47,
           5,
           2,
           15,
           40,
           40,
           52,
           4,
           45,
           46,
           22,
           2,
           11,
           44,
           10,
           41,
           29,
           21,
           44,
           16,
           15,
           17,
           11,
           4,
           20,
           8,
           2,
           19,
           4,
           4,
           8,
           16,
           22,
           11,
           4,
           40,
           46,
           40,
           67,
           6,
           3,
           4,
           7,
           5,
           30,
           21,
           38,
           17,
           17,
           35,
           37,
           36,
           8,
           11,
           22,
           34,
           36,
           4,
           22,
           51,
           6,
           15,
           10,
           2,
           31,
           11,
           62,
           32,
           33,
           67,
           15,
           12,
           11,
           8,
           40,
           12,
           3,
           12,
           18,
           42,
           72,
           40,
           15,
           22,
           3,
           59,
           95,
           24,
           70,
           22,
           61,
           2,
           13,
           18,
           8,
           5,
           43,
           15,
           4,
           7,
           15,
           39,
           44,
           6,
           6,
           77,
           63,
           10,
           22,
           15,
           6,
           8,
           0,
           60,
           44,
           6,
           3,
           6,
           15,
           17,
           58,
           40,
           15,
           66,
           106,
           9,
           13,
           9,
           10,
           2,
           42,
           67,
           71,
           65,
           22,
           69,
           90,
           8,
           2,
           46,
           57,
           65,
           17,
           11,
           0,
           56,
           40,
           27,
           25,
           67,
           17,
           2,
           40,
           15,
           24,
           6,
           17,
           6,
           5,
           26,
           44,
           10,
           2,
           40,
           60,
           73,
           89,
           22,
           22,
           63,
           43,
           15,
           43,
           116,
           11,
           8,
           44,
           96,
           10,
           8,
           13,
           41,
           67,
           94,
           64,
           22,
           8,
           0,
           107,
           16,
           59,
           15,
           12,
           2,
           6,
           22,
           42,
           44,
           115,
           94,
           46,
           40,
           0,
           33,
           44,
           5,
           16,
           69,
           104,
           42,
           3,
           2,
           15,
           2,
           55,
           6,
           0,
           16,
           17,
           22,
           43,
           22,
           94,
           6,
           16,
           18,
           72,
           76,
           71,
           71,
           89,
           11,
           10,
           94,
           17,
           105,
           11,
           61,
           92,
           17,
           41,
           41,
           107,
           48,
           16,
           6,
           94,
           10,
           23,
           23,
           8,
           34,
           4,
           6,
           13,
           2,
           17,
           4,
           10,
           45,
           17,
           17,
           50,
           95,
           15,
           9,
           3,
           10,
           11,
           15,
           44,
           10,
           94,
           86,
           15,
           8,
           103,
           13,
           2,
           15,
           18,
           105,
           68,
           75,
           10,
           15,
           40,
           32,
           22,
           49,
           23,
           13,
           11,
           6,
           22,
           0,
           3,
           33,
           40,
           44,
           103,
           6,
           6,
           8,
           78,
           17,
           15,
           2,
           113,
           53,
           101,
           100,
           4,
           94,
           54,
           109,
           110,
           105,
           22,
           108,
           8,
           4,
           22,
           0,
           115,
           50,
           17,
           102,
           114,
           110,
           6,
           100,
           98,
           94,
           100,
           4,
           11,
           30,
           11,
           0,
           2,
           4,
           102,
           105,
           98,
           10,
           76,
           18,
           76,
           13,
           17,
           105,
           116,
           96,
           99,
           17,
           15,
           17,
           6,
           11,
           94,
           6,
           111,
           2,
           117,
           87,
           18,
           8,
           18,
           15,
           105,
           112,
           94,
           17,
           12,
           11,
           74,
           18,
           76,
           23,
           6,
           4,
           0,
           44,
           84,
           85,
           40,
           83,
           1,
           41,
           14,
           0,
           17,
           24,
           40,
           0,
           46,
           41,
           17,
           16,
           12,
           0,
           96,
           40,
           10,
           13,
           12,
           76,
           40,
           5,
           46,
           79,
           2,
           3,
           64,
           10,
           44,
           11,
           17,
           3,
           2,
           15,
           12,
           17,
           3,
           4,
           15,
           17,
           0,
           40,
           8,
           4,
           1,
           43,
           58,
           2,
           15,
           33,
           20,
           36,
           6,
           11,
           18,
           4,
           2,
           22,
           28,
           7,
           97,
           57,
           52,
           61,
           106,
           76,
           24,
           49,
           107,
           115,
           28,
           19,
           91,
           17,
           93,
           11,
           105,
           46,
           80,
           67,
           8,
           4,
           67,
           92,
           6,
           92,
           0,
           69,
           13,
           71,
           81,
           82,
           15,
           81,
           44,
           8,
           88,
           44,
           70,
           61,
           51,
           107,
           2,
           18,
           8,
           44,
           0,
           49,
           36,
           16
          ],
          "value": [
           1704,
           1493,
           989,
           487,
           407,
           401,
           385,
           377,
           371,
           361,
           353,
           283,
           261,
           255,
           214,
           197,
           174,
           170,
           165,
           161,
           109,
           107,
           106,
           103,
           102,
           100,
           97,
           94,
           94,
           93,
           92,
           91,
           88,
           85,
           84,
           83,
           80,
           78,
           78,
           77,
           74,
           72,
           72,
           71,
           68,
           67,
           64,
           64,
           64,
           63,
           63,
           61,
           61,
           60,
           60,
           58,
           58,
           57,
           57,
           56,
           55,
           54,
           52,
           51,
           51,
           50,
           49,
           44,
           42,
           42,
           40,
           40,
           39,
           37,
           37,
           34,
           33,
           31,
           31,
           30,
           29,
           28,
           28,
           28,
           27,
           24,
           23,
           23,
           22,
           21,
           21,
           21,
           21,
           20,
           20,
           20,
           20,
           19,
           19,
           18,
           18,
           18,
           18,
           18,
           18,
           18,
           16,
           16,
           16,
           16,
           15,
           15,
           15,
           15,
           14,
           14,
           14,
           13,
           13,
           13,
           13,
           12,
           12,
           12,
           12,
           12,
           12,
           12,
           11,
           11,
           11,
           11,
           10,
           10,
           10,
           10,
           10,
           9,
           9,
           9,
           9,
           9,
           9,
           9,
           9,
           9,
           9,
           9,
           9,
           9,
           9,
           8,
           8,
           8,
           8,
           8,
           8,
           8,
           8,
           8,
           8,
           8,
           8,
           8,
           8,
           8,
           8,
           8,
           7,
           7,
           7,
           7,
           7,
           7,
           7,
           7,
           7,
           7,
           7,
           6,
           6,
           6,
           6,
           6,
           6,
           6,
           6,
           6,
           6,
           6,
           6,
           6,
           6,
           6,
           6,
           6,
           6,
           6,
           6,
           6,
           5,
           5,
           5,
           5,
           5,
           5,
           5,
           5,
           5,
           5,
           5,
           5,
           5,
           5,
           5,
           4,
           4,
           4,
           4,
           4,
           4,
           4,
           4,
           4,
           4,
           4,
           4,
           4,
           4,
           4,
           4,
           4,
           4,
           4,
           4,
           4,
           4,
           4,
           4,
           4,
           4,
           4,
           4,
           4,
           3,
           3,
           3,
           3,
           3,
           3,
           3,
           3,
           3,
           3,
           3,
           3,
           3,
           3,
           3,
           3,
           3,
           3,
           3,
           3,
           3,
           3,
           3,
           3,
           3,
           3,
           3,
           3,
           3,
           3,
           3,
           3,
           3,
           3,
           3,
           3,
           3,
           3,
           3,
           3,
           2,
           2,
           2,
           2,
           2,
           2,
           2,
           2,
           2,
           2,
           2,
           2,
           2,
           2,
           2,
           2,
           2,
           2,
           2,
           2,
           2,
           2,
           2,
           2,
           2,
           2,
           2,
           2,
           2,
           2,
           2,
           2,
           2,
           2,
           2,
           2,
           2,
           2,
           2,
           2,
           2,
           2,
           2,
           2,
           2,
           2,
           2,
           2,
           2,
           2,
           2,
           2,
           2,
           2,
           2,
           2,
           2,
           2,
           2,
           2,
           2,
           2,
           2,
           2,
           2,
           2,
           2,
           2,
           2,
           2,
           1,
           1,
           1,
           1,
           1,
           1,
           1,
           1,
           1,
           1,
           1,
           1,
           1,
           1,
           1,
           1,
           1,
           1,
           1,
           1,
           1,
           1,
           1,
           1,
           1,
           1,
           1,
           1,
           1,
           1,
           1,
           1,
           1,
           1,
           1,
           1,
           1,
           1,
           1,
           1,
           1,
           1,
           1,
           1,
           1,
           1,
           1,
           1,
           1,
           1,
           1,
           1,
           1,
           1,
           1,
           1,
           1,
           1,
           1,
           1,
           1,
           1,
           1,
           1,
           1,
           1,
           1,
           1,
           1,
           1,
           1,
           1,
           1,
           1,
           1,
           1,
           1,
           1,
           1,
           1,
           1,
           1,
           1,
           1,
           1,
           1,
           1,
           1,
           1,
           1,
           1,
           1,
           1,
           1,
           1,
           1,
           1,
           1,
           1,
           1,
           1,
           1,
           1,
           1,
           1,
           1,
           1,
           1,
           1,
           1,
           1,
           1,
           1,
           1,
           1,
           1,
           1,
           1,
           1,
           1,
           1,
           1,
           1,
           1,
           1,
           1,
           1,
           1,
           1,
           1,
           1,
           1,
           1,
           1,
           1,
           1,
           1,
           1,
           1,
           1,
           1,
           1,
           1,
           1,
           1,
           1,
           1,
           1,
           1,
           1,
           1,
           1,
           1,
           1,
           1,
           1,
           1,
           1,
           1,
           1,
           1,
           1,
           1,
           1,
           1,
           1,
           1,
           1,
           1,
           1,
           1,
           1,
           1,
           1,
           1,
           1,
           1,
           1,
           1,
           1,
           1,
           1,
           1,
           1,
           1,
           1,
           1,
           1,
           1,
           1,
           1,
           1,
           1,
           1,
           1,
           1,
           1
          ]
         },
         "node": {
          "label": [
           "session_end",
           "::nav-header:user-signed-out",
           "account-lines::widget:render",
           "account-lines::configurable-table:render",
           "account-lines::layout:render",
           "account-lines:::view",
           ":all-accounts:configurable-table:render",
           ":all-accounts:widget:render",
           ":all-accounts:layout:render",
           ":all-accounts::view",
           "account:::view",
           "dashboard:my-book:configurable-table:render",
           "dashboard:my-book:widget:render",
           "dashboard:my-book:layout:render",
           "dashboard:my-book::view",
           "application-window-opened",
           "account-lines:::change-rating-click",
           "session_start",
           "::configurable-table:render",
           "triaged-submission-list:my-book:configurable-table:render",
           "triaged-submission-list:my-book::view",
           "submissions:policy-definition::submit-click",
           "submissions:all-policy:configurable-table:render",
           "submissions:all-policy::view",
           "submissions:all-renewal::view",
           "submissions:renewal-create::view",
           "submissions:renewal-create::submit-click",
           "submissions:all-renewal:configurable-table:render",
           "submissions:policy-definition::view",
           "submissions:policy-definition:configurable-table:render",
           "submissions:policy-create::view",
           "submissions:policy-create:configurable-table:render",
           "submissions:policy-create::submit-click",
           "submissions:triaged_submissions-definition::view",
           "triaged-submission:triaged_submissions-definition:layout:render",
           "triaged-submission:triaged_submissions-definition::view",
           "triaged-submission:triaged_submissions-definition:widget:render",
           "triaged-submission-list:triaged_submissions-definition:configurable-table:render",
           "triaged-submission-list:triaged_submissions-definition::view",
           "submissions:renewal-definition::view",
           "::nav-header:action-center-click",
           "action-center:::view",
           "action-center:::submit-click",
           "action-center:action-details::view",
           "action-center:::close-click",
           "account-lines::templeton-docs:create-document-click",
           "account-property-rating:perils:configurable-table:render",
           "account-property-rating:perils::view",
           "submissions:exposures-create::view",
           "submissions:exposures-create::submit-click",
           "submissions:all-exposures:configurable-table:render",
           "submissions:all-exposures::view",
           "action-center:action-details:response-form:submit-click",
           "triaged-submission:triaged_submissions-definition::winnability-click",
           "triaged-submission:triaged_submissions-definition::appetite-click",
           "submissions:exposures-definition::view",
           "account-property-rating:perils:perils-table:add-click",
           "account-property-rating:perils:perils-table:edit-click",
           "dashboard:my-book:recent-actions-table:account-click",
           "account-auto-rating:::view",
           "dashboard:portfolio-insights:widget:render",
           "dashboard:portfolio-insights:layout:render",
           "dashboard:portfolio-insights::view",
           "account-auto-rating::configurable-table:render",
           "account-broker-view:::view",
           "account-broker-view::widget:render",
           "account-broker-view::configurable-table:render",
           "dashboard:my-book::action-click",
           "account-lines::construction-excess-rater:modify-existing-quote-click",
           "agency-dashboard::layout:render",
           "agency-dashboard:::view",
           "agency-dashboard::widget:render",
           "agency-dashboard::configurable-table:render",
           "EMPTY",
           "account-lines::duplicate-policy-modal:duplicate-rating",
           "account-property-rating::configurable-table:render",
           "submissions:all-ingest_policy_through_pd:configurable-table:render",
           "submissions:all-ingest_policy_through_pd::view",
           "submissions:ingest_policy_through_pd-create::view",
           "all-accounts:new-business:layout:render",
           "all-accounts:new-business::view",
           "all-accounts:new-business:configurable-table:render",
           "all-accounts:new-business:widget:render",
           "account-property-rating:perils:layers:add-click",
           "account-property-rating:perils:layers:delete-click",
           "account-property-rating:perils:model-request-details:save-click",
           "submissions:all-financial_lines::view",
           "account-lines:::action-center-click",
           "account-lines::construction-excess-rater:create-document-click",
           "submissions:all-account:configurable-table:render",
           "submissions:all-account::view",
           "account-broker-view::layout:render",
           "dashboard:my-book:recent-actions-table:action-click",
           "::nav-header:help-menu-opened",
           "submissions:all-generic_submission::view",
           "submissions:all-generic_submission:configurable-table:render",
           "submissions:generic_submission-create::view",
           "submissions:all-sashco_submission:configurable-table:render",
           "submissions:all-sashco_submission::view",
           "submissions:all-test_conditional_form_inputs::view",
           "submissions:all-example_submission::view",
           "submissions:example_submission-definition::view",
           "submissions:example_submission-definition:layout:render",
           "submissions:example_submission-definition:widget:render",
           "submissions:example_submission-definition:configurable-table:render",
           "submissions:all-exposure_demo::view",
           "submissions:all-exposure_demo:configurable-table:render",
           "submissions:generic_submission-definition::view",
           "submissions:all-single_step_submission::view",
           "submissions:exposure_demo-create::view",
           "submissions:all-auto::view",
           "submissions:auto-create::view",
           "submissions:all-auto:configurable-table:render",
           "submissions:example_submission-create::view",
           "submissions:all-example_submission:configurable-table:render",
           "submissions:generic_submission-definition:layout:render",
           "submissions:generic_submission-definition:widget:render",
           "assigned-email-thread:::email-thread-expansion",
           "::widget:render",
           "submissions:financial_lines-create::view",
           "submissions:all-financial_lines:configurable-table:render",
           "account-broker-readonly-view::layout:render",
           "account-broker-readonly-view:::view",
           "account-broker-readonly-view::widget:render",
           "account-broker-readonly-view::configurable-table:render",
           "agency-account::layout:render",
           "agency-account:::view",
           "agency-account::widget:render",
           "agency-account::configurable-table:render",
           "submissions:all-justin_test_submission::view",
           "submissions:all-old_renewal::view",
           "submissions:old_renewal-create::view",
           "account-workers-comp-rating:::view",
           "::layout:render",
           "classification-rules::configurable-table:render",
           "brokerage::configurable-table:render",
           "contacts::configurable-table:render",
           "brokerage::layout:render",
           "brokerage:::view",
           "brokerage::widget:render",
           "carriers::configurable-table:render",
           "all-accounts:new-business:accounts-table:account-click",
           "account-lines::construction-excess-rater:save-new-quote-click",
           "all-policies::configurable-table:render",
           "all-policies:::view",
           "goals-and-rules:goals:configurable-table:render",
           "goals-and-rules:goals::view",
           "goals-and-rules:new-goal::view",
           "goals-and-rules:new-goal::close-click",
           "goals-and-rules:goal-definition::view",
           "goals-and-rules:edit-goal::view",
           "goals-and-rules:edit-goal::advanced-filters-applied",
           "goals-and-rules:edit-goal::close-click",
           "submissions:account-create::view",
           "submissions:all-terrorism::view",
           "all-accounts:renewals:layout:render",
           "all-accounts:renewals::view",
           "linked-email-thread-attachments:triaged_submissions-definition::document-download-click",
           "complex-rules::configurable-table:render",
           "::duplicate-policy-modal:duplicate-rating",
           "account-property-rating:pricing-detail:configurable-table:render",
           "account-property-rating:pricing-detail::view",
           "account-property-rating:pricing-detail::open-ra-file-click",
           "account-policy-rating:::view",
           "goals-and-rules:edit-goal::save-click",
           "goals-and-rules:goal-definition::delete-click",
           "all-accounts:renewals:configurable-table:render",
           "all-accounts:renewals:widget:render",
           "account-auto-rating:::change-rating-click",
           "account-property-rating:::change-rating-click",
           "goals-and-rules:rules:configurable-table:render",
           "goals-and-rules:rules::view",
           "submissions:policy-definition::save-click",
           "submissions:policy-create::save-click"
          ]
         },
         "type": "sankey"
        }
       ],
       "layout": {
        "font": {
         "size": 4
        },
        "height": 800,
        "template": {
         "data": {
          "bar": [
           {
            "error_x": {
             "color": "#2a3f5f"
            },
            "error_y": {
             "color": "#2a3f5f"
            },
            "marker": {
             "line": {
              "color": "#E5ECF6",
              "width": 0.5
             },
             "pattern": {
              "fillmode": "overlay",
              "size": 10,
              "solidity": 0.2
             }
            },
            "type": "bar"
           }
          ],
          "barpolar": [
           {
            "marker": {
             "line": {
              "color": "#E5ECF6",
              "width": 0.5
             },
             "pattern": {
              "fillmode": "overlay",
              "size": 10,
              "solidity": 0.2
             }
            },
            "type": "barpolar"
           }
          ],
          "carpet": [
           {
            "aaxis": {
             "endlinecolor": "#2a3f5f",
             "gridcolor": "white",
             "linecolor": "white",
             "minorgridcolor": "white",
             "startlinecolor": "#2a3f5f"
            },
            "baxis": {
             "endlinecolor": "#2a3f5f",
             "gridcolor": "white",
             "linecolor": "white",
             "minorgridcolor": "white",
             "startlinecolor": "#2a3f5f"
            },
            "type": "carpet"
           }
          ],
          "choropleth": [
           {
            "colorbar": {
             "outlinewidth": 0,
             "ticks": ""
            },
            "type": "choropleth"
           }
          ],
          "contour": [
           {
            "colorbar": {
             "outlinewidth": 0,
             "ticks": ""
            },
            "colorscale": [
             [
              0,
              "#0d0887"
             ],
             [
              0.1111111111111111,
              "#46039f"
             ],
             [
              0.2222222222222222,
              "#7201a8"
             ],
             [
              0.3333333333333333,
              "#9c179e"
             ],
             [
              0.4444444444444444,
              "#bd3786"
             ],
             [
              0.5555555555555556,
              "#d8576b"
             ],
             [
              0.6666666666666666,
              "#ed7953"
             ],
             [
              0.7777777777777778,
              "#fb9f3a"
             ],
             [
              0.8888888888888888,
              "#fdca26"
             ],
             [
              1,
              "#f0f921"
             ]
            ],
            "type": "contour"
           }
          ],
          "contourcarpet": [
           {
            "colorbar": {
             "outlinewidth": 0,
             "ticks": ""
            },
            "type": "contourcarpet"
           }
          ],
          "heatmap": [
           {
            "colorbar": {
             "outlinewidth": 0,
             "ticks": ""
            },
            "colorscale": [
             [
              0,
              "#0d0887"
             ],
             [
              0.1111111111111111,
              "#46039f"
             ],
             [
              0.2222222222222222,
              "#7201a8"
             ],
             [
              0.3333333333333333,
              "#9c179e"
             ],
             [
              0.4444444444444444,
              "#bd3786"
             ],
             [
              0.5555555555555556,
              "#d8576b"
             ],
             [
              0.6666666666666666,
              "#ed7953"
             ],
             [
              0.7777777777777778,
              "#fb9f3a"
             ],
             [
              0.8888888888888888,
              "#fdca26"
             ],
             [
              1,
              "#f0f921"
             ]
            ],
            "type": "heatmap"
           }
          ],
          "heatmapgl": [
           {
            "colorbar": {
             "outlinewidth": 0,
             "ticks": ""
            },
            "colorscale": [
             [
              0,
              "#0d0887"
             ],
             [
              0.1111111111111111,
              "#46039f"
             ],
             [
              0.2222222222222222,
              "#7201a8"
             ],
             [
              0.3333333333333333,
              "#9c179e"
             ],
             [
              0.4444444444444444,
              "#bd3786"
             ],
             [
              0.5555555555555556,
              "#d8576b"
             ],
             [
              0.6666666666666666,
              "#ed7953"
             ],
             [
              0.7777777777777778,
              "#fb9f3a"
             ],
             [
              0.8888888888888888,
              "#fdca26"
             ],
             [
              1,
              "#f0f921"
             ]
            ],
            "type": "heatmapgl"
           }
          ],
          "histogram": [
           {
            "marker": {
             "pattern": {
              "fillmode": "overlay",
              "size": 10,
              "solidity": 0.2
             }
            },
            "type": "histogram"
           }
          ],
          "histogram2d": [
           {
            "colorbar": {
             "outlinewidth": 0,
             "ticks": ""
            },
            "colorscale": [
             [
              0,
              "#0d0887"
             ],
             [
              0.1111111111111111,
              "#46039f"
             ],
             [
              0.2222222222222222,
              "#7201a8"
             ],
             [
              0.3333333333333333,
              "#9c179e"
             ],
             [
              0.4444444444444444,
              "#bd3786"
             ],
             [
              0.5555555555555556,
              "#d8576b"
             ],
             [
              0.6666666666666666,
              "#ed7953"
             ],
             [
              0.7777777777777778,
              "#fb9f3a"
             ],
             [
              0.8888888888888888,
              "#fdca26"
             ],
             [
              1,
              "#f0f921"
             ]
            ],
            "type": "histogram2d"
           }
          ],
          "histogram2dcontour": [
           {
            "colorbar": {
             "outlinewidth": 0,
             "ticks": ""
            },
            "colorscale": [
             [
              0,
              "#0d0887"
             ],
             [
              0.1111111111111111,
              "#46039f"
             ],
             [
              0.2222222222222222,
              "#7201a8"
             ],
             [
              0.3333333333333333,
              "#9c179e"
             ],
             [
              0.4444444444444444,
              "#bd3786"
             ],
             [
              0.5555555555555556,
              "#d8576b"
             ],
             [
              0.6666666666666666,
              "#ed7953"
             ],
             [
              0.7777777777777778,
              "#fb9f3a"
             ],
             [
              0.8888888888888888,
              "#fdca26"
             ],
             [
              1,
              "#f0f921"
             ]
            ],
            "type": "histogram2dcontour"
           }
          ],
          "mesh3d": [
           {
            "colorbar": {
             "outlinewidth": 0,
             "ticks": ""
            },
            "type": "mesh3d"
           }
          ],
          "parcoords": [
           {
            "line": {
             "colorbar": {
              "outlinewidth": 0,
              "ticks": ""
             }
            },
            "type": "parcoords"
           }
          ],
          "pie": [
           {
            "automargin": true,
            "type": "pie"
           }
          ],
          "scatter": [
           {
            "fillpattern": {
             "fillmode": "overlay",
             "size": 10,
             "solidity": 0.2
            },
            "type": "scatter"
           }
          ],
          "scatter3d": [
           {
            "line": {
             "colorbar": {
              "outlinewidth": 0,
              "ticks": ""
             }
            },
            "marker": {
             "colorbar": {
              "outlinewidth": 0,
              "ticks": ""
             }
            },
            "type": "scatter3d"
           }
          ],
          "scattercarpet": [
           {
            "marker": {
             "colorbar": {
              "outlinewidth": 0,
              "ticks": ""
             }
            },
            "type": "scattercarpet"
           }
          ],
          "scattergeo": [
           {
            "marker": {
             "colorbar": {
              "outlinewidth": 0,
              "ticks": ""
             }
            },
            "type": "scattergeo"
           }
          ],
          "scattergl": [
           {
            "marker": {
             "colorbar": {
              "outlinewidth": 0,
              "ticks": ""
             }
            },
            "type": "scattergl"
           }
          ],
          "scattermapbox": [
           {
            "marker": {
             "colorbar": {
              "outlinewidth": 0,
              "ticks": ""
             }
            },
            "type": "scattermapbox"
           }
          ],
          "scatterpolar": [
           {
            "marker": {
             "colorbar": {
              "outlinewidth": 0,
              "ticks": ""
             }
            },
            "type": "scatterpolar"
           }
          ],
          "scatterpolargl": [
           {
            "marker": {
             "colorbar": {
              "outlinewidth": 0,
              "ticks": ""
             }
            },
            "type": "scatterpolargl"
           }
          ],
          "scatterternary": [
           {
            "marker": {
             "colorbar": {
              "outlinewidth": 0,
              "ticks": ""
             }
            },
            "type": "scatterternary"
           }
          ],
          "surface": [
           {
            "colorbar": {
             "outlinewidth": 0,
             "ticks": ""
            },
            "colorscale": [
             [
              0,
              "#0d0887"
             ],
             [
              0.1111111111111111,
              "#46039f"
             ],
             [
              0.2222222222222222,
              "#7201a8"
             ],
             [
              0.3333333333333333,
              "#9c179e"
             ],
             [
              0.4444444444444444,
              "#bd3786"
             ],
             [
              0.5555555555555556,
              "#d8576b"
             ],
             [
              0.6666666666666666,
              "#ed7953"
             ],
             [
              0.7777777777777778,
              "#fb9f3a"
             ],
             [
              0.8888888888888888,
              "#fdca26"
             ],
             [
              1,
              "#f0f921"
             ]
            ],
            "type": "surface"
           }
          ],
          "table": [
           {
            "cells": {
             "fill": {
              "color": "#EBF0F8"
             },
             "line": {
              "color": "white"
             }
            },
            "header": {
             "fill": {
              "color": "#C8D4E3"
             },
             "line": {
              "color": "white"
             }
            },
            "type": "table"
           }
          ]
         },
         "layout": {
          "annotationdefaults": {
           "arrowcolor": "#2a3f5f",
           "arrowhead": 0,
           "arrowwidth": 1
          },
          "autotypenumbers": "strict",
          "coloraxis": {
           "colorbar": {
            "outlinewidth": 0,
            "ticks": ""
           }
          },
          "colorscale": {
           "diverging": [
            [
             0,
             "#8e0152"
            ],
            [
             0.1,
             "#c51b7d"
            ],
            [
             0.2,
             "#de77ae"
            ],
            [
             0.3,
             "#f1b6da"
            ],
            [
             0.4,
             "#fde0ef"
            ],
            [
             0.5,
             "#f7f7f7"
            ],
            [
             0.6,
             "#e6f5d0"
            ],
            [
             0.7,
             "#b8e186"
            ],
            [
             0.8,
             "#7fbc41"
            ],
            [
             0.9,
             "#4d9221"
            ],
            [
             1,
             "#276419"
            ]
           ],
           "sequential": [
            [
             0,
             "#0d0887"
            ],
            [
             0.1111111111111111,
             "#46039f"
            ],
            [
             0.2222222222222222,
             "#7201a8"
            ],
            [
             0.3333333333333333,
             "#9c179e"
            ],
            [
             0.4444444444444444,
             "#bd3786"
            ],
            [
             0.5555555555555556,
             "#d8576b"
            ],
            [
             0.6666666666666666,
             "#ed7953"
            ],
            [
             0.7777777777777778,
             "#fb9f3a"
            ],
            [
             0.8888888888888888,
             "#fdca26"
            ],
            [
             1,
             "#f0f921"
            ]
           ],
           "sequentialminus": [
            [
             0,
             "#0d0887"
            ],
            [
             0.1111111111111111,
             "#46039f"
            ],
            [
             0.2222222222222222,
             "#7201a8"
            ],
            [
             0.3333333333333333,
             "#9c179e"
            ],
            [
             0.4444444444444444,
             "#bd3786"
            ],
            [
             0.5555555555555556,
             "#d8576b"
            ],
            [
             0.6666666666666666,
             "#ed7953"
            ],
            [
             0.7777777777777778,
             "#fb9f3a"
            ],
            [
             0.8888888888888888,
             "#fdca26"
            ],
            [
             1,
             "#f0f921"
            ]
           ]
          },
          "colorway": [
           "#636efa",
           "#EF553B",
           "#00cc96",
           "#ab63fa",
           "#FFA15A",
           "#19d3f3",
           "#FF6692",
           "#B6E880",
           "#FF97FF",
           "#FECB52"
          ],
          "font": {
           "color": "#2a3f5f"
          },
          "geo": {
           "bgcolor": "white",
           "lakecolor": "white",
           "landcolor": "#E5ECF6",
           "showlakes": true,
           "showland": true,
           "subunitcolor": "white"
          },
          "hoverlabel": {
           "align": "left"
          },
          "hovermode": "closest",
          "mapbox": {
           "style": "light"
          },
          "paper_bgcolor": "white",
          "plot_bgcolor": "#E5ECF6",
          "polar": {
           "angularaxis": {
            "gridcolor": "white",
            "linecolor": "white",
            "ticks": ""
           },
           "bgcolor": "#E5ECF6",
           "radialaxis": {
            "gridcolor": "white",
            "linecolor": "white",
            "ticks": ""
           }
          },
          "scene": {
           "xaxis": {
            "backgroundcolor": "#E5ECF6",
            "gridcolor": "white",
            "gridwidth": 2,
            "linecolor": "white",
            "showbackground": true,
            "ticks": "",
            "zerolinecolor": "white"
           },
           "yaxis": {
            "backgroundcolor": "#E5ECF6",
            "gridcolor": "white",
            "gridwidth": 2,
            "linecolor": "white",
            "showbackground": true,
            "ticks": "",
            "zerolinecolor": "white"
           },
           "zaxis": {
            "backgroundcolor": "#E5ECF6",
            "gridcolor": "white",
            "gridwidth": 2,
            "linecolor": "white",
            "showbackground": true,
            "ticks": "",
            "zerolinecolor": "white"
           }
          },
          "shapedefaults": {
           "line": {
            "color": "#2a3f5f"
           }
          },
          "ternary": {
           "aaxis": {
            "gridcolor": "white",
            "linecolor": "white",
            "ticks": ""
           },
           "baxis": {
            "gridcolor": "white",
            "linecolor": "white",
            "ticks": ""
           },
           "bgcolor": "#E5ECF6",
           "caxis": {
            "gridcolor": "white",
            "linecolor": "white",
            "ticks": ""
           }
          },
          "title": {
           "x": 0.05
          },
          "xaxis": {
           "automargin": true,
           "gridcolor": "white",
           "linecolor": "white",
           "ticks": "",
           "title": {
            "standoff": 15
           },
           "zerolinecolor": "white",
           "zerolinewidth": 2
          },
          "yaxis": {
           "automargin": true,
           "gridcolor": "white",
           "linecolor": "white",
           "ticks": "",
           "title": {
            "standoff": 15
           },
           "zerolinecolor": "white",
           "zerolinewidth": 2
          }
         }
        },
        "title": {
         "text": "User Journey Flow"
        }
       }
      }
     },
     "metadata": {},
     "output_type": "display_data"
    }
   ],
   "source": [
    "fig = go.Figure(go.Sankey(\n",
    "    node=dict(label=nodes),\n",
    "    link=dict(\n",
    "        source=[node_indices[src] for src in transition_counts['source']],\n",
    "        target=[node_indices[tgt] for tgt in transition_counts['target']],\n",
    "        value=transition_counts['count']\n",
    "    )\n",
    "))\n",
    "\n",
    "fig.update_layout(title_text=\"User Journey Flow\", font_size=4, height=800)\n",
    "fig.show()"
   ]
  },
  {
   "cell_type": "markdown",
   "id": "fc9e5e05",
   "metadata": {},
   "source": [
    "# simple visualizations"
   ]
  },
  {
   "cell_type": "code",
   "execution_count": null,
   "id": "f1bee366",
   "metadata": {},
   "outputs": [],
   "source": [
    "print(df_all.shape) # raw data\n",
    "print(df.shape) # processed data\n",
    "\n",
    "average_num_events = df['num_events'].mean()\n",
    "average_elapsed_time = df['elapsed_time'].mean()\n",
    "\n",
    "print(f\"The average number of events is: {average_num_events}\")\n",
    "print(f\"The elapsed time (minutes) is: {average_elapsed_time}\")"
   ]
  },
  {
   "cell_type": "code",
   "execution_count": null,
   "id": "a4029d0e",
   "metadata": {},
   "outputs": [],
   "source": [
    "import matplotlib.pyplot as plt\n",
    "import seaborn as sns"
   ]
  },
  {
   "cell_type": "code",
   "execution_count": null,
   "id": "8465017f",
   "metadata": {},
   "outputs": [],
   "source": [
    "# histogram: num_events\n",
    "plt.figure(figsize=(10, 6))\n",
    "sns.histplot(df['num_events'], kde=True, bins=30)\n",
    "plt.xlabel('Number of Events')\n",
    "plt.ylabel('Frequency')\n",
    "plt.title('Distribution of Number of Events')\n",
    "plt.show()\n",
    "\n",
    "# scatterplot: num_events vs elapsed_time\n",
    "plt.figure(figsize=(10, 6))\n",
    "sns.scatterplot(x='elapsed_time', y='num_events', data=df)\n",
    "plt.xlabel('Elapsed Time (minutes)')\n",
    "plt.ylabel('Number of Events')\n",
    "plt.title('Scatter Plot of Number of Events vs Elapsed Time')\n",
    "plt.show()\n"
   ]
  }
 ],
 "metadata": {
  "kernelspec": {
   "display_name": "venv",
   "language": "python",
   "name": "python3"
  },
  "language_info": {
   "codemirror_mode": {
    "name": "ipython",
    "version": 3
   },
   "file_extension": ".py",
   "mimetype": "text/x-python",
   "name": "python",
   "nbconvert_exporter": "python",
   "pygments_lexer": "ipython3",
   "version": "3.9.6"
  }
 },
 "nbformat": 4,
 "nbformat_minor": 5
}
