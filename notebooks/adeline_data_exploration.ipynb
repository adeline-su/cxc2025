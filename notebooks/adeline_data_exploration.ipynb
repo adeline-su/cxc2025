{
 "cells": [
  {
   "cell_type": "code",
   "execution_count": 1,
   "id": "3d7c2093-9609-416c-9114-ece7320f17d4",
   "metadata": {},
   "outputs": [],
   "source": [
    "import pandas as pd\n",
    "import json\n",
    "from ast import literal_eval\n",
    "import plotly.express as px\n",
    "import matplotlib.pyplot as plt\n",
    "from datetime import datetime"
   ]
  },
  {
   "cell_type": "code",
   "execution_count": 2,
   "id": "301cd8b2-21ef-4029-894c-fba89dbadcab",
   "metadata": {},
   "outputs": [
    {
     "name": "stdout",
     "output_type": "stream",
     "text": [
      "Dataset columns:\n",
      "Index(['$insert_id', 'amplitude_id', 'app', 'city', 'client_event_time',\n",
      "       'client_upload_time', 'country', 'data', 'data_type', 'device_family',\n",
      "       'device_id', 'device_type', 'dma', 'event_id', 'event_properties',\n",
      "       'event_time', 'event_type', 'language', 'library', 'os_name',\n",
      "       'os_version', 'platform', 'processed_time', 'region',\n",
      "       'server_received_time', 'server_upload_time', 'session_id', 'user_id',\n",
      "       'user_properties', 'uuid'],\n",
      "      dtype='object')\n",
      "(100000, 30)\n"
     ]
    }
   ],
   "source": [
    "# Load data (adjust path)\n",
    "# df = pd.read_csv('../datasets/2025_csv/_chunk_0_100000.csv', nrows=5000)\n",
    "df = pd.read_csv('../datasets/2025_csv/_chunk_0_100000.csv')\n",
    "\n",
    "# Printing the columns\n",
    "print(\"Dataset columns:\")\n",
    "print(df.columns)\n",
    "print(df.shape)"
   ]
  },
  {
   "cell_type": "code",
   "execution_count": null,
   "id": "bf601366-ae4d-4d98-8070-da5d23ea9d55",
   "metadata": {},
   "outputs": [],
   "source": [
    "# Want to make sure that:\n",
    "# All nested JSON columns are fully parsed.\n",
    "# All relevant fields are extracted and flattened.\n",
    "# No data is lost or incorrectly parsed during the process."
   ]
  },
  {
   "cell_type": "code",
   "execution_count": 3,
   "id": "f9667b78-13c1-4fce-a5fd-ff542ef0b7f4",
   "metadata": {},
   "outputs": [],
   "source": [
    "# Parse nested JSON columns\n",
    "json_cols = ['data', 'event_properties', 'user_properties']\n",
    "for col in json_cols:\n",
    "    df[col] = df[col].apply(lambda x: literal_eval(str(x)) if pd.notna(x) else {})\n",
    "\n",
    "# Flatten nested columns\n",
    "df['event_slug'] = df['event_properties'].apply(lambda x: x.get('slug', 'unknown'))\n",
    "df['user_roles'] = df['user_properties'].apply(lambda x: x.get('roles', []))\n",
    "df['utm_source'] = df['user_properties'].apply(lambda x: x.get('initial_utm_source', 'EMPTY'))\n",
    "\n",
    "# Convert timestamps to a parsable time value\n",
    "time_cols = ['client_event_time', 'event_time', 'server_received_time']\n",
    "for col in time_cols:\n",
    "    df[col] = pd.to_datetime(df[col], errors='coerce')"
   ]
  },
  {
   "cell_type": "code",
   "execution_count": 4,
   "id": "2216cc1c-e7e1-4c21-be0d-a57b4e0dfef1",
   "metadata": {},
   "outputs": [
    {
     "name": "stdout",
     "output_type": "stream",
     "text": [
      "Dataset columns:\n",
      "Index(['$insert_id', 'amplitude_id', 'app', 'city', 'client_event_time',\n",
      "       'client_upload_time', 'country', 'data', 'data_type', 'device_family',\n",
      "       'device_id', 'device_type', 'dma', 'event_id', 'event_properties',\n",
      "       'event_time', 'event_type', 'language', 'library', 'os_name',\n",
      "       'os_version', 'platform', 'processed_time', 'region',\n",
      "       'server_received_time', 'server_upload_time', 'session_id', 'user_id',\n",
      "       'user_properties', 'uuid', 'event_slug', 'user_roles', 'utm_source'],\n",
      "      dtype='object')\n"
     ]
    }
   ],
   "source": [
    "# Printing the columns\n",
    "print(\"Dataset columns:\")\n",
    "print(df.columns)"
   ]
  },
  {
   "cell_type": "markdown",
   "id": "cd9f94a2",
   "metadata": {},
   "source": [
    "# EVENT TYPES\n",
    "- What event types are more popular?\n",
    "- After splitting by the colon : delimeter and seperating to get \"event type levels\", can we find relationships between layers?\n",
    "- Make a Sankey diagram"
   ]
  },
  {
   "cell_type": "code",
   "execution_count": 5,
   "id": "0a22a8fe",
   "metadata": {},
   "outputs": [
    {
     "name": "stdout",
     "output_type": "stream",
     "text": [
      "Before splitting by : delimiter\n",
      "Number of unique event types: 174\n",
      "\n",
      "After splitting by : delimiter\n",
      "Split event_types into 4 parts\n"
     ]
    }
   ],
   "source": [
    "# Event Types Metadata\n",
    "print(\"Before splitting by : delimiter\")\n",
    "num_event_types = df['event_type'].nunique()\n",
    "event_types = df['event_type'].unique()\n",
    "print(f\"Number of unique event types: {num_event_types}\")\n",
    "\n",
    "print(\"\\nAfter splitting by : delimiter\")\n",
    "\n",
    "split_event_types = df.copy()\n",
    "\n",
    "# Split the 'event_type' column by one or more colons (:)    AND IGNORE WHEN COLON IS AT THE BEGINNING\n",
    "split_event_types['event_type'] = split_event_types['event_type'].str.lstrip(':')\n",
    "split_event_types = split_event_types['event_type'].str.split(r':+', expand=True)\n",
    "\n",
    "# Get the number of columns after the split\n",
    "print(f\"Split event_types into {split_event_types.shape[1]} parts\")\n",
    "\n",
    "# Rename the columns (update based on expected number of parts)\n",
    "split_event_types.columns = [f'event_type_lvl_{i}' for i in range(split_event_types.shape[1])]\n",
    "split_event_types = split_event_types.replace('', 'None').fillna('None')\n"
   ]
  },
  {
   "cell_type": "code",
   "execution_count": 6,
   "id": "885f572e",
   "metadata": {},
   "outputs": [
    {
     "name": "stdout",
     "output_type": "stream",
     "text": [
      "The columns are NOT mutually exclusive (there is overlap of distinct values).\n",
      "Intersection between lvl_0 & lvl_1: {'configurable-table', 'widget', 'layout', 'duplicate-policy-modal'}\n",
      "Intersection between lvl_0 & lvl_2: {'configurable-table', 'widget', 'layout'}\n",
      "Intersection between lvl_1 & lvl_2: {'view', 'configurable-table', 'widget', 'submit-click', 'close-click', 'duplicate-rating', 'None', 'layout', 'render'}\n",
      "Intersection between lvl_1 & lvl_3: {'None', 'submit-click', 'render'}\n",
      "Intersection between lvl_2 & lvl_3: {'submit-click', 'None', 'save-click', 'delete-click', 'action-click', 'render'}\n"
     ]
    }
   ],
   "source": [
    "# Aside: I wonder if the unique values in event_type_lvl_0 to event_type_lvl_3 are mutually exclusive?\n",
    "# Get distinct values from each of the 4 columns\n",
    "distinct_values_lvl_0 = set(split_event_types['event_type_lvl_0'].unique())\n",
    "distinct_values_lvl_1 = set(split_event_types['event_type_lvl_1'].unique())\n",
    "distinct_values_lvl_2 = set(split_event_types['event_type_lvl_2'].unique())\n",
    "distinct_values_lvl_3 = set(split_event_types['event_type_lvl_3'].unique())\n",
    "\n",
    "# Check intersections between all pairs of sets\n",
    "intersection_1_2 = distinct_values_lvl_0 & distinct_values_lvl_1\n",
    "intersection_1_3 = distinct_values_lvl_0 & distinct_values_lvl_2\n",
    "intersection_1_4 = distinct_values_lvl_0 & distinct_values_lvl_3\n",
    "intersection_2_3 = distinct_values_lvl_1 & distinct_values_lvl_2\n",
    "intersection_2_4 = distinct_values_lvl_1 & distinct_values_lvl_3\n",
    "intersection_3_4 = distinct_values_lvl_2 & distinct_values_lvl_3\n",
    "\n",
    "# Store intersections and corresponding set names\n",
    "intersections = {\n",
    "    \"lvl_0 & lvl_1\": intersection_1_2,\n",
    "    \"lvl_0 & lvl_2\": intersection_1_3,\n",
    "    \"lvl_0 & lvl_3\": intersection_1_4,\n",
    "    \"lvl_1 & lvl_2\": intersection_2_3,\n",
    "    \"lvl_1 & lvl_3\": intersection_2_4,\n",
    "    \"lvl_2 & lvl_3\": intersection_3_4\n",
    "}\n",
    "\n",
    "# Check if there are any intersections\n",
    "mutually_exclusive = not any(intersections.values())\n",
    "\n",
    "# Output result\n",
    "if mutually_exclusive:\n",
    "    print(\"The columns are mutually exclusive (no overlap of distinct values).\")\n",
    "else:\n",
    "    print(\"The columns are NOT mutually exclusive (there is overlap of distinct values).\")\n",
    "    for pair, intersection in intersections.items():\n",
    "        if intersection:\n",
    "            print(f\"Intersection between {pair}: {intersection}\")\n"
   ]
  },
  {
   "cell_type": "code",
   "execution_count": 7,
   "id": "13786b8b",
   "metadata": {},
   "outputs": [
    {
     "data": {
      "application/vnd.plotly.v1+json": {
       "config": {
        "plotlyServerURL": "https://plot.ly"
       },
       "data": [
        {
         "branchvalues": "total",
         "domain": {
          "x": [
           0,
           1
          ],
          "y": [
           0,
           1
          ]
         },
         "hovertemplate": "labels=%{label}<br>count=%{value}<br>parent=%{parent}<br>id=%{id}<extra></extra>",
         "ids": [
          "EMPTY/None/None/None",
          "application-window-opened/None/None/None",
          "session_end/None/None/None",
          "session_start/None/None/None",
          "account-lines/action-center-click/None/None",
          "nav-header/action-center-click/None/None",
          "account-auto-rating/change-rating-click/None/None",
          "account-lines/change-rating-click/None/None",
          "account-property-rating/change-rating-click/None/None",
          "action-center/close-click/None/None",
          "duplicate-policy-modal/duplicate-rating/None/None",
          "assigned-email-thread/email-thread-expansion/None/None",
          "nav-header/help-menu-opened/None/None",
          "configurable-table/render/None/None",
          "layout/render/None/None",
          "widget/render/None/None",
          "action-center/submit-click/None/None",
          "nav-header/user-signed-out/None/None",
          "account/view/None/None",
          "account-auto-rating/view/None/None",
          "account-broker-readonly-view/view/None/None",
          "account-broker-view/view/None/None",
          "account-lines/view/None/None",
          "account-policy-rating/view/None/None",
          "account-workers-comp-rating/view/None/None",
          "action-center/view/None/None",
          "agency-account/view/None/None",
          "agency-dashboard/view/None/None",
          "all-accounts/view/None/None",
          "all-policies/view/None/None",
          "brokerage/view/None/None",
          "dashboard/my-book/action-click/None",
          "goals-and-rules/edit-goal/advanced-filters-applied/None",
          "triaged-submission/triaged_submissions-definition/appetite-click/None",
          "goals-and-rules/edit-goal/close-click/None",
          "goals-and-rules/new-goal/close-click/None",
          "account-lines/construction-excess-rater/create-document-click/None",
          "account-lines/templeton-docs/create-document-click/None",
          "goals-and-rules/goal-definition/delete-click/None",
          "linked-email-thread-attachments/triaged_submissions-definition/document-download-click/None",
          "account-lines/duplicate-policy-modal/duplicate-rating/None",
          "account-lines/construction-excess-rater/modify-existing-quote-click/None",
          "account-property-rating/pricing-detail/open-ra-file-click/None",
          "account-auto-rating/configurable-table/render/None",
          "account-broker-readonly-view/configurable-table/render/None",
          "account-broker-view/configurable-table/render/None",
          "account-lines/configurable-table/render/None",
          "account-property-rating/configurable-table/render/None",
          "agency-account/configurable-table/render/None",
          "agency-dashboard/configurable-table/render/None",
          "all-accounts/configurable-table/render/None",
          "all-policies/configurable-table/render/None",
          "brokerage/configurable-table/render/None",
          "carriers/configurable-table/render/None",
          "classification-rules/configurable-table/render/None",
          "complex-rules/configurable-table/render/None",
          "contacts/configurable-table/render/None",
          "account-broker-readonly-view/layout/render/None",
          "account-broker-view/layout/render/None",
          "account-lines/layout/render/None",
          "agency-account/layout/render/None",
          "agency-dashboard/layout/render/None",
          "all-accounts/layout/render/None",
          "brokerage/layout/render/None",
          "account-broker-readonly-view/widget/render/None",
          "account-broker-view/widget/render/None",
          "account-lines/widget/render/None",
          "agency-account/widget/render/None",
          "agency-dashboard/widget/render/None",
          "all-accounts/widget/render/None",
          "brokerage/widget/render/None",
          "goals-and-rules/edit-goal/save-click/None",
          "submissions/policy-create/save-click/None",
          "submissions/policy-definition/save-click/None",
          "account-lines/construction-excess-rater/save-new-quote-click/None",
          "submissions/exposures-create/submit-click/None",
          "submissions/policy-create/submit-click/None",
          "submissions/policy-definition/submit-click/None",
          "submissions/renewal-create/submit-click/None",
          "submissions/account-create/view/None",
          "action-center/action-details/view/None",
          "submissions/all-account/view/None",
          "submissions/all-auto/view/None",
          "submissions/all-example_submission/view/None",
          "submissions/all-exposure_demo/view/None",
          "submissions/all-exposures/view/None",
          "submissions/all-financial_lines/view/None",
          "submissions/all-generic_submission/view/None",
          "submissions/all-ingest_policy_through_pd/view/None",
          "submissions/all-justin_test_submission/view/None",
          "submissions/all-old_renewal/view/None",
          "submissions/all-policy/view/None",
          "submissions/all-renewal/view/None",
          "submissions/all-sashco_submission/view/None",
          "submissions/all-single_step_submission/view/None",
          "submissions/all-terrorism/view/None",
          "submissions/all-test_conditional_form_inputs/view/None",
          "submissions/auto-create/view/None",
          "goals-and-rules/edit-goal/view/None",
          "submissions/example_submission-create/view/None",
          "submissions/example_submission-definition/view/None",
          "submissions/exposure_demo-create/view/None",
          "submissions/exposures-create/view/None",
          "submissions/exposures-definition/view/None",
          "submissions/financial_lines-create/view/None",
          "submissions/generic_submission-create/view/None",
          "submissions/generic_submission-definition/view/None",
          "goals-and-rules/goal-definition/view/None",
          "goals-and-rules/goals/view/None",
          "submissions/ingest_policy_through_pd-create/view/None",
          "dashboard/my-book/view/None",
          "triaged-submission-list/my-book/view/None",
          "all-accounts/new-business/view/None",
          "goals-and-rules/new-goal/view/None",
          "submissions/old_renewal-create/view/None",
          "account-property-rating/perils/view/None",
          "submissions/policy-create/view/None",
          "submissions/policy-definition/view/None",
          "dashboard/portfolio-insights/view/None",
          "account-property-rating/pricing-detail/view/None",
          "submissions/renewal-create/view/None",
          "submissions/renewal-definition/view/None",
          "all-accounts/renewals/view/None",
          "goals-and-rules/rules/view/None",
          "submissions/triaged_submissions-definition/view/None",
          "triaged-submission/triaged_submissions-definition/view/None",
          "triaged-submission-list/triaged_submissions-definition/view/None",
          "triaged-submission/triaged_submissions-definition/winnability-click/None",
          "all-accounts/new-business/accounts-table/account-click",
          "dashboard/my-book/recent-actions-table/account-click",
          "dashboard/my-book/recent-actions-table/action-click",
          "account-property-rating/perils/layers/add-click",
          "account-property-rating/perils/perils-table/add-click",
          "account-property-rating/perils/layers/delete-click",
          "account-property-rating/perils/perils-table/edit-click",
          "submissions/all-account/configurable-table/render",
          "submissions/all-auto/configurable-table/render",
          "submissions/all-example_submission/configurable-table/render",
          "submissions/all-exposure_demo/configurable-table/render",
          "submissions/all-exposures/configurable-table/render",
          "submissions/all-financial_lines/configurable-table/render",
          "submissions/all-generic_submission/configurable-table/render",
          "submissions/all-ingest_policy_through_pd/configurable-table/render",
          "submissions/all-policy/configurable-table/render",
          "submissions/all-renewal/configurable-table/render",
          "submissions/all-sashco_submission/configurable-table/render",
          "submissions/example_submission-definition/configurable-table/render",
          "goals-and-rules/goals/configurable-table/render",
          "dashboard/my-book/configurable-table/render",
          "triaged-submission-list/my-book/configurable-table/render",
          "all-accounts/new-business/configurable-table/render",
          "account-property-rating/perils/configurable-table/render",
          "submissions/policy-create/configurable-table/render",
          "submissions/policy-definition/configurable-table/render",
          "account-property-rating/pricing-detail/configurable-table/render",
          "all-accounts/renewals/configurable-table/render",
          "goals-and-rules/rules/configurable-table/render",
          "triaged-submission-list/triaged_submissions-definition/configurable-table/render",
          "submissions/example_submission-definition/layout/render",
          "submissions/generic_submission-definition/layout/render",
          "dashboard/my-book/layout/render",
          "all-accounts/new-business/layout/render",
          "dashboard/portfolio-insights/layout/render",
          "all-accounts/renewals/layout/render",
          "triaged-submission/triaged_submissions-definition/layout/render",
          "submissions/example_submission-definition/widget/render",
          "submissions/generic_submission-definition/widget/render",
          "dashboard/my-book/widget/render",
          "all-accounts/new-business/widget/render",
          "dashboard/portfolio-insights/widget/render",
          "all-accounts/renewals/widget/render",
          "triaged-submission/triaged_submissions-definition/widget/render",
          "account-property-rating/perils/model-request-details/save-click",
          "action-center/action-details/response-form/submit-click",
          "EMPTY/None/None",
          "application-window-opened/None/None",
          "session_end/None/None",
          "session_start/None/None",
          "account-lines/action-center-click/None",
          "nav-header/action-center-click/None",
          "account-auto-rating/change-rating-click/None",
          "account-lines/change-rating-click/None",
          "account-property-rating/change-rating-click/None",
          "action-center/close-click/None",
          "duplicate-policy-modal/duplicate-rating/None",
          "assigned-email-thread/email-thread-expansion/None",
          "nav-header/help-menu-opened/None",
          "configurable-table/render/None",
          "layout/render/None",
          "widget/render/None",
          "action-center/submit-click/None",
          "nav-header/user-signed-out/None",
          "account/view/None",
          "account-auto-rating/view/None",
          "account-broker-readonly-view/view/None",
          "account-broker-view/view/None",
          "account-lines/view/None",
          "account-policy-rating/view/None",
          "account-workers-comp-rating/view/None",
          "action-center/view/None",
          "agency-account/view/None",
          "agency-dashboard/view/None",
          "all-accounts/view/None",
          "all-policies/view/None",
          "brokerage/view/None",
          "all-accounts/new-business/accounts-table",
          "dashboard/my-book/action-click",
          "goals-and-rules/edit-goal/advanced-filters-applied",
          "triaged-submission/triaged_submissions-definition/appetite-click",
          "goals-and-rules/edit-goal/close-click",
          "goals-and-rules/new-goal/close-click",
          "submissions/all-account/configurable-table",
          "submissions/all-auto/configurable-table",
          "submissions/all-example_submission/configurable-table",
          "submissions/all-exposure_demo/configurable-table",
          "submissions/all-exposures/configurable-table",
          "submissions/all-financial_lines/configurable-table",
          "submissions/all-generic_submission/configurable-table",
          "submissions/all-ingest_policy_through_pd/configurable-table",
          "submissions/all-policy/configurable-table",
          "submissions/all-renewal/configurable-table",
          "submissions/all-sashco_submission/configurable-table",
          "submissions/example_submission-definition/configurable-table",
          "goals-and-rules/goals/configurable-table",
          "dashboard/my-book/configurable-table",
          "triaged-submission-list/my-book/configurable-table",
          "all-accounts/new-business/configurable-table",
          "account-property-rating/perils/configurable-table",
          "submissions/policy-create/configurable-table",
          "submissions/policy-definition/configurable-table",
          "account-property-rating/pricing-detail/configurable-table",
          "all-accounts/renewals/configurable-table",
          "goals-and-rules/rules/configurable-table",
          "triaged-submission-list/triaged_submissions-definition/configurable-table",
          "account-lines/construction-excess-rater/create-document-click",
          "account-lines/templeton-docs/create-document-click",
          "goals-and-rules/goal-definition/delete-click",
          "linked-email-thread-attachments/triaged_submissions-definition/document-download-click",
          "account-lines/duplicate-policy-modal/duplicate-rating",
          "account-property-rating/perils/layers",
          "submissions/example_submission-definition/layout",
          "submissions/generic_submission-definition/layout",
          "dashboard/my-book/layout",
          "all-accounts/new-business/layout",
          "dashboard/portfolio-insights/layout",
          "all-accounts/renewals/layout",
          "triaged-submission/triaged_submissions-definition/layout",
          "account-property-rating/perils/model-request-details",
          "account-lines/construction-excess-rater/modify-existing-quote-click",
          "account-property-rating/pricing-detail/open-ra-file-click",
          "account-property-rating/perils/perils-table",
          "dashboard/my-book/recent-actions-table",
          "account-auto-rating/configurable-table/render",
          "account-broker-readonly-view/configurable-table/render",
          "account-broker-view/configurable-table/render",
          "account-lines/configurable-table/render",
          "account-property-rating/configurable-table/render",
          "agency-account/configurable-table/render",
          "agency-dashboard/configurable-table/render",
          "all-accounts/configurable-table/render",
          "all-policies/configurable-table/render",
          "brokerage/configurable-table/render",
          "carriers/configurable-table/render",
          "classification-rules/configurable-table/render",
          "complex-rules/configurable-table/render",
          "contacts/configurable-table/render",
          "account-broker-readonly-view/layout/render",
          "account-broker-view/layout/render",
          "account-lines/layout/render",
          "agency-account/layout/render",
          "agency-dashboard/layout/render",
          "all-accounts/layout/render",
          "brokerage/layout/render",
          "account-broker-readonly-view/widget/render",
          "account-broker-view/widget/render",
          "account-lines/widget/render",
          "agency-account/widget/render",
          "agency-dashboard/widget/render",
          "all-accounts/widget/render",
          "brokerage/widget/render",
          "action-center/action-details/response-form",
          "goals-and-rules/edit-goal/save-click",
          "submissions/policy-create/save-click",
          "submissions/policy-definition/save-click",
          "account-lines/construction-excess-rater/save-new-quote-click",
          "submissions/exposures-create/submit-click",
          "submissions/policy-create/submit-click",
          "submissions/policy-definition/submit-click",
          "submissions/renewal-create/submit-click",
          "submissions/account-create/view",
          "action-center/action-details/view",
          "submissions/all-account/view",
          "submissions/all-auto/view",
          "submissions/all-example_submission/view",
          "submissions/all-exposure_demo/view",
          "submissions/all-exposures/view",
          "submissions/all-financial_lines/view",
          "submissions/all-generic_submission/view",
          "submissions/all-ingest_policy_through_pd/view",
          "submissions/all-justin_test_submission/view",
          "submissions/all-old_renewal/view",
          "submissions/all-policy/view",
          "submissions/all-renewal/view",
          "submissions/all-sashco_submission/view",
          "submissions/all-single_step_submission/view",
          "submissions/all-terrorism/view",
          "submissions/all-test_conditional_form_inputs/view",
          "submissions/auto-create/view",
          "goals-and-rules/edit-goal/view",
          "submissions/example_submission-create/view",
          "submissions/example_submission-definition/view",
          "submissions/exposure_demo-create/view",
          "submissions/exposures-create/view",
          "submissions/exposures-definition/view",
          "submissions/financial_lines-create/view",
          "submissions/generic_submission-create/view",
          "submissions/generic_submission-definition/view",
          "goals-and-rules/goal-definition/view",
          "goals-and-rules/goals/view",
          "submissions/ingest_policy_through_pd-create/view",
          "dashboard/my-book/view",
          "triaged-submission-list/my-book/view",
          "all-accounts/new-business/view",
          "goals-and-rules/new-goal/view",
          "submissions/old_renewal-create/view",
          "account-property-rating/perils/view",
          "submissions/policy-create/view",
          "submissions/policy-definition/view",
          "dashboard/portfolio-insights/view",
          "account-property-rating/pricing-detail/view",
          "submissions/renewal-create/view",
          "submissions/renewal-definition/view",
          "all-accounts/renewals/view",
          "goals-and-rules/rules/view",
          "submissions/triaged_submissions-definition/view",
          "triaged-submission/triaged_submissions-definition/view",
          "triaged-submission-list/triaged_submissions-definition/view",
          "submissions/example_submission-definition/widget",
          "submissions/generic_submission-definition/widget",
          "dashboard/my-book/widget",
          "all-accounts/new-business/widget",
          "dashboard/portfolio-insights/widget",
          "all-accounts/renewals/widget",
          "triaged-submission/triaged_submissions-definition/widget",
          "triaged-submission/triaged_submissions-definition/winnability-click",
          "EMPTY/None",
          "application-window-opened/None",
          "session_end/None",
          "session_start/None",
          "submissions/account-create",
          "account-lines/action-center-click",
          "nav-header/action-center-click",
          "action-center/action-details",
          "submissions/all-account",
          "submissions/all-auto",
          "submissions/all-example_submission",
          "submissions/all-exposure_demo",
          "submissions/all-exposures",
          "submissions/all-financial_lines",
          "submissions/all-generic_submission",
          "submissions/all-ingest_policy_through_pd",
          "submissions/all-justin_test_submission",
          "submissions/all-old_renewal",
          "submissions/all-policy",
          "submissions/all-renewal",
          "submissions/all-sashco_submission",
          "submissions/all-single_step_submission",
          "submissions/all-terrorism",
          "submissions/all-test_conditional_form_inputs",
          "submissions/auto-create",
          "account-auto-rating/change-rating-click",
          "account-lines/change-rating-click",
          "account-property-rating/change-rating-click",
          "action-center/close-click",
          "account-auto-rating/configurable-table",
          "account-broker-readonly-view/configurable-table",
          "account-broker-view/configurable-table",
          "account-lines/configurable-table",
          "account-property-rating/configurable-table",
          "agency-account/configurable-table",
          "agency-dashboard/configurable-table",
          "all-accounts/configurable-table",
          "all-policies/configurable-table",
          "brokerage/configurable-table",
          "carriers/configurable-table",
          "classification-rules/configurable-table",
          "complex-rules/configurable-table",
          "contacts/configurable-table",
          "account-lines/construction-excess-rater",
          "account-lines/duplicate-policy-modal",
          "duplicate-policy-modal/duplicate-rating",
          "goals-and-rules/edit-goal",
          "assigned-email-thread/email-thread-expansion",
          "submissions/example_submission-create",
          "submissions/example_submission-definition",
          "submissions/exposure_demo-create",
          "submissions/exposures-create",
          "submissions/exposures-definition",
          "submissions/financial_lines-create",
          "submissions/generic_submission-create",
          "submissions/generic_submission-definition",
          "goals-and-rules/goal-definition",
          "goals-and-rules/goals",
          "nav-header/help-menu-opened",
          "submissions/ingest_policy_through_pd-create",
          "account-broker-readonly-view/layout",
          "account-broker-view/layout",
          "account-lines/layout",
          "agency-account/layout",
          "agency-dashboard/layout",
          "all-accounts/layout",
          "brokerage/layout",
          "dashboard/my-book",
          "triaged-submission-list/my-book",
          "all-accounts/new-business",
          "goals-and-rules/new-goal",
          "submissions/old_renewal-create",
          "account-property-rating/perils",
          "submissions/policy-create",
          "submissions/policy-definition",
          "dashboard/portfolio-insights",
          "account-property-rating/pricing-detail",
          "configurable-table/render",
          "layout/render",
          "widget/render",
          "submissions/renewal-create",
          "submissions/renewal-definition",
          "all-accounts/renewals",
          "goals-and-rules/rules",
          "action-center/submit-click",
          "account-lines/templeton-docs",
          "linked-email-thread-attachments/triaged_submissions-definition",
          "submissions/triaged_submissions-definition",
          "triaged-submission/triaged_submissions-definition",
          "triaged-submission-list/triaged_submissions-definition",
          "nav-header/user-signed-out",
          "account/view",
          "account-auto-rating/view",
          "account-broker-readonly-view/view",
          "account-broker-view/view",
          "account-lines/view",
          "account-policy-rating/view",
          "account-workers-comp-rating/view",
          "action-center/view",
          "agency-account/view",
          "agency-dashboard/view",
          "all-accounts/view",
          "all-policies/view",
          "brokerage/view",
          "account-broker-readonly-view/widget",
          "account-broker-view/widget",
          "account-lines/widget",
          "agency-account/widget",
          "agency-dashboard/widget",
          "all-accounts/widget",
          "brokerage/widget",
          "EMPTY",
          "account",
          "account-auto-rating",
          "account-broker-readonly-view",
          "account-broker-view",
          "account-lines",
          "account-policy-rating",
          "account-property-rating",
          "account-workers-comp-rating",
          "action-center",
          "agency-account",
          "agency-dashboard",
          "all-accounts",
          "all-policies",
          "application-window-opened",
          "assigned-email-thread",
          "brokerage",
          "carriers",
          "classification-rules",
          "complex-rules",
          "configurable-table",
          "contacts",
          "dashboard",
          "duplicate-policy-modal",
          "goals-and-rules",
          "layout",
          "linked-email-thread-attachments",
          "nav-header",
          "session_end",
          "session_start",
          "submissions",
          "triaged-submission",
          "triaged-submission-list",
          "widget"
         ],
         "labels": [
          "None",
          "None",
          "None",
          "None",
          "None",
          "None",
          "None",
          "None",
          "None",
          "None",
          "None",
          "None",
          "None",
          "None",
          "None",
          "None",
          "None",
          "None",
          "None",
          "None",
          "None",
          "None",
          "None",
          "None",
          "None",
          "None",
          "None",
          "None",
          "None",
          "None",
          "None",
          "None",
          "None",
          "None",
          "None",
          "None",
          "None",
          "None",
          "None",
          "None",
          "None",
          "None",
          "None",
          "None",
          "None",
          "None",
          "None",
          "None",
          "None",
          "None",
          "None",
          "None",
          "None",
          "None",
          "None",
          "None",
          "None",
          "None",
          "None",
          "None",
          "None",
          "None",
          "None",
          "None",
          "None",
          "None",
          "None",
          "None",
          "None",
          "None",
          "None",
          "None",
          "None",
          "None",
          "None",
          "None",
          "None",
          "None",
          "None",
          "None",
          "None",
          "None",
          "None",
          "None",
          "None",
          "None",
          "None",
          "None",
          "None",
          "None",
          "None",
          "None",
          "None",
          "None",
          "None",
          "None",
          "None",
          "None",
          "None",
          "None",
          "None",
          "None",
          "None",
          "None",
          "None",
          "None",
          "None",
          "None",
          "None",
          "None",
          "None",
          "None",
          "None",
          "None",
          "None",
          "None",
          "None",
          "None",
          "None",
          "None",
          "None",
          "None",
          "None",
          "None",
          "None",
          "None",
          "None",
          "None",
          "account-click",
          "account-click",
          "action-click",
          "add-click",
          "add-click",
          "delete-click",
          "edit-click",
          "render",
          "render",
          "render",
          "render",
          "render",
          "render",
          "render",
          "render",
          "render",
          "render",
          "render",
          "render",
          "render",
          "render",
          "render",
          "render",
          "render",
          "render",
          "render",
          "render",
          "render",
          "render",
          "render",
          "render",
          "render",
          "render",
          "render",
          "render",
          "render",
          "render",
          "render",
          "render",
          "render",
          "render",
          "render",
          "render",
          "render",
          "save-click",
          "submit-click",
          "None",
          "None",
          "None",
          "None",
          "None",
          "None",
          "None",
          "None",
          "None",
          "None",
          "None",
          "None",
          "None",
          "None",
          "None",
          "None",
          "None",
          "None",
          "None",
          "None",
          "None",
          "None",
          "None",
          "None",
          "None",
          "None",
          "None",
          "None",
          "None",
          "None",
          "None",
          "accounts-table",
          "action-click",
          "advanced-filters-applied",
          "appetite-click",
          "close-click",
          "close-click",
          "configurable-table",
          "configurable-table",
          "configurable-table",
          "configurable-table",
          "configurable-table",
          "configurable-table",
          "configurable-table",
          "configurable-table",
          "configurable-table",
          "configurable-table",
          "configurable-table",
          "configurable-table",
          "configurable-table",
          "configurable-table",
          "configurable-table",
          "configurable-table",
          "configurable-table",
          "configurable-table",
          "configurable-table",
          "configurable-table",
          "configurable-table",
          "configurable-table",
          "configurable-table",
          "create-document-click",
          "create-document-click",
          "delete-click",
          "document-download-click",
          "duplicate-rating",
          "layers",
          "layout",
          "layout",
          "layout",
          "layout",
          "layout",
          "layout",
          "layout",
          "model-request-details",
          "modify-existing-quote-click",
          "open-ra-file-click",
          "perils-table",
          "recent-actions-table",
          "render",
          "render",
          "render",
          "render",
          "render",
          "render",
          "render",
          "render",
          "render",
          "render",
          "render",
          "render",
          "render",
          "render",
          "render",
          "render",
          "render",
          "render",
          "render",
          "render",
          "render",
          "render",
          "render",
          "render",
          "render",
          "render",
          "render",
          "render",
          "response-form",
          "save-click",
          "save-click",
          "save-click",
          "save-new-quote-click",
          "submit-click",
          "submit-click",
          "submit-click",
          "submit-click",
          "view",
          "view",
          "view",
          "view",
          "view",
          "view",
          "view",
          "view",
          "view",
          "view",
          "view",
          "view",
          "view",
          "view",
          "view",
          "view",
          "view",
          "view",
          "view",
          "view",
          "view",
          "view",
          "view",
          "view",
          "view",
          "view",
          "view",
          "view",
          "view",
          "view",
          "view",
          "view",
          "view",
          "view",
          "view",
          "view",
          "view",
          "view",
          "view",
          "view",
          "view",
          "view",
          "view",
          "view",
          "view",
          "view",
          "view",
          "view",
          "widget",
          "widget",
          "widget",
          "widget",
          "widget",
          "widget",
          "widget",
          "winnability-click",
          "None",
          "None",
          "None",
          "None",
          "account-create",
          "action-center-click",
          "action-center-click",
          "action-details",
          "all-account",
          "all-auto",
          "all-example_submission",
          "all-exposure_demo",
          "all-exposures",
          "all-financial_lines",
          "all-generic_submission",
          "all-ingest_policy_through_pd",
          "all-justin_test_submission",
          "all-old_renewal",
          "all-policy",
          "all-renewal",
          "all-sashco_submission",
          "all-single_step_submission",
          "all-terrorism",
          "all-test_conditional_form_inputs",
          "auto-create",
          "change-rating-click",
          "change-rating-click",
          "change-rating-click",
          "close-click",
          "configurable-table",
          "configurable-table",
          "configurable-table",
          "configurable-table",
          "configurable-table",
          "configurable-table",
          "configurable-table",
          "configurable-table",
          "configurable-table",
          "configurable-table",
          "configurable-table",
          "configurable-table",
          "configurable-table",
          "configurable-table",
          "construction-excess-rater",
          "duplicate-policy-modal",
          "duplicate-rating",
          "edit-goal",
          "email-thread-expansion",
          "example_submission-create",
          "example_submission-definition",
          "exposure_demo-create",
          "exposures-create",
          "exposures-definition",
          "financial_lines-create",
          "generic_submission-create",
          "generic_submission-definition",
          "goal-definition",
          "goals",
          "help-menu-opened",
          "ingest_policy_through_pd-create",
          "layout",
          "layout",
          "layout",
          "layout",
          "layout",
          "layout",
          "layout",
          "my-book",
          "my-book",
          "new-business",
          "new-goal",
          "old_renewal-create",
          "perils",
          "policy-create",
          "policy-definition",
          "portfolio-insights",
          "pricing-detail",
          "render",
          "render",
          "render",
          "renewal-create",
          "renewal-definition",
          "renewals",
          "rules",
          "submit-click",
          "templeton-docs",
          "triaged_submissions-definition",
          "triaged_submissions-definition",
          "triaged_submissions-definition",
          "triaged_submissions-definition",
          "user-signed-out",
          "view",
          "view",
          "view",
          "view",
          "view",
          "view",
          "view",
          "view",
          "view",
          "view",
          "view",
          "view",
          "view",
          "widget",
          "widget",
          "widget",
          "widget",
          "widget",
          "widget",
          "widget",
          "EMPTY",
          "account",
          "account-auto-rating",
          "account-broker-readonly-view",
          "account-broker-view",
          "account-lines",
          "account-policy-rating",
          "account-property-rating",
          "account-workers-comp-rating",
          "action-center",
          "agency-account",
          "agency-dashboard",
          "all-accounts",
          "all-policies",
          "application-window-opened",
          "assigned-email-thread",
          "brokerage",
          "carriers",
          "classification-rules",
          "complex-rules",
          "configurable-table",
          "contacts",
          "dashboard",
          "duplicate-policy-modal",
          "goals-and-rules",
          "layout",
          "linked-email-thread-attachments",
          "nav-header",
          "session_end",
          "session_start",
          "submissions",
          "triaged-submission",
          "triaged-submission-list",
          "widget"
         ],
         "name": "",
         "parents": [
          "EMPTY/None/None",
          "application-window-opened/None/None",
          "session_end/None/None",
          "session_start/None/None",
          "account-lines/action-center-click/None",
          "nav-header/action-center-click/None",
          "account-auto-rating/change-rating-click/None",
          "account-lines/change-rating-click/None",
          "account-property-rating/change-rating-click/None",
          "action-center/close-click/None",
          "duplicate-policy-modal/duplicate-rating/None",
          "assigned-email-thread/email-thread-expansion/None",
          "nav-header/help-menu-opened/None",
          "configurable-table/render/None",
          "layout/render/None",
          "widget/render/None",
          "action-center/submit-click/None",
          "nav-header/user-signed-out/None",
          "account/view/None",
          "account-auto-rating/view/None",
          "account-broker-readonly-view/view/None",
          "account-broker-view/view/None",
          "account-lines/view/None",
          "account-policy-rating/view/None",
          "account-workers-comp-rating/view/None",
          "action-center/view/None",
          "agency-account/view/None",
          "agency-dashboard/view/None",
          "all-accounts/view/None",
          "all-policies/view/None",
          "brokerage/view/None",
          "dashboard/my-book/action-click",
          "goals-and-rules/edit-goal/advanced-filters-applied",
          "triaged-submission/triaged_submissions-definition/appetite-click",
          "goals-and-rules/edit-goal/close-click",
          "goals-and-rules/new-goal/close-click",
          "account-lines/construction-excess-rater/create-document-click",
          "account-lines/templeton-docs/create-document-click",
          "goals-and-rules/goal-definition/delete-click",
          "linked-email-thread-attachments/triaged_submissions-definition/document-download-click",
          "account-lines/duplicate-policy-modal/duplicate-rating",
          "account-lines/construction-excess-rater/modify-existing-quote-click",
          "account-property-rating/pricing-detail/open-ra-file-click",
          "account-auto-rating/configurable-table/render",
          "account-broker-readonly-view/configurable-table/render",
          "account-broker-view/configurable-table/render",
          "account-lines/configurable-table/render",
          "account-property-rating/configurable-table/render",
          "agency-account/configurable-table/render",
          "agency-dashboard/configurable-table/render",
          "all-accounts/configurable-table/render",
          "all-policies/configurable-table/render",
          "brokerage/configurable-table/render",
          "carriers/configurable-table/render",
          "classification-rules/configurable-table/render",
          "complex-rules/configurable-table/render",
          "contacts/configurable-table/render",
          "account-broker-readonly-view/layout/render",
          "account-broker-view/layout/render",
          "account-lines/layout/render",
          "agency-account/layout/render",
          "agency-dashboard/layout/render",
          "all-accounts/layout/render",
          "brokerage/layout/render",
          "account-broker-readonly-view/widget/render",
          "account-broker-view/widget/render",
          "account-lines/widget/render",
          "agency-account/widget/render",
          "agency-dashboard/widget/render",
          "all-accounts/widget/render",
          "brokerage/widget/render",
          "goals-and-rules/edit-goal/save-click",
          "submissions/policy-create/save-click",
          "submissions/policy-definition/save-click",
          "account-lines/construction-excess-rater/save-new-quote-click",
          "submissions/exposures-create/submit-click",
          "submissions/policy-create/submit-click",
          "submissions/policy-definition/submit-click",
          "submissions/renewal-create/submit-click",
          "submissions/account-create/view",
          "action-center/action-details/view",
          "submissions/all-account/view",
          "submissions/all-auto/view",
          "submissions/all-example_submission/view",
          "submissions/all-exposure_demo/view",
          "submissions/all-exposures/view",
          "submissions/all-financial_lines/view",
          "submissions/all-generic_submission/view",
          "submissions/all-ingest_policy_through_pd/view",
          "submissions/all-justin_test_submission/view",
          "submissions/all-old_renewal/view",
          "submissions/all-policy/view",
          "submissions/all-renewal/view",
          "submissions/all-sashco_submission/view",
          "submissions/all-single_step_submission/view",
          "submissions/all-terrorism/view",
          "submissions/all-test_conditional_form_inputs/view",
          "submissions/auto-create/view",
          "goals-and-rules/edit-goal/view",
          "submissions/example_submission-create/view",
          "submissions/example_submission-definition/view",
          "submissions/exposure_demo-create/view",
          "submissions/exposures-create/view",
          "submissions/exposures-definition/view",
          "submissions/financial_lines-create/view",
          "submissions/generic_submission-create/view",
          "submissions/generic_submission-definition/view",
          "goals-and-rules/goal-definition/view",
          "goals-and-rules/goals/view",
          "submissions/ingest_policy_through_pd-create/view",
          "dashboard/my-book/view",
          "triaged-submission-list/my-book/view",
          "all-accounts/new-business/view",
          "goals-and-rules/new-goal/view",
          "submissions/old_renewal-create/view",
          "account-property-rating/perils/view",
          "submissions/policy-create/view",
          "submissions/policy-definition/view",
          "dashboard/portfolio-insights/view",
          "account-property-rating/pricing-detail/view",
          "submissions/renewal-create/view",
          "submissions/renewal-definition/view",
          "all-accounts/renewals/view",
          "goals-and-rules/rules/view",
          "submissions/triaged_submissions-definition/view",
          "triaged-submission/triaged_submissions-definition/view",
          "triaged-submission-list/triaged_submissions-definition/view",
          "triaged-submission/triaged_submissions-definition/winnability-click",
          "all-accounts/new-business/accounts-table",
          "dashboard/my-book/recent-actions-table",
          "dashboard/my-book/recent-actions-table",
          "account-property-rating/perils/layers",
          "account-property-rating/perils/perils-table",
          "account-property-rating/perils/layers",
          "account-property-rating/perils/perils-table",
          "submissions/all-account/configurable-table",
          "submissions/all-auto/configurable-table",
          "submissions/all-example_submission/configurable-table",
          "submissions/all-exposure_demo/configurable-table",
          "submissions/all-exposures/configurable-table",
          "submissions/all-financial_lines/configurable-table",
          "submissions/all-generic_submission/configurable-table",
          "submissions/all-ingest_policy_through_pd/configurable-table",
          "submissions/all-policy/configurable-table",
          "submissions/all-renewal/configurable-table",
          "submissions/all-sashco_submission/configurable-table",
          "submissions/example_submission-definition/configurable-table",
          "goals-and-rules/goals/configurable-table",
          "dashboard/my-book/configurable-table",
          "triaged-submission-list/my-book/configurable-table",
          "all-accounts/new-business/configurable-table",
          "account-property-rating/perils/configurable-table",
          "submissions/policy-create/configurable-table",
          "submissions/policy-definition/configurable-table",
          "account-property-rating/pricing-detail/configurable-table",
          "all-accounts/renewals/configurable-table",
          "goals-and-rules/rules/configurable-table",
          "triaged-submission-list/triaged_submissions-definition/configurable-table",
          "submissions/example_submission-definition/layout",
          "submissions/generic_submission-definition/layout",
          "dashboard/my-book/layout",
          "all-accounts/new-business/layout",
          "dashboard/portfolio-insights/layout",
          "all-accounts/renewals/layout",
          "triaged-submission/triaged_submissions-definition/layout",
          "submissions/example_submission-definition/widget",
          "submissions/generic_submission-definition/widget",
          "dashboard/my-book/widget",
          "all-accounts/new-business/widget",
          "dashboard/portfolio-insights/widget",
          "all-accounts/renewals/widget",
          "triaged-submission/triaged_submissions-definition/widget",
          "account-property-rating/perils/model-request-details",
          "action-center/action-details/response-form",
          "EMPTY/None",
          "application-window-opened/None",
          "session_end/None",
          "session_start/None",
          "account-lines/action-center-click",
          "nav-header/action-center-click",
          "account-auto-rating/change-rating-click",
          "account-lines/change-rating-click",
          "account-property-rating/change-rating-click",
          "action-center/close-click",
          "duplicate-policy-modal/duplicate-rating",
          "assigned-email-thread/email-thread-expansion",
          "nav-header/help-menu-opened",
          "configurable-table/render",
          "layout/render",
          "widget/render",
          "action-center/submit-click",
          "nav-header/user-signed-out",
          "account/view",
          "account-auto-rating/view",
          "account-broker-readonly-view/view",
          "account-broker-view/view",
          "account-lines/view",
          "account-policy-rating/view",
          "account-workers-comp-rating/view",
          "action-center/view",
          "agency-account/view",
          "agency-dashboard/view",
          "all-accounts/view",
          "all-policies/view",
          "brokerage/view",
          "all-accounts/new-business",
          "dashboard/my-book",
          "goals-and-rules/edit-goal",
          "triaged-submission/triaged_submissions-definition",
          "goals-and-rules/edit-goal",
          "goals-and-rules/new-goal",
          "submissions/all-account",
          "submissions/all-auto",
          "submissions/all-example_submission",
          "submissions/all-exposure_demo",
          "submissions/all-exposures",
          "submissions/all-financial_lines",
          "submissions/all-generic_submission",
          "submissions/all-ingest_policy_through_pd",
          "submissions/all-policy",
          "submissions/all-renewal",
          "submissions/all-sashco_submission",
          "submissions/example_submission-definition",
          "goals-and-rules/goals",
          "dashboard/my-book",
          "triaged-submission-list/my-book",
          "all-accounts/new-business",
          "account-property-rating/perils",
          "submissions/policy-create",
          "submissions/policy-definition",
          "account-property-rating/pricing-detail",
          "all-accounts/renewals",
          "goals-and-rules/rules",
          "triaged-submission-list/triaged_submissions-definition",
          "account-lines/construction-excess-rater",
          "account-lines/templeton-docs",
          "goals-and-rules/goal-definition",
          "linked-email-thread-attachments/triaged_submissions-definition",
          "account-lines/duplicate-policy-modal",
          "account-property-rating/perils",
          "submissions/example_submission-definition",
          "submissions/generic_submission-definition",
          "dashboard/my-book",
          "all-accounts/new-business",
          "dashboard/portfolio-insights",
          "all-accounts/renewals",
          "triaged-submission/triaged_submissions-definition",
          "account-property-rating/perils",
          "account-lines/construction-excess-rater",
          "account-property-rating/pricing-detail",
          "account-property-rating/perils",
          "dashboard/my-book",
          "account-auto-rating/configurable-table",
          "account-broker-readonly-view/configurable-table",
          "account-broker-view/configurable-table",
          "account-lines/configurable-table",
          "account-property-rating/configurable-table",
          "agency-account/configurable-table",
          "agency-dashboard/configurable-table",
          "all-accounts/configurable-table",
          "all-policies/configurable-table",
          "brokerage/configurable-table",
          "carriers/configurable-table",
          "classification-rules/configurable-table",
          "complex-rules/configurable-table",
          "contacts/configurable-table",
          "account-broker-readonly-view/layout",
          "account-broker-view/layout",
          "account-lines/layout",
          "agency-account/layout",
          "agency-dashboard/layout",
          "all-accounts/layout",
          "brokerage/layout",
          "account-broker-readonly-view/widget",
          "account-broker-view/widget",
          "account-lines/widget",
          "agency-account/widget",
          "agency-dashboard/widget",
          "all-accounts/widget",
          "brokerage/widget",
          "action-center/action-details",
          "goals-and-rules/edit-goal",
          "submissions/policy-create",
          "submissions/policy-definition",
          "account-lines/construction-excess-rater",
          "submissions/exposures-create",
          "submissions/policy-create",
          "submissions/policy-definition",
          "submissions/renewal-create",
          "submissions/account-create",
          "action-center/action-details",
          "submissions/all-account",
          "submissions/all-auto",
          "submissions/all-example_submission",
          "submissions/all-exposure_demo",
          "submissions/all-exposures",
          "submissions/all-financial_lines",
          "submissions/all-generic_submission",
          "submissions/all-ingest_policy_through_pd",
          "submissions/all-justin_test_submission",
          "submissions/all-old_renewal",
          "submissions/all-policy",
          "submissions/all-renewal",
          "submissions/all-sashco_submission",
          "submissions/all-single_step_submission",
          "submissions/all-terrorism",
          "submissions/all-test_conditional_form_inputs",
          "submissions/auto-create",
          "goals-and-rules/edit-goal",
          "submissions/example_submission-create",
          "submissions/example_submission-definition",
          "submissions/exposure_demo-create",
          "submissions/exposures-create",
          "submissions/exposures-definition",
          "submissions/financial_lines-create",
          "submissions/generic_submission-create",
          "submissions/generic_submission-definition",
          "goals-and-rules/goal-definition",
          "goals-and-rules/goals",
          "submissions/ingest_policy_through_pd-create",
          "dashboard/my-book",
          "triaged-submission-list/my-book",
          "all-accounts/new-business",
          "goals-and-rules/new-goal",
          "submissions/old_renewal-create",
          "account-property-rating/perils",
          "submissions/policy-create",
          "submissions/policy-definition",
          "dashboard/portfolio-insights",
          "account-property-rating/pricing-detail",
          "submissions/renewal-create",
          "submissions/renewal-definition",
          "all-accounts/renewals",
          "goals-and-rules/rules",
          "submissions/triaged_submissions-definition",
          "triaged-submission/triaged_submissions-definition",
          "triaged-submission-list/triaged_submissions-definition",
          "submissions/example_submission-definition",
          "submissions/generic_submission-definition",
          "dashboard/my-book",
          "all-accounts/new-business",
          "dashboard/portfolio-insights",
          "all-accounts/renewals",
          "triaged-submission/triaged_submissions-definition",
          "triaged-submission/triaged_submissions-definition",
          "EMPTY",
          "application-window-opened",
          "session_end",
          "session_start",
          "submissions",
          "account-lines",
          "nav-header",
          "action-center",
          "submissions",
          "submissions",
          "submissions",
          "submissions",
          "submissions",
          "submissions",
          "submissions",
          "submissions",
          "submissions",
          "submissions",
          "submissions",
          "submissions",
          "submissions",
          "submissions",
          "submissions",
          "submissions",
          "submissions",
          "account-auto-rating",
          "account-lines",
          "account-property-rating",
          "action-center",
          "account-auto-rating",
          "account-broker-readonly-view",
          "account-broker-view",
          "account-lines",
          "account-property-rating",
          "agency-account",
          "agency-dashboard",
          "all-accounts",
          "all-policies",
          "brokerage",
          "carriers",
          "classification-rules",
          "complex-rules",
          "contacts",
          "account-lines",
          "account-lines",
          "duplicate-policy-modal",
          "goals-and-rules",
          "assigned-email-thread",
          "submissions",
          "submissions",
          "submissions",
          "submissions",
          "submissions",
          "submissions",
          "submissions",
          "submissions",
          "goals-and-rules",
          "goals-and-rules",
          "nav-header",
          "submissions",
          "account-broker-readonly-view",
          "account-broker-view",
          "account-lines",
          "agency-account",
          "agency-dashboard",
          "all-accounts",
          "brokerage",
          "dashboard",
          "triaged-submission-list",
          "all-accounts",
          "goals-and-rules",
          "submissions",
          "account-property-rating",
          "submissions",
          "submissions",
          "dashboard",
          "account-property-rating",
          "configurable-table",
          "layout",
          "widget",
          "submissions",
          "submissions",
          "all-accounts",
          "goals-and-rules",
          "action-center",
          "account-lines",
          "linked-email-thread-attachments",
          "submissions",
          "triaged-submission",
          "triaged-submission-list",
          "nav-header",
          "account",
          "account-auto-rating",
          "account-broker-readonly-view",
          "account-broker-view",
          "account-lines",
          "account-policy-rating",
          "account-workers-comp-rating",
          "action-center",
          "agency-account",
          "agency-dashboard",
          "all-accounts",
          "all-policies",
          "brokerage",
          "account-broker-readonly-view",
          "account-broker-view",
          "account-lines",
          "agency-account",
          "agency-dashboard",
          "all-accounts",
          "brokerage",
          "",
          "",
          "",
          "",
          "",
          "",
          "",
          "",
          "",
          "",
          "",
          "",
          "",
          "",
          "",
          "",
          "",
          "",
          "",
          "",
          "",
          "",
          "",
          "",
          "",
          "",
          "",
          "",
          "",
          "",
          "",
          "",
          "",
          ""
         ],
         "root": {
          "color": "lightgrey"
         },
         "type": "treemap",
         "values": [
          136,
          2687,
          2794,
          3186,
          2,
          1051,
          3,
          469,
          2,
          1165,
          1,
          33,
          6,
          499,
          16,
          52,
          565,
          19,
          3423,
          75,
          17,
          28,
          5775,
          1,
          3,
          1333,
          6,
          46,
          2055,
          1,
          2,
          247,
          30,
          7,
          1,
          1,
          3,
          197,
          1,
          1,
          11,
          4,
          3,
          296,
          30,
          18,
          14309,
          12,
          12,
          92,
          2423,
          1,
          5,
          4,
          5,
          1,
          2,
          17,
          14,
          5656,
          6,
          46,
          2059,
          2,
          142,
          113,
          23202,
          18,
          94,
          2052,
          2,
          2,
          3,
          22,
          2,
          219,
          41,
          200,
          8,
          11,
          1158,
          135,
          8,
          3,
          12,
          260,
          10,
          21,
          42,
          1,
          1,
          568,
          35,
          2,
          1,
          1,
          1,
          3,
          4,
          1,
          1,
          2,
          222,
          14,
          2,
          6,
          12,
          10,
          16,
          11,
          1928,
          935,
          15,
          1,
          1,
          321,
          68,
          239,
          72,
          4,
          17,
          14,
          5,
          1,
          61,
          61,
          61,
          10,
          13,
          32,
          13,
          21,
          36,
          3,
          250,
          200,
          6,
          1,
          11,
          217,
          3,
          11,
          40,
          548,
          13,
          1,
          5,
          64,
          5468,
          943,
          2,
          485,
          37,
          168,
          40,
          2,
          1,
          61,
          2,
          5,
          1929,
          29,
          72,
          9,
          61,
          10,
          5,
          5135,
          1,
          78,
          1,
          183,
          15,
          295,
          136,
          2687,
          2794,
          3186,
          2,
          1051,
          3,
          469,
          2,
          1165,
          1,
          33,
          6,
          499,
          16,
          52,
          565,
          19,
          3423,
          75,
          17,
          28,
          5775,
          1,
          3,
          1333,
          6,
          46,
          2055,
          1,
          2,
          13,
          247,
          30,
          7,
          1,
          1,
          200,
          6,
          1,
          11,
          217,
          3,
          11,
          40,
          548,
          13,
          1,
          5,
          64,
          5468,
          943,
          2,
          485,
          37,
          168,
          40,
          2,
          1,
          61,
          3,
          197,
          1,
          1,
          11,
          24,
          2,
          5,
          1929,
          29,
          72,
          9,
          61,
          15,
          4,
          3,
          286,
          45,
          296,
          30,
          18,
          14309,
          12,
          12,
          92,
          2423,
          1,
          5,
          4,
          5,
          1,
          2,
          17,
          14,
          5656,
          6,
          46,
          2059,
          2,
          142,
          113,
          23202,
          18,
          94,
          2052,
          2,
          295,
          2,
          3,
          22,
          2,
          219,
          41,
          200,
          8,
          11,
          1158,
          135,
          8,
          3,
          12,
          260,
          10,
          21,
          42,
          1,
          1,
          568,
          35,
          2,
          1,
          1,
          1,
          3,
          4,
          1,
          1,
          2,
          222,
          14,
          2,
          6,
          12,
          10,
          16,
          11,
          1928,
          935,
          15,
          1,
          1,
          321,
          68,
          239,
          72,
          4,
          17,
          14,
          5,
          1,
          61,
          61,
          61,
          10,
          5,
          5135,
          1,
          78,
          1,
          183,
          10,
          136,
          2687,
          2794,
          3186,
          11,
          2,
          1051,
          1453,
          335,
          14,
          4,
          23,
          477,
          13,
          32,
          82,
          1,
          1,
          1116,
          48,
          3,
          1,
          1,
          1,
          3,
          3,
          469,
          2,
          1165,
          296,
          30,
          18,
          14309,
          12,
          12,
          92,
          2423,
          1,
          5,
          4,
          5,
          1,
          2,
          9,
          11,
          1,
          37,
          33,
          1,
          18,
          2,
          441,
          14,
          2,
          6,
          22,
          11,
          80,
          6,
          11,
          17,
          14,
          5656,
          6,
          46,
          2059,
          2,
          14752,
          1878,
          60,
          2,
          1,
          1131,
          149,
          629,
          222,
          47,
          499,
          16,
          52,
          25,
          14,
          17,
          2,
          565,
          197,
          1,
          61,
          322,
          122,
          19,
          3423,
          75,
          17,
          28,
          5775,
          1,
          3,
          1333,
          6,
          46,
          2055,
          1,
          2,
          142,
          113,
          23202,
          18,
          94,
          2052,
          2,
          136,
          3423,
          374,
          206,
          173,
          49630,
          1,
          1192,
          3,
          4516,
          42,
          278,
          8666,
          2,
          2687,
          33,
          11,
          4,
          5,
          1,
          499,
          2,
          14974,
          1,
          132,
          16,
          1,
          1076,
          2794,
          3186,
          3562,
          322,
          2000,
          52
         ]
        }
       ],
       "layout": {
        "legend": {
         "tracegroupgap": 0
        },
        "template": {
         "data": {
          "bar": [
           {
            "error_x": {
             "color": "#2a3f5f"
            },
            "error_y": {
             "color": "#2a3f5f"
            },
            "marker": {
             "line": {
              "color": "#E5ECF6",
              "width": 0.5
             },
             "pattern": {
              "fillmode": "overlay",
              "size": 10,
              "solidity": 0.2
             }
            },
            "type": "bar"
           }
          ],
          "barpolar": [
           {
            "marker": {
             "line": {
              "color": "#E5ECF6",
              "width": 0.5
             },
             "pattern": {
              "fillmode": "overlay",
              "size": 10,
              "solidity": 0.2
             }
            },
            "type": "barpolar"
           }
          ],
          "carpet": [
           {
            "aaxis": {
             "endlinecolor": "#2a3f5f",
             "gridcolor": "white",
             "linecolor": "white",
             "minorgridcolor": "white",
             "startlinecolor": "#2a3f5f"
            },
            "baxis": {
             "endlinecolor": "#2a3f5f",
             "gridcolor": "white",
             "linecolor": "white",
             "minorgridcolor": "white",
             "startlinecolor": "#2a3f5f"
            },
            "type": "carpet"
           }
          ],
          "choropleth": [
           {
            "colorbar": {
             "outlinewidth": 0,
             "ticks": ""
            },
            "type": "choropleth"
           }
          ],
          "contour": [
           {
            "colorbar": {
             "outlinewidth": 0,
             "ticks": ""
            },
            "colorscale": [
             [
              0,
              "#0d0887"
             ],
             [
              0.1111111111111111,
              "#46039f"
             ],
             [
              0.2222222222222222,
              "#7201a8"
             ],
             [
              0.3333333333333333,
              "#9c179e"
             ],
             [
              0.4444444444444444,
              "#bd3786"
             ],
             [
              0.5555555555555556,
              "#d8576b"
             ],
             [
              0.6666666666666666,
              "#ed7953"
             ],
             [
              0.7777777777777778,
              "#fb9f3a"
             ],
             [
              0.8888888888888888,
              "#fdca26"
             ],
             [
              1,
              "#f0f921"
             ]
            ],
            "type": "contour"
           }
          ],
          "contourcarpet": [
           {
            "colorbar": {
             "outlinewidth": 0,
             "ticks": ""
            },
            "type": "contourcarpet"
           }
          ],
          "heatmap": [
           {
            "colorbar": {
             "outlinewidth": 0,
             "ticks": ""
            },
            "colorscale": [
             [
              0,
              "#0d0887"
             ],
             [
              0.1111111111111111,
              "#46039f"
             ],
             [
              0.2222222222222222,
              "#7201a8"
             ],
             [
              0.3333333333333333,
              "#9c179e"
             ],
             [
              0.4444444444444444,
              "#bd3786"
             ],
             [
              0.5555555555555556,
              "#d8576b"
             ],
             [
              0.6666666666666666,
              "#ed7953"
             ],
             [
              0.7777777777777778,
              "#fb9f3a"
             ],
             [
              0.8888888888888888,
              "#fdca26"
             ],
             [
              1,
              "#f0f921"
             ]
            ],
            "type": "heatmap"
           }
          ],
          "heatmapgl": [
           {
            "colorbar": {
             "outlinewidth": 0,
             "ticks": ""
            },
            "colorscale": [
             [
              0,
              "#0d0887"
             ],
             [
              0.1111111111111111,
              "#46039f"
             ],
             [
              0.2222222222222222,
              "#7201a8"
             ],
             [
              0.3333333333333333,
              "#9c179e"
             ],
             [
              0.4444444444444444,
              "#bd3786"
             ],
             [
              0.5555555555555556,
              "#d8576b"
             ],
             [
              0.6666666666666666,
              "#ed7953"
             ],
             [
              0.7777777777777778,
              "#fb9f3a"
             ],
             [
              0.8888888888888888,
              "#fdca26"
             ],
             [
              1,
              "#f0f921"
             ]
            ],
            "type": "heatmapgl"
           }
          ],
          "histogram": [
           {
            "marker": {
             "pattern": {
              "fillmode": "overlay",
              "size": 10,
              "solidity": 0.2
             }
            },
            "type": "histogram"
           }
          ],
          "histogram2d": [
           {
            "colorbar": {
             "outlinewidth": 0,
             "ticks": ""
            },
            "colorscale": [
             [
              0,
              "#0d0887"
             ],
             [
              0.1111111111111111,
              "#46039f"
             ],
             [
              0.2222222222222222,
              "#7201a8"
             ],
             [
              0.3333333333333333,
              "#9c179e"
             ],
             [
              0.4444444444444444,
              "#bd3786"
             ],
             [
              0.5555555555555556,
              "#d8576b"
             ],
             [
              0.6666666666666666,
              "#ed7953"
             ],
             [
              0.7777777777777778,
              "#fb9f3a"
             ],
             [
              0.8888888888888888,
              "#fdca26"
             ],
             [
              1,
              "#f0f921"
             ]
            ],
            "type": "histogram2d"
           }
          ],
          "histogram2dcontour": [
           {
            "colorbar": {
             "outlinewidth": 0,
             "ticks": ""
            },
            "colorscale": [
             [
              0,
              "#0d0887"
             ],
             [
              0.1111111111111111,
              "#46039f"
             ],
             [
              0.2222222222222222,
              "#7201a8"
             ],
             [
              0.3333333333333333,
              "#9c179e"
             ],
             [
              0.4444444444444444,
              "#bd3786"
             ],
             [
              0.5555555555555556,
              "#d8576b"
             ],
             [
              0.6666666666666666,
              "#ed7953"
             ],
             [
              0.7777777777777778,
              "#fb9f3a"
             ],
             [
              0.8888888888888888,
              "#fdca26"
             ],
             [
              1,
              "#f0f921"
             ]
            ],
            "type": "histogram2dcontour"
           }
          ],
          "mesh3d": [
           {
            "colorbar": {
             "outlinewidth": 0,
             "ticks": ""
            },
            "type": "mesh3d"
           }
          ],
          "parcoords": [
           {
            "line": {
             "colorbar": {
              "outlinewidth": 0,
              "ticks": ""
             }
            },
            "type": "parcoords"
           }
          ],
          "pie": [
           {
            "automargin": true,
            "type": "pie"
           }
          ],
          "scatter": [
           {
            "fillpattern": {
             "fillmode": "overlay",
             "size": 10,
             "solidity": 0.2
            },
            "type": "scatter"
           }
          ],
          "scatter3d": [
           {
            "line": {
             "colorbar": {
              "outlinewidth": 0,
              "ticks": ""
             }
            },
            "marker": {
             "colorbar": {
              "outlinewidth": 0,
              "ticks": ""
             }
            },
            "type": "scatter3d"
           }
          ],
          "scattercarpet": [
           {
            "marker": {
             "colorbar": {
              "outlinewidth": 0,
              "ticks": ""
             }
            },
            "type": "scattercarpet"
           }
          ],
          "scattergeo": [
           {
            "marker": {
             "colorbar": {
              "outlinewidth": 0,
              "ticks": ""
             }
            },
            "type": "scattergeo"
           }
          ],
          "scattergl": [
           {
            "marker": {
             "colorbar": {
              "outlinewidth": 0,
              "ticks": ""
             }
            },
            "type": "scattergl"
           }
          ],
          "scattermapbox": [
           {
            "marker": {
             "colorbar": {
              "outlinewidth": 0,
              "ticks": ""
             }
            },
            "type": "scattermapbox"
           }
          ],
          "scatterpolar": [
           {
            "marker": {
             "colorbar": {
              "outlinewidth": 0,
              "ticks": ""
             }
            },
            "type": "scatterpolar"
           }
          ],
          "scatterpolargl": [
           {
            "marker": {
             "colorbar": {
              "outlinewidth": 0,
              "ticks": ""
             }
            },
            "type": "scatterpolargl"
           }
          ],
          "scatterternary": [
           {
            "marker": {
             "colorbar": {
              "outlinewidth": 0,
              "ticks": ""
             }
            },
            "type": "scatterternary"
           }
          ],
          "surface": [
           {
            "colorbar": {
             "outlinewidth": 0,
             "ticks": ""
            },
            "colorscale": [
             [
              0,
              "#0d0887"
             ],
             [
              0.1111111111111111,
              "#46039f"
             ],
             [
              0.2222222222222222,
              "#7201a8"
             ],
             [
              0.3333333333333333,
              "#9c179e"
             ],
             [
              0.4444444444444444,
              "#bd3786"
             ],
             [
              0.5555555555555556,
              "#d8576b"
             ],
             [
              0.6666666666666666,
              "#ed7953"
             ],
             [
              0.7777777777777778,
              "#fb9f3a"
             ],
             [
              0.8888888888888888,
              "#fdca26"
             ],
             [
              1,
              "#f0f921"
             ]
            ],
            "type": "surface"
           }
          ],
          "table": [
           {
            "cells": {
             "fill": {
              "color": "#EBF0F8"
             },
             "line": {
              "color": "white"
             }
            },
            "header": {
             "fill": {
              "color": "#C8D4E3"
             },
             "line": {
              "color": "white"
             }
            },
            "type": "table"
           }
          ]
         },
         "layout": {
          "annotationdefaults": {
           "arrowcolor": "#2a3f5f",
           "arrowhead": 0,
           "arrowwidth": 1
          },
          "autotypenumbers": "strict",
          "coloraxis": {
           "colorbar": {
            "outlinewidth": 0,
            "ticks": ""
           }
          },
          "colorscale": {
           "diverging": [
            [
             0,
             "#8e0152"
            ],
            [
             0.1,
             "#c51b7d"
            ],
            [
             0.2,
             "#de77ae"
            ],
            [
             0.3,
             "#f1b6da"
            ],
            [
             0.4,
             "#fde0ef"
            ],
            [
             0.5,
             "#f7f7f7"
            ],
            [
             0.6,
             "#e6f5d0"
            ],
            [
             0.7,
             "#b8e186"
            ],
            [
             0.8,
             "#7fbc41"
            ],
            [
             0.9,
             "#4d9221"
            ],
            [
             1,
             "#276419"
            ]
           ],
           "sequential": [
            [
             0,
             "#0d0887"
            ],
            [
             0.1111111111111111,
             "#46039f"
            ],
            [
             0.2222222222222222,
             "#7201a8"
            ],
            [
             0.3333333333333333,
             "#9c179e"
            ],
            [
             0.4444444444444444,
             "#bd3786"
            ],
            [
             0.5555555555555556,
             "#d8576b"
            ],
            [
             0.6666666666666666,
             "#ed7953"
            ],
            [
             0.7777777777777778,
             "#fb9f3a"
            ],
            [
             0.8888888888888888,
             "#fdca26"
            ],
            [
             1,
             "#f0f921"
            ]
           ],
           "sequentialminus": [
            [
             0,
             "#0d0887"
            ],
            [
             0.1111111111111111,
             "#46039f"
            ],
            [
             0.2222222222222222,
             "#7201a8"
            ],
            [
             0.3333333333333333,
             "#9c179e"
            ],
            [
             0.4444444444444444,
             "#bd3786"
            ],
            [
             0.5555555555555556,
             "#d8576b"
            ],
            [
             0.6666666666666666,
             "#ed7953"
            ],
            [
             0.7777777777777778,
             "#fb9f3a"
            ],
            [
             0.8888888888888888,
             "#fdca26"
            ],
            [
             1,
             "#f0f921"
            ]
           ]
          },
          "colorway": [
           "#636efa",
           "#EF553B",
           "#00cc96",
           "#ab63fa",
           "#FFA15A",
           "#19d3f3",
           "#FF6692",
           "#B6E880",
           "#FF97FF",
           "#FECB52"
          ],
          "font": {
           "color": "#2a3f5f"
          },
          "geo": {
           "bgcolor": "white",
           "lakecolor": "white",
           "landcolor": "#E5ECF6",
           "showlakes": true,
           "showland": true,
           "subunitcolor": "white"
          },
          "hoverlabel": {
           "align": "left"
          },
          "hovermode": "closest",
          "mapbox": {
           "style": "light"
          },
          "paper_bgcolor": "white",
          "plot_bgcolor": "#E5ECF6",
          "polar": {
           "angularaxis": {
            "gridcolor": "white",
            "linecolor": "white",
            "ticks": ""
           },
           "bgcolor": "#E5ECF6",
           "radialaxis": {
            "gridcolor": "white",
            "linecolor": "white",
            "ticks": ""
           }
          },
          "scene": {
           "xaxis": {
            "backgroundcolor": "#E5ECF6",
            "gridcolor": "white",
            "gridwidth": 2,
            "linecolor": "white",
            "showbackground": true,
            "ticks": "",
            "zerolinecolor": "white"
           },
           "yaxis": {
            "backgroundcolor": "#E5ECF6",
            "gridcolor": "white",
            "gridwidth": 2,
            "linecolor": "white",
            "showbackground": true,
            "ticks": "",
            "zerolinecolor": "white"
           },
           "zaxis": {
            "backgroundcolor": "#E5ECF6",
            "gridcolor": "white",
            "gridwidth": 2,
            "linecolor": "white",
            "showbackground": true,
            "ticks": "",
            "zerolinecolor": "white"
           }
          },
          "shapedefaults": {
           "line": {
            "color": "#2a3f5f"
           }
          },
          "ternary": {
           "aaxis": {
            "gridcolor": "white",
            "linecolor": "white",
            "ticks": ""
           },
           "baxis": {
            "gridcolor": "white",
            "linecolor": "white",
            "ticks": ""
           },
           "bgcolor": "#E5ECF6",
           "caxis": {
            "gridcolor": "white",
            "linecolor": "white",
            "ticks": ""
           }
          },
          "title": {
           "x": 0.05
          },
          "xaxis": {
           "automargin": true,
           "gridcolor": "white",
           "linecolor": "white",
           "ticks": "",
           "title": {
            "standoff": 15
           },
           "zerolinecolor": "white",
           "zerolinewidth": 2
          },
          "yaxis": {
           "automargin": true,
           "gridcolor": "white",
           "linecolor": "white",
           "ticks": "",
           "title": {
            "standoff": 15
           },
           "zerolinecolor": "white",
           "zerolinewidth": 2
          }
         }
        },
        "title": {
         "text": "Event Types Hierarchy (NOT A GOOD REPRESENTATION)"
        }
       }
      }
     },
     "metadata": {},
     "output_type": "display_data"
    }
   ],
   "source": [
    "# Plot the treemap to explain event types hierarchy\n",
    "device_fig = px.treemap(\n",
    "    split_event_types,\n",
    "    path=['event_type_lvl_0', 'event_type_lvl_1', 'event_type_lvl_2', 'event_type_lvl_3'],\n",
    "    title='Event Types Hierarchy (NOT A GOOD REPRESENTATION)'\n",
    ")\n",
    "device_fig.update_traces(root_color=\"lightgrey\")\n",
    "device_fig.show()"
   ]
  },
  {
   "cell_type": "code",
   "execution_count": 8,
   "id": "962ebb1a",
   "metadata": {},
   "outputs": [
    {
     "data": {
      "application/vnd.plotly.v1+json": {
       "config": {
        "plotlyServerURL": "https://plot.ly"
       },
       "data": [
        {
         "link": {
          "source": [
           6,
           6,
           6,
           6,
           6,
           6,
           6,
           6,
           6,
           2,
           2,
           5,
           5,
           5,
           5,
           5,
           5,
           9,
           9,
           9,
           9,
           12,
           12,
           12,
           12,
           12,
           12,
           12,
           12,
           12,
           12,
           12,
           12,
           12,
           12,
           12,
           12,
           12,
           12,
           12,
           12,
           12,
           12,
           12,
           12,
           12,
           12,
           12,
           12,
           12,
           12,
           12,
           12,
           12,
           7,
           3,
           3,
           11,
           11,
           11,
           11,
           8,
           8,
           8,
           14,
           10,
           10,
           10,
           13,
           15,
           15,
           15,
           15,
           19,
           19,
           19,
           19,
           29,
           29,
           29,
           29,
           18,
           18,
           18,
           18,
           18,
           17,
           28,
           28,
           28,
           28,
           16,
           21,
           23,
           23,
           23,
           23,
           22,
           25,
           27,
           24,
           33,
           33,
           20,
           30,
           31,
           32,
           17,
           14,
           35,
           35,
           35,
           35,
           35,
           35,
           21,
           42,
           42,
           40,
           40,
           40,
           40,
           40,
           44,
           44,
           55,
           55,
           55,
           55,
           46,
           46,
           46,
           46,
           46,
           46,
           46,
           64,
           64,
           65,
           65,
           58,
           58,
           49,
           49,
           49,
           51,
           45,
           45,
           45,
           45,
           56,
           56,
           54,
           54,
           59,
           59,
           59,
           59,
           59,
           74,
           74,
           63,
           63,
           63,
           82,
           82,
           82,
           82,
           77,
           77,
           75,
           75,
           67,
           67,
           85,
           85,
           85,
           91,
           91,
           91,
           91,
           50,
           50,
           50,
           50,
           78,
           76,
           43,
           43,
           72,
           72,
           57,
           81,
           81,
           80,
           20,
           52,
           52,
           52,
           84,
           88,
           88,
           66,
           87,
           87,
           73,
           79,
           79,
           83,
           83,
           68,
           71,
           70,
           47,
           69,
           86,
           89,
           90,
           14,
           17,
           21,
           94,
           92,
           92,
           98,
           98,
           99,
           99,
           95,
           100
          ],
          "target": [
           21,
           36,
           17,
           14,
           39,
           20,
           51,
           52,
           37,
           35,
           49,
           14,
           17,
           21,
           36,
           50,
           59,
           36,
           38,
           41,
           42,
           43,
           44,
           45,
           46,
           47,
           55,
           56,
           57,
           58,
           64,
           65,
           66,
           67,
           68,
           69,
           70,
           71,
           72,
           73,
           74,
           75,
           76,
           77,
           78,
           80,
           84,
           85,
           86,
           87,
           88,
           89,
           90,
           91,
           36,
           35,
           46,
           40,
           63,
           14,
           39,
           37,
           60,
           62,
           48,
           14,
           36,
           39,
           46,
           36,
           21,
           17,
           14,
           21,
           36,
           17,
           14,
           21,
           36,
           17,
           14,
           54,
           79,
           81,
           82,
           83,
           48,
           21,
           36,
           17,
           14,
           53,
           48,
           14,
           21,
           36,
           17,
           14,
           14,
           36,
           14,
           14,
           36,
           61,
           46,
           14,
           36,
           48,
           48,
           36,
           21,
           17,
           14,
           93,
           98,
           48,
           36,
           94,
           14,
           36,
           92,
           95,
           99,
           36,
           14,
           36,
           41,
           14,
           108,
           36,
           21,
           17,
           14,
           103,
           104,
           105,
           36,
           14,
           36,
           41,
           14,
           36,
           21,
           36,
           17,
           96,
           36,
           14,
           41,
           108,
           14,
           36,
           14,
           36,
           21,
           36,
           100,
           14,
           17,
           36,
           14,
           14,
           36,
           101,
           36,
           106,
           108,
           38,
           36,
           14,
           36,
           41,
           36,
           14,
           36,
           21,
           17,
           36,
           21,
           17,
           14,
           21,
           36,
           14,
           17,
           36,
           36,
           36,
           14,
           36,
           14,
           36,
           36,
           107,
           36,
           61,
           97,
           96,
           102,
           36,
           36,
           14,
           36,
           36,
           14,
           36,
           14,
           36,
           36,
           38,
           36,
           36,
           36,
           36,
           36,
           36,
           36,
           36,
           48,
           48,
           48,
           41,
           109,
           110,
           93,
           111,
           109,
           107,
           108,
           111
          ],
          "value": [
           5656,
           5775,
           23202,
           14309,
           469,
           11,
           197,
           9,
           2,
           14752,
           222,
           2423,
           2052,
           2059,
           2055,
           17,
           60,
           1333,
           1165,
           565,
           1453,
           14,
           1116,
           149,
           61,
           1,
           629,
           82,
           11,
           335,
           477,
           441,
           3,
           23,
           2,
           1,
           1,
           1,
           13,
           2,
           48,
           25,
           14,
           32,
           14,
           11,
           6,
           22,
           1,
           3,
           4,
           1,
           1,
           18,
           3423,
           1878,
           122,
           1131,
           47,
           12,
           2,
           1051,
           19,
           6,
           499,
           296,
           75,
           3,
           322,
           46,
           46,
           94,
           92,
           17,
           17,
           142,
           30,
           14,
           28,
           113,
           18,
           80,
           2,
           11,
           37,
           2,
           52,
           6,
           6,
           18,
           12,
           33,
           16,
           5,
           2,
           2,
           2,
           5,
           4,
           3,
           2,
           1,
           1,
           1,
           1,
           1,
           1,
           25623,
           17210,
           2863,
           1929,
           5135,
           6411,
           247,
           45,
           7800,
           1158,
           295,
           485,
           321,
           286,
           15,
           24,
           568,
           548,
           239,
           200,
           168,
           22,
           183,
           61,
           183,
           61,
           10,
           7,
           1,
           260,
           217,
           222,
           219,
           200,
           135,
           72,
           72,
           78,
           197,
           68,
           37,
           41,
           3,
           40,
           42,
           64,
           16,
           29,
           15,
           13,
           2,
           1,
           35,
           13,
           40,
           4,
           3,
           4,
           30,
           2,
           1,
           21,
           11,
           17,
           8,
           12,
           11,
           12,
           5,
           5,
           1,
           2,
           10,
           5,
           9,
           5,
           2,
           1,
           14,
           14,
           8,
           6,
           10,
           3,
           11,
           10,
           1,
           11,
           11,
           2,
           3,
           4,
           6,
           3,
           1,
           3,
           2,
           1,
           2,
           1,
           1,
           1,
           1,
           2,
           1,
           1,
           1,
           1,
           1,
           1,
           1,
           8327,
           5413,
           2107,
           295,
           36,
           250,
           13,
           32,
           21,
           3,
           15,
           13
          ]
         },
         "node": {
          "label": [
           "session_end",
           "application-window-opened",
           "dashboard",
           "triaged-submission-list",
           "session_start",
           "all-accounts",
           "account-lines",
           "account",
           "nav-header",
           "action-center",
           "account-auto-rating",
           "account-property-rating",
           "submissions",
           "triaged-submission",
           "configurable-table",
           "agency-dashboard",
           "assigned-email-thread",
           "widget",
           "goals-and-rules",
           "account-broker-readonly-view",
           "duplicate-policy-modal",
           "layout",
           "classification-rules",
           "brokerage",
           "contacts",
           "carriers",
           "EMPTY",
           "account-workers-comp-rating",
           "agency-account",
           "account-broker-view",
           "linked-email-thread-attachments",
           "complex-rules",
           "account-policy-rating",
           "all-policies",
           "None",
           "my-book",
           "view",
           "action-center-click",
           "close-click",
           "change-rating-click",
           "perils",
           "submit-click",
           "action-details",
           "all-auto",
           "all-policy",
           "policy-create",
           "triaged_submissions-definition",
           "all-terrorism",
           "render",
           "portfolio-insights",
           "renewals",
           "templeton-docs",
           "construction-excess-rater",
           "email-thread-expansion",
           "goals",
           "policy-definition",
           "all-ingest_policy_through_pd",
           "ingest_policy_through_pd-create",
           "all-account",
           "new-business",
           "user-signed-out",
           "duplicate-rating",
           "help-menu-opened",
           "pricing-detail",
           "all-exposures",
           "exposures-create",
           "auto-create",
           "all-exposure_demo",
           "exposure_demo-create",
           "all-justin_test_submission",
           "all-old_renewal",
           "old_renewal-create",
           "all-financial_lines",
           "financial_lines-create",
           "all-renewal",
           "renewal-create",
           "renewal-definition",
           "all-generic_submission",
           "exposures-definition",
           "rules",
           "account-create",
           "goal-definition",
           "edit-goal",
           "new-goal",
           "generic_submission-create",
           "generic_submission-definition",
           "all-single_step_submission",
           "all-sashco_submission",
           "all-example_submission",
           "example_submission-create",
           "all-test_conditional_form_inputs",
           "example_submission-definition",
           "perils-table",
           "action-click",
           "response-form",
           "model-request-details",
           "create-document-click",
           "save-new-quote-click",
           "recent-actions-table",
           "layers",
           "accounts-table",
           "open-ra-file-click",
           "modify-existing-quote-click",
           "winnability-click",
           "appetite-click",
           "document-download-click",
           "advanced-filters-applied",
           "delete-click",
           "save-click",
           "add-click",
           "edit-click",
           "account-click"
          ],
          "line": {
           "color": "black",
           "width": 1
          },
          "pad": 10,
          "thickness": 20,
          "x": [
           0.9,
           0.9,
           0.9,
           0.9,
           0.9,
           0.9,
           0.9,
           0.9,
           0.9,
           0.9,
           0.9,
           0.9,
           0.9,
           0.9,
           0.9,
           0.9,
           0.9,
           0.9,
           0.9,
           0.9,
           0.9,
           0.9,
           0.9,
           0.9,
           0.9,
           0.9,
           0.9,
           0.9,
           0.9,
           0.9,
           0.9,
           0.9,
           0.9,
           0.9,
           0.9,
           0.9,
           0.9,
           0.9,
           0.9,
           0.9,
           0.9,
           0.9,
           0.9,
           0.9,
           0.9,
           0.9,
           0.9,
           0.9,
           0.9,
           0.9,
           0.9,
           0.9,
           0.9,
           0.9,
           0.9,
           0.9,
           0.9,
           0.9,
           0.9,
           0.9,
           0.9,
           0.9,
           0.9,
           0.9,
           0.9,
           0.9,
           0.9,
           0.9,
           0.9,
           0.9,
           0.9,
           0.9,
           0.9,
           0.9,
           0.9,
           0.9,
           0.9,
           0.9,
           0.9,
           0.9,
           0.9,
           0.9,
           0.9,
           0.9,
           0.9,
           0.9,
           0.9,
           0.9,
           0.9,
           0.9,
           0.9,
           0.9,
           0.9,
           0.9,
           0.9,
           0.9,
           0.9,
           0.9,
           0.9,
           0.9,
           0.9,
           0.9,
           0.9,
           0.9,
           0.9,
           0.9,
           0.9,
           0.9,
           0.9,
           0.9,
           0.9,
           0.9
          ]
         },
         "type": "sankey"
        }
       ],
       "layout": {
        "font": {
         "size": 12
        },
        "height": 800,
        "template": {
         "data": {
          "bar": [
           {
            "error_x": {
             "color": "#2a3f5f"
            },
            "error_y": {
             "color": "#2a3f5f"
            },
            "marker": {
             "line": {
              "color": "#E5ECF6",
              "width": 0.5
             },
             "pattern": {
              "fillmode": "overlay",
              "size": 10,
              "solidity": 0.2
             }
            },
            "type": "bar"
           }
          ],
          "barpolar": [
           {
            "marker": {
             "line": {
              "color": "#E5ECF6",
              "width": 0.5
             },
             "pattern": {
              "fillmode": "overlay",
              "size": 10,
              "solidity": 0.2
             }
            },
            "type": "barpolar"
           }
          ],
          "carpet": [
           {
            "aaxis": {
             "endlinecolor": "#2a3f5f",
             "gridcolor": "white",
             "linecolor": "white",
             "minorgridcolor": "white",
             "startlinecolor": "#2a3f5f"
            },
            "baxis": {
             "endlinecolor": "#2a3f5f",
             "gridcolor": "white",
             "linecolor": "white",
             "minorgridcolor": "white",
             "startlinecolor": "#2a3f5f"
            },
            "type": "carpet"
           }
          ],
          "choropleth": [
           {
            "colorbar": {
             "outlinewidth": 0,
             "ticks": ""
            },
            "type": "choropleth"
           }
          ],
          "contour": [
           {
            "colorbar": {
             "outlinewidth": 0,
             "ticks": ""
            },
            "colorscale": [
             [
              0,
              "#0d0887"
             ],
             [
              0.1111111111111111,
              "#46039f"
             ],
             [
              0.2222222222222222,
              "#7201a8"
             ],
             [
              0.3333333333333333,
              "#9c179e"
             ],
             [
              0.4444444444444444,
              "#bd3786"
             ],
             [
              0.5555555555555556,
              "#d8576b"
             ],
             [
              0.6666666666666666,
              "#ed7953"
             ],
             [
              0.7777777777777778,
              "#fb9f3a"
             ],
             [
              0.8888888888888888,
              "#fdca26"
             ],
             [
              1,
              "#f0f921"
             ]
            ],
            "type": "contour"
           }
          ],
          "contourcarpet": [
           {
            "colorbar": {
             "outlinewidth": 0,
             "ticks": ""
            },
            "type": "contourcarpet"
           }
          ],
          "heatmap": [
           {
            "colorbar": {
             "outlinewidth": 0,
             "ticks": ""
            },
            "colorscale": [
             [
              0,
              "#0d0887"
             ],
             [
              0.1111111111111111,
              "#46039f"
             ],
             [
              0.2222222222222222,
              "#7201a8"
             ],
             [
              0.3333333333333333,
              "#9c179e"
             ],
             [
              0.4444444444444444,
              "#bd3786"
             ],
             [
              0.5555555555555556,
              "#d8576b"
             ],
             [
              0.6666666666666666,
              "#ed7953"
             ],
             [
              0.7777777777777778,
              "#fb9f3a"
             ],
             [
              0.8888888888888888,
              "#fdca26"
             ],
             [
              1,
              "#f0f921"
             ]
            ],
            "type": "heatmap"
           }
          ],
          "heatmapgl": [
           {
            "colorbar": {
             "outlinewidth": 0,
             "ticks": ""
            },
            "colorscale": [
             [
              0,
              "#0d0887"
             ],
             [
              0.1111111111111111,
              "#46039f"
             ],
             [
              0.2222222222222222,
              "#7201a8"
             ],
             [
              0.3333333333333333,
              "#9c179e"
             ],
             [
              0.4444444444444444,
              "#bd3786"
             ],
             [
              0.5555555555555556,
              "#d8576b"
             ],
             [
              0.6666666666666666,
              "#ed7953"
             ],
             [
              0.7777777777777778,
              "#fb9f3a"
             ],
             [
              0.8888888888888888,
              "#fdca26"
             ],
             [
              1,
              "#f0f921"
             ]
            ],
            "type": "heatmapgl"
           }
          ],
          "histogram": [
           {
            "marker": {
             "pattern": {
              "fillmode": "overlay",
              "size": 10,
              "solidity": 0.2
             }
            },
            "type": "histogram"
           }
          ],
          "histogram2d": [
           {
            "colorbar": {
             "outlinewidth": 0,
             "ticks": ""
            },
            "colorscale": [
             [
              0,
              "#0d0887"
             ],
             [
              0.1111111111111111,
              "#46039f"
             ],
             [
              0.2222222222222222,
              "#7201a8"
             ],
             [
              0.3333333333333333,
              "#9c179e"
             ],
             [
              0.4444444444444444,
              "#bd3786"
             ],
             [
              0.5555555555555556,
              "#d8576b"
             ],
             [
              0.6666666666666666,
              "#ed7953"
             ],
             [
              0.7777777777777778,
              "#fb9f3a"
             ],
             [
              0.8888888888888888,
              "#fdca26"
             ],
             [
              1,
              "#f0f921"
             ]
            ],
            "type": "histogram2d"
           }
          ],
          "histogram2dcontour": [
           {
            "colorbar": {
             "outlinewidth": 0,
             "ticks": ""
            },
            "colorscale": [
             [
              0,
              "#0d0887"
             ],
             [
              0.1111111111111111,
              "#46039f"
             ],
             [
              0.2222222222222222,
              "#7201a8"
             ],
             [
              0.3333333333333333,
              "#9c179e"
             ],
             [
              0.4444444444444444,
              "#bd3786"
             ],
             [
              0.5555555555555556,
              "#d8576b"
             ],
             [
              0.6666666666666666,
              "#ed7953"
             ],
             [
              0.7777777777777778,
              "#fb9f3a"
             ],
             [
              0.8888888888888888,
              "#fdca26"
             ],
             [
              1,
              "#f0f921"
             ]
            ],
            "type": "histogram2dcontour"
           }
          ],
          "mesh3d": [
           {
            "colorbar": {
             "outlinewidth": 0,
             "ticks": ""
            },
            "type": "mesh3d"
           }
          ],
          "parcoords": [
           {
            "line": {
             "colorbar": {
              "outlinewidth": 0,
              "ticks": ""
             }
            },
            "type": "parcoords"
           }
          ],
          "pie": [
           {
            "automargin": true,
            "type": "pie"
           }
          ],
          "scatter": [
           {
            "fillpattern": {
             "fillmode": "overlay",
             "size": 10,
             "solidity": 0.2
            },
            "type": "scatter"
           }
          ],
          "scatter3d": [
           {
            "line": {
             "colorbar": {
              "outlinewidth": 0,
              "ticks": ""
             }
            },
            "marker": {
             "colorbar": {
              "outlinewidth": 0,
              "ticks": ""
             }
            },
            "type": "scatter3d"
           }
          ],
          "scattercarpet": [
           {
            "marker": {
             "colorbar": {
              "outlinewidth": 0,
              "ticks": ""
             }
            },
            "type": "scattercarpet"
           }
          ],
          "scattergeo": [
           {
            "marker": {
             "colorbar": {
              "outlinewidth": 0,
              "ticks": ""
             }
            },
            "type": "scattergeo"
           }
          ],
          "scattergl": [
           {
            "marker": {
             "colorbar": {
              "outlinewidth": 0,
              "ticks": ""
             }
            },
            "type": "scattergl"
           }
          ],
          "scattermapbox": [
           {
            "marker": {
             "colorbar": {
              "outlinewidth": 0,
              "ticks": ""
             }
            },
            "type": "scattermapbox"
           }
          ],
          "scatterpolar": [
           {
            "marker": {
             "colorbar": {
              "outlinewidth": 0,
              "ticks": ""
             }
            },
            "type": "scatterpolar"
           }
          ],
          "scatterpolargl": [
           {
            "marker": {
             "colorbar": {
              "outlinewidth": 0,
              "ticks": ""
             }
            },
            "type": "scatterpolargl"
           }
          ],
          "scatterternary": [
           {
            "marker": {
             "colorbar": {
              "outlinewidth": 0,
              "ticks": ""
             }
            },
            "type": "scatterternary"
           }
          ],
          "surface": [
           {
            "colorbar": {
             "outlinewidth": 0,
             "ticks": ""
            },
            "colorscale": [
             [
              0,
              "#0d0887"
             ],
             [
              0.1111111111111111,
              "#46039f"
             ],
             [
              0.2222222222222222,
              "#7201a8"
             ],
             [
              0.3333333333333333,
              "#9c179e"
             ],
             [
              0.4444444444444444,
              "#bd3786"
             ],
             [
              0.5555555555555556,
              "#d8576b"
             ],
             [
              0.6666666666666666,
              "#ed7953"
             ],
             [
              0.7777777777777778,
              "#fb9f3a"
             ],
             [
              0.8888888888888888,
              "#fdca26"
             ],
             [
              1,
              "#f0f921"
             ]
            ],
            "type": "surface"
           }
          ],
          "table": [
           {
            "cells": {
             "fill": {
              "color": "#EBF0F8"
             },
             "line": {
              "color": "white"
             }
            },
            "header": {
             "fill": {
              "color": "#C8D4E3"
             },
             "line": {
              "color": "white"
             }
            },
            "type": "table"
           }
          ]
         },
         "layout": {
          "annotationdefaults": {
           "arrowcolor": "#2a3f5f",
           "arrowhead": 0,
           "arrowwidth": 1
          },
          "autotypenumbers": "strict",
          "coloraxis": {
           "colorbar": {
            "outlinewidth": 0,
            "ticks": ""
           }
          },
          "colorscale": {
           "diverging": [
            [
             0,
             "#8e0152"
            ],
            [
             0.1,
             "#c51b7d"
            ],
            [
             0.2,
             "#de77ae"
            ],
            [
             0.3,
             "#f1b6da"
            ],
            [
             0.4,
             "#fde0ef"
            ],
            [
             0.5,
             "#f7f7f7"
            ],
            [
             0.6,
             "#e6f5d0"
            ],
            [
             0.7,
             "#b8e186"
            ],
            [
             0.8,
             "#7fbc41"
            ],
            [
             0.9,
             "#4d9221"
            ],
            [
             1,
             "#276419"
            ]
           ],
           "sequential": [
            [
             0,
             "#0d0887"
            ],
            [
             0.1111111111111111,
             "#46039f"
            ],
            [
             0.2222222222222222,
             "#7201a8"
            ],
            [
             0.3333333333333333,
             "#9c179e"
            ],
            [
             0.4444444444444444,
             "#bd3786"
            ],
            [
             0.5555555555555556,
             "#d8576b"
            ],
            [
             0.6666666666666666,
             "#ed7953"
            ],
            [
             0.7777777777777778,
             "#fb9f3a"
            ],
            [
             0.8888888888888888,
             "#fdca26"
            ],
            [
             1,
             "#f0f921"
            ]
           ],
           "sequentialminus": [
            [
             0,
             "#0d0887"
            ],
            [
             0.1111111111111111,
             "#46039f"
            ],
            [
             0.2222222222222222,
             "#7201a8"
            ],
            [
             0.3333333333333333,
             "#9c179e"
            ],
            [
             0.4444444444444444,
             "#bd3786"
            ],
            [
             0.5555555555555556,
             "#d8576b"
            ],
            [
             0.6666666666666666,
             "#ed7953"
            ],
            [
             0.7777777777777778,
             "#fb9f3a"
            ],
            [
             0.8888888888888888,
             "#fdca26"
            ],
            [
             1,
             "#f0f921"
            ]
           ]
          },
          "colorway": [
           "#636efa",
           "#EF553B",
           "#00cc96",
           "#ab63fa",
           "#FFA15A",
           "#19d3f3",
           "#FF6692",
           "#B6E880",
           "#FF97FF",
           "#FECB52"
          ],
          "font": {
           "color": "#2a3f5f"
          },
          "geo": {
           "bgcolor": "white",
           "lakecolor": "white",
           "landcolor": "#E5ECF6",
           "showlakes": true,
           "showland": true,
           "subunitcolor": "white"
          },
          "hoverlabel": {
           "align": "left"
          },
          "hovermode": "closest",
          "mapbox": {
           "style": "light"
          },
          "paper_bgcolor": "white",
          "plot_bgcolor": "#E5ECF6",
          "polar": {
           "angularaxis": {
            "gridcolor": "white",
            "linecolor": "white",
            "ticks": ""
           },
           "bgcolor": "#E5ECF6",
           "radialaxis": {
            "gridcolor": "white",
            "linecolor": "white",
            "ticks": ""
           }
          },
          "scene": {
           "xaxis": {
            "backgroundcolor": "#E5ECF6",
            "gridcolor": "white",
            "gridwidth": 2,
            "linecolor": "white",
            "showbackground": true,
            "ticks": "",
            "zerolinecolor": "white"
           },
           "yaxis": {
            "backgroundcolor": "#E5ECF6",
            "gridcolor": "white",
            "gridwidth": 2,
            "linecolor": "white",
            "showbackground": true,
            "ticks": "",
            "zerolinecolor": "white"
           },
           "zaxis": {
            "backgroundcolor": "#E5ECF6",
            "gridcolor": "white",
            "gridwidth": 2,
            "linecolor": "white",
            "showbackground": true,
            "ticks": "",
            "zerolinecolor": "white"
           }
          },
          "shapedefaults": {
           "line": {
            "color": "#2a3f5f"
           }
          },
          "ternary": {
           "aaxis": {
            "gridcolor": "white",
            "linecolor": "white",
            "ticks": ""
           },
           "baxis": {
            "gridcolor": "white",
            "linecolor": "white",
            "ticks": ""
           },
           "bgcolor": "#E5ECF6",
           "caxis": {
            "gridcolor": "white",
            "linecolor": "white",
            "ticks": ""
           }
          },
          "title": {
           "x": 0.05
          },
          "xaxis": {
           "automargin": true,
           "gridcolor": "white",
           "linecolor": "white",
           "ticks": "",
           "title": {
            "standoff": 15
           },
           "zerolinecolor": "white",
           "zerolinewidth": 2
          },
          "yaxis": {
           "automargin": true,
           "gridcolor": "white",
           "linecolor": "white",
           "ticks": "",
           "title": {
            "standoff": 15
           },
           "zerolinecolor": "white",
           "zerolinewidth": 2
          }
         }
        },
        "title": {
         "text": "Event Types Hierarchy (APPROPRIATE REPRESENTATION)"
        }
       }
      }
     },
     "metadata": {},
     "output_type": "display_data"
    }
   ],
   "source": [
    "import plotly.graph_objects as go\n",
    "\n",
    "# Create a list of unique nodes from the event type levels\n",
    "nodes = list(pd.concat([split_event_types['event_type_lvl_0'], split_event_types['event_type_lvl_1'], split_event_types['event_type_lvl_2'], split_event_types['event_type_lvl_3']]).unique())\n",
    "NONE_IDX = nodes.index('None')\n",
    "\n",
    "nodes_lvl_0 = split_event_types['event_type_lvl_0'].unique()\n",
    "nodes_lvl_1 = split_event_types['event_type_lvl_1'].unique()\n",
    "nodes_lvl_2 = split_event_types['event_type_lvl_2'].unique()\n",
    "nodes_lvl_3 = split_event_types['event_type_lvl_3'].unique()\n",
    "\n",
    "# print(f\"nodes_lvl_0 {len(nodes_lvl_0)}\")\n",
    "# print(f\"nodes_lvl_1 {len(nodes_lvl_1)}\")\n",
    "# print(f\"nodes_lvl_2 {len(nodes_lvl_2)}\")\n",
    "# print(f\"nodes_lvl_3 {len(nodes_lvl_3)}\")\n",
    "# print(f\"nodes sum {len(nodes_lvl_0) + len(nodes_lvl_1) + len(nodes_lvl_2) + len(nodes_lvl_3)}\")\n",
    "# print(f\"nodes {nodes}\")\n",
    "# print(f\"number of nodes {len(nodes)}\")\n",
    "\n",
    "# Map the event type levels to node indices\n",
    "split_event_types['event_type_lvl_0_idx'] = split_event_types['event_type_lvl_0'].apply(lambda x: nodes.index(x))\n",
    "split_event_types['event_type_lvl_1_idx'] = split_event_types['event_type_lvl_1'].apply(lambda x: nodes.index(x))\n",
    "split_event_types['event_type_lvl_2_idx'] = split_event_types['event_type_lvl_2'].apply(lambda x: nodes.index(x))\n",
    "split_event_types['event_type_lvl_3_idx'] = split_event_types['event_type_lvl_3'].apply(lambda x: nodes.index(x))\n",
    "\n",
    "# Count the occurrences between each level\n",
    "link_data = [\n",
    "    {'source': split_event_types['event_type_lvl_0_idx'], 'target': split_event_types['event_type_lvl_1_idx']},\n",
    "    {'source': split_event_types['event_type_lvl_1_idx'], 'target': split_event_types['event_type_lvl_2_idx']},\n",
    "    {'source': split_event_types['event_type_lvl_2_idx'], 'target': split_event_types['event_type_lvl_3_idx']},\n",
    "]\n",
    "\n",
    "# Count the occurrences for each link\n",
    "links = []\n",
    "for data in link_data:\n",
    "\n",
    "    link_counts = pd.Series(data['source']).value_counts().to_dict()\n",
    "\n",
    "    for source_idx, count in link_counts.items():\n",
    "        if (source_idx == NONE_IDX):\n",
    "            continue\n",
    "        # boolean masking to find rows where source_idx matches\n",
    "        # The Sankey diagram needs connections between nodes, and this finds the each target index associated with each source node.\n",
    "        target_indices = data['target'][data['source'] == source_idx].unique()\n",
    "\n",
    "        for target_idx in target_indices:\n",
    "            source_target_count = data['source'][data['source'] == source_idx][data['target'] == target_idx].count()\n",
    "            if (target_idx == NONE_IDX):\n",
    "                continue\n",
    "        \n",
    "            links.append({\n",
    "                'source': source_idx,\n",
    "                'target': target_idx,\n",
    "                'value': source_target_count\n",
    "            })\n",
    "\n",
    "# Create the Sankey diagram\n",
    "fig = go.Figure(go.Sankey(\n",
    "    node=dict(\n",
    "        pad=10,\n",
    "        thickness=20,\n",
    "        line=dict(color=\"black\", width=1),\n",
    "        label=nodes,\n",
    "        x=[0.9 for _ in nodes],\n",
    "    ),\n",
    "    link=dict(\n",
    "        source=[link['source'] for link in links],\n",
    "        target=[link['target'] for link in links],\n",
    "        value=[link['value'] for link in links]\n",
    "    )\n",
    "))\n",
    "\n",
    "fig.update_layout(title_text=\"Event Types Hierarchy (APPROPRIATE REPRESENTATION)\", font_size=12, height=800)\n",
    "fig.show()"
   ]
  },
  {
   "cell_type": "markdown",
   "id": "710902fc",
   "metadata": {},
   "source": [
    "# EVENT PROPERTIES"
   ]
  },
  {
   "cell_type": "code",
   "execution_count": 9,
   "id": "cf584238",
   "metadata": {},
   "outputs": [
    {
     "name": "stdout",
     "output_type": "stream",
     "text": [
      "slugs: 268 displayNames: 286\n"
     ]
    },
    {
     "data": {
      "text/html": [
       "<div>\n",
       "<style scoped>\n",
       "    .dataframe tbody tr th:only-of-type {\n",
       "        vertical-align: middle;\n",
       "    }\n",
       "\n",
       "    .dataframe tbody tr th {\n",
       "        vertical-align: top;\n",
       "    }\n",
       "\n",
       "    .dataframe thead th {\n",
       "        text-align: right;\n",
       "    }\n",
       "</style>\n",
       "<table border=\"1\" class=\"dataframe\">\n",
       "  <thead>\n",
       "    <tr style=\"text-align: right;\">\n",
       "      <th></th>\n",
       "      <th>displayName</th>\n",
       "      <th>slug</th>\n",
       "      <th>event_type_lvl_0</th>\n",
       "      <th>event_type_lvl_1</th>\n",
       "      <th>event_type_lvl_2</th>\n",
       "      <th>event_type_lvl_3</th>\n",
       "    </tr>\n",
       "  </thead>\n",
       "  <tbody>\n",
       "    <tr>\n",
       "      <th>0</th>\n",
       "      <td>None</td>\n",
       "      <td>None</td>\n",
       "      <td>session_end</td>\n",
       "      <td>None</td>\n",
       "      <td>None</td>\n",
       "      <td>None</td>\n",
       "    </tr>\n",
       "    <tr>\n",
       "      <th>1</th>\n",
       "      <td>None</td>\n",
       "      <td>None</td>\n",
       "      <td>application-window-opened</td>\n",
       "      <td>None</td>\n",
       "      <td>None</td>\n",
       "      <td>None</td>\n",
       "    </tr>\n",
       "    <tr>\n",
       "      <th>2</th>\n",
       "      <td>None</td>\n",
       "      <td>None</td>\n",
       "      <td>dashboard</td>\n",
       "      <td>my-book</td>\n",
       "      <td>view</td>\n",
       "      <td>None</td>\n",
       "    </tr>\n",
       "    <tr>\n",
       "      <th>3</th>\n",
       "      <td>None</td>\n",
       "      <td>my-book</td>\n",
       "      <td>dashboard</td>\n",
       "      <td>my-book</td>\n",
       "      <td>layout</td>\n",
       "      <td>render</td>\n",
       "    </tr>\n",
       "    <tr>\n",
       "      <th>4</th>\n",
       "      <td>Actions</td>\n",
       "      <td>actions</td>\n",
       "      <td>dashboard</td>\n",
       "      <td>my-book</td>\n",
       "      <td>widget</td>\n",
       "      <td>render</td>\n",
       "    </tr>\n",
       "  </tbody>\n",
       "</table>\n",
       "</div>"
      ],
      "text/plain": [
       "  displayName     slug           event_type_lvl_0 event_type_lvl_1  \\\n",
       "0        None     None                session_end             None   \n",
       "1        None     None  application-window-opened             None   \n",
       "2        None     None                  dashboard          my-book   \n",
       "3        None  my-book                  dashboard          my-book   \n",
       "4     Actions  actions                  dashboard          my-book   \n",
       "\n",
       "  event_type_lvl_2 event_type_lvl_3  \n",
       "0             None             None  \n",
       "1             None             None  \n",
       "2             view             None  \n",
       "3           layout           render  \n",
       "4           widget           render  "
      ]
     },
     "execution_count": 9,
     "metadata": {},
     "output_type": "execute_result"
    }
   ],
   "source": [
    "# Normalize the event_properties JSON data into separate columns\n",
    "split_event_properties = pd.json_normalize(df['event_properties'])\n",
    "split_event_properties = split_event_properties.fillna('None')\n",
    "split_event_properties['test'] = split_event_properties['displayName'].str.replace(' ', '-').str.lower()\n",
    "\n",
    "slugs = split_event_properties['slug'].unique()\n",
    "displayNames = split_event_properties['displayName'].unique()\n",
    "print(\"slugs:\", len(slugs), \"displayNames:\", len(displayNames))\n",
    "\n",
    "# Combine event types and properties into one dataframe\n",
    "df_event = pd.concat([split_event_types, split_event_properties], axis=1)\n",
    "df_event = df_event[['displayName', 'slug', 'event_type_lvl_0', 'event_type_lvl_1', 'event_type_lvl_2', 'event_type_lvl_3']]\n",
    "\n",
    "df_event.head(5)"
   ]
  },
  {
   "cell_type": "code",
   "execution_count": 10,
   "id": "03a635fb",
   "metadata": {},
   "outputs": [
    {
     "name": "stdout",
     "output_type": "stream",
     "text": [
      "nodes_prop 286\n",
      "nodes_lvl_0 34\n",
      "nodes_lvl_1 62\n",
      "nodes_lvl_2 26\n",
      "nodes_lvl_3 9\n"
     ]
    },
    {
     "data": {
      "application/vnd.plotly.v1+json": {
       "config": {
        "plotlyServerURL": "https://plot.ly"
       },
       "data": [
        {
         "link": {
          "source": [
           0,
           0,
           0,
           0,
           0,
           0,
           0,
           0,
           0,
           0,
           0,
           0,
           0,
           0,
           0,
           0,
           0,
           0,
           7,
           5,
           6,
           15,
           4,
           4,
           2,
           2,
           24,
           17,
           1,
           19,
           18,
           30,
           20,
           3,
           21,
           16,
           80,
           60,
           14,
           12,
           133,
           64,
           65,
           54,
           177,
           22,
           58,
           122,
           90,
           91,
           132,
           57,
           59,
           56,
           55,
           25,
           26,
           85,
           86,
           84,
           83,
           23,
           13,
           42,
           87,
           119,
           118,
           117,
           292,
           292,
           292,
           292,
           292,
           292,
           288,
           288,
           291,
           291,
           291,
           291,
           295,
           295,
           295,
           295,
           298,
           298,
           298,
           298,
           298,
           298,
           293,
           289,
           289,
           297,
           294,
           300,
           296,
           299,
           305,
           315,
           303,
           300,
           321,
           321,
           321,
           321,
           321,
           307,
           328,
           328,
           326,
           326,
           326,
           330,
           330,
           341,
           341,
           341,
           332,
           332,
           350,
           350,
           351,
           351,
           344,
           344,
           337,
           300,
           303,
           307,
           380,
           378
          ],
          "target": [
           286,
           287,
           288,
           289,
           290,
           291,
           292,
           293,
           294,
           295,
           296,
           297,
           298,
           299,
           300,
           301,
           304,
           312,
           292,
           292,
           292,
           292,
           291,
           288,
           288,
           291,
           292,
           292,
           288,
           292,
           292,
           292,
           292,
           288,
           288,
           292,
           292,
           292,
           292,
           292,
           292,
           292,
           292,
           288,
           292,
           288,
           292,
           292,
           288,
           288,
           292,
           292,
           292,
           292,
           292,
           292,
           292,
           292,
           292,
           292,
           292,
           288,
           292,
           292,
           292,
           292,
           292,
           292,
           307,
           322,
           303,
           300,
           325,
           337,
           321,
           335,
           300,
           303,
           307,
           322,
           322,
           324,
           327,
           328,
           330,
           331,
           341,
           344,
           350,
           351,
           322,
           321,
           332,
           326,
           323,
           334,
           300,
           332,
           303,
           303,
           334,
           334,
           322,
           307,
           303,
           300,
           379,
           334,
           322,
           380,
           300,
           322,
           378,
           322,
           300,
           322,
           327,
           300,
           322,
           303,
           322,
           300,
           322,
           327,
           300,
           322,
           382,
           334,
           334,
           334,
           327,
           396
          ],
          "value": [
           2794,
           2687,
           9761,
           2000,
           3186,
           6612,
           26428,
           3423,
           1076,
           4516,
           374,
           1192,
           3547,
           139,
           499,
           184,
           132,
           118,
           3417,
           1780,
           1772,
           1458,
           1211,
           241,
           878,
           544,
           1295,
           1288,
           1250,
           1022,
           1022,
           1021,
           1017,
           935,
           629,
           493,
           414,
           337,
           261,
           243,
           227,
           215,
           215,
           204,
           184,
           127,
           177,
           168,
           168,
           167,
           164,
           160,
           158,
           158,
           158,
           140,
           140,
           137,
           137,
           132,
           132,
           127,
           124,
           124,
           122,
           117,
           116,
           116,
           5656,
           5775,
           23202,
           14309,
           469,
           197,
           14752,
           222,
           2423,
           2052,
           2059,
           2055,
           1333,
           1165,
           565,
           1453,
           1116,
           149,
           629,
           335,
           477,
           441,
           3423,
           1878,
           122,
           1131,
           1051,
           499,
           296,
           322,
           142,
           113,
           25623,
           17210,
           2863,
           1929,
           5135,
           6411,
           247,
           7800,
           1158,
           295,
           485,
           321,
           286,
           568,
           548,
           239,
           200,
           168,
           183,
           183,
           260,
           217,
           222,
           219,
           200,
           135,
           197,
           8327,
           5413,
           2107,
           295,
           250
          ]
         },
         "node": {
          "label": [
           "DISPLAYNAME_None",
           "DISPLAYNAME_Actions",
           "DISPLAYNAME_All Policies",
           "DISPLAYNAME_Triaged Submissions",
           "DISPLAYNAME_All Policies Mech Model",
           "DISPLAYNAME_Policy Detail Card - GL",
           "DISPLAYNAME_Gl Exposure History",
           "DISPLAYNAME_Documents And Compliance Table",
           "DISPLAYNAME_Fmcsa",
           "DISPLAYNAME_Duns Info",
           "DISPLAYNAME_Related Entities",
           "DISPLAYNAME_Subjectivities Table",
           "DISPLAYNAME_Auto Policy Rating Non Summary",
           "DISPLAYNAME_Account Header",
           "DISPLAYNAME_Account Detail Card",
           "DISPLAYNAME_Assigned Emails",
           "DISPLAYNAME_Attachments",
           "DISPLAYNAME_Policy Detail Card",
           "DISPLAYNAME_Locations Map",
           "DISPLAYNAME_Locations",
           "DISPLAYNAME_One Drive Link",
           "DISPLAYNAME_Recent Actions",
           "DISPLAYNAME_Mech Model Bonds Table",
           "DISPLAYNAME_Documentation Center",
           "DISPLAYNAME_Account Details Header",
           "DISPLAYNAME_Account Status",
           "DISPLAYNAME_Latest Account Activity",
           "DISPLAYNAME_Policy Detail Card - Property",
           "DISPLAYNAME_Json Table",
           "DISPLAYNAME_Demo Account Details Header",
           "DISPLAYNAME_Latest Policy Table",
           "DISPLAYNAME_Winnability",
           "DISPLAYNAME_Portfolio Goals Overview",
           "DISPLAYNAME_My Accounts",
           "DISPLAYNAME_Forms MM",
           "DISPLAYNAME_Triaged Submission Details",
           "DISPLAYNAME_Triaged Submission Emails",
           "DISPLAYNAME_Duplicate Triaged Submissions",
           "DISPLAYNAME_Locations with import",
           "DISPLAYNAME_Equipment List Old",
           "DISPLAYNAME_Slb Follow Up",
           "DISPLAYNAME_Underwriting Synopsis",
           "DISPLAYNAME_Prior Carrier Losses Summary",
           "DISPLAYNAME_Template",
           "DISPLAYNAME_User Assignment",
           "DISPLAYNAME_Policy Detail Card - Account",
           "DISPLAYNAME_Documents And Compliance Table V2 (Policy Level Files)",
           "DISPLAYNAME_Policy Detail Card - Auto",
           "DISPLAYNAME_Equipment List",
           "DISPLAYNAME_Mark - Vehicles",
           "DISPLAYNAME_Lee Test Form",
           "DISPLAYNAME_Action Items Preview",
           "DISPLAYNAME_Unassigned Emails",
           "DISPLAYNAME_Upcoming Policies Table Mech Model",
           "DISPLAYNAME_All Policies With Projects",
           "DISPLAYNAME_Policy Detail Card - Excess",
           "DISPLAYNAME_Quota Share",
           "DISPLAYNAME_Underlying Policy Table",
           "DISPLAYNAME_Policy Forms",
           "DISPLAYNAME_Construction Excess Rater",
           "DISPLAYNAME_Documents And Compliance Table V2",
           "DISPLAYNAME_All Policies using mech model",
           "DISPLAYNAME_Program Scorecard",
           "DISPLAYNAME_All Policies mech model table OLD",
           "DISPLAYNAME_Auto Policy Rating Summary",
           "DISPLAYNAME_Auto Summary",
           "DISPLAYNAME_Pre Bind Survey Entry Form",
           "DISPLAYNAME_Dynamics Timeline",
           "DISPLAYNAME_Coverages Questionnaire",
           "DISPLAYNAME_Vehicle Exposure History",
           "DISPLAYNAME_Rating Class And Commodity Hauled",
           "DISPLAYNAME_Drivers Info",
           "DISPLAYNAME_Indicated Loss Summary",
           "DISPLAYNAME_Ifta",
           "DISPLAYNAME_Telematics",
           "DISPLAYNAME_Slb Survey",
           "DISPLAYNAME_Addresses",
           "DISPLAYNAME_Loss Ratios",
           "DISPLAYNAME_Miscellaneous",
           "DISPLAYNAME_Miscellaneous Errors",
           "DISPLAYNAME_UDocs",
           "DISPLAYNAME_Bonds - Agency",
           "DISPLAYNAME_Bond Purchase Links",
           "DISPLAYNAME_Policy Detail Card - AH",
           "DISPLAYNAME_Ah Exposure History",
           "DISPLAYNAME_Account Billing",
           "DISPLAYNAME_Payments",
           "DISPLAYNAME_Test for Vehicle billing periods by account [DELETE]",
           "DISPLAYNAME_Excess Payment Plan",
           "DISPLAYNAME_Subjectivities",
           "DISPLAYNAME_All Policies mech model table",
           "DISPLAYNAME_Upcoming Accounts Table",
           "DISPLAYNAME_Policy Detail Card - General Liability",
           "DISPLAYNAME_GL Exposure History",
           "DISPLAYNAME_GL Composite Groups",
           "DISPLAYNAME_Property Locations",
           "DISPLAYNAME_Policy Detail Card - Workers Comp",
           "DISPLAYNAME_Workers Comp Class Codes",
           "DISPLAYNAME_Policy Detail Card - Umbrella",
           "DISPLAYNAME_Excess Account info + TRIA Selected",
           "DISPLAYNAME_Property Rater Header",
           "DISPLAYNAME_Dereg Availability",
           "DISPLAYNAME_EMPTY",
           "DISPLAYNAME_Quota Share Limit",
           "DISPLAYNAME_Quote",
           "DISPLAYNAME_SC-V4 Premium and Exposures",
           "DISPLAYNAME_Underlying Schedule",
           "DISPLAYNAME_Coverage and Deductible",
           "DISPLAYNAME_CAT Score V1",
           "DISPLAYNAME_Quote Packages",
           "DISPLAYNAME_Rules Applicable",
           "DISPLAYNAME_GL Exposure History Table",
           "DISPLAYNAME_Email Inbox",
           "DISPLAYNAME_Lob Loss Summary",
           "DISPLAYNAME_Ifta Summaries",
           "DISPLAYNAME_Routes High Definition",
           "DISPLAYNAME_Loss Runs",
           "DISPLAYNAME_Account Summary Mech Model",
           "DISPLAYNAME_Total loss ratio prior carrier",
           "DISPLAYNAME_Additional Named Insured",
           "DISPLAYNAME_Construction Excess Policy History",
           "DISPLAYNAME_Account Planck Insights",
           "DISPLAYNAME_Policy Detail Card - USEGC",
           "DISPLAYNAME_Workers Comp State Exposure Summary",
           "DISPLAYNAME_Class Code Exposure Summary",
           "DISPLAYNAME_NCCI Governing Class Code Table",
           "DISPLAYNAME_Class Codes",
           "DISPLAYNAME_Policy Detail Card - EX",
           "DISPLAYNAME_Policy Detail Card - MISCPL",
           "DISPLAYNAME_Mpl Exposure History",
           "DISPLAYNAME_Policies",
           "DISPLAYNAME_Premium Reports",
           "DISPLAYNAME_TEST-account-data-edit",
           "DISPLAYNAME_Basic Vehicle Details (Policy)",
           "DISPLAYNAME_Odometer Reading",
           "DISPLAYNAME_Vehicle Billing Period",
           "DISPLAYNAME_Drivers on policy",
           "DISPLAYNAME_Email history",
           "DISPLAYNAME_Email Body",
           "DISPLAYNAME_All Accounts",
           "DISPLAYNAME_USPS Address",
           "DISPLAYNAME_Policy Detail Card - MISCPE",
           "DISPLAYNAME_Application Input - MM Form Widget",
           "DISPLAYNAME_InvoiceCloud - Manual",
           "DISPLAYNAME_Policy Forms Mech Model",
           "DISPLAYNAME_TCDelivers",
           "DISPLAYNAME_Additional Insured MM Table",
           "DISPLAYNAME_Application Form - Additional Individuals Occupying Home",
           "DISPLAYNAME_TRE HO FL APP 0624: Loss History",
           "DISPLAYNAME_Rater Header",
           "DISPLAYNAME_Sequential Flow",
           "DISPLAYNAME_87ab7b59-ed27-4962-898b-3352b1011af5",
           "DISPLAYNAME_25d497a7-038e-4380-8efe-68604b94b592",
           "DISPLAYNAME_1330ed9f-44c9-430f-9a4c-89db8de26628",
           "DISPLAYNAME_9fe81ac6-8c24-45bb-8fb2-0ddc9b72ee31",
           "DISPLAYNAME_3f295094-9bb3-4962-af7f-f3ec29423d18",
           "DISPLAYNAME_52cb6d95-3eb9-4ec0-ab6b-f9f62de20566",
           "DISPLAYNAME_b1fee015-a7df-41fa-832c-f857373e5ef7",
           "DISPLAYNAME_db77a897-e41a-4925-be13-51796fbbff45",
           "DISPLAYNAME_a73a1101-ffeb-4852-98b8-b1e9e6fbb1d0",
           "DISPLAYNAME_7c4d4cad-c79f-40cb-a17b-7ceb0887fd92",
           "DISPLAYNAME_91ef6089-b3b0-4258-b0df-2a31528d9e46",
           "DISPLAYNAME_f0a6b82e-0be3-468b-b4e4-372b235c39c1",
           "DISPLAYNAME_368f95bf-b04f-46d8-b83c-b27cec1bab93",
           "DISPLAYNAME_c31f58c2-149c-485f-b56a-6baa47429336",
           "DISPLAYNAME_b1077770-de4f-4045-b73a-dfbd8915705d",
           "DISPLAYNAME_8a514674-1e15-40dd-8b13-c5dc87f1ba58",
           "DISPLAYNAME_2650f9b4-bee0-42b2-88ca-f3a6c808996e",
           "DISPLAYNAME_03bde39c-0ee6-42c0-9cb6-4f0e35bad97d",
           "DISPLAYNAME_5467358f-c353-4878-8de2-fa8822b62202",
           "DISPLAYNAME_2c087b27-7a57-4d1e-93e9-2ec41d093f77",
           "DISPLAYNAME_Losses on policy",
           "DISPLAYNAME_Dashboard",
           "DISPLAYNAME_Endorsement Header",
           "DISPLAYNAME_Rater: Address Form",
           "DISPLAYNAME_Primary Driver",
           "DISPLAYNAME_Other Drivers",
           "DISPLAYNAME_NAICS Codes",
           "DISPLAYNAME_Loss Events Frontend Table",
           "DISPLAYNAME_Policy Detail Card - UEX",
           "DISPLAYNAME_All Policies Account Focused",
           "DISPLAYNAME_Enrolled Project Schedule",
           "DISPLAYNAME_Routes Score Widget",
           "DISPLAYNAME_SLB Drivers",
           "DISPLAYNAME_Vehicle Information",
           "DISPLAYNAME_All Policies Mech Model V2",
           "DISPLAYNAME_Udoc",
           "DISPLAYNAME_SLB Equipment List",
           "DISPLAYNAME_Dashboard WInnability",
           "DISPLAYNAME_All Contract Versions",
           "DISPLAYNAME_All Accounts Using Mech Model",
           "DISPLAYNAME_Contract Details",
           "DISPLAYNAME_BCS Documents",
           "DISPLAYNAME_Contacts On Entity",
           "DISPLAYNAME_account-info",
           "DISPLAYNAME_Rms Cat Modeling",
           "DISPLAYNAME_Equipment List with import",
           "DISPLAYNAME_Auto Rater Header",
           "DISPLAYNAME_Vehicle Premiums",
           "DISPLAYNAME_Vehicle Class Score",
           "DISPLAYNAME_Driver",
           "DISPLAYNAME_SCC D&B Search Results",
           "DISPLAYNAME_SCC Additional Insured",
           "DISPLAYNAME_Company Owned",
           "DISPLAYNAME_Broker Submissions",
           "DISPLAYNAME_FL - Policy Details Form",
           "DISPLAYNAME_FL-Dereg Avalibility",
           "DISPLAYNAME_Agency Account Details Header",
           "DISPLAYNAME_Agency Account Attachments",
           "DISPLAYNAME_Broker Comments",
           "DISPLAYNAME_Broker Attachments With Folders",
           "DISPLAYNAME_FL: Excess Follow Form",
           "DISPLAYNAME_Account Experian Data",
           "DISPLAYNAME_SIC Codes",
           "DISPLAYNAME_29652ebd-1127-4f58-82e3-96b962aca1c2",
           "DISPLAYNAME_0e69329e-3b6d-46b1-b36d-11ce56db21e2",
           "DISPLAYNAME_90d72edf-c6b1-465d-9a09-f196356a2496",
           "DISPLAYNAME_Guidelines",
           "DISPLAYNAME_Simple Mechanized Table Import",
           "DISPLAYNAME_Primary Account info",
           "DISPLAYNAME_Cedent Contacts On Policy",
           "DISPLAYNAME_Sov",
           "DISPLAYNAME_Locations Without Buildings Map",
           "DISPLAYNAME_Regional Manager Content Filter",
           "DISPLAYNAME_Regional Manager Performance Charts",
           "DISPLAYNAME_Quote Output",
           "DISPLAYNAME_Vehicle Coverages",
           "DISPLAYNAME_Vehicles Coverages (Policy)",
           "DISPLAYNAME_Vehicles for rating",
           "DISPLAYNAME_Mileage Override",
           "DISPLAYNAME_Vehicles Lienholders (Policy)",
           "DISPLAYNAME_Vehicles that are missing make model [DELETE]",
           "DISPLAYNAME_FL Primary - Policy Details",
           "DISPLAYNAME_FL Primary - Coverage Limits Options",
           "DISPLAYNAME_Financial Lines Primary Coverages",
           "DISPLAYNAME_Account Level Duns Info",
           "DISPLAYNAME_All New Business Accounts",
           "DISPLAYNAME_Financial Information",
           "DISPLAYNAME_Loss Events (Legacy)",
           "DISPLAYNAME_ae223084-f577-485a-a00a-b57f9bbd1e8e",
           "DISPLAYNAME_ce3ed47d-2e48-429e-b508-7acb751ef975",
           "DISPLAYNAME_2cc8c373-b457-473e-b126-4a2e2c9e4c09",
           "DISPLAYNAME_78c7cbce-cad9-4df2-b303-b4f0192d34fb",
           "DISPLAYNAME_91759fe2-a02d-4994-9b20-9d27ab09f69c",
           "DISPLAYNAME_Policy Contacts",
           "DISPLAYNAME_FL: Excess Follow Forms Premiums and Exposures",
           "DISPLAYNAME_Policy Detail Card - Inland Marine",
           "DISPLAYNAME_Inland Marine Equipment",
           "DISPLAYNAME_Inland Marine Builders Risk Installation Floater",
           "DISPLAYNAME_GL Pricing Form",
           "DISPLAYNAME_GL Rater Header",
           "DISPLAYNAME_5d44b91e-4608-43a1-b035-178ba025bf10",
           "DISPLAYNAME_ef2ee862-3a8f-43bf-a523-6e666525f0f2",
           "DISPLAYNAME_86f5ec89-6472-478a-8808-793816555899",
           "DISPLAYNAME_Goals Applicable",
           "DISPLAYNAME_Excess Primary Policy Info Form",
           "DISPLAYNAME_Class Codes Mech Model",
           "DISPLAYNAME_Additional Insureds",
           "DISPLAYNAME_Account Level Dun Info",
           "DISPLAYNAME_Tensorflight Demo",
           "DISPLAYNAME_Planck Insights",
           "DISPLAYNAME_FL Primary - Dereg Availability",
           "DISPLAYNAME_Extended D&B Info",
           "DISPLAYNAME_Hazard Grade",
           "DISPLAYNAME_1c5c62cc-c179-47df-a924-5d4e7230711e",
           "DISPLAYNAME_415c3cf0-61a4-48b8-b487-c1b881c55a24",
           "DISPLAYNAME_dd66d6b1-a1cb-4360-8f70-66f7a83e308a",
           "DISPLAYNAME_d8606d0d-5e5d-49a6-9535-b31775bbd58b",
           "DISPLAYNAME_d76d3f85-12ac-409a-87c9-7d1eb19b190f",
           "DISPLAYNAME_All Renewal Accounts",
           "DISPLAYNAME_Re-Quote",
           "DISPLAYNAME_Dynamics Document Checklist",
           "DISPLAYNAME_Financial Lines Coverages",
           "DISPLAYNAME_FL - Coverage Limits Options",
           "DISPLAYNAME_FL Followed Policies Coverages",
           "DISPLAYNAME_Json Form",
           "DISPLAYNAME_Quota Share Options",
           "DISPLAYNAME_FL Quota Share Layers",
           "DISPLAYNAME_Drivers With Import",
           "DISPLAYNAME_All Policies Table",
           "DISPLAYNAME_Rich Text",
           "DISPLAYNAME_Policy Similarity",
           "DISPLAYNAME_Group Form",
           "DISPLAYNAME_GL Exposures - IE",
           "DISPLAYNAME_sashco-table-test",
           "DISPLAYNAME_Policy Coverages New",
           "session_end",
           "application-window-opened",
           "dashboard",
           "triaged-submission-list",
           "session_start",
           "all-accounts",
           "account-lines",
           "account",
           "nav-header",
           "action-center",
           "account-auto-rating",
           "account-property-rating",
           "submissions",
           "triaged-submission",
           "configurable-table",
           "agency-dashboard",
           "assigned-email-thread",
           "widget",
           "goals-and-rules",
           "account-broker-readonly-view",
           "duplicate-policy-modal",
           "layout",
           "classification-rules",
           "brokerage",
           "contacts",
           "carriers",
           "EMPTY",
           "account-workers-comp-rating",
           "agency-account",
           "account-broker-view",
           "linked-email-thread-attachments",
           "complex-rules",
           "account-policy-rating",
           "all-policies",
           "None",
           "my-book",
           "view",
           "action-center-click",
           "close-click",
           "change-rating-click",
           "perils",
           "submit-click",
           "action-details",
           "all-auto",
           "all-policy",
           "policy-create",
           "triaged_submissions-definition",
           "all-terrorism",
           "render",
           "portfolio-insights",
           "renewals",
           "templeton-docs",
           "construction-excess-rater",
           "email-thread-expansion",
           "goals",
           "policy-definition",
           "all-ingest_policy_through_pd",
           "ingest_policy_through_pd-create",
           "all-account",
           "new-business",
           "user-signed-out",
           "duplicate-rating",
           "help-menu-opened",
           "pricing-detail",
           "all-exposures",
           "exposures-create",
           "auto-create",
           "all-exposure_demo",
           "exposure_demo-create",
           "all-justin_test_submission",
           "all-old_renewal",
           "old_renewal-create",
           "all-financial_lines",
           "financial_lines-create",
           "all-renewal",
           "renewal-create",
           "renewal-definition",
           "all-generic_submission",
           "exposures-definition",
           "rules",
           "account-create",
           "goal-definition",
           "edit-goal",
           "new-goal",
           "generic_submission-create",
           "generic_submission-definition",
           "all-single_step_submission",
           "all-sashco_submission",
           "all-example_submission",
           "example_submission-create",
           "all-test_conditional_form_inputs",
           "example_submission-definition",
           "perils-table",
           "action-click",
           "response-form",
           "model-request-details",
           "create-document-click",
           "save-new-quote-click",
           "recent-actions-table",
           "layers",
           "accounts-table",
           "open-ra-file-click",
           "modify-existing-quote-click",
           "winnability-click",
           "appetite-click",
           "document-download-click",
           "advanced-filters-applied",
           "delete-click",
           "save-click",
           "add-click",
           "edit-click",
           "account-click"
          ],
          "line": {
           "color": "black",
           "width": 1
          },
          "pad": 3,
          "thickness": 20,
          "x": [
           0.9,
           0.9,
           0.9,
           0.9,
           0.9,
           0.9,
           0.9,
           0.9,
           0.9,
           0.9,
           0.9,
           0.9,
           0.9,
           0.9,
           0.9,
           0.9,
           0.9,
           0.9,
           0.9,
           0.9,
           0.9,
           0.9,
           0.9,
           0.9,
           0.9,
           0.9,
           0.9,
           0.9,
           0.9,
           0.9,
           0.9,
           0.9,
           0.9,
           0.9,
           0.9,
           0.9,
           0.9,
           0.9,
           0.9,
           0.9,
           0.9,
           0.9,
           0.9,
           0.9,
           0.9,
           0.9,
           0.9,
           0.9,
           0.9,
           0.9,
           0.9,
           0.9,
           0.9,
           0.9,
           0.9,
           0.9,
           0.9,
           0.9,
           0.9,
           0.9,
           0.9,
           0.9,
           0.9,
           0.9,
           0.9,
           0.9,
           0.9,
           0.9,
           0.9,
           0.9,
           0.9,
           0.9,
           0.9,
           0.9,
           0.9,
           0.9,
           0.9,
           0.9,
           0.9,
           0.9,
           0.9,
           0.9,
           0.9,
           0.9,
           0.9,
           0.9,
           0.9,
           0.9,
           0.9,
           0.9,
           0.9,
           0.9,
           0.9,
           0.9,
           0.9,
           0.9,
           0.9,
           0.9,
           0.9,
           0.9,
           0.9,
           0.9,
           0.9,
           0.9,
           0.9,
           0.9,
           0.9,
           0.9,
           0.9,
           0.9,
           0.9,
           0.9,
           0.9,
           0.9,
           0.9,
           0.9,
           0.9,
           0.9,
           0.9,
           0.9,
           0.9,
           0.9,
           0.9,
           0.9,
           0.9,
           0.9,
           0.9,
           0.9,
           0.9,
           0.9,
           0.9,
           0.9,
           0.9,
           0.9,
           0.9,
           0.9,
           0.9,
           0.9,
           0.9,
           0.9,
           0.9,
           0.9,
           0.9,
           0.9,
           0.9,
           0.9,
           0.9,
           0.9,
           0.9,
           0.9,
           0.9,
           0.9,
           0.9,
           0.9,
           0.9,
           0.9,
           0.9,
           0.9,
           0.9,
           0.9,
           0.9,
           0.9,
           0.9,
           0.9,
           0.9,
           0.9,
           0.9,
           0.9,
           0.9,
           0.9,
           0.9,
           0.9,
           0.9,
           0.9,
           0.9,
           0.9,
           0.9,
           0.9,
           0.9,
           0.9,
           0.9,
           0.9,
           0.9,
           0.9,
           0.9,
           0.9,
           0.9,
           0.9,
           0.9,
           0.9,
           0.9,
           0.9,
           0.9,
           0.9,
           0.9,
           0.9,
           0.9,
           0.9,
           0.9,
           0.9,
           0.9,
           0.9,
           0.9,
           0.9,
           0.9,
           0.9,
           0.9,
           0.9,
           0.9,
           0.9,
           0.9,
           0.9,
           0.9,
           0.9,
           0.9,
           0.9,
           0.9,
           0.9,
           0.9,
           0.9,
           0.9,
           0.9,
           0.9,
           0.9,
           0.9,
           0.9,
           0.9,
           0.9,
           0.9,
           0.9,
           0.9,
           0.9,
           0.9,
           0.9,
           0.9,
           0.9,
           0.9,
           0.9,
           0.9,
           0.9,
           0.9,
           0.9,
           0.9,
           0.9,
           0.9,
           0.9,
           0.9,
           0.9,
           0.9,
           0.9,
           0.9,
           0.9,
           0.9,
           0.9,
           0.9,
           0.9,
           0.9,
           0.9,
           0.9,
           0.9,
           0.9,
           0.9,
           0.9,
           0.9,
           0.9,
           0.9,
           0.9,
           0.9,
           0.9,
           0.9,
           0.9,
           0.9,
           0.9,
           0.9,
           0.9,
           0.9,
           0.9,
           0.9,
           0.9,
           0.9,
           0.9,
           0.9,
           0.9,
           0.9,
           0.9,
           0.9,
           0.9,
           0.9,
           0.9,
           0.9,
           0.9,
           0.9,
           0.9,
           0.9,
           0.9,
           0.9,
           0.9,
           0.9,
           0.9,
           0.9,
           0.9,
           0.9,
           0.9,
           0.9,
           0.9,
           0.9,
           0.9,
           0.9,
           0.9,
           0.9,
           0.9,
           0.9,
           0.9,
           0.9,
           0.9,
           0.9,
           0.9,
           0.9,
           0.9,
           0.9,
           0.9,
           0.9,
           0.9,
           0.9,
           0.9,
           0.9,
           0.9,
           0.9,
           0.9,
           0.9,
           0.9,
           0.9,
           0.9,
           0.9,
           0.9,
           0.9,
           0.9,
           0.9,
           0.9,
           0.9,
           0.9,
           0.9,
           0.9,
           0.9,
           0.9,
           0.9,
           0.9,
           0.9,
           0.9,
           0.9,
           0.9,
           0.9,
           0.9,
           0.9,
           0.9,
           0.9,
           0.9,
           0.9,
           0.9,
           0.9,
           0.9,
           0.9,
           0.9,
           0.9,
           0.9,
           0.9,
           0.9,
           0.9,
           0.9,
           0.9,
           0.9,
           0.9,
           0.9,
           0.9,
           0.9,
           0.9,
           0.9,
           0.9,
           0.9,
           0.9,
           0.9,
           0.9,
           0.9,
           0.9,
           0.9,
           0.9,
           0.9,
           0.9,
           0.9,
           0.9,
           0.9,
           0.9,
           0.9,
           0.9,
           0.9,
           0.9,
           0.9,
           0.9
          ]
         },
         "type": "sankey"
        }
       ],
       "layout": {
        "font": {
         "size": 10
        },
        "height": 1000,
        "template": {
         "data": {
          "bar": [
           {
            "error_x": {
             "color": "#2a3f5f"
            },
            "error_y": {
             "color": "#2a3f5f"
            },
            "marker": {
             "line": {
              "color": "#E5ECF6",
              "width": 0.5
             },
             "pattern": {
              "fillmode": "overlay",
              "size": 10,
              "solidity": 0.2
             }
            },
            "type": "bar"
           }
          ],
          "barpolar": [
           {
            "marker": {
             "line": {
              "color": "#E5ECF6",
              "width": 0.5
             },
             "pattern": {
              "fillmode": "overlay",
              "size": 10,
              "solidity": 0.2
             }
            },
            "type": "barpolar"
           }
          ],
          "carpet": [
           {
            "aaxis": {
             "endlinecolor": "#2a3f5f",
             "gridcolor": "white",
             "linecolor": "white",
             "minorgridcolor": "white",
             "startlinecolor": "#2a3f5f"
            },
            "baxis": {
             "endlinecolor": "#2a3f5f",
             "gridcolor": "white",
             "linecolor": "white",
             "minorgridcolor": "white",
             "startlinecolor": "#2a3f5f"
            },
            "type": "carpet"
           }
          ],
          "choropleth": [
           {
            "colorbar": {
             "outlinewidth": 0,
             "ticks": ""
            },
            "type": "choropleth"
           }
          ],
          "contour": [
           {
            "colorbar": {
             "outlinewidth": 0,
             "ticks": ""
            },
            "colorscale": [
             [
              0,
              "#0d0887"
             ],
             [
              0.1111111111111111,
              "#46039f"
             ],
             [
              0.2222222222222222,
              "#7201a8"
             ],
             [
              0.3333333333333333,
              "#9c179e"
             ],
             [
              0.4444444444444444,
              "#bd3786"
             ],
             [
              0.5555555555555556,
              "#d8576b"
             ],
             [
              0.6666666666666666,
              "#ed7953"
             ],
             [
              0.7777777777777778,
              "#fb9f3a"
             ],
             [
              0.8888888888888888,
              "#fdca26"
             ],
             [
              1,
              "#f0f921"
             ]
            ],
            "type": "contour"
           }
          ],
          "contourcarpet": [
           {
            "colorbar": {
             "outlinewidth": 0,
             "ticks": ""
            },
            "type": "contourcarpet"
           }
          ],
          "heatmap": [
           {
            "colorbar": {
             "outlinewidth": 0,
             "ticks": ""
            },
            "colorscale": [
             [
              0,
              "#0d0887"
             ],
             [
              0.1111111111111111,
              "#46039f"
             ],
             [
              0.2222222222222222,
              "#7201a8"
             ],
             [
              0.3333333333333333,
              "#9c179e"
             ],
             [
              0.4444444444444444,
              "#bd3786"
             ],
             [
              0.5555555555555556,
              "#d8576b"
             ],
             [
              0.6666666666666666,
              "#ed7953"
             ],
             [
              0.7777777777777778,
              "#fb9f3a"
             ],
             [
              0.8888888888888888,
              "#fdca26"
             ],
             [
              1,
              "#f0f921"
             ]
            ],
            "type": "heatmap"
           }
          ],
          "heatmapgl": [
           {
            "colorbar": {
             "outlinewidth": 0,
             "ticks": ""
            },
            "colorscale": [
             [
              0,
              "#0d0887"
             ],
             [
              0.1111111111111111,
              "#46039f"
             ],
             [
              0.2222222222222222,
              "#7201a8"
             ],
             [
              0.3333333333333333,
              "#9c179e"
             ],
             [
              0.4444444444444444,
              "#bd3786"
             ],
             [
              0.5555555555555556,
              "#d8576b"
             ],
             [
              0.6666666666666666,
              "#ed7953"
             ],
             [
              0.7777777777777778,
              "#fb9f3a"
             ],
             [
              0.8888888888888888,
              "#fdca26"
             ],
             [
              1,
              "#f0f921"
             ]
            ],
            "type": "heatmapgl"
           }
          ],
          "histogram": [
           {
            "marker": {
             "pattern": {
              "fillmode": "overlay",
              "size": 10,
              "solidity": 0.2
             }
            },
            "type": "histogram"
           }
          ],
          "histogram2d": [
           {
            "colorbar": {
             "outlinewidth": 0,
             "ticks": ""
            },
            "colorscale": [
             [
              0,
              "#0d0887"
             ],
             [
              0.1111111111111111,
              "#46039f"
             ],
             [
              0.2222222222222222,
              "#7201a8"
             ],
             [
              0.3333333333333333,
              "#9c179e"
             ],
             [
              0.4444444444444444,
              "#bd3786"
             ],
             [
              0.5555555555555556,
              "#d8576b"
             ],
             [
              0.6666666666666666,
              "#ed7953"
             ],
             [
              0.7777777777777778,
              "#fb9f3a"
             ],
             [
              0.8888888888888888,
              "#fdca26"
             ],
             [
              1,
              "#f0f921"
             ]
            ],
            "type": "histogram2d"
           }
          ],
          "histogram2dcontour": [
           {
            "colorbar": {
             "outlinewidth": 0,
             "ticks": ""
            },
            "colorscale": [
             [
              0,
              "#0d0887"
             ],
             [
              0.1111111111111111,
              "#46039f"
             ],
             [
              0.2222222222222222,
              "#7201a8"
             ],
             [
              0.3333333333333333,
              "#9c179e"
             ],
             [
              0.4444444444444444,
              "#bd3786"
             ],
             [
              0.5555555555555556,
              "#d8576b"
             ],
             [
              0.6666666666666666,
              "#ed7953"
             ],
             [
              0.7777777777777778,
              "#fb9f3a"
             ],
             [
              0.8888888888888888,
              "#fdca26"
             ],
             [
              1,
              "#f0f921"
             ]
            ],
            "type": "histogram2dcontour"
           }
          ],
          "mesh3d": [
           {
            "colorbar": {
             "outlinewidth": 0,
             "ticks": ""
            },
            "type": "mesh3d"
           }
          ],
          "parcoords": [
           {
            "line": {
             "colorbar": {
              "outlinewidth": 0,
              "ticks": ""
             }
            },
            "type": "parcoords"
           }
          ],
          "pie": [
           {
            "automargin": true,
            "type": "pie"
           }
          ],
          "scatter": [
           {
            "fillpattern": {
             "fillmode": "overlay",
             "size": 10,
             "solidity": 0.2
            },
            "type": "scatter"
           }
          ],
          "scatter3d": [
           {
            "line": {
             "colorbar": {
              "outlinewidth": 0,
              "ticks": ""
             }
            },
            "marker": {
             "colorbar": {
              "outlinewidth": 0,
              "ticks": ""
             }
            },
            "type": "scatter3d"
           }
          ],
          "scattercarpet": [
           {
            "marker": {
             "colorbar": {
              "outlinewidth": 0,
              "ticks": ""
             }
            },
            "type": "scattercarpet"
           }
          ],
          "scattergeo": [
           {
            "marker": {
             "colorbar": {
              "outlinewidth": 0,
              "ticks": ""
             }
            },
            "type": "scattergeo"
           }
          ],
          "scattergl": [
           {
            "marker": {
             "colorbar": {
              "outlinewidth": 0,
              "ticks": ""
             }
            },
            "type": "scattergl"
           }
          ],
          "scattermapbox": [
           {
            "marker": {
             "colorbar": {
              "outlinewidth": 0,
              "ticks": ""
             }
            },
            "type": "scattermapbox"
           }
          ],
          "scatterpolar": [
           {
            "marker": {
             "colorbar": {
              "outlinewidth": 0,
              "ticks": ""
             }
            },
            "type": "scatterpolar"
           }
          ],
          "scatterpolargl": [
           {
            "marker": {
             "colorbar": {
              "outlinewidth": 0,
              "ticks": ""
             }
            },
            "type": "scatterpolargl"
           }
          ],
          "scatterternary": [
           {
            "marker": {
             "colorbar": {
              "outlinewidth": 0,
              "ticks": ""
             }
            },
            "type": "scatterternary"
           }
          ],
          "surface": [
           {
            "colorbar": {
             "outlinewidth": 0,
             "ticks": ""
            },
            "colorscale": [
             [
              0,
              "#0d0887"
             ],
             [
              0.1111111111111111,
              "#46039f"
             ],
             [
              0.2222222222222222,
              "#7201a8"
             ],
             [
              0.3333333333333333,
              "#9c179e"
             ],
             [
              0.4444444444444444,
              "#bd3786"
             ],
             [
              0.5555555555555556,
              "#d8576b"
             ],
             [
              0.6666666666666666,
              "#ed7953"
             ],
             [
              0.7777777777777778,
              "#fb9f3a"
             ],
             [
              0.8888888888888888,
              "#fdca26"
             ],
             [
              1,
              "#f0f921"
             ]
            ],
            "type": "surface"
           }
          ],
          "table": [
           {
            "cells": {
             "fill": {
              "color": "#EBF0F8"
             },
             "line": {
              "color": "white"
             }
            },
            "header": {
             "fill": {
              "color": "#C8D4E3"
             },
             "line": {
              "color": "white"
             }
            },
            "type": "table"
           }
          ]
         },
         "layout": {
          "annotationdefaults": {
           "arrowcolor": "#2a3f5f",
           "arrowhead": 0,
           "arrowwidth": 1
          },
          "autotypenumbers": "strict",
          "coloraxis": {
           "colorbar": {
            "outlinewidth": 0,
            "ticks": ""
           }
          },
          "colorscale": {
           "diverging": [
            [
             0,
             "#8e0152"
            ],
            [
             0.1,
             "#c51b7d"
            ],
            [
             0.2,
             "#de77ae"
            ],
            [
             0.3,
             "#f1b6da"
            ],
            [
             0.4,
             "#fde0ef"
            ],
            [
             0.5,
             "#f7f7f7"
            ],
            [
             0.6,
             "#e6f5d0"
            ],
            [
             0.7,
             "#b8e186"
            ],
            [
             0.8,
             "#7fbc41"
            ],
            [
             0.9,
             "#4d9221"
            ],
            [
             1,
             "#276419"
            ]
           ],
           "sequential": [
            [
             0,
             "#0d0887"
            ],
            [
             0.1111111111111111,
             "#46039f"
            ],
            [
             0.2222222222222222,
             "#7201a8"
            ],
            [
             0.3333333333333333,
             "#9c179e"
            ],
            [
             0.4444444444444444,
             "#bd3786"
            ],
            [
             0.5555555555555556,
             "#d8576b"
            ],
            [
             0.6666666666666666,
             "#ed7953"
            ],
            [
             0.7777777777777778,
             "#fb9f3a"
            ],
            [
             0.8888888888888888,
             "#fdca26"
            ],
            [
             1,
             "#f0f921"
            ]
           ],
           "sequentialminus": [
            [
             0,
             "#0d0887"
            ],
            [
             0.1111111111111111,
             "#46039f"
            ],
            [
             0.2222222222222222,
             "#7201a8"
            ],
            [
             0.3333333333333333,
             "#9c179e"
            ],
            [
             0.4444444444444444,
             "#bd3786"
            ],
            [
             0.5555555555555556,
             "#d8576b"
            ],
            [
             0.6666666666666666,
             "#ed7953"
            ],
            [
             0.7777777777777778,
             "#fb9f3a"
            ],
            [
             0.8888888888888888,
             "#fdca26"
            ],
            [
             1,
             "#f0f921"
            ]
           ]
          },
          "colorway": [
           "#636efa",
           "#EF553B",
           "#00cc96",
           "#ab63fa",
           "#FFA15A",
           "#19d3f3",
           "#FF6692",
           "#B6E880",
           "#FF97FF",
           "#FECB52"
          ],
          "font": {
           "color": "#2a3f5f"
          },
          "geo": {
           "bgcolor": "white",
           "lakecolor": "white",
           "landcolor": "#E5ECF6",
           "showlakes": true,
           "showland": true,
           "subunitcolor": "white"
          },
          "hoverlabel": {
           "align": "left"
          },
          "hovermode": "closest",
          "mapbox": {
           "style": "light"
          },
          "paper_bgcolor": "white",
          "plot_bgcolor": "#E5ECF6",
          "polar": {
           "angularaxis": {
            "gridcolor": "white",
            "linecolor": "white",
            "ticks": ""
           },
           "bgcolor": "#E5ECF6",
           "radialaxis": {
            "gridcolor": "white",
            "linecolor": "white",
            "ticks": ""
           }
          },
          "scene": {
           "xaxis": {
            "backgroundcolor": "#E5ECF6",
            "gridcolor": "white",
            "gridwidth": 2,
            "linecolor": "white",
            "showbackground": true,
            "ticks": "",
            "zerolinecolor": "white"
           },
           "yaxis": {
            "backgroundcolor": "#E5ECF6",
            "gridcolor": "white",
            "gridwidth": 2,
            "linecolor": "white",
            "showbackground": true,
            "ticks": "",
            "zerolinecolor": "white"
           },
           "zaxis": {
            "backgroundcolor": "#E5ECF6",
            "gridcolor": "white",
            "gridwidth": 2,
            "linecolor": "white",
            "showbackground": true,
            "ticks": "",
            "zerolinecolor": "white"
           }
          },
          "shapedefaults": {
           "line": {
            "color": "#2a3f5f"
           }
          },
          "ternary": {
           "aaxis": {
            "gridcolor": "white",
            "linecolor": "white",
            "ticks": ""
           },
           "baxis": {
            "gridcolor": "white",
            "linecolor": "white",
            "ticks": ""
           },
           "bgcolor": "#E5ECF6",
           "caxis": {
            "gridcolor": "white",
            "linecolor": "white",
            "ticks": ""
           }
          },
          "title": {
           "x": 0.05
          },
          "xaxis": {
           "automargin": true,
           "gridcolor": "white",
           "linecolor": "white",
           "ticks": "",
           "title": {
            "standoff": 15
           },
           "zerolinecolor": "white",
           "zerolinewidth": 2
          },
          "yaxis": {
           "automargin": true,
           "gridcolor": "white",
           "linecolor": "white",
           "ticks": "",
           "title": {
            "standoff": 15
           },
           "zerolinecolor": "white",
           "zerolinewidth": 2
          }
         }
        },
        "title": {
         "text": "Event Properties > Event Types Hierarchy (APPROPRIATE REPRESENTATION)"
        }
       }
      }
     },
     "metadata": {},
     "output_type": "display_data"
    }
   ],
   "source": [
    "# Determines how thick a link has to be to show up in the Sankey diagram (set to 0 to show all data)\n",
    "LINK_COUNT_CUTOFF = 100\n",
    "\n",
    "import plotly.graph_objects as go\n",
    "\n",
    "# Create a list of unique nodes from the event type levels\n",
    "df_event['/displayName'] = 'DISPLAYNAME_' + df_event['displayName'].astype(str)\n",
    "\n",
    "nodes = list(pd.concat([df_event['/displayName'], df_event['event_type_lvl_0'], df_event['event_type_lvl_1'], df_event['event_type_lvl_2'], df_event['event_type_lvl_3']]).unique())\n",
    "NONE_IDX = nodes.index('None')\n",
    "\n",
    "nodes_prop = df_event['/displayName'].unique()\n",
    "nodes_lvl_0 = df_event['event_type_lvl_0'].unique()\n",
    "nodes_lvl_1 = df_event['event_type_lvl_1'].unique()\n",
    "nodes_lvl_2 = df_event['event_type_lvl_2'].unique()\n",
    "nodes_lvl_3 = df_event['event_type_lvl_3'].unique()\n",
    "\n",
    "print(f\"nodes_prop {len(nodes_prop)}\")\n",
    "print(f\"nodes_lvl_0 {len(nodes_lvl_0)}\")\n",
    "print(f\"nodes_lvl_1 {len(nodes_lvl_1)}\")\n",
    "print(f\"nodes_lvl_2 {len(nodes_lvl_2)}\")\n",
    "print(f\"nodes_lvl_3 {len(nodes_lvl_3)}\")\n",
    "\n",
    "# Map the event type levels to node indices\n",
    "df_event['prop_idx'] = df_event['/displayName'].apply(lambda x: nodes.index(x))\n",
    "df_event['event_type_lvl_0_idx'] = df_event['event_type_lvl_0'].apply(lambda x: nodes.index(x))\n",
    "df_event['event_type_lvl_1_idx'] = df_event['event_type_lvl_1'].apply(lambda x: nodes.index(x))\n",
    "df_event['event_type_lvl_2_idx'] = df_event['event_type_lvl_2'].apply(lambda x: nodes.index(x))\n",
    "df_event['event_type_lvl_3_idx'] = df_event['event_type_lvl_3'].apply(lambda x: nodes.index(x))\n",
    "\n",
    "# Count the occurrences between each level\n",
    "link_data = [\n",
    "    {'source': df_event['prop_idx'], 'target': df_event['event_type_lvl_0_idx']},\n",
    "    {'source': df_event['event_type_lvl_0_idx'], 'target': df_event['event_type_lvl_1_idx']},\n",
    "    {'source': df_event['event_type_lvl_1_idx'], 'target': df_event['event_type_lvl_2_idx']},\n",
    "    {'source': df_event['event_type_lvl_2_idx'], 'target': df_event['event_type_lvl_3_idx']},\n",
    "]\n",
    "\n",
    "# Count the occurrences for each link\n",
    "links = []\n",
    "for data in link_data:\n",
    "\n",
    "    link_counts = pd.Series(data['source']).value_counts().to_dict()\n",
    "\n",
    "    for source_idx, count in link_counts.items():\n",
    "        if (source_idx == NONE_IDX):\n",
    "            continue\n",
    "        # boolean masking to find rows where source_idx matches\n",
    "        # The Sankey diagram needs connections between nodes, and this finds the each target index associated with each source node.\n",
    "        target_indices = data['target'][data['source'] == source_idx].unique()\n",
    "\n",
    "        for target_idx in target_indices:\n",
    "            source_target_count = data['source'][data['source'] == source_idx][data['target'] == target_idx].count()\n",
    "            if (target_idx == NONE_IDX):\n",
    "                continue\n",
    "        \n",
    "            if (source_target_count > LINK_COUNT_CUTOFF):\n",
    "                links.append({\n",
    "                    'source': source_idx,\n",
    "                    'target': target_idx,\n",
    "                    'value': source_target_count\n",
    "                })\n",
    "\n",
    "# Create the Sankey diagram\n",
    "fig = go.Figure(go.Sankey(\n",
    "    node=dict(\n",
    "        pad=3,\n",
    "        thickness=20,\n",
    "        line=dict(color=\"black\", width=1),\n",
    "        label=nodes,\n",
    "        x=[0.9 for _ in nodes],\n",
    "    ),\n",
    "    link=dict(\n",
    "        source=[link['source'] for link in links],\n",
    "        target=[link['target'] for link in links],\n",
    "        value=[link['value'] for link in links]\n",
    "    )\n",
    "))\n",
    "\n",
    "fig.update_layout(title_text=\"Event Properties > Event Types Hierarchy (APPROPRIATE REPRESENTATION)\", font_size=10, height=1000)\n",
    "fig.show()"
   ]
  }
 ],
 "metadata": {
  "kernelspec": {
   "display_name": "venv",
   "language": "python",
   "name": "python3"
  },
  "language_info": {
   "codemirror_mode": {
    "name": "ipython",
    "version": 3
   },
   "file_extension": ".py",
   "mimetype": "text/x-python",
   "name": "python",
   "nbconvert_exporter": "python",
   "pygments_lexer": "ipython3",
   "version": "3.9.6"
  }
 },
 "nbformat": 4,
 "nbformat_minor": 5
}
