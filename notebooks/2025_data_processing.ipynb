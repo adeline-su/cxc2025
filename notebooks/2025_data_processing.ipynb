{
 "cells": [
  {
   "cell_type": "markdown",
   "id": "ca984e16-7a6a-4d49-acce-6fca752af654",
   "metadata": {
    "jp-MarkdownHeadingCollapsed": true
   },
   "source": [
    "### Imports"
   ]
  },
  {
   "cell_type": "code",
   "execution_count": 27,
   "id": "3d7c2093-9609-416c-9114-ece7320f17d4",
   "metadata": {},
   "outputs": [],
   "source": [
    "import torch\n",
    "import torch.nn as nn\n",
    "import torch.nn.functional as F\n",
    "from torch.utils.data import Dataset, DataLoader, TensorDataset\n",
    "from sklearn.model_selection import train_test_split\n",
    "import ijson\n",
    "import pandas as pd\n",
    "import json\n",
    "import numpy as np\n",
    "import glob\n",
    "from ast import literal_eval\n",
    "import plotly.express as px\n",
    "import matplotlib.pyplot as plt\n",
    "from datetime import datetime\n",
    "import pandas as pd\n",
    "import numpy as np\n",
    "import matplotlib.pyplot as plt\n",
    "import seaborn as sns\n",
    "import plotly.express as px\n",
    "from plotly.subplots import make_subplots\n",
    "from itertools import tee\n",
    "from collections import defaultdict\n",
    "import plotly.graph_objects as go\n",
    "import networkx as nx\n",
    "import plotly.graph_objects as go\n",
    "import pandas as pd\n",
    "import numpy as np\n",
    "from itertools import tee\n",
    "from collections import defaultdict\n",
    "import networkx as nx\n",
    "from sklearn.preprocessing import MinMaxScaler\n",
    "import pandas as pd"
   ]
  },
  {
   "cell_type": "markdown",
   "id": "84974433-0550-4836-9e2c-c9795dc2e44c",
   "metadata": {
    "jp-MarkdownHeadingCollapsed": true
   },
   "source": [
    "### Data Processing"
   ]
  },
  {
   "cell_type": "code",
   "execution_count": 28,
   "id": "301cd8b2-21ef-4029-894c-fba89dbadcab",
   "metadata": {},
   "outputs": [
    {
     "name": "stdout",
     "output_type": "stream",
     "text": [
      "Dataset columns:\n",
      "Index(['$insert_id', 'amplitude_id', 'app', 'city', 'client_event_time',\n",
      "       'client_upload_time', 'country', 'data', 'data_type', 'device_family',\n",
      "       'device_id', 'device_type', 'dma', 'event_id', 'event_properties',\n",
      "       'event_time', 'event_type', 'language', 'library', 'os_name',\n",
      "       'os_version', 'platform', 'processed_time', 'region',\n",
      "       'server_received_time', 'server_upload_time', 'session_id', 'user_id',\n",
      "       'user_properties', 'uuid'],\n",
      "      dtype='object')\n"
     ]
    }
   ],
   "source": [
    "# Find all chunk files (assuming they follow a consistent naming pattern)\n",
    "file_paths = glob.glob('../datasets/2025_csv/_chunk_*.csv')\n",
    "# Read each file (limiting rows if necessary) and concatenate\n",
    "dfs = [pd.read_csv(fp, nrows=10000) for fp in file_paths]\n",
    "df = pd.concat(dfs, ignore_index=True)\n",
    "\n",
    "# Printing the original columns\n",
    "print(\"Dataset columns:\")\n",
    "print(df.columns)\n",
    "# print(df.head)"
   ]
  },
  {
   "cell_type": "code",
   "execution_count": 29,
   "id": "1e437b68-ce6f-4bfe-ac58-28b8374dc88f",
   "metadata": {},
   "outputs": [
    {
     "name": "stdout",
     "output_type": "stream",
     "text": [
      "Columns with potential JSON data:\n",
      "- data (Possible JSON)\n",
      "- event_properties (Possible JSON)\n",
      "- user_properties (Possible JSON)\n"
     ]
    }
   ],
   "source": [
    "# Code checks which columns may have nested JSON data\n",
    "print(\"Columns with potential JSON data:\")\n",
    "for col in df.columns:\n",
    "    if df[col].dtype == 'object':\n",
    "        try:\n",
    "            sample = df[col].dropna().iloc[0]\n",
    "            if sample.startswith('{') or sample.startswith('['):\n",
    "                print(f\"- {col} (Possible JSON)\")\n",
    "        except Exception:\n",
    "            pass"
   ]
  },
  {
   "cell_type": "code",
   "execution_count": 30,
   "id": "abf1d812-272e-4f75-9ea8-a1346961f0b2",
   "metadata": {},
   "outputs": [],
   "source": [
    "# Ensure each value is a dictionary\n",
    "# Determine the union of all keys\n",
    "# Create new columns for each key\n",
    "# Drop the original nested JSON columns\n",
    "def ensure_dict(x):\n",
    "    if isinstance(x, dict):\n",
    "        return x\n",
    "    try:\n",
    "        # String representation of a dict turned into dictionary object\n",
    "        return literal_eval(x)\n",
    "    except Exception:\n",
    "        # If parsing fails, return an empty dict\n",
    "        return {}"
   ]
  },
  {
   "cell_type": "code",
   "execution_count": 31,
   "id": "2a5fb5f5-f855-4b2d-a85b-d227c83ce147",
   "metadata": {},
   "outputs": [],
   "source": [
    "# List of nested columns to process\n",
    "nested_columns = ['data', 'event_properties', 'user_properties']\n",
    "\n",
    "# Process each nested column\n",
    "# ONLY RUN THIS ONCE!\n",
    "for col in nested_columns:\n",
    "    # Ensure each value in the column is a dictionary\n",
    "    df[col] = df[col].apply(ensure_dict)\n",
    "    \n",
    "    # Determine the union of all keys in the column\n",
    "    all_keys = set()\n",
    "    df[col].dropna().apply(lambda d: all_keys.update(d.keys()) if isinstance(d, dict) else None)\n",
    "    \n",
    "    # For each key, create a new column only if it has at least one valid (non-empty) value\n",
    "    for key in all_keys:\n",
    "        new_col_name = f\"{col}_{key}\"\n",
    "        # Create a temporary Series for this key\n",
    "        series = df[col].apply(lambda d: d.get(key, None) if isinstance(d, dict) else None)\n",
    "        # Check if there's at least one valid value (not None, {}, [], or 'EMPTY')\n",
    "        if series.apply(lambda v: v not in (None, {}, [], 'EMPTY')).any():\n",
    "            df[new_col_name] = series\n",
    "    \n",
    "    # After processing, drop the original nested JSON column.\n",
    "    df.drop(columns=[col], inplace=True)\n",
    "\n",
    "# Convert specified timestamp columns to datetime objects\n",
    "time_cols = ['client_event_time', 'event_time', 'server_received_time']\n",
    "for col in time_cols:\n",
    "    df[col] = pd.to_datetime(df[col], errors='coerce')"
   ]
  },
  {
   "cell_type": "code",
   "execution_count": null,
   "id": "2810225a-f66f-4cdf-a05d-72e28b2ce86a",
   "metadata": {},
   "outputs": [],
   "source": []
  },
  {
   "cell_type": "code",
   "execution_count": null,
   "id": "1a1c931c-76c1-4c64-9995-cc6295aa5641",
   "metadata": {},
   "outputs": [],
   "source": []
  },
  {
   "cell_type": "code",
   "execution_count": null,
   "id": "6fd383a6-d52f-41a3-86b3-da9a6e5129df",
   "metadata": {},
   "outputs": [],
   "source": []
  },
  {
   "cell_type": "code",
   "execution_count": 32,
   "id": "2216cc1c-e7e1-4c21-be0d-a57b4e0dfef1",
   "metadata": {},
   "outputs": [
    {
     "name": "stdout",
     "output_type": "stream",
     "text": [
      "Dataset columns:\n",
      "Index(['$insert_id', 'amplitude_id', 'app', 'city', 'client_event_time',\n",
      "       'client_upload_time', 'country', 'data_type', 'device_family',\n",
      "       'device_id', 'device_type', 'dma', 'event_id', 'event_time',\n",
      "       'event_type', 'language', 'library', 'os_name', 'os_version',\n",
      "       'platform', 'processed_time', 'region', 'server_received_time',\n",
      "       'server_upload_time', 'session_id', 'user_id', 'uuid',\n",
      "       'data_user_properties_updated', 'data_path',\n",
      "       'event_properties_attachmentId', 'event_properties_status',\n",
      "       'event_properties_rowModel',\n",
      "       'event_properties_[Amplitude] Session Replay ID',\n",
      "       'event_properties_formId', 'event_properties_id',\n",
      "       'event_properties_filename', 'event_properties_messageId',\n",
      "       'event_properties_slug', 'event_properties_accountId',\n",
      "       'event_properties_tableId', 'event_properties_hasAccounts',\n",
      "       'event_properties_action', 'event_properties_menu',\n",
      "       'event_properties_internalEmailId', 'event_properties_account-id',\n",
      "       'event_properties_error', 'event_properties_type',\n",
      "       'event_properties_variant', 'event_properties_version',\n",
      "       'event_properties_hasAssignees', 'event_properties_quoteName',\n",
      "       'event_properties_lineOfBusiness', 'event_properties_templateName',\n",
      "       'event_properties_emailId', 'event_properties_displayName',\n",
      "       'event_properties_policyId', 'event_properties_policy-id',\n",
      "       'event_properties_line-of-business', 'user_properties_referrer',\n",
      "       'user_properties_businessUnit', 'user_properties_trackingVersion',\n",
      "       'user_properties_roles', 'user_properties_hostname',\n",
      "       'user_properties_initial_referring_domain',\n",
      "       'user_properties_referring_domain', 'user_properties_initial_referrer',\n",
      "       'user_properties_isInternalUser'],\n",
      "      dtype='object')\n",
      "# of columns: 67\n"
     ]
    }
   ],
   "source": [
    "# Printing the columns (new additional ones added from flattening nested columns)\n",
    "print(\"Dataset columns:\")\n",
    "print(df.columns)\n",
    "print(\"# of columns:\", len(df.columns))"
   ]
  },
  {
   "cell_type": "code",
   "execution_count": 33,
   "id": "802290e7-2034-482d-8719-dfb38e3239ee",
   "metadata": {
    "scrolled": true
   },
   "outputs": [
    {
     "name": "stdout",
     "output_type": "stream",
     "text": [
      "$insert_id                                        c1d05ff4-d1cb-48ee-b4a4-d15c42906116\n",
      "amplitude_id                                                              857540771367\n",
      "app                                                                             591532\n",
      "city                                                                           Detroit\n",
      "client_event_time                                           2025-01-16 13:06:26.842000\n",
      "client_upload_time                                          2025-01-16 13:06:27.495000\n",
      "country                                                                  United States\n",
      "data_type                                                                        event\n",
      "device_family                                                                  Windows\n",
      "device_id                                         7448ddbc-a304-4f4c-9c1e-0e7b0adf93ff\n",
      "device_type                                                                    Windows\n",
      "dma                                                                        Detroit, MI\n",
      "event_id                                                                         10232\n",
      "event_time                                                  2025-01-16 13:06:26.842000\n",
      "event_type                                                               session_start\n",
      "language                                                                       English\n",
      "library                                                             amplitude-ts/2.7.2\n",
      "os_name                                                                         Chrome\n",
      "os_version                                                                         131\n",
      "platform                                                                           Web\n",
      "processed_time                                              2025-01-16 13:06:30.037000\n",
      "region                                                                        Michigan\n",
      "server_received_time                                        2025-01-16 13:06:27.495000\n",
      "server_upload_time                                          2025-01-16 13:06:27.497000\n",
      "session_id                                                               1737032786842\n",
      "user_id                                           50ef55a3-6895-474e-b5c0-455370d49bea\n",
      "uuid                                              960a945a-9aba-4bff-99e2-1a1165770c4f\n",
      "data_user_properties_updated                                                      None\n",
      "data_path                                                                   /2/httpapi\n",
      "event_properties_attachmentId                                                     None\n",
      "event_properties_status                                                           None\n",
      "event_properties_rowModel                                                         None\n",
      "event_properties_[Amplitude] Session Replay ID                                    None\n",
      "event_properties_formId                                                           None\n",
      "event_properties_id                                                               None\n",
      "event_properties_filename                                                         None\n",
      "event_properties_messageId                                                        None\n",
      "event_properties_slug                                                             None\n",
      "event_properties_accountId                                                        None\n",
      "event_properties_tableId                                                          None\n",
      "event_properties_hasAccounts                                                      None\n",
      "event_properties_action                                                           None\n",
      "event_properties_menu                                                             None\n",
      "event_properties_internalEmailId                                                  None\n",
      "event_properties_account-id                                                       None\n",
      "event_properties_error                                                            None\n",
      "event_properties_type                                                             None\n",
      "event_properties_variant                                                          None\n",
      "event_properties_version                                                          None\n",
      "event_properties_hasAssignees                                                     None\n",
      "event_properties_quoteName                                                        None\n",
      "event_properties_lineOfBusiness                                                   None\n",
      "event_properties_templateName                                                     None\n",
      "event_properties_emailId                                                          None\n",
      "event_properties_displayName                                                      None\n",
      "event_properties_policyId                                                         None\n",
      "event_properties_policy-id                                                        None\n",
      "event_properties_line-of-business                                                 None\n",
      "user_properties_referrer                                                          None\n",
      "user_properties_businessUnit                                                        []\n",
      "user_properties_trackingVersion                                                    3.1\n",
      "user_properties_roles                                                          [admin]\n",
      "user_properties_hostname                                                          None\n",
      "user_properties_initial_referring_domain                                         EMPTY\n",
      "user_properties_referring_domain                                                  None\n",
      "user_properties_initial_referrer                                                 EMPTY\n",
      "user_properties_isInternalUser                                                    True\n"
     ]
    }
   ],
   "source": [
    "# Single example looks like:\n",
    "# Display entire column content without truncation\n",
    "pd.set_option('display.max_columns', None)\n",
    "pd.set_option('display.max_rows', None)\n",
    "print(df.iloc[140].to_string())"
   ]
  },
  {
   "cell_type": "code",
   "execution_count": 34,
   "id": "b091b297-bb6e-4ba0-bf67-234aeaf8aa85",
   "metadata": {
    "scrolled": true
   },
   "outputs": [
    {
     "name": "stdout",
     "output_type": "stream",
     "text": [
      "Column: $insert_id\n",
      "  Value: 538ab3f8-09df-4750-90e0-abe8ad8f6a0c\n",
      "  Type: <class 'str'>\n",
      "\n",
      "Column: amplitude_id\n",
      "  Value: 857540493886\n",
      "  Type: <class 'int'>\n",
      "\n",
      "Column: app\n",
      "  Value: 591532\n",
      "  Type: <class 'int'>\n",
      "\n",
      "Column: city\n",
      "  Value: Mumbai\n",
      "  Type: <class 'str'>\n",
      "\n",
      "Column: client_event_time\n",
      "  Value: 2025-01-16 13:28:02.427000\n",
      "  Type: <class 'pandas._libs.tslibs.timestamps.Timestamp'>\n",
      "\n",
      "Column: client_upload_time\n",
      "  Value: 2025-01-16 13:28:04.133000\n",
      "  Type: <class 'str'>\n",
      "\n",
      "Column: country\n",
      "  Value: India\n",
      "  Type: <class 'str'>\n",
      "\n",
      "Column: data_type\n",
      "  Value: event\n",
      "  Type: <class 'str'>\n",
      "\n",
      "Column: device_family\n",
      "  Value: Windows\n",
      "  Type: <class 'str'>\n",
      "\n",
      "Column: device_id\n",
      "  Value: a798db5f-d66a-468c-8e51-4f1412853e4d\n",
      "  Type: <class 'str'>\n",
      "\n",
      "Column: device_type\n",
      "  Value: Windows\n",
      "  Type: <class 'str'>\n",
      "\n",
      "Column: dma\n",
      "  Value: None\n",
      "  Type: <class 'str'>\n",
      "\n",
      "Column: event_id\n",
      "  Value: 6156\n",
      "  Type: <class 'int'>\n",
      "\n",
      "Column: event_time\n",
      "  Value: 2025-01-16 13:28:02.427000\n",
      "  Type: <class 'pandas._libs.tslibs.timestamps.Timestamp'>\n",
      "\n",
      "Column: event_type\n",
      "  Value: account-lines::layout:render\n",
      "  Type: <class 'str'>\n",
      "\n",
      "Column: language\n",
      "  Value: English\n",
      "  Type: <class 'str'>\n",
      "\n",
      "Column: library\n",
      "  Value: amplitude-ts/2.7.2\n",
      "  Type: <class 'str'>\n",
      "\n",
      "Column: os_name\n",
      "  Value: Chrome\n",
      "  Type: <class 'str'>\n",
      "\n",
      "Column: os_version\n",
      "  Value: 131\n",
      "  Type: <class 'int'>\n",
      "\n",
      "Column: platform\n",
      "  Value: Web\n",
      "  Type: <class 'str'>\n",
      "\n",
      "Column: processed_time\n",
      "  Value: 2025-01-16 13:28:06.277000\n",
      "  Type: <class 'str'>\n",
      "\n",
      "Column: region\n",
      "  Value: Maharashtra\n",
      "  Type: <class 'str'>\n",
      "\n",
      "Column: server_received_time\n",
      "  Value: 2025-01-16 13:28:04.133000\n",
      "  Type: <class 'pandas._libs.tslibs.timestamps.Timestamp'>\n",
      "\n",
      "Column: server_upload_time\n",
      "  Value: 2025-01-16 13:28:04.135000\n",
      "  Type: <class 'str'>\n",
      "\n",
      "Column: session_id\n",
      "  Value: 1737021244277\n",
      "  Type: <class 'int'>\n",
      "\n",
      "Column: user_id\n",
      "  Value: 0c4896b7-08fa-4cb4-852f-27ad584f0864\n",
      "  Type: <class 'str'>\n",
      "\n",
      "Column: uuid\n",
      "  Value: 006cfd50-7f9e-4ffa-85e8-720404db8247\n",
      "  Type: <class 'str'>\n",
      "\n",
      "Column: data_user_properties_updated\n",
      "  Value: True\n",
      "  Type: <class 'str'>\n",
      "\n",
      "Column: data_path\n",
      "  Value: /2/httpapi\n",
      "  Type: <class 'str'>\n",
      "\n",
      "Column: event_properties_attachmentId\n",
      "  Value: 02565ffb-8e09-4b70-8236-9b85087c11f1\n",
      "  Type: <class 'str'>\n",
      "\n",
      "Column: event_properties_status\n",
      "  Value: Complete\n",
      "  Type: <class 'str'>\n",
      "\n",
      "Column: event_properties_rowModel\n",
      "  Value: client\n",
      "  Type: <class 'str'>\n",
      "\n",
      "Column: event_properties_[Amplitude] Session Replay ID\n",
      "  Value: a798db5f-d66a-468c-8e51-4f1412853e4d/1737021244277\n",
      "  Type: <class 'str'>\n",
      "\n",
      "Column: event_properties_formId\n",
      "  Value: 85abc9e2-f172-4c08-b286-a67702243ff7\n",
      "  Type: <class 'str'>\n",
      "\n",
      "Column: event_properties_id\n",
      "  Value: d4a34941-6659-4953-aad2-118d594b1dc9\n",
      "  Type: <class 'str'>\n",
      "\n",
      "Column: event_properties_filename\n",
      "  Value: Example Submission - BPM Real Estate- Property-GL-Auto Acords.pdf\n",
      "  Type: <class 'str'>\n",
      "\n",
      "Column: event_properties_messageId\n",
      "  Value: <CAEbT5OjNoXjf4nw0zVLeDv-O3vSh8mLYrOC6tj0C3nrTtM+V+Q@mail.gmail.com>\n",
      "  Type: <class 'str'>\n",
      "\n",
      "Column: event_properties_slug\n",
      "  Value: general\n",
      "  Type: <class 'str'>\n",
      "\n",
      "Column: event_properties_accountId\n",
      "  Value: 797949647\n",
      "  Type: <class 'str'>\n",
      "\n",
      "Column: event_properties_tableId\n",
      "  Value: 33b09af9-9e0a-421a-9330-859d6c96ba54\n",
      "  Type: <class 'str'>\n",
      "\n",
      "Column: event_properties_hasAccounts\n",
      "  Value: True\n",
      "  Type: <class 'str'>\n",
      "\n",
      "Column: event_properties_action\n",
      "  Value: modelRequest\n",
      "  Type: <class 'str'>\n",
      "\n",
      "Column: event_properties_menu\n",
      "  Value: support\n",
      "  Type: <class 'str'>\n",
      "\n",
      "Column: event_properties_internalEmailId\n",
      "  Value: f952464e-867e-4d22-98e8-d27f52bf04a6\n",
      "  Type: <class 'str'>\n",
      "\n",
      "Column: event_properties_account-id\n",
      "  Value: 10475\n",
      "  Type: <class 'str'>\n",
      "\n",
      "Column: event_properties_error\n",
      "  Value: Response not successful: Received status code 502\n",
      "  Type: <class 'str'>\n",
      "\n",
      "Column: event_properties_type\n",
      "  Value: built-in\n",
      "  Type: <class 'str'>\n",
      "\n",
      "Column: event_properties_variant\n",
      "  Value: admin\n",
      "  Type: <class 'str'>\n",
      "\n",
      "Column: event_properties_version\n",
      "  Value: 0.1.6\n",
      "  Type: <class 'str'>\n",
      "\n",
      "Column: event_properties_hasAssignees\n",
      "  Value: False\n",
      "  Type: <class 'str'>\n",
      "\n",
      "Column: event_properties_quoteName\n",
      "  Value: 5x3x2\n",
      "  Type: <class 'str'>\n",
      "\n",
      "Column: event_properties_lineOfBusiness\n",
      "  Value: PROPERTY\n",
      "  Type: <class 'str'>\n",
      "\n",
      "Column: event_properties_templateName\n",
      "  Value: Invoice\n",
      "  Type: <class 'str'>\n",
      "\n",
      "Column: event_properties_emailId\n",
      "  Value: 192533f0266394a9\n",
      "  Type: <class 'str'>\n",
      "\n",
      "Column: event_properties_displayName\n",
      "  Value: Account Details Header\n",
      "  Type: <class 'str'>\n",
      "\n",
      "Column: event_properties_policyId\n",
      "  Value: 10397\n",
      "  Type: <class 'str'>\n",
      "\n",
      "Column: event_properties_policy-id\n",
      "  Value: 66752\n",
      "  Type: <class 'str'>\n",
      "\n",
      "Column: event_properties_line-of-business\n",
      "  Value: general\n",
      "  Type: <class 'str'>\n",
      "\n",
      "Column: user_properties_referrer\n",
      "  Value: https://accounts.google.co.in/\n",
      "  Type: <class 'str'>\n",
      "\n",
      "Column: user_properties_businessUnit\n",
      "  Value: ['Xceedance Modeling']\n",
      "  Type: <class 'list'>\n",
      "\n",
      "Column: user_properties_trackingVersion\n",
      "  Value: 3.1\n",
      "  Type: <class 'str'>\n",
      "\n",
      "Column: user_properties_roles\n",
      "  Value: ['underwriter']\n",
      "  Type: <class 'list'>\n",
      "\n",
      "Column: user_properties_hostname\n",
      "  Value: None\n",
      "  Type: <class 'str'>\n",
      "\n",
      "Column: user_properties_initial_referring_domain\n",
      "  Value: accounts.google.com\n",
      "  Type: <class 'str'>\n",
      "\n",
      "Column: user_properties_referring_domain\n",
      "  Value: accounts.google.co.in\n",
      "  Type: <class 'str'>\n",
      "\n",
      "Column: user_properties_initial_referrer\n",
      "  Value: https://accounts.google.com/\n",
      "  Type: <class 'str'>\n",
      "\n",
      "Column: user_properties_isInternalUser\n",
      "  Value: False\n",
      "  Type: <class 'str'>\n",
      "\n",
      "67\n"
     ]
    }
   ],
   "source": [
    "# What does atleast a single valid entry look like?\n",
    "# Dictionary to store a valid value for each column\n",
    "valid_entries = {}\n",
    "# Iterate over each column in the DataFrame\n",
    "for col in df.columns:\n",
    "    # Iterate over each row value for this column using .items()\n",
    "    for idx, value in df[col].items():\n",
    "        # Check if the value is not empty (None, empty dict, empty list, or 'EMPTY')\n",
    "        if value not in (None, {}, [], 'EMPTY'):\n",
    "            # Once a valid value is found, record it and its type, then break out of the loop for this column\n",
    "            valid_entries[col] = (value, type(value))\n",
    "            break\n",
    "\n",
    "# Print the results\n",
    "for col, (value, dtype) in valid_entries.items():\n",
    "    print(f\"Column: {col}\\n  Value: {value}\\n  Type: {dtype}\\n\")\n",
    "print(len(valid_entries))"
   ]
  },
  {
   "cell_type": "code",
   "execution_count": 35,
   "id": "c835bd2b-dd59-4b1b-a0b1-50ba0f7d2860",
   "metadata": {},
   "outputs": [
    {
     "name": "stdout",
     "output_type": "stream",
     "text": [
      "Total number of columns in df: 67\n",
      "Number of columns with at least one valid entry: 67\n",
      "Number of columns with NO valid data: 0\n",
      "Columns with no valid data:\n"
     ]
    }
   ],
   "source": [
    "# Check that we dont have columns with zero valid pieces of data\n",
    "# First, determine the columns with valid data (as already stored in valid_entries)\n",
    "valid_columns = set(valid_entries.keys())\n",
    "# Get all DataFrame columns\n",
    "all_columns = set(df.columns)\n",
    "# Determine columns that did not yield any valid entry\n",
    "invalid_columns = all_columns - valid_columns\n",
    "print(\"Total number of columns in df:\", len(df.columns))\n",
    "print(\"Number of columns with at least one valid entry:\", len(valid_columns))\n",
    "print(\"Number of columns with NO valid data:\", len(invalid_columns))\n",
    "print(\"Columns with no valid data:\")\n",
    "for col in invalid_columns:\n",
    "    print(\"  -\", col)\n"
   ]
  },
  {
   "cell_type": "raw",
   "id": "ab06925b-bcf7-4501-a39b-f6861f1c477f",
   "metadata": {},
   "source": [
    "Group by event_time first:\n",
    "event_time: A timestamp (pandas Timestamp) showing when the event occurred.\n",
    "\n",
    "Then group by:\n",
    "Likely will group by user, not session_id, but should try both sessions and user_id -> \n",
    "session_id: A numeric session identifier (numpy.int64) grouping events from the same session.\n",
    "user_id: A string representing a unique identifier for the user.\n",
    "\n",
    "Various features that are relevant to prediction:\n",
    "app: A numeric code (numpy.int64) representing the specific application generating the event.\n",
    "city: A string indicating the city where the event occurred.\n",
    "client_event_time: A timestamp (pandas Timestamp) marking when the client recorded the event.\n",
    "client_upload_time: A string representing the time when the event was uploaded from the client.\n",
    "country: A string naming the country in which the event took place.\n",
    "data_type: A string describing the kind of data, such as \"event.\"\n",
    "device_family: A string identifying the family or category of the device used.\n",
    "device_type: A string specifying the type or model of the device (e.g., Windows).\n",
    "language: A string indicating the language setting (e.g., English).\n",
    "event_type: A string describing the event type or action (e.g., \"button_click\").\n",
    "os_name: A string indicating the operating system or browser name (e.g., Chrome).\n",
    "os_version: A numeric version (numpy.int64) of the operating system.\n",
    "platform: A string specifying the platform on which the event was recorded (e.g., Web).\n",
    "region: A string indicating the geographic region or state (e.g., Florida).\n",
    "event_properties_type: A string describing the type of event.\n",
    "event_properties_line-of-business: A string indicating the line of business related to the event.\n",
    "Could also group by account ID -> event_properties_accountId: A string representing the account ID associated with the event.\n",
    "event_properties_status: A string indicating the status of the event.\n",
    "Duplicate? **** event_properties_lineOfBusiness: A string describing the line of business involved in the event.\n",
    "event_properties_action: A string detailing the action performed in the event.\n",
    "event_properties_error: A string describing any errors that occurred during the event.\n",
    "event_properties_templateName: A string specifying the template name used in the event.\n",
    "event_properties_hasAssignees: A boolean (string) indicating whether the event has assignees.\n",
    "event_properties_hasAccounts: A boolean (string) indicating whether the event has accounts.\n",
    "event_properties_displayName: A string specifying the display name of the event.\n",
    "event_properties_variant: A string describing the variant of the event.\n",
    "event_properties_tableId: A string identifying the table related to the event.\n",
    "event_properties_menu\n",
    "event_properties_filename\n",
    "event_properties_attachmentId\n",
    "user_properties_isInternalUser: A boolean (string) indicating if the user is internal.\n",
    "user_properties_roles: A list of roles assigned to the user (e.g., ['underwriter', 'admin']).\n",
    "user_properties_referring_domain: A string representing the referring domain.\n",
    "user_properties_businessUnit: A string or list indicating the business unit associated with the user.\n",
    "user_properties_hostname: A string representing the user’s hostname, which may be None if not provided."
   ]
  },
  {
   "cell_type": "code",
   "execution_count": null,
   "id": "e3748fee-2f6a-427b-8d0e-b1f668047001",
   "metadata": {},
   "outputs": [],
   "source": []
  },
  {
   "cell_type": "code",
   "execution_count": null,
   "id": "b4f1e9b2-ae73-483c-a4b3-2bd4c26edca6",
   "metadata": {},
   "outputs": [],
   "source": []
  },
  {
   "cell_type": "code",
   "execution_count": null,
   "id": "4e92651a-0ec7-4f22-a5b0-a25561b9e985",
   "metadata": {},
   "outputs": [],
   "source": []
  },
  {
   "cell_type": "code",
   "execution_count": 36,
   "id": "1a0c4a44-4ffa-4b85-a160-295128ed2e91",
   "metadata": {},
   "outputs": [
    {
     "data": {
      "text/plain": [
       "Index(['$insert_id', 'amplitude_id', 'app', 'city', 'client_event_time',\n",
       "       'client_upload_time', 'country', 'data_type', 'device_family',\n",
       "       'device_id', 'device_type', 'dma', 'event_id', 'event_time',\n",
       "       'event_type', 'language', 'library', 'os_name', 'os_version',\n",
       "       'platform', 'processed_time', 'region', 'server_received_time',\n",
       "       'server_upload_time', 'session_id', 'user_id', 'uuid',\n",
       "       'data_user_properties_updated', 'data_path',\n",
       "       'event_properties_attachmentId', 'event_properties_status',\n",
       "       'event_properties_rowModel',\n",
       "       'event_properties_[Amplitude] Session Replay ID',\n",
       "       'event_properties_formId', 'event_properties_id',\n",
       "       'event_properties_filename', 'event_properties_messageId',\n",
       "       'event_properties_slug', 'event_properties_accountId',\n",
       "       'event_properties_tableId', 'event_properties_hasAccounts',\n",
       "       'event_properties_action', 'event_properties_menu',\n",
       "       'event_properties_internalEmailId', 'event_properties_account-id',\n",
       "       'event_properties_error', 'event_properties_type',\n",
       "       'event_properties_variant', 'event_properties_version',\n",
       "       'event_properties_hasAssignees', 'event_properties_quoteName',\n",
       "       'event_properties_lineOfBusiness', 'event_properties_templateName',\n",
       "       'event_properties_emailId', 'event_properties_displayName',\n",
       "       'event_properties_policyId', 'event_properties_policy-id',\n",
       "       'event_properties_line-of-business', 'user_properties_referrer',\n",
       "       'user_properties_businessUnit', 'user_properties_trackingVersion',\n",
       "       'user_properties_roles', 'user_properties_hostname',\n",
       "       'user_properties_initial_referring_domain',\n",
       "       'user_properties_referring_domain', 'user_properties_initial_referrer',\n",
       "       'user_properties_isInternalUser'],\n",
       "      dtype='object')"
      ]
     },
     "execution_count": 36,
     "metadata": {},
     "output_type": "execute_result"
    }
   ],
   "source": [
    "df.columns"
   ]
  },
  {
   "cell_type": "markdown",
   "id": "a915e715-d88b-488b-8be3-d0dbfe740ddb",
   "metadata": {
    "jp-MarkdownHeadingCollapsed": true
   },
   "source": [
    "### General Statistics"
   ]
  },
  {
   "cell_type": "code",
   "execution_count": 37,
   "id": "c53341e8-01f0-42cc-a3c3-85ea8ead4f6e",
   "metadata": {},
   "outputs": [
    {
     "name": "stderr",
     "output_type": "stream",
     "text": [
      "/var/folders/n3/0y_s6gj10txcrg0j0zz2rmpc0000gn/T/ipykernel_35674/3318560403.py:8: DeprecationWarning:\n",
      "\n",
      "In a future version, `df.iloc[:, i] = newvals` will attempt to set the values inplace instead of always setting a new array. To retain the old behavior, use either `df[df.columns[i]] = newvals` or, if columns are non-unique, `df.isetitem(i, newvals)`\n",
      "\n"
     ]
    }
   ],
   "source": [
    "# Remove rows where either 'user_id' or 'event_time' is missing and make a copy of the DataFrame.\n",
    "processed_data = df.dropna(subset=['user_id', 'event_time']).copy()\n",
    "# For the 'country' column, replace any missing values (NaN) with the string 'unknown'\n",
    "processed_data.loc[:, 'country'] = processed_data['country'].fillna('unknown')\n",
    "# Similarly, for the 'device_type' column, replace missing values with 'unknown'\n",
    "processed_data.loc[:, 'device_type'] = processed_data['device_type'].fillna('unknown')\n",
    "# Convert the 'event_time' column to a datetime object\n",
    "processed_data.loc[:, 'event_time'] = pd.to_datetime(processed_data['event_time'])\n",
    "# Sort the DataFrame by 'user_id' and then by 'event_time'\n",
    "# This ensures that events for each user are in chronological order\n",
    "# The index is then reset to have a clean, continuous index\n",
    "processed_data = processed_data.sort_values(by=['user_id', 'event_time']).reset_index(drop=True)\n",
    "# For each session, shift the 'event_time' column up by one row to get the time of the next event\n",
    "# This creates a new column 'next_event_time' that holds the subsequent event time for each session\n",
    "processed_data.loc[:, 'next_event_time'] = processed_data.groupby('session_id')['event_time'].shift(-1)\n",
    "# Calculate the session duration by taking the difference between 'next_event_time' and the current 'event_time'\n",
    "# Convert the time difference into total seconds\n",
    "# This gives a numeric measure of how long each event lasted until the next event\n",
    "processed_data.loc[:, 'session_duration'] = (processed_data['next_event_time'] - processed_data['event_time']).dt.total_seconds()"
   ]
  },
  {
   "cell_type": "code",
   "execution_count": 38,
   "id": "8e0a1589-d026-4a6e-8800-44985c27e64c",
   "metadata": {},
   "outputs": [
    {
     "data": {
      "image/png": "[encoded data removed]",
      "text/plain": [
       "<Figure size 1200x800 with 2 Axes>"
      ]
     },
     "metadata": {},
     "output_type": "display_data"
    }
   ],
   "source": [
    "# Assign each user to a signup cohort based on their first recorded event week.\n",
    "processed_data['signup_week'] = processed_data.groupby('user_id')['event_time'].transform('min').dt.to_period('W')\n",
    "\n",
    "# Get the current latest event week in the dataset.\n",
    "current_week = processed_data['event_time'].max().to_period('W')\n",
    "\n",
    "# Compute the first and last event time for each user within their signup cohort.\n",
    "cohort_data = processed_data.groupby(['signup_week', 'user_id'])['event_time'].agg(['min', 'max'])\n",
    "\n",
    "# Calculate how many weeks each user remained active since signup.\n",
    "cohort_data['weeks_active'] = (current_week - cohort_data['min'].dt.to_period('W')).apply(lambda x: x.n)\n",
    "\n",
    "# Create a retention matrix showing the percentage of users active in each subsequent week after signup.\n",
    "retention_matrix = cohort_data.groupby('signup_week')['weeks_active'].value_counts(normalize=True).unstack()\n",
    "\n",
    "# Plot the retention matrix as a heatmap.\n",
    "plt.figure(figsize=(12,8))\n",
    "sns.heatmap(retention_matrix, annot=True, fmt='.0%', cmap='YlGnBu')\n",
    "plt.title('Weekly Retention Cohorts')\n",
    "plt.ylabel('Signup Week')\n",
    "plt.xlabel('Weeks After Signup')\n",
    "plt.savefig('Weekly_Retention_Cohorts.png', bbox_inches='tight')\n",
    "plt.show()\n",
    "\n",
    "### THE PLOT below shows that people are only active in their signup week"
   ]
  },
  {
   "cell_type": "code",
   "execution_count": 39,
   "id": "6de8686c-3f4d-4cac-bdfd-42a70fc2747c",
   "metadata": {},
   "outputs": [
    {
     "data": {
      "image/png": "[encoded data removed]",
      "text/plain": [
       "<Figure size 1000x600 with 2 Axes>"
      ]
     },
     "metadata": {},
     "output_type": "display_data"
    }
   ],
   "source": [
    "# Group the data by user and compute key metrics per user.\n",
    "user_activity = processed_data.groupby('user_id').agg(\n",
    "    total_events=('event_type', 'count'),     # Total number of events per user.\n",
    "    unique_events=('event_type', 'nunique'),    # Number of distinct event types per user.\n",
    "    last_active=('event_time', 'max')           # The most recent event time for each user.\n",
    ").reset_index()\n",
    "\n",
    "# Determine the cutoff for retention: users active within the last 30 days.\n",
    "retention_cutoff = pd.Timestamp.now() - pd.Timedelta(days=30)\n",
    "# Label users as 'retained' (1) if they were active after the cutoff, else 0.\n",
    "user_activity['retained'] = (user_activity['last_active'] > retention_cutoff).astype(int)\n",
    "\n",
    "# Plot a heatmap showing the correlation between total events, unique events, and retention status\n",
    "plt.figure(figsize=(10,6))\n",
    "sns.heatmap(user_activity[['total_events', 'unique_events', 'retained']].corr(), \n",
    "            annot=True, cmap='coolwarm')\n",
    "plt.title('Feature Correlation with Retention')\n",
    "plt.savefig('Feature_Correlation_with_Retention.png', bbox_inches='tight')\n",
    "\n",
    "plt.show()\n",
    "\n",
    "### We only care about non-diagonal / non-red features. This graph shows that there is a good correlation between the various pairs of features"
   ]
  },
  {
   "cell_type": "code",
   "execution_count": 40,
   "id": "4a31db76-3e9f-41ca-8ae8-91ee8d71c6ad",
   "metadata": {},
   "outputs": [
    {
     "data": {
      "image/png": "[encoded data removed]",
      "text/plain": [
       "<Figure size 1000x600 with 1 Axes>"
      ]
     },
     "metadata": {},
     "output_type": "display_data"
    }
   ],
   "source": [
    "# Plot session duration distribution for sessions under 1 hour with a log-scaled x-axis.\n",
    "plt.figure(figsize=(10,6))\n",
    "sns.histplot(processed_data[processed_data['session_duration'] < 3600]['session_duration'], \n",
    "             bins=30, kde=True)  # Histogram with KDE for session durations under 3600 seconds.\n",
    "plt.xscale('log')  # Apply logarithmic scaling on the x-axis for better visibility of short durations.\n",
    "plt.title('Session Duration Distribution (Log Scale, Under 1 Hour)')\n",
    "plt.xlabel('Seconds (Log Scale)')\n",
    "sns.despine(top=True)  # Remove the top border for a cleaner look.\n",
    "plt.savefig('Session_Duration_Distribution.png', bbox_inches='tight')\n",
    "\n",
    "plt.show()"
   ]
  },
  {
   "cell_type": "code",
   "execution_count": 41,
   "id": "b5543761-129e-40d7-abeb-29f07f1bbbbb",
   "metadata": {},
   "outputs": [
    {
     "data": {
      "image/png": "[encoded data removed]",
      "text/plain": [
       "<Figure size 1000x600 with 1 Axes>"
      ]
     },
     "metadata": {},
     "output_type": "display_data"
    }
   ],
   "source": [
    "# Identify top event types in long sessions (over 30 minutes).\n",
    "long_sessions = processed_data[processed_data['session_duration'] > 1800]  # Filter sessions longer than 1800 seconds.\n",
    "top_events = long_sessions['event_type'].value_counts().nlargest(10)  # Get the 10 most frequent event types.\n",
    "\n",
    "# Plot a horizontal bar chart for the top events in long sessions.\n",
    "plt.figure(figsize=(10,6))\n",
    "sns.barplot(x=top_events.values, y=top_events.index)\n",
    "plt.title('Top Events in Long Sessions')\n",
    "sns.despine(top=True)  # Remove the top border for a cleaner look.\n",
    "plt.savefig('Top_Events_in_Long_Sessions.png', bbox_inches='tight')\n",
    "\n",
    "plt.show()"
   ]
  },
  {
   "cell_type": "code",
   "execution_count": null,
   "id": "3a249d55-373a-40b0-a2aa-d5c48748a212",
   "metadata": {},
   "outputs": [],
   "source": []
  },
  {
   "cell_type": "code",
   "execution_count": null,
   "id": "8b27919d-9498-43b4-90da-62151c4a850e",
   "metadata": {},
   "outputs": [],
   "source": []
  },
  {
   "cell_type": "code",
   "execution_count": null,
   "id": "98a71a40-fd19-40e7-b64d-507413db93af",
   "metadata": {},
   "outputs": [],
   "source": []
  },
  {
   "cell_type": "markdown",
   "id": "1c37340e-6858-48da-811b-1bc94d53dbd3",
   "metadata": {
    "jp-MarkdownHeadingCollapsed": true
   },
   "source": [
    "### High Power Node Analysis"
   ]
  },
  {
   "cell_type": "code",
   "execution_count": 42,
   "id": "b9d00820-b044-49df-afde-cf310cca8ea9",
   "metadata": {},
   "outputs": [],
   "source": [
    "# Create action to index mapping\n",
    "action_feat = \"event_type\"\n",
    "action_vals = processed_data[action_feat].dropna().astype(str).unique().tolist()\n",
    "action_to_idx = {val: idx for idx, val in enumerate(action_vals)}"
   ]
  },
  {
   "cell_type": "code",
   "execution_count": 43,
   "id": "0082f829-127b-47d7-87ac-434d8ff577b5",
   "metadata": {},
   "outputs": [
    {
     "data": {
      "text/plain": [
       "\"['session_end', 'session_start', 'action-center:::view', 'action-center:::submit-click', 'action-center:action-details::view', 'action-center:::close-click', 'application-window-opened', 'dashboard:my-book::view', 'dashboard:my-book:layout:render', 'dashboard:my-book:widget:render', 'dashboard:my-book:configurable-table:render', ':all-accounts:configurable-table:render', ':all-accounts:widget:render', ':all-accounts:layout:render', ':all-accounts::view', 'account-lines::layout:render', 'account-lines:::view', 'account:::view', 'account-lines::widget:render', 'account-lines::configurable-table:render', '::nav-header:action-center-click', 'action-center:action-details:response-form:submit-click', 'dashboard:my-book::action-click', 'dashboard:portfolio-insights:layout:render', 'dashboard:portfolio-insights::view', 'dashboard:portfolio-insights:widget:render', 'submissions:all-ingest_policy_through_pd:configurable-table:render', 'submissions:all-ingest_policy_through_pd::view', 'submissions:ingest_policy_through_pd-create::view', '::configurable-table:render', 'EMPTY', 'triaged-submission-list:my-book:configurable-table:render', 'triaged-submission-list:my-book::view', 'account-lines:::change-rating-click', 'account-property-rating:perils:configurable-table:render', 'account-property-rating:perils::view', 'account-lines::duplicate-policy-modal:duplicate-rating', 'account-property-rating:perils:model-request-details:save-click', 'classification-rules::configurable-table:render', 'submissions:all-policy::view', 'submissions:all-account::view', 'submissions:all-account:configurable-table:render', 'complex-rules::configurable-table:render', 'account-broker-view::layout:render', 'account-broker-view:::view', 'account-broker-view::widget:render', 'dashboard:my-book:recent-actions-table:action-click', '::nav-header:help-menu-opened', 'account-lines::templeton-docs:create-document-click', 'all-accounts:renewals:layout:render', 'all-accounts:renewals::view', 'contacts::configurable-table:render', 'all-accounts:new-business:layout:render', 'all-accounts:new-business::view', 'all-accounts:new-business:accounts-table:account-click', 'submissions:account-create::view', 'agency-dashboard:::view', 'agency-dashboard::layout:render', 'agency-dashboard::widget:render', 'agency-dashboard::configurable-table:render', 'account-property-rating::configurable-table:render', 'submissions:exposures-create::submit-click', 'submissions:all-exposures:configurable-table:render', 'submissions:all-exposures::view', 'submissions:exposures-create::view', 'submissions:all-policy:configurable-table:render', 'submissions:policy-create::view', '::nav-header:user-signed-out', 'account-property-rating:perils:perils-table:add-click', 'account-property-rating:perils:perils-table:edit-click', 'account-property-rating:perils:layers:add-click', 'account-property-rating:perils:perils-table:delete-click', 'account-broker-readonly-view::layout:render', 'account-broker-readonly-view:::view', 'account-broker-readonly-view::widget:render', 'agency-account::layout:render', 'agency-account:::view', 'agency-account::widget:render', 'agency-account::configurable-table:render', 'dashboard:my-book:recent-actions-table:account-click', 'account-auto-rating:::view', 'account-auto-rating::configurable-table:render', 'account-broker-view::configurable-table:render', 'account-lines::construction-excess-rater:create-document-click', 'submissions:all-exposure_demo::view', 'submissions:all-exposure_demo:configurable-table:render', 'submissions:all-auto::view', 'submissions:all-sashco_submission:configurable-table:render', 'submissions:all-sashco_submission::view', '::layout:render', '::widget:render', 'submissions:triaged_submissions-definition::view', 'triaged-submission:triaged_submissions-definition:layout:render', 'triaged-submission:triaged_submissions-definition::view', 'triaged-submission:triaged_submissions-definition:widget:render', 'triaged-submission-list:triaged_submissions-definition:configurable-table:render', 'triaged-submission-list:triaged_submissions-definition::view', 'assigned-email-thread:::email-thread-expansion', 'assigned-email-thread:::document-download-click', 'account-broker-readonly-view::configurable-table:render', 'submissions:all-renewal::view', 'submissions:renewal-definition::view', 'submissions:renewal-create::view', 'submissions:policy-definition::view', 'account-lines::construction-excess-rater:save-new-quote-click', 'submissions:all-financial_lines::view', 'all-accounts:renewals:configurable-table:render', 'all-accounts:renewals:widget:render', 'account-lines::construction-excess-rater:modify-existing-quote-click', 'submissions:exposures-definition::view', 'submissions:all-terrorism::view', 'submissions:terrorism-create::view', 'submissions:all-terrorism:configurable-table:render', 'carriers::configurable-table:render', 'account-property-rating:pricing-detail:configurable-table:render', 'account-property-rating:pricing-detail::view', 'account-property-rating:pricing-detail::open-ra-file-click', 'submissions:policy-definition::submit-click', 'submissions:policy-definition:configurable-table:render', 'submissions:policy-create::submit-click', 'submissions:policy-create:configurable-table:render', 'submissions:renewal-create::submit-click', 'submissions:all-renewal:configurable-table:render', 'submissions:policy-definition::save-click', 'submissions:policy-create::save-click', 'account-property-rating:perils:layers:delete-click', 'dashboard:team-insights:layout:render', 'dashboard:team-insights::view', 'dashboard:team-insights:widget:render', 'account-lines:::action-center-click', 'account-property-rating:building-details:configurable-table:render', 'account-property-rating:building-details::view', 'submissions:financial_lines-create::view', 'submissions:all-financial_lines:configurable-table:render', 'reinsurance-binders::configurable-table:render', 'reinsurers-on-binders::configurable-table:render', 'reinsurers-on-binders:::view', 'classification-rule:::view', 'classification-rule::configurable-table:render', ':all-accounts::advanced-filters-opened', ':all-accounts:accounts-table:account-click', 'linked-email-thread-attachments:triaged_submissions-definition::document-download-click', 'submissions:all-auto:configurable-table:render', 'triaged-submission:triaged_submissions-definition::winnability-click', 'triaged-submission:triaged_submissions-definition::appetite-click', 'goals-and-rules:goals:configurable-table:render', 'goals-and-rules:goals::view', 'goals-and-rules:goal-definition::view', 'all-accounts:new-business:configurable-table:render', 'brokerage::configurable-table:render', 'brokerage::layout:render', 'brokerage:::view', 'brokerage::widget:render', 'rule:::view', 'rule::configurable-table:render', 'goals-and-rules:rules:configurable-table:render', 'goals-and-rules:rules::view', 'goals-and-rules:new-rule::view', 'goals-and-rules:new-rule::close-click', 'account-workers-comp-rating:::view', ':::account-click', 'account-auto-rating::duplicate-policy-modal:duplicate-rating', '::duplicate-policy-modal:duplicate-rating', 'account-workers-comp-rating:::change-rating-click', 'account-auto-rating:::change-rating-click', 'account-property-rating:::change-rating-click', 'submissions:renewal-definition::submit-click', 'account-property-rating::duplicate-policy-modal:duplicate-rating']\""
      ]
     },
     "execution_count": 43,
     "metadata": {},
     "output_type": "execute_result"
    }
   ],
   "source": [
    "str(action_vals)"
   ]
  },
  {
   "cell_type": "raw",
   "id": "26d76404-2f51-4e07-b32d-eddc0c5b7525",
   "metadata": {},
   "source": [
    "Session Lifecycle Events:\n",
    "session_start / session_end: Marks the beginning and end of a user session.\n",
    "User Navigation & Interaction:\n",
    "application-window-opened, ::nav-header:user-signed-out, ::nav-header:help-menu-opened: Indicate opening windows or interacting with navigation elements.\n",
    "Dashboard and Layout Rendering:\n",
    "agency-dashboard::layout:render, dashboard:my-book::view, dashboard:portfolio-insights::view: Represent rendering various views, dashboards, or layouts, which suggests updates in the user interface.\n",
    "Widget and Table Rendering:\n",
    "agency-dashboard::widget:render, ::widget:render, account-lines::configurable-table:render: Show that specific widgets or tables are being rendered, indicating data presentation components updating.\n",
    "User Actions and Submissions:\n",
    "submissions:policy-definition::submit-click, submissions:policy-create::submit-click, submissions:policy-create::view: Capture user actions like submitting or viewing policy-related forms.\n",
    "Data Editing and Clicks:\n",
    "account-lines:::change-rating-click, account-property-rating:perils:perils-table:add-click: Signal that users are interacting with data elements (e.g., changing ratings, adding, editing, or deleting table entries)."
   ]
  },
  {
   "cell_type": "code",
   "execution_count": 44,
   "id": "cb08ec2f-a343-48d4-8812-f92c7cf791e9",
   "metadata": {
    "scrolled": true
   },
   "outputs": [
    {
     "data": {
      "application/vnd.plotly.v1+json": {
       "config": {
        "plotlyServerURL": "https://plot.ly"
       },
       "data": [
        {
         "marker": {
          "color": "LightSkyBlue",
          "line": {
           "width": 2
          },
          "size": 20
         },
         "mode": "markers+text",
         "text": [
          "session_end<br>Max transition: 57.8%",
          "session_start<br>Max transition: 43.0%",
          "application-window-opened<br>Max transition: 30.3%",
          "dashboard:my-book:widget:render<br>Max transition: 53.0%",
          "dashboard:my-book:configurable-table:render<br>Max transition: 39.6%",
          ":all-accounts:configurable-table:render<br>Max transition: 78.7%",
          ":all-accounts:widget:render<br>Max transition: 69.0%",
          ":all-accounts:layout:render<br>Max transition: 94.9%",
          ":all-accounts::view<br>Max transition: 48.3%",
          "account-lines::layout:render<br>Max transition: 88.6%",
          "account-lines:::view<br>Max transition: 45.0%",
          "account:::view<br>Max transition: 68.6%",
          "account-lines::widget:render<br>Max transition: 44.2%",
          "account-lines::configurable-table:render<br>Max transition: 57.4%"
         ],
         "textposition": "top center",
         "type": "scatter",
         "x": [
          0.14276141452938906,
          0.4429926898097049,
          -0.6115775591179159,
          -0.7112972621098032,
          -0.40788414817798296,
          0.5657246273692624,
          0.9460063681385369,
          0.533423532258036,
          0.5180798369116695,
          -0.30641473393356694,
          -0.40854021932556955,
          -0.6608662088316145,
          -0.06702792264647989,
          0.024619585126334356
         ],
         "y": [
          0.9940695215860331,
          0.7010836383005538,
          0.2961630537648191,
          0.8992788019002059,
          0.6262399174600529,
          -0.12760920001822498,
          -1,
          -0.988493011514228,
          -0.47037982679973417,
          -0.5905260976306941,
          -0.22161431248661012,
          -0.25949998875660635,
          -0.0361339171157604,
          0.17742142131019373
         ]
        }
       ],
       "layout": {
        "annotations": [
         {
          "arrowcolor": "gray",
          "arrowhead": 3,
          "arrowsize": 1,
          "arrowwidth": 1,
          "ax": 0.14276141452938906,
          "axref": "x",
          "ay": 0.9940695215860331,
          "ayref": "y",
          "opacity": 0.6,
          "showarrow": true,
          "x": 0.4429926898097049,
          "xref": "x",
          "y": 0.7010836383005538,
          "yref": "y"
         },
         {
          "arrowcolor": "gray",
          "arrowhead": 3,
          "arrowsize": 1,
          "arrowwidth": 1,
          "ax": 0.14276141452938906,
          "axref": "x",
          "ay": 0.9940695215860331,
          "ayref": "y",
          "opacity": 0.6,
          "showarrow": true,
          "x": -0.6115775591179159,
          "xref": "x",
          "y": 0.2961630537648191,
          "yref": "y"
         },
         {
          "arrowcolor": "gray",
          "arrowhead": 3,
          "arrowsize": 1,
          "arrowwidth": 1,
          "ax": 0.14276141452938906,
          "axref": "x",
          "ay": 0.9940695215860331,
          "ayref": "y",
          "opacity": 0.6,
          "showarrow": true,
          "x": -0.40788414817798296,
          "xref": "x",
          "y": 0.6262399174600529,
          "yref": "y"
         },
         {
          "arrowcolor": "gray",
          "arrowhead": 3,
          "arrowsize": 1,
          "arrowwidth": 1,
          "ax": 0.14276141452938906,
          "axref": "x",
          "ay": 0.9940695215860331,
          "ayref": "y",
          "opacity": 0.6,
          "showarrow": true,
          "x": -0.30641473393356694,
          "xref": "x",
          "y": -0.5905260976306941,
          "yref": "y"
         },
         {
          "arrowcolor": "gray",
          "arrowhead": 3,
          "arrowsize": 1,
          "arrowwidth": 1,
          "ax": 0.14276141452938906,
          "axref": "x",
          "ay": 0.9940695215860331,
          "ayref": "y",
          "opacity": 0.6,
          "showarrow": true,
          "x": 0.9460063681385369,
          "xref": "x",
          "y": -1,
          "yref": "y"
         },
         {
          "arrowcolor": "gray",
          "arrowhead": 3,
          "arrowsize": 1,
          "arrowwidth": 1,
          "ax": 0.14276141452938906,
          "axref": "x",
          "ay": 0.9940695215860331,
          "ayref": "y",
          "opacity": 0.6,
          "showarrow": true,
          "x": 0.5657246273692624,
          "xref": "x",
          "y": -0.12760920001822498,
          "yref": "y"
         },
         {
          "arrowcolor": "gray",
          "arrowhead": 3,
          "arrowsize": 1,
          "arrowwidth": 1,
          "ax": 0.14276141452938906,
          "axref": "x",
          "ay": 0.9940695215860331,
          "ayref": "y",
          "opacity": 0.6,
          "showarrow": true,
          "x": 0.14276141452938906,
          "xref": "x",
          "y": 0.9940695215860331,
          "yref": "y"
         },
         {
          "arrowcolor": "gray",
          "arrowhead": 3,
          "arrowsize": 1,
          "arrowwidth": 1,
          "ax": 0.14276141452938906,
          "axref": "x",
          "ay": 0.9940695215860331,
          "ayref": "y",
          "opacity": 0.6,
          "showarrow": true,
          "x": 0.533423532258036,
          "xref": "x",
          "y": -0.988493011514228,
          "yref": "y"
         },
         {
          "arrowcolor": "gray",
          "arrowhead": 3,
          "arrowsize": 1,
          "arrowwidth": 1,
          "ax": 0.14276141452938906,
          "axref": "x",
          "ay": 0.9940695215860331,
          "ayref": "y",
          "opacity": 0.6,
          "showarrow": true,
          "x": -0.06702792264647989,
          "xref": "x",
          "y": -0.0361339171157604,
          "yref": "y"
         },
         {
          "arrowcolor": "gray",
          "arrowhead": 3,
          "arrowsize": 1,
          "arrowwidth": 1,
          "ax": 0.14276141452938906,
          "axref": "x",
          "ay": 0.9940695215860331,
          "ayref": "y",
          "opacity": 0.6,
          "showarrow": true,
          "x": 0.024619585126334356,
          "xref": "x",
          "y": 0.17742142131019373,
          "yref": "y"
         },
         {
          "arrowcolor": "gray",
          "arrowhead": 3,
          "arrowsize": 1,
          "arrowwidth": 1,
          "ax": 0.14276141452938906,
          "axref": "x",
          "ay": 0.9940695215860331,
          "ayref": "y",
          "opacity": 0.6,
          "showarrow": true,
          "x": -0.7112972621098032,
          "xref": "x",
          "y": 0.8992788019002059,
          "yref": "y"
         },
         {
          "arrowcolor": "gray",
          "arrowhead": 3,
          "arrowsize": 1,
          "arrowwidth": 1,
          "ax": 0.14276141452938906,
          "axref": "x",
          "ay": 0.9940695215860331,
          "ayref": "y",
          "opacity": 0.6,
          "showarrow": true,
          "x": -0.6608662088316145,
          "xref": "x",
          "y": -0.25949998875660635,
          "yref": "y"
         },
         {
          "arrowcolor": "gray",
          "arrowhead": 3,
          "arrowsize": 1,
          "arrowwidth": 1,
          "ax": 0.14276141452938906,
          "axref": "x",
          "ay": 0.9940695215860331,
          "ayref": "y",
          "opacity": 0.6,
          "showarrow": true,
          "x": -0.40854021932556955,
          "xref": "x",
          "y": -0.22161431248661012,
          "yref": "y"
         },
         {
          "arrowcolor": "gray",
          "arrowhead": 3,
          "arrowsize": 1,
          "arrowwidth": 1,
          "ax": 0.4429926898097049,
          "axref": "x",
          "ay": 0.7010836383005538,
          "ayref": "y",
          "opacity": 0.6,
          "showarrow": true,
          "x": 0.14276141452938906,
          "xref": "x",
          "y": 0.9940695215860331,
          "yref": "y"
         },
         {
          "arrowcolor": "gray",
          "arrowhead": 3,
          "arrowsize": 1,
          "arrowwidth": 1,
          "ax": 0.4429926898097049,
          "axref": "x",
          "ay": 0.7010836383005538,
          "ayref": "y",
          "opacity": 0.6,
          "showarrow": true,
          "x": -0.40788414817798296,
          "xref": "x",
          "y": 0.6262399174600529,
          "yref": "y"
         },
         {
          "arrowcolor": "gray",
          "arrowhead": 3,
          "arrowsize": 1,
          "arrowwidth": 1,
          "ax": 0.4429926898097049,
          "axref": "x",
          "ay": 0.7010836383005538,
          "ayref": "y",
          "opacity": 0.6,
          "showarrow": true,
          "x": 0.4429926898097049,
          "xref": "x",
          "y": 0.7010836383005538,
          "yref": "y"
         },
         {
          "arrowcolor": "gray",
          "arrowhead": 3,
          "arrowsize": 1,
          "arrowwidth": 1,
          "ax": 0.4429926898097049,
          "axref": "x",
          "ay": 0.7010836383005538,
          "ayref": "y",
          "opacity": 0.6,
          "showarrow": true,
          "x": -0.7112972621098032,
          "xref": "x",
          "y": 0.8992788019002059,
          "yref": "y"
         },
         {
          "arrowcolor": "gray",
          "arrowhead": 3,
          "arrowsize": 1,
          "arrowwidth": 1,
          "ax": 0.4429926898097049,
          "axref": "x",
          "ay": 0.7010836383005538,
          "ayref": "y",
          "opacity": 0.6,
          "showarrow": true,
          "x": 0.5657246273692624,
          "xref": "x",
          "y": -0.12760920001822498,
          "yref": "y"
         },
         {
          "arrowcolor": "gray",
          "arrowhead": 3,
          "arrowsize": 1,
          "arrowwidth": 1,
          "ax": 0.4429926898097049,
          "axref": "x",
          "ay": 0.7010836383005538,
          "ayref": "y",
          "opacity": 0.6,
          "showarrow": true,
          "x": -0.30641473393356694,
          "xref": "x",
          "y": -0.5905260976306941,
          "yref": "y"
         },
         {
          "arrowcolor": "gray",
          "arrowhead": 3,
          "arrowsize": 1,
          "arrowwidth": 1,
          "ax": 0.4429926898097049,
          "axref": "x",
          "ay": 0.7010836383005538,
          "ayref": "y",
          "opacity": 0.6,
          "showarrow": true,
          "x": -0.6608662088316145,
          "xref": "x",
          "y": -0.25949998875660635,
          "yref": "y"
         },
         {
          "arrowcolor": "gray",
          "arrowhead": 3,
          "arrowsize": 1,
          "arrowwidth": 1,
          "ax": 0.4429926898097049,
          "axref": "x",
          "ay": 0.7010836383005538,
          "ayref": "y",
          "opacity": 0.6,
          "showarrow": true,
          "x": -0.06702792264647989,
          "xref": "x",
          "y": -0.0361339171157604,
          "yref": "y"
         },
         {
          "arrowcolor": "gray",
          "arrowhead": 3,
          "arrowsize": 1,
          "arrowwidth": 1,
          "ax": 0.4429926898097049,
          "axref": "x",
          "ay": 0.7010836383005538,
          "ayref": "y",
          "opacity": 0.6,
          "showarrow": true,
          "x": -0.6115775591179159,
          "xref": "x",
          "y": 0.2961630537648191,
          "yref": "y"
         },
         {
          "arrowcolor": "gray",
          "arrowhead": 3,
          "arrowsize": 1,
          "arrowwidth": 1,
          "ax": 0.4429926898097049,
          "axref": "x",
          "ay": 0.7010836383005538,
          "ayref": "y",
          "opacity": 0.6,
          "showarrow": true,
          "x": 0.533423532258036,
          "xref": "x",
          "y": -0.988493011514228,
          "yref": "y"
         },
         {
          "arrowcolor": "gray",
          "arrowhead": 3,
          "arrowsize": 1,
          "arrowwidth": 1,
          "ax": 0.4429926898097049,
          "axref": "x",
          "ay": 0.7010836383005538,
          "ayref": "y",
          "opacity": 0.6,
          "showarrow": true,
          "x": 0.024619585126334356,
          "xref": "x",
          "y": 0.17742142131019373,
          "yref": "y"
         },
         {
          "arrowcolor": "gray",
          "arrowhead": 3,
          "arrowsize": 1,
          "arrowwidth": 1,
          "ax": 0.4429926898097049,
          "axref": "x",
          "ay": 0.7010836383005538,
          "ayref": "y",
          "opacity": 0.6,
          "showarrow": true,
          "x": 0.9460063681385369,
          "xref": "x",
          "y": -1,
          "yref": "y"
         },
         {
          "arrowcolor": "gray",
          "arrowhead": 3,
          "arrowsize": 1,
          "arrowwidth": 1,
          "ax": 0.4429926898097049,
          "axref": "x",
          "ay": 0.7010836383005538,
          "ayref": "y",
          "opacity": 0.6,
          "showarrow": true,
          "x": -0.40854021932556955,
          "xref": "x",
          "y": -0.22161431248661012,
          "yref": "y"
         },
         {
          "arrowcolor": "gray",
          "arrowhead": 3,
          "arrowsize": 1,
          "arrowwidth": 1,
          "ax": 0.4429926898097049,
          "axref": "x",
          "ay": 0.7010836383005538,
          "ayref": "y",
          "opacity": 0.6,
          "showarrow": true,
          "x": 0.5180798369116695,
          "xref": "x",
          "y": -0.47037982679973417,
          "yref": "y"
         },
         {
          "arrowcolor": "gray",
          "arrowhead": 3,
          "arrowsize": 1,
          "arrowwidth": 1,
          "ax": -0.6115775591179159,
          "axref": "x",
          "ay": 0.2961630537648191,
          "ayref": "y",
          "opacity": 0.6,
          "showarrow": true,
          "x": -0.7112972621098032,
          "xref": "x",
          "y": 0.8992788019002059,
          "yref": "y"
         },
         {
          "arrowcolor": "gray",
          "arrowhead": 3,
          "arrowsize": 1,
          "arrowwidth": 1,
          "ax": -0.6115775591179159,
          "axref": "x",
          "ay": 0.2961630537648191,
          "ayref": "y",
          "opacity": 0.6,
          "showarrow": true,
          "x": 0.4429926898097049,
          "xref": "x",
          "y": 0.7010836383005538,
          "yref": "y"
         },
         {
          "arrowcolor": "gray",
          "arrowhead": 3,
          "arrowsize": 1,
          "arrowwidth": 1,
          "ax": -0.6115775591179159,
          "axref": "x",
          "ay": 0.2961630537648191,
          "ayref": "y",
          "opacity": 0.6,
          "showarrow": true,
          "x": -0.30641473393356694,
          "xref": "x",
          "y": -0.5905260976306941,
          "yref": "y"
         },
         {
          "arrowcolor": "gray",
          "arrowhead": 3,
          "arrowsize": 1,
          "arrowwidth": 1,
          "ax": -0.6115775591179159,
          "axref": "x",
          "ay": 0.2961630537648191,
          "ayref": "y",
          "opacity": 0.6,
          "showarrow": true,
          "x": -0.6608662088316145,
          "xref": "x",
          "y": -0.25949998875660635,
          "yref": "y"
         },
         {
          "arrowcolor": "gray",
          "arrowhead": 3,
          "arrowsize": 1,
          "arrowwidth": 1,
          "ax": -0.6115775591179159,
          "axref": "x",
          "ay": 0.2961630537648191,
          "ayref": "y",
          "opacity": 0.6,
          "showarrow": true,
          "x": -0.40854021932556955,
          "xref": "x",
          "y": -0.22161431248661012,
          "yref": "y"
         },
         {
          "arrowcolor": "gray",
          "arrowhead": 3,
          "arrowsize": 1,
          "arrowwidth": 1,
          "ax": -0.6115775591179159,
          "axref": "x",
          "ay": 0.2961630537648191,
          "ayref": "y",
          "opacity": 0.6,
          "showarrow": true,
          "x": 0.5180798369116695,
          "xref": "x",
          "y": -0.47037982679973417,
          "yref": "y"
         },
         {
          "arrowcolor": "gray",
          "arrowhead": 3,
          "arrowsize": 1,
          "arrowwidth": 1,
          "ax": -0.6115775591179159,
          "axref": "x",
          "ay": 0.2961630537648191,
          "ayref": "y",
          "opacity": 0.6,
          "showarrow": true,
          "x": -0.06702792264647989,
          "xref": "x",
          "y": -0.0361339171157604,
          "yref": "y"
         },
         {
          "arrowcolor": "gray",
          "arrowhead": 3,
          "arrowsize": 1,
          "arrowwidth": 1,
          "ax": -0.6115775591179159,
          "axref": "x",
          "ay": 0.2961630537648191,
          "ayref": "y",
          "opacity": 0.6,
          "showarrow": true,
          "x": -0.6115775591179159,
          "xref": "x",
          "y": 0.2961630537648191,
          "yref": "y"
         },
         {
          "arrowcolor": "gray",
          "arrowhead": 3,
          "arrowsize": 1,
          "arrowwidth": 1,
          "ax": -0.6115775591179159,
          "axref": "x",
          "ay": 0.2961630537648191,
          "ayref": "y",
          "opacity": 0.6,
          "showarrow": true,
          "x": -0.40788414817798296,
          "xref": "x",
          "y": 0.6262399174600529,
          "yref": "y"
         },
         {
          "arrowcolor": "gray",
          "arrowhead": 3,
          "arrowsize": 1,
          "arrowwidth": 1,
          "ax": -0.6115775591179159,
          "axref": "x",
          "ay": 0.2961630537648191,
          "ayref": "y",
          "opacity": 0.6,
          "showarrow": true,
          "x": 0.533423532258036,
          "xref": "x",
          "y": -0.988493011514228,
          "yref": "y"
         },
         {
          "arrowcolor": "gray",
          "arrowhead": 3,
          "arrowsize": 1,
          "arrowwidth": 1,
          "ax": -0.6115775591179159,
          "axref": "x",
          "ay": 0.2961630537648191,
          "ayref": "y",
          "opacity": 0.6,
          "showarrow": true,
          "x": 0.5657246273692624,
          "xref": "x",
          "y": -0.12760920001822498,
          "yref": "y"
         },
         {
          "arrowcolor": "gray",
          "arrowhead": 3,
          "arrowsize": 1,
          "arrowwidth": 1,
          "ax": -0.6115775591179159,
          "axref": "x",
          "ay": 0.2961630537648191,
          "ayref": "y",
          "opacity": 0.6,
          "showarrow": true,
          "x": 0.14276141452938906,
          "xref": "x",
          "y": 0.9940695215860331,
          "yref": "y"
         },
         {
          "arrowcolor": "gray",
          "arrowhead": 3,
          "arrowsize": 1,
          "arrowwidth": 1,
          "ax": -0.6115775591179159,
          "axref": "x",
          "ay": 0.2961630537648191,
          "ayref": "y",
          "opacity": 0.6,
          "showarrow": true,
          "x": 0.024619585126334356,
          "xref": "x",
          "y": 0.17742142131019373,
          "yref": "y"
         },
         {
          "arrowcolor": "gray",
          "arrowhead": 3,
          "arrowsize": 1,
          "arrowwidth": 1,
          "ax": -0.7112972621098032,
          "axref": "x",
          "ay": 0.8992788019002059,
          "ayref": "y",
          "opacity": 0.6,
          "showarrow": true,
          "x": -0.7112972621098032,
          "xref": "x",
          "y": 0.8992788019002059,
          "yref": "y"
         },
         {
          "arrowcolor": "gray",
          "arrowhead": 3,
          "arrowsize": 1,
          "arrowwidth": 1,
          "ax": -0.7112972621098032,
          "axref": "x",
          "ay": 0.8992788019002059,
          "ayref": "y",
          "opacity": 0.6,
          "showarrow": true,
          "x": -0.40788414817798296,
          "xref": "x",
          "y": 0.6262399174600529,
          "yref": "y"
         },
         {
          "arrowcolor": "gray",
          "arrowhead": 3,
          "arrowsize": 1,
          "arrowwidth": 1,
          "ax": -0.7112972621098032,
          "axref": "x",
          "ay": 0.8992788019002059,
          "ayref": "y",
          "opacity": 0.6,
          "showarrow": true,
          "x": -0.6115775591179159,
          "xref": "x",
          "y": 0.2961630537648191,
          "yref": "y"
         },
         {
          "arrowcolor": "gray",
          "arrowhead": 3,
          "arrowsize": 1,
          "arrowwidth": 1,
          "ax": -0.7112972621098032,
          "axref": "x",
          "ay": 0.8992788019002059,
          "ayref": "y",
          "opacity": 0.6,
          "showarrow": true,
          "x": -0.30641473393356694,
          "xref": "x",
          "y": -0.5905260976306941,
          "yref": "y"
         },
         {
          "arrowcolor": "gray",
          "arrowhead": 3,
          "arrowsize": 1,
          "arrowwidth": 1,
          "ax": -0.7112972621098032,
          "axref": "x",
          "ay": 0.8992788019002059,
          "ayref": "y",
          "opacity": 0.6,
          "showarrow": true,
          "x": 0.5657246273692624,
          "xref": "x",
          "y": -0.12760920001822498,
          "yref": "y"
         },
         {
          "arrowcolor": "gray",
          "arrowhead": 3,
          "arrowsize": 1,
          "arrowwidth": 1,
          "ax": -0.7112972621098032,
          "axref": "x",
          "ay": 0.8992788019002059,
          "ayref": "y",
          "opacity": 0.6,
          "showarrow": true,
          "x": -0.6608662088316145,
          "xref": "x",
          "y": -0.25949998875660635,
          "yref": "y"
         },
         {
          "arrowcolor": "gray",
          "arrowhead": 3,
          "arrowsize": 1,
          "arrowwidth": 1,
          "ax": -0.7112972621098032,
          "axref": "x",
          "ay": 0.8992788019002059,
          "ayref": "y",
          "opacity": 0.6,
          "showarrow": true,
          "x": 0.14276141452938906,
          "xref": "x",
          "y": 0.9940695215860331,
          "yref": "y"
         },
         {
          "arrowcolor": "gray",
          "arrowhead": 3,
          "arrowsize": 1,
          "arrowwidth": 1,
          "ax": -0.7112972621098032,
          "axref": "x",
          "ay": 0.8992788019002059,
          "ayref": "y",
          "opacity": 0.6,
          "showarrow": true,
          "x": 0.4429926898097049,
          "xref": "x",
          "y": 0.7010836383005538,
          "yref": "y"
         },
         {
          "arrowcolor": "gray",
          "arrowhead": 3,
          "arrowsize": 1,
          "arrowwidth": 1,
          "ax": -0.7112972621098032,
          "axref": "x",
          "ay": 0.8992788019002059,
          "ayref": "y",
          "opacity": 0.6,
          "showarrow": true,
          "x": 0.5180798369116695,
          "xref": "x",
          "y": -0.47037982679973417,
          "yref": "y"
         },
         {
          "arrowcolor": "gray",
          "arrowhead": 3,
          "arrowsize": 1,
          "arrowwidth": 1,
          "ax": -0.7112972621098032,
          "axref": "x",
          "ay": 0.8992788019002059,
          "ayref": "y",
          "opacity": 0.6,
          "showarrow": true,
          "x": 0.533423532258036,
          "xref": "x",
          "y": -0.988493011514228,
          "yref": "y"
         },
         {
          "arrowcolor": "gray",
          "arrowhead": 3,
          "arrowsize": 1,
          "arrowwidth": 1,
          "ax": -0.7112972621098032,
          "axref": "x",
          "ay": 0.8992788019002059,
          "ayref": "y",
          "opacity": 0.6,
          "showarrow": true,
          "x": -0.06702792264647989,
          "xref": "x",
          "y": -0.0361339171157604,
          "yref": "y"
         },
         {
          "arrowcolor": "gray",
          "arrowhead": 3,
          "arrowsize": 1,
          "arrowwidth": 1,
          "ax": -0.7112972621098032,
          "axref": "x",
          "ay": 0.8992788019002059,
          "ayref": "y",
          "opacity": 0.6,
          "showarrow": true,
          "x": -0.40854021932556955,
          "xref": "x",
          "y": -0.22161431248661012,
          "yref": "y"
         },
         {
          "arrowcolor": "gray",
          "arrowhead": 3,
          "arrowsize": 1,
          "arrowwidth": 1,
          "ax": -0.7112972621098032,
          "axref": "x",
          "ay": 0.8992788019002059,
          "ayref": "y",
          "opacity": 0.6,
          "showarrow": true,
          "x": 0.024619585126334356,
          "xref": "x",
          "y": 0.17742142131019373,
          "yref": "y"
         },
         {
          "arrowcolor": "gray",
          "arrowhead": 3,
          "arrowsize": 1,
          "arrowwidth": 1,
          "ax": -0.40788414817798296,
          "axref": "x",
          "ay": 0.6262399174600529,
          "ayref": "y",
          "opacity": 0.6,
          "showarrow": true,
          "x": -0.40788414817798296,
          "xref": "x",
          "y": 0.6262399174600529,
          "yref": "y"
         },
         {
          "arrowcolor": "gray",
          "arrowhead": 3,
          "arrowsize": 1,
          "arrowwidth": 1,
          "ax": -0.40788414817798296,
          "axref": "x",
          "ay": 0.6262399174600529,
          "ayref": "y",
          "opacity": 0.6,
          "showarrow": true,
          "x": 0.4429926898097049,
          "xref": "x",
          "y": 0.7010836383005538,
          "yref": "y"
         },
         {
          "arrowcolor": "gray",
          "arrowhead": 3,
          "arrowsize": 1,
          "arrowwidth": 1,
          "ax": -0.40788414817798296,
          "axref": "x",
          "ay": 0.6262399174600529,
          "ayref": "y",
          "opacity": 0.6,
          "showarrow": true,
          "x": 0.14276141452938906,
          "xref": "x",
          "y": 0.9940695215860331,
          "yref": "y"
         },
         {
          "arrowcolor": "gray",
          "arrowhead": 3,
          "arrowsize": 1,
          "arrowwidth": 1,
          "ax": -0.40788414817798296,
          "axref": "x",
          "ay": 0.6262399174600529,
          "ayref": "y",
          "opacity": 0.6,
          "showarrow": true,
          "x": -0.7112972621098032,
          "xref": "x",
          "y": 0.8992788019002059,
          "yref": "y"
         },
         {
          "arrowcolor": "gray",
          "arrowhead": 3,
          "arrowsize": 1,
          "arrowwidth": 1,
          "ax": -0.40788414817798296,
          "axref": "x",
          "ay": 0.6262399174600529,
          "ayref": "y",
          "opacity": 0.6,
          "showarrow": true,
          "x": 0.533423532258036,
          "xref": "x",
          "y": -0.988493011514228,
          "yref": "y"
         },
         {
          "arrowcolor": "gray",
          "arrowhead": 3,
          "arrowsize": 1,
          "arrowwidth": 1,
          "ax": -0.40788414817798296,
          "axref": "x",
          "ay": 0.6262399174600529,
          "ayref": "y",
          "opacity": 0.6,
          "showarrow": true,
          "x": -0.6608662088316145,
          "xref": "x",
          "y": -0.25949998875660635,
          "yref": "y"
         },
         {
          "arrowcolor": "gray",
          "arrowhead": 3,
          "arrowsize": 1,
          "arrowwidth": 1,
          "ax": -0.40788414817798296,
          "axref": "x",
          "ay": 0.6262399174600529,
          "ayref": "y",
          "opacity": 0.6,
          "showarrow": true,
          "x": -0.6115775591179159,
          "xref": "x",
          "y": 0.2961630537648191,
          "yref": "y"
         },
         {
          "arrowcolor": "gray",
          "arrowhead": 3,
          "arrowsize": 1,
          "arrowwidth": 1,
          "ax": -0.40788414817798296,
          "axref": "x",
          "ay": 0.6262399174600529,
          "ayref": "y",
          "opacity": 0.6,
          "showarrow": true,
          "x": 0.5180798369116695,
          "xref": "x",
          "y": -0.47037982679973417,
          "yref": "y"
         },
         {
          "arrowcolor": "gray",
          "arrowhead": 3,
          "arrowsize": 1,
          "arrowwidth": 1,
          "ax": -0.40788414817798296,
          "axref": "x",
          "ay": 0.6262399174600529,
          "ayref": "y",
          "opacity": 0.6,
          "showarrow": true,
          "x": -0.30641473393356694,
          "xref": "x",
          "y": -0.5905260976306941,
          "yref": "y"
         },
         {
          "arrowcolor": "gray",
          "arrowhead": 3,
          "arrowsize": 1,
          "arrowwidth": 1,
          "ax": -0.40788414817798296,
          "axref": "x",
          "ay": 0.6262399174600529,
          "ayref": "y",
          "opacity": 0.6,
          "showarrow": true,
          "x": -0.06702792264647989,
          "xref": "x",
          "y": -0.0361339171157604,
          "yref": "y"
         },
         {
          "arrowcolor": "gray",
          "arrowhead": 3,
          "arrowsize": 1,
          "arrowwidth": 1,
          "ax": -0.40788414817798296,
          "axref": "x",
          "ay": 0.6262399174600529,
          "ayref": "y",
          "opacity": 0.6,
          "showarrow": true,
          "x": 0.5657246273692624,
          "xref": "x",
          "y": -0.12760920001822498,
          "yref": "y"
         },
         {
          "arrowcolor": "gray",
          "arrowhead": 3,
          "arrowsize": 1,
          "arrowwidth": 1,
          "ax": -0.40788414817798296,
          "axref": "x",
          "ay": 0.6262399174600529,
          "ayref": "y",
          "opacity": 0.6,
          "showarrow": true,
          "x": 0.024619585126334356,
          "xref": "x",
          "y": 0.17742142131019373,
          "yref": "y"
         },
         {
          "arrowcolor": "gray",
          "arrowhead": 3,
          "arrowsize": 1,
          "arrowwidth": 1,
          "ax": -0.40788414817798296,
          "axref": "x",
          "ay": 0.6262399174600529,
          "ayref": "y",
          "opacity": 0.6,
          "showarrow": true,
          "x": -0.40854021932556955,
          "xref": "x",
          "y": -0.22161431248661012,
          "yref": "y"
         },
         {
          "arrowcolor": "gray",
          "arrowhead": 3,
          "arrowsize": 1,
          "arrowwidth": 1,
          "ax": 0.5657246273692624,
          "axref": "x",
          "ay": -0.12760920001822498,
          "ayref": "y",
          "opacity": 0.6,
          "showarrow": true,
          "x": 0.9460063681385369,
          "xref": "x",
          "y": -1,
          "yref": "y"
         },
         {
          "arrowcolor": "gray",
          "arrowhead": 3,
          "arrowsize": 1,
          "arrowwidth": 1,
          "ax": 0.5657246273692624,
          "axref": "x",
          "ay": -0.12760920001822498,
          "ayref": "y",
          "opacity": 0.6,
          "showarrow": true,
          "x": -0.30641473393356694,
          "xref": "x",
          "y": -0.5905260976306941,
          "yref": "y"
         },
         {
          "arrowcolor": "gray",
          "arrowhead": 3,
          "arrowsize": 1,
          "arrowwidth": 1,
          "ax": 0.5657246273692624,
          "axref": "x",
          "ay": -0.12760920001822498,
          "ayref": "y",
          "opacity": 0.6,
          "showarrow": true,
          "x": 0.533423532258036,
          "xref": "x",
          "y": -0.988493011514228,
          "yref": "y"
         },
         {
          "arrowcolor": "gray",
          "arrowhead": 3,
          "arrowsize": 1,
          "arrowwidth": 1,
          "ax": 0.5657246273692624,
          "axref": "x",
          "ay": -0.12760920001822498,
          "ayref": "y",
          "opacity": 0.6,
          "showarrow": true,
          "x": 0.5657246273692624,
          "xref": "x",
          "y": -0.12760920001822498,
          "yref": "y"
         },
         {
          "arrowcolor": "gray",
          "arrowhead": 3,
          "arrowsize": 1,
          "arrowwidth": 1,
          "ax": 0.5657246273692624,
          "axref": "x",
          "ay": -0.12760920001822498,
          "ayref": "y",
          "opacity": 0.6,
          "showarrow": true,
          "x": 0.4429926898097049,
          "xref": "x",
          "y": 0.7010836383005538,
          "yref": "y"
         },
         {
          "arrowcolor": "gray",
          "arrowhead": 3,
          "arrowsize": 1,
          "arrowwidth": 1,
          "ax": 0.5657246273692624,
          "axref": "x",
          "ay": -0.12760920001822498,
          "ayref": "y",
          "opacity": 0.6,
          "showarrow": true,
          "x": -0.6115775591179159,
          "xref": "x",
          "y": 0.2961630537648191,
          "yref": "y"
         },
         {
          "arrowcolor": "gray",
          "arrowhead": 3,
          "arrowsize": 1,
          "arrowwidth": 1,
          "ax": 0.5657246273692624,
          "axref": "x",
          "ay": -0.12760920001822498,
          "ayref": "y",
          "opacity": 0.6,
          "showarrow": true,
          "x": -0.06702792264647989,
          "xref": "x",
          "y": -0.0361339171157604,
          "yref": "y"
         },
         {
          "arrowcolor": "gray",
          "arrowhead": 3,
          "arrowsize": 1,
          "arrowwidth": 1,
          "ax": 0.5657246273692624,
          "axref": "x",
          "ay": -0.12760920001822498,
          "ayref": "y",
          "opacity": 0.6,
          "showarrow": true,
          "x": 0.14276141452938906,
          "xref": "x",
          "y": 0.9940695215860331,
          "yref": "y"
         },
         {
          "arrowcolor": "gray",
          "arrowhead": 3,
          "arrowsize": 1,
          "arrowwidth": 1,
          "ax": 0.5657246273692624,
          "axref": "x",
          "ay": -0.12760920001822498,
          "ayref": "y",
          "opacity": 0.6,
          "showarrow": true,
          "x": -0.7112972621098032,
          "xref": "x",
          "y": 0.8992788019002059,
          "yref": "y"
         },
         {
          "arrowcolor": "gray",
          "arrowhead": 3,
          "arrowsize": 1,
          "arrowwidth": 1,
          "ax": 0.5657246273692624,
          "axref": "x",
          "ay": -0.12760920001822498,
          "ayref": "y",
          "opacity": 0.6,
          "showarrow": true,
          "x": 0.5180798369116695,
          "xref": "x",
          "y": -0.47037982679973417,
          "yref": "y"
         },
         {
          "arrowcolor": "gray",
          "arrowhead": 3,
          "arrowsize": 1,
          "arrowwidth": 1,
          "ax": 0.5657246273692624,
          "axref": "x",
          "ay": -0.12760920001822498,
          "ayref": "y",
          "opacity": 0.6,
          "showarrow": true,
          "x": -0.40788414817798296,
          "xref": "x",
          "y": 0.6262399174600529,
          "yref": "y"
         },
         {
          "arrowcolor": "gray",
          "arrowhead": 3,
          "arrowsize": 1,
          "arrowwidth": 1,
          "ax": 0.5657246273692624,
          "axref": "x",
          "ay": -0.12760920001822498,
          "ayref": "y",
          "opacity": 0.6,
          "showarrow": true,
          "x": -0.6608662088316145,
          "xref": "x",
          "y": -0.25949998875660635,
          "yref": "y"
         },
         {
          "arrowcolor": "gray",
          "arrowhead": 3,
          "arrowsize": 1,
          "arrowwidth": 1,
          "ax": 0.5657246273692624,
          "axref": "x",
          "ay": -0.12760920001822498,
          "ayref": "y",
          "opacity": 0.6,
          "showarrow": true,
          "x": 0.024619585126334356,
          "xref": "x",
          "y": 0.17742142131019373,
          "yref": "y"
         },
         {
          "arrowcolor": "gray",
          "arrowhead": 3,
          "arrowsize": 1,
          "arrowwidth": 1,
          "ax": 0.5657246273692624,
          "axref": "x",
          "ay": -0.12760920001822498,
          "ayref": "y",
          "opacity": 0.6,
          "showarrow": true,
          "x": -0.40854021932556955,
          "xref": "x",
          "y": -0.22161431248661012,
          "yref": "y"
         },
         {
          "arrowcolor": "gray",
          "arrowhead": 3,
          "arrowsize": 1,
          "arrowwidth": 1,
          "ax": 0.9460063681385369,
          "axref": "x",
          "ay": -1,
          "ayref": "y",
          "opacity": 0.6,
          "showarrow": true,
          "x": 0.533423532258036,
          "xref": "x",
          "y": -0.988493011514228,
          "yref": "y"
         },
         {
          "arrowcolor": "gray",
          "arrowhead": 3,
          "arrowsize": 1,
          "arrowwidth": 1,
          "ax": 0.9460063681385369,
          "axref": "x",
          "ay": -1,
          "ayref": "y",
          "opacity": 0.6,
          "showarrow": true,
          "x": 0.14276141452938906,
          "xref": "x",
          "y": 0.9940695215860331,
          "yref": "y"
         },
         {
          "arrowcolor": "gray",
          "arrowhead": 3,
          "arrowsize": 1,
          "arrowwidth": 1,
          "ax": 0.9460063681385369,
          "axref": "x",
          "ay": -1,
          "ayref": "y",
          "opacity": 0.6,
          "showarrow": true,
          "x": -0.30641473393356694,
          "xref": "x",
          "y": -0.5905260976306941,
          "yref": "y"
         },
         {
          "arrowcolor": "gray",
          "arrowhead": 3,
          "arrowsize": 1,
          "arrowwidth": 1,
          "ax": 0.9460063681385369,
          "axref": "x",
          "ay": -1,
          "ayref": "y",
          "opacity": 0.6,
          "showarrow": true,
          "x": 0.5657246273692624,
          "xref": "x",
          "y": -0.12760920001822498,
          "yref": "y"
         },
         {
          "arrowcolor": "gray",
          "arrowhead": 3,
          "arrowsize": 1,
          "arrowwidth": 1,
          "ax": 0.9460063681385369,
          "axref": "x",
          "ay": -1,
          "ayref": "y",
          "opacity": 0.6,
          "showarrow": true,
          "x": 0.5180798369116695,
          "xref": "x",
          "y": -0.47037982679973417,
          "yref": "y"
         },
         {
          "arrowcolor": "gray",
          "arrowhead": 3,
          "arrowsize": 1,
          "arrowwidth": 1,
          "ax": 0.9460063681385369,
          "axref": "x",
          "ay": -1,
          "ayref": "y",
          "opacity": 0.6,
          "showarrow": true,
          "x": -0.6115775591179159,
          "xref": "x",
          "y": 0.2961630537648191,
          "yref": "y"
         },
         {
          "arrowcolor": "gray",
          "arrowhead": 3,
          "arrowsize": 1,
          "arrowwidth": 1,
          "ax": 0.9460063681385369,
          "axref": "x",
          "ay": -1,
          "ayref": "y",
          "opacity": 0.6,
          "showarrow": true,
          "x": -0.06702792264647989,
          "xref": "x",
          "y": -0.0361339171157604,
          "yref": "y"
         },
         {
          "arrowcolor": "gray",
          "arrowhead": 3,
          "arrowsize": 1,
          "arrowwidth": 1,
          "ax": 0.9460063681385369,
          "axref": "x",
          "ay": -1,
          "ayref": "y",
          "opacity": 0.6,
          "showarrow": true,
          "x": 0.4429926898097049,
          "xref": "x",
          "y": 0.7010836383005538,
          "yref": "y"
         },
         {
          "arrowcolor": "gray",
          "arrowhead": 3,
          "arrowsize": 1,
          "arrowwidth": 1,
          "ax": 0.9460063681385369,
          "axref": "x",
          "ay": -1,
          "ayref": "y",
          "opacity": 0.6,
          "showarrow": true,
          "x": 0.9460063681385369,
          "xref": "x",
          "y": -1,
          "yref": "y"
         },
         {
          "arrowcolor": "gray",
          "arrowhead": 3,
          "arrowsize": 1,
          "arrowwidth": 1,
          "ax": 0.9460063681385369,
          "axref": "x",
          "ay": -1,
          "ayref": "y",
          "opacity": 0.6,
          "showarrow": true,
          "x": -0.6608662088316145,
          "xref": "x",
          "y": -0.25949998875660635,
          "yref": "y"
         },
         {
          "arrowcolor": "gray",
          "arrowhead": 3,
          "arrowsize": 1,
          "arrowwidth": 1,
          "ax": 0.9460063681385369,
          "axref": "x",
          "ay": -1,
          "ayref": "y",
          "opacity": 0.6,
          "showarrow": true,
          "x": -0.40788414817798296,
          "xref": "x",
          "y": 0.6262399174600529,
          "yref": "y"
         },
         {
          "arrowcolor": "gray",
          "arrowhead": 3,
          "arrowsize": 1,
          "arrowwidth": 1,
          "ax": 0.9460063681385369,
          "axref": "x",
          "ay": -1,
          "ayref": "y",
          "opacity": 0.6,
          "showarrow": true,
          "x": -0.7112972621098032,
          "xref": "x",
          "y": 0.8992788019002059,
          "yref": "y"
         },
         {
          "arrowcolor": "gray",
          "arrowhead": 3,
          "arrowsize": 1,
          "arrowwidth": 1,
          "ax": 0.9460063681385369,
          "axref": "x",
          "ay": -1,
          "ayref": "y",
          "opacity": 0.6,
          "showarrow": true,
          "x": -0.40854021932556955,
          "xref": "x",
          "y": -0.22161431248661012,
          "yref": "y"
         },
         {
          "arrowcolor": "gray",
          "arrowhead": 3,
          "arrowsize": 1,
          "arrowwidth": 1,
          "ax": 0.533423532258036,
          "axref": "x",
          "ay": -0.988493011514228,
          "ayref": "y",
          "opacity": 0.6,
          "showarrow": true,
          "x": 0.5180798369116695,
          "xref": "x",
          "y": -0.47037982679973417,
          "yref": "y"
         },
         {
          "arrowcolor": "gray",
          "arrowhead": 3,
          "arrowsize": 1,
          "arrowwidth": 1,
          "ax": 0.533423532258036,
          "axref": "x",
          "ay": -0.988493011514228,
          "ayref": "y",
          "opacity": 0.6,
          "showarrow": true,
          "x": -0.30641473393356694,
          "xref": "x",
          "y": -0.5905260976306941,
          "yref": "y"
         },
         {
          "arrowcolor": "gray",
          "arrowhead": 3,
          "arrowsize": 1,
          "arrowwidth": 1,
          "ax": 0.533423532258036,
          "axref": "x",
          "ay": -0.988493011514228,
          "ayref": "y",
          "opacity": 0.6,
          "showarrow": true,
          "x": 0.5657246273692624,
          "xref": "x",
          "y": -0.12760920001822498,
          "yref": "y"
         },
         {
          "arrowcolor": "gray",
          "arrowhead": 3,
          "arrowsize": 1,
          "arrowwidth": 1,
          "ax": 0.533423532258036,
          "axref": "x",
          "ay": -0.988493011514228,
          "ayref": "y",
          "opacity": 0.6,
          "showarrow": true,
          "x": 0.9460063681385369,
          "xref": "x",
          "y": -1,
          "yref": "y"
         },
         {
          "arrowcolor": "gray",
          "arrowhead": 3,
          "arrowsize": 1,
          "arrowwidth": 1,
          "ax": 0.533423532258036,
          "axref": "x",
          "ay": -0.988493011514228,
          "ayref": "y",
          "opacity": 0.6,
          "showarrow": true,
          "x": -0.06702792264647989,
          "xref": "x",
          "y": -0.0361339171157604,
          "yref": "y"
         },
         {
          "arrowcolor": "gray",
          "arrowhead": 3,
          "arrowsize": 1,
          "arrowwidth": 1,
          "ax": 0.533423532258036,
          "axref": "x",
          "ay": -0.988493011514228,
          "ayref": "y",
          "opacity": 0.6,
          "showarrow": true,
          "x": -0.40854021932556955,
          "xref": "x",
          "y": -0.22161431248661012,
          "yref": "y"
         },
         {
          "arrowcolor": "gray",
          "arrowhead": 3,
          "arrowsize": 1,
          "arrowwidth": 1,
          "ax": 0.533423532258036,
          "axref": "x",
          "ay": -0.988493011514228,
          "ayref": "y",
          "opacity": 0.6,
          "showarrow": true,
          "x": -0.6608662088316145,
          "xref": "x",
          "y": -0.25949998875660635,
          "yref": "y"
         },
         {
          "arrowcolor": "gray",
          "arrowhead": 3,
          "arrowsize": 1,
          "arrowwidth": 1,
          "ax": 0.533423532258036,
          "axref": "x",
          "ay": -0.988493011514228,
          "ayref": "y",
          "opacity": 0.6,
          "showarrow": true,
          "x": 0.533423532258036,
          "xref": "x",
          "y": -0.988493011514228,
          "yref": "y"
         },
         {
          "arrowcolor": "gray",
          "arrowhead": 3,
          "arrowsize": 1,
          "arrowwidth": 1,
          "ax": 0.533423532258036,
          "axref": "x",
          "ay": -0.988493011514228,
          "ayref": "y",
          "opacity": 0.6,
          "showarrow": true,
          "x": -0.6115775591179159,
          "xref": "x",
          "y": 0.2961630537648191,
          "yref": "y"
         },
         {
          "arrowcolor": "gray",
          "arrowhead": 3,
          "arrowsize": 1,
          "arrowwidth": 1,
          "ax": 0.533423532258036,
          "axref": "x",
          "ay": -0.988493011514228,
          "ayref": "y",
          "opacity": 0.6,
          "showarrow": true,
          "x": -0.7112972621098032,
          "xref": "x",
          "y": 0.8992788019002059,
          "yref": "y"
         },
         {
          "arrowcolor": "gray",
          "arrowhead": 3,
          "arrowsize": 1,
          "arrowwidth": 1,
          "ax": 0.533423532258036,
          "axref": "x",
          "ay": -0.988493011514228,
          "ayref": "y",
          "opacity": 0.6,
          "showarrow": true,
          "x": 0.14276141452938906,
          "xref": "x",
          "y": 0.9940695215860331,
          "yref": "y"
         },
         {
          "arrowcolor": "gray",
          "arrowhead": 3,
          "arrowsize": 1,
          "arrowwidth": 1,
          "ax": 0.533423532258036,
          "axref": "x",
          "ay": -0.988493011514228,
          "ayref": "y",
          "opacity": 0.6,
          "showarrow": true,
          "x": 0.4429926898097049,
          "xref": "x",
          "y": 0.7010836383005538,
          "yref": "y"
         },
         {
          "arrowcolor": "gray",
          "arrowhead": 3,
          "arrowsize": 1,
          "arrowwidth": 1,
          "ax": 0.533423532258036,
          "axref": "x",
          "ay": -0.988493011514228,
          "ayref": "y",
          "opacity": 0.6,
          "showarrow": true,
          "x": 0.024619585126334356,
          "xref": "x",
          "y": 0.17742142131019373,
          "yref": "y"
         },
         {
          "arrowcolor": "gray",
          "arrowhead": 3,
          "arrowsize": 1,
          "arrowwidth": 1,
          "ax": 0.5180798369116695,
          "axref": "x",
          "ay": -0.47037982679973417,
          "ayref": "y",
          "opacity": 0.6,
          "showarrow": true,
          "x": -0.30641473393356694,
          "xref": "x",
          "y": -0.5905260976306941,
          "yref": "y"
         },
         {
          "arrowcolor": "gray",
          "arrowhead": 3,
          "arrowsize": 1,
          "arrowwidth": 1,
          "ax": 0.5180798369116695,
          "axref": "x",
          "ay": -0.47037982679973417,
          "ayref": "y",
          "opacity": 0.6,
          "showarrow": true,
          "x": 0.5657246273692624,
          "xref": "x",
          "y": -0.12760920001822498,
          "yref": "y"
         },
         {
          "arrowcolor": "gray",
          "arrowhead": 3,
          "arrowsize": 1,
          "arrowwidth": 1,
          "ax": 0.5180798369116695,
          "axref": "x",
          "ay": -0.47037982679973417,
          "ayref": "y",
          "opacity": 0.6,
          "showarrow": true,
          "x": -0.40788414817798296,
          "xref": "x",
          "y": 0.6262399174600529,
          "yref": "y"
         },
         {
          "arrowcolor": "gray",
          "arrowhead": 3,
          "arrowsize": 1,
          "arrowwidth": 1,
          "ax": 0.5180798369116695,
          "axref": "x",
          "ay": -0.47037982679973417,
          "ayref": "y",
          "opacity": 0.6,
          "showarrow": true,
          "x": 0.533423532258036,
          "xref": "x",
          "y": -0.988493011514228,
          "yref": "y"
         },
         {
          "arrowcolor": "gray",
          "arrowhead": 3,
          "arrowsize": 1,
          "arrowwidth": 1,
          "ax": 0.5180798369116695,
          "axref": "x",
          "ay": -0.47037982679973417,
          "ayref": "y",
          "opacity": 0.6,
          "showarrow": true,
          "x": -0.06702792264647989,
          "xref": "x",
          "y": -0.0361339171157604,
          "yref": "y"
         },
         {
          "arrowcolor": "gray",
          "arrowhead": 3,
          "arrowsize": 1,
          "arrowwidth": 1,
          "ax": 0.5180798369116695,
          "axref": "x",
          "ay": -0.47037982679973417,
          "ayref": "y",
          "opacity": 0.6,
          "showarrow": true,
          "x": 0.14276141452938906,
          "xref": "x",
          "y": 0.9940695215860331,
          "yref": "y"
         },
         {
          "arrowcolor": "gray",
          "arrowhead": 3,
          "arrowsize": 1,
          "arrowwidth": 1,
          "ax": 0.5180798369116695,
          "axref": "x",
          "ay": -0.47037982679973417,
          "ayref": "y",
          "opacity": 0.6,
          "showarrow": true,
          "x": -0.6115775591179159,
          "xref": "x",
          "y": 0.2961630537648191,
          "yref": "y"
         },
         {
          "arrowcolor": "gray",
          "arrowhead": 3,
          "arrowsize": 1,
          "arrowwidth": 1,
          "ax": 0.5180798369116695,
          "axref": "x",
          "ay": -0.47037982679973417,
          "ayref": "y",
          "opacity": 0.6,
          "showarrow": true,
          "x": 0.9460063681385369,
          "xref": "x",
          "y": -1,
          "yref": "y"
         },
         {
          "arrowcolor": "gray",
          "arrowhead": 3,
          "arrowsize": 1,
          "arrowwidth": 1,
          "ax": 0.5180798369116695,
          "axref": "x",
          "ay": -0.47037982679973417,
          "ayref": "y",
          "opacity": 0.6,
          "showarrow": true,
          "x": 0.4429926898097049,
          "xref": "x",
          "y": 0.7010836383005538,
          "yref": "y"
         },
         {
          "arrowcolor": "gray",
          "arrowhead": 3,
          "arrowsize": 1,
          "arrowwidth": 1,
          "ax": 0.5180798369116695,
          "axref": "x",
          "ay": -0.47037982679973417,
          "ayref": "y",
          "opacity": 0.6,
          "showarrow": true,
          "x": 0.5180798369116695,
          "xref": "x",
          "y": -0.47037982679973417,
          "yref": "y"
         },
         {
          "arrowcolor": "gray",
          "arrowhead": 3,
          "arrowsize": 1,
          "arrowwidth": 1,
          "ax": 0.5180798369116695,
          "axref": "x",
          "ay": -0.47037982679973417,
          "ayref": "y",
          "opacity": 0.6,
          "showarrow": true,
          "x": -0.7112972621098032,
          "xref": "x",
          "y": 0.8992788019002059,
          "yref": "y"
         },
         {
          "arrowcolor": "gray",
          "arrowhead": 3,
          "arrowsize": 1,
          "arrowwidth": 1,
          "ax": 0.5180798369116695,
          "axref": "x",
          "ay": -0.47037982679973417,
          "ayref": "y",
          "opacity": 0.6,
          "showarrow": true,
          "x": -0.6608662088316145,
          "xref": "x",
          "y": -0.25949998875660635,
          "yref": "y"
         },
         {
          "arrowcolor": "gray",
          "arrowhead": 3,
          "arrowsize": 1,
          "arrowwidth": 1,
          "ax": 0.5180798369116695,
          "axref": "x",
          "ay": -0.47037982679973417,
          "ayref": "y",
          "opacity": 0.6,
          "showarrow": true,
          "x": 0.024619585126334356,
          "xref": "x",
          "y": 0.17742142131019373,
          "yref": "y"
         },
         {
          "arrowcolor": "gray",
          "arrowhead": 3,
          "arrowsize": 1,
          "arrowwidth": 1,
          "ax": 0.5180798369116695,
          "axref": "x",
          "ay": -0.47037982679973417,
          "ayref": "y",
          "opacity": 0.6,
          "showarrow": true,
          "x": -0.40854021932556955,
          "xref": "x",
          "y": -0.22161431248661012,
          "yref": "y"
         },
         {
          "arrowcolor": "gray",
          "arrowhead": 3,
          "arrowsize": 1,
          "arrowwidth": 1,
          "ax": -0.30641473393356694,
          "axref": "x",
          "ay": -0.5905260976306941,
          "ayref": "y",
          "opacity": 0.6,
          "showarrow": true,
          "x": -0.40854021932556955,
          "xref": "x",
          "y": -0.22161431248661012,
          "yref": "y"
         },
         {
          "arrowcolor": "gray",
          "arrowhead": 3,
          "arrowsize": 1,
          "arrowwidth": 1,
          "ax": -0.30641473393356694,
          "axref": "x",
          "ay": -0.5905260976306941,
          "ayref": "y",
          "opacity": 0.6,
          "showarrow": true,
          "x": -0.06702792264647989,
          "xref": "x",
          "y": -0.0361339171157604,
          "yref": "y"
         },
         {
          "arrowcolor": "gray",
          "arrowhead": 3,
          "arrowsize": 1,
          "arrowwidth": 1,
          "ax": -0.30641473393356694,
          "axref": "x",
          "ay": -0.5905260976306941,
          "ayref": "y",
          "opacity": 0.6,
          "showarrow": true,
          "x": -0.6608662088316145,
          "xref": "x",
          "y": -0.25949998875660635,
          "yref": "y"
         },
         {
          "arrowcolor": "gray",
          "arrowhead": 3,
          "arrowsize": 1,
          "arrowwidth": 1,
          "ax": -0.30641473393356694,
          "axref": "x",
          "ay": -0.5905260976306941,
          "ayref": "y",
          "opacity": 0.6,
          "showarrow": true,
          "x": 0.4429926898097049,
          "xref": "x",
          "y": 0.7010836383005538,
          "yref": "y"
         },
         {
          "arrowcolor": "gray",
          "arrowhead": 3,
          "arrowsize": 1,
          "arrowwidth": 1,
          "ax": -0.30641473393356694,
          "axref": "x",
          "ay": -0.5905260976306941,
          "ayref": "y",
          "opacity": 0.6,
          "showarrow": true,
          "x": -0.30641473393356694,
          "xref": "x",
          "y": -0.5905260976306941,
          "yref": "y"
         },
         {
          "arrowcolor": "gray",
          "arrowhead": 3,
          "arrowsize": 1,
          "arrowwidth": 1,
          "ax": -0.30641473393356694,
          "axref": "x",
          "ay": -0.5905260976306941,
          "ayref": "y",
          "opacity": 0.6,
          "showarrow": true,
          "x": 0.024619585126334356,
          "xref": "x",
          "y": 0.17742142131019373,
          "yref": "y"
         },
         {
          "arrowcolor": "gray",
          "arrowhead": 3,
          "arrowsize": 1,
          "arrowwidth": 1,
          "ax": -0.30641473393356694,
          "axref": "x",
          "ay": -0.5905260976306941,
          "ayref": "y",
          "opacity": 0.6,
          "showarrow": true,
          "x": 0.5657246273692624,
          "xref": "x",
          "y": -0.12760920001822498,
          "yref": "y"
         },
         {
          "arrowcolor": "gray",
          "arrowhead": 3,
          "arrowsize": 1,
          "arrowwidth": 1,
          "ax": -0.30641473393356694,
          "axref": "x",
          "ay": -0.5905260976306941,
          "ayref": "y",
          "opacity": 0.6,
          "showarrow": true,
          "x": -0.6115775591179159,
          "xref": "x",
          "y": 0.2961630537648191,
          "yref": "y"
         },
         {
          "arrowcolor": "gray",
          "arrowhead": 3,
          "arrowsize": 1,
          "arrowwidth": 1,
          "ax": -0.30641473393356694,
          "axref": "x",
          "ay": -0.5905260976306941,
          "ayref": "y",
          "opacity": 0.6,
          "showarrow": true,
          "x": 0.14276141452938906,
          "xref": "x",
          "y": 0.9940695215860331,
          "yref": "y"
         },
         {
          "arrowcolor": "gray",
          "arrowhead": 3,
          "arrowsize": 1,
          "arrowwidth": 1,
          "ax": -0.30641473393356694,
          "axref": "x",
          "ay": -0.5905260976306941,
          "ayref": "y",
          "opacity": 0.6,
          "showarrow": true,
          "x": 0.5180798369116695,
          "xref": "x",
          "y": -0.47037982679973417,
          "yref": "y"
         },
         {
          "arrowcolor": "gray",
          "arrowhead": 3,
          "arrowsize": 1,
          "arrowwidth": 1,
          "ax": -0.30641473393356694,
          "axref": "x",
          "ay": -0.5905260976306941,
          "ayref": "y",
          "opacity": 0.6,
          "showarrow": true,
          "x": 0.533423532258036,
          "xref": "x",
          "y": -0.988493011514228,
          "yref": "y"
         },
         {
          "arrowcolor": "gray",
          "arrowhead": 3,
          "arrowsize": 1,
          "arrowwidth": 1,
          "ax": -0.30641473393356694,
          "axref": "x",
          "ay": -0.5905260976306941,
          "ayref": "y",
          "opacity": 0.6,
          "showarrow": true,
          "x": -0.7112972621098032,
          "xref": "x",
          "y": 0.8992788019002059,
          "yref": "y"
         },
         {
          "arrowcolor": "gray",
          "arrowhead": 3,
          "arrowsize": 1,
          "arrowwidth": 1,
          "ax": -0.40854021932556955,
          "axref": "x",
          "ay": -0.22161431248661012,
          "ayref": "y",
          "opacity": 0.6,
          "showarrow": true,
          "x": -0.6608662088316145,
          "xref": "x",
          "y": -0.25949998875660635,
          "yref": "y"
         },
         {
          "arrowcolor": "gray",
          "arrowhead": 3,
          "arrowsize": 1,
          "arrowwidth": 1,
          "ax": -0.40854021932556955,
          "axref": "x",
          "ay": -0.22161431248661012,
          "ayref": "y",
          "opacity": 0.6,
          "showarrow": true,
          "x": -0.06702792264647989,
          "xref": "x",
          "y": -0.0361339171157604,
          "yref": "y"
         },
         {
          "arrowcolor": "gray",
          "arrowhead": 3,
          "arrowsize": 1,
          "arrowwidth": 1,
          "ax": -0.40854021932556955,
          "axref": "x",
          "ay": -0.22161431248661012,
          "ayref": "y",
          "opacity": 0.6,
          "showarrow": true,
          "x": -0.30641473393356694,
          "xref": "x",
          "y": -0.5905260976306941,
          "yref": "y"
         },
         {
          "arrowcolor": "gray",
          "arrowhead": 3,
          "arrowsize": 1,
          "arrowwidth": 1,
          "ax": -0.40854021932556955,
          "axref": "x",
          "ay": -0.22161431248661012,
          "ayref": "y",
          "opacity": 0.6,
          "showarrow": true,
          "x": 0.5657246273692624,
          "xref": "x",
          "y": -0.12760920001822498,
          "yref": "y"
         },
         {
          "arrowcolor": "gray",
          "arrowhead": 3,
          "arrowsize": 1,
          "arrowwidth": 1,
          "ax": -0.40854021932556955,
          "axref": "x",
          "ay": -0.22161431248661012,
          "ayref": "y",
          "opacity": 0.6,
          "showarrow": true,
          "x": 0.024619585126334356,
          "xref": "x",
          "y": 0.17742142131019373,
          "yref": "y"
         },
         {
          "arrowcolor": "gray",
          "arrowhead": 3,
          "arrowsize": 1,
          "arrowwidth": 1,
          "ax": -0.40854021932556955,
          "axref": "x",
          "ay": -0.22161431248661012,
          "ayref": "y",
          "opacity": 0.6,
          "showarrow": true,
          "x": 0.4429926898097049,
          "xref": "x",
          "y": 0.7010836383005538,
          "yref": "y"
         },
         {
          "arrowcolor": "gray",
          "arrowhead": 3,
          "arrowsize": 1,
          "arrowwidth": 1,
          "ax": -0.40854021932556955,
          "axref": "x",
          "ay": -0.22161431248661012,
          "ayref": "y",
          "opacity": 0.6,
          "showarrow": true,
          "x": -0.40854021932556955,
          "xref": "x",
          "y": -0.22161431248661012,
          "yref": "y"
         },
         {
          "arrowcolor": "gray",
          "arrowhead": 3,
          "arrowsize": 1,
          "arrowwidth": 1,
          "ax": -0.40854021932556955,
          "axref": "x",
          "ay": -0.22161431248661012,
          "ayref": "y",
          "opacity": 0.6,
          "showarrow": true,
          "x": 0.14276141452938906,
          "xref": "x",
          "y": 0.9940695215860331,
          "yref": "y"
         },
         {
          "arrowcolor": "gray",
          "arrowhead": 3,
          "arrowsize": 1,
          "arrowwidth": 1,
          "ax": -0.40854021932556955,
          "axref": "x",
          "ay": -0.22161431248661012,
          "ayref": "y",
          "opacity": 0.6,
          "showarrow": true,
          "x": -0.40788414817798296,
          "xref": "x",
          "y": 0.6262399174600529,
          "yref": "y"
         },
         {
          "arrowcolor": "gray",
          "arrowhead": 3,
          "arrowsize": 1,
          "arrowwidth": 1,
          "ax": -0.40854021932556955,
          "axref": "x",
          "ay": -0.22161431248661012,
          "ayref": "y",
          "opacity": 0.6,
          "showarrow": true,
          "x": 0.533423532258036,
          "xref": "x",
          "y": -0.988493011514228,
          "yref": "y"
         },
         {
          "arrowcolor": "gray",
          "arrowhead": 3,
          "arrowsize": 1,
          "arrowwidth": 1,
          "ax": -0.40854021932556955,
          "axref": "x",
          "ay": -0.22161431248661012,
          "ayref": "y",
          "opacity": 0.6,
          "showarrow": true,
          "x": -0.6115775591179159,
          "xref": "x",
          "y": 0.2961630537648191,
          "yref": "y"
         },
         {
          "arrowcolor": "gray",
          "arrowhead": 3,
          "arrowsize": 1,
          "arrowwidth": 1,
          "ax": -0.40854021932556955,
          "axref": "x",
          "ay": -0.22161431248661012,
          "ayref": "y",
          "opacity": 0.6,
          "showarrow": true,
          "x": -0.7112972621098032,
          "xref": "x",
          "y": 0.8992788019002059,
          "yref": "y"
         },
         {
          "arrowcolor": "gray",
          "arrowhead": 3,
          "arrowsize": 1,
          "arrowwidth": 1,
          "ax": -0.40854021932556955,
          "axref": "x",
          "ay": -0.22161431248661012,
          "ayref": "y",
          "opacity": 0.6,
          "showarrow": true,
          "x": 0.9460063681385369,
          "xref": "x",
          "y": -1,
          "yref": "y"
         },
         {
          "arrowcolor": "gray",
          "arrowhead": 3,
          "arrowsize": 1,
          "arrowwidth": 1,
          "ax": -0.6608662088316145,
          "axref": "x",
          "ay": -0.25949998875660635,
          "ayref": "y",
          "opacity": 0.6,
          "showarrow": true,
          "x": -0.06702792264647989,
          "xref": "x",
          "y": -0.0361339171157604,
          "yref": "y"
         },
         {
          "arrowcolor": "gray",
          "arrowhead": 3,
          "arrowsize": 1,
          "arrowwidth": 1,
          "ax": -0.6608662088316145,
          "axref": "x",
          "ay": -0.25949998875660635,
          "ayref": "y",
          "opacity": 0.6,
          "showarrow": true,
          "x": -0.30641473393356694,
          "xref": "x",
          "y": -0.5905260976306941,
          "yref": "y"
         },
         {
          "arrowcolor": "gray",
          "arrowhead": 3,
          "arrowsize": 1,
          "arrowwidth": 1,
          "ax": -0.6608662088316145,
          "axref": "x",
          "ay": -0.25949998875660635,
          "ayref": "y",
          "opacity": 0.6,
          "showarrow": true,
          "x": -0.40788414817798296,
          "xref": "x",
          "y": 0.6262399174600529,
          "yref": "y"
         },
         {
          "arrowcolor": "gray",
          "arrowhead": 3,
          "arrowsize": 1,
          "arrowwidth": 1,
          "ax": -0.6608662088316145,
          "axref": "x",
          "ay": -0.25949998875660635,
          "ayref": "y",
          "opacity": 0.6,
          "showarrow": true,
          "x": -0.40854021932556955,
          "xref": "x",
          "y": -0.22161431248661012,
          "yref": "y"
         },
         {
          "arrowcolor": "gray",
          "arrowhead": 3,
          "arrowsize": 1,
          "arrowwidth": 1,
          "ax": -0.6608662088316145,
          "axref": "x",
          "ay": -0.25949998875660635,
          "ayref": "y",
          "opacity": 0.6,
          "showarrow": true,
          "x": 0.024619585126334356,
          "xref": "x",
          "y": 0.17742142131019373,
          "yref": "y"
         },
         {
          "arrowcolor": "gray",
          "arrowhead": 3,
          "arrowsize": 1,
          "arrowwidth": 1,
          "ax": -0.6608662088316145,
          "axref": "x",
          "ay": -0.25949998875660635,
          "ayref": "y",
          "opacity": 0.6,
          "showarrow": true,
          "x": 0.5657246273692624,
          "xref": "x",
          "y": -0.12760920001822498,
          "yref": "y"
         },
         {
          "arrowcolor": "gray",
          "arrowhead": 3,
          "arrowsize": 1,
          "arrowwidth": 1,
          "ax": -0.6608662088316145,
          "axref": "x",
          "ay": -0.25949998875660635,
          "ayref": "y",
          "opacity": 0.6,
          "showarrow": true,
          "x": 0.4429926898097049,
          "xref": "x",
          "y": 0.7010836383005538,
          "yref": "y"
         },
         {
          "arrowcolor": "gray",
          "arrowhead": 3,
          "arrowsize": 1,
          "arrowwidth": 1,
          "ax": -0.6608662088316145,
          "axref": "x",
          "ay": -0.25949998875660635,
          "ayref": "y",
          "opacity": 0.6,
          "showarrow": true,
          "x": 0.533423532258036,
          "xref": "x",
          "y": -0.988493011514228,
          "yref": "y"
         },
         {
          "arrowcolor": "gray",
          "arrowhead": 3,
          "arrowsize": 1,
          "arrowwidth": 1,
          "ax": -0.6608662088316145,
          "axref": "x",
          "ay": -0.25949998875660635,
          "ayref": "y",
          "opacity": 0.6,
          "showarrow": true,
          "x": -0.6115775591179159,
          "xref": "x",
          "y": 0.2961630537648191,
          "yref": "y"
         },
         {
          "arrowcolor": "gray",
          "arrowhead": 3,
          "arrowsize": 1,
          "arrowwidth": 1,
          "ax": -0.6608662088316145,
          "axref": "x",
          "ay": -0.25949998875660635,
          "ayref": "y",
          "opacity": 0.6,
          "showarrow": true,
          "x": 0.14276141452938906,
          "xref": "x",
          "y": 0.9940695215860331,
          "yref": "y"
         },
         {
          "arrowcolor": "gray",
          "arrowhead": 3,
          "arrowsize": 1,
          "arrowwidth": 1,
          "ax": -0.6608662088316145,
          "axref": "x",
          "ay": -0.25949998875660635,
          "ayref": "y",
          "opacity": 0.6,
          "showarrow": true,
          "x": -0.7112972621098032,
          "xref": "x",
          "y": 0.8992788019002059,
          "yref": "y"
         },
         {
          "arrowcolor": "gray",
          "arrowhead": 3,
          "arrowsize": 1,
          "arrowwidth": 1,
          "ax": -0.6608662088316145,
          "axref": "x",
          "ay": -0.25949998875660635,
          "ayref": "y",
          "opacity": 0.6,
          "showarrow": true,
          "x": 0.5180798369116695,
          "xref": "x",
          "y": -0.47037982679973417,
          "yref": "y"
         },
         {
          "arrowcolor": "gray",
          "arrowhead": 3,
          "arrowsize": 1,
          "arrowwidth": 1,
          "ax": -0.6608662088316145,
          "axref": "x",
          "ay": -0.25949998875660635,
          "ayref": "y",
          "opacity": 0.6,
          "showarrow": true,
          "x": -0.6608662088316145,
          "xref": "x",
          "y": -0.25949998875660635,
          "yref": "y"
         },
         {
          "arrowcolor": "gray",
          "arrowhead": 3,
          "arrowsize": 1,
          "arrowwidth": 1,
          "ax": -0.06702792264647989,
          "axref": "x",
          "ay": -0.0361339171157604,
          "ayref": "y",
          "opacity": 0.6,
          "showarrow": true,
          "x": 0.024619585126334356,
          "xref": "x",
          "y": 0.17742142131019373,
          "yref": "y"
         },
         {
          "arrowcolor": "gray",
          "arrowhead": 3,
          "arrowsize": 1,
          "arrowwidth": 1,
          "ax": -0.06702792264647989,
          "axref": "x",
          "ay": -0.0361339171157604,
          "ayref": "y",
          "opacity": 0.6,
          "showarrow": true,
          "x": -0.06702792264647989,
          "xref": "x",
          "y": -0.0361339171157604,
          "yref": "y"
         },
         {
          "arrowcolor": "gray",
          "arrowhead": 3,
          "arrowsize": 1,
          "arrowwidth": 1,
          "ax": -0.06702792264647989,
          "axref": "x",
          "ay": -0.0361339171157604,
          "ayref": "y",
          "opacity": 0.6,
          "showarrow": true,
          "x": -0.30641473393356694,
          "xref": "x",
          "y": -0.5905260976306941,
          "yref": "y"
         },
         {
          "arrowcolor": "gray",
          "arrowhead": 3,
          "arrowsize": 1,
          "arrowwidth": 1,
          "ax": -0.06702792264647989,
          "axref": "x",
          "ay": -0.0361339171157604,
          "ayref": "y",
          "opacity": 0.6,
          "showarrow": true,
          "x": 0.14276141452938906,
          "xref": "x",
          "y": 0.9940695215860331,
          "yref": "y"
         },
         {
          "arrowcolor": "gray",
          "arrowhead": 3,
          "arrowsize": 1,
          "arrowwidth": 1,
          "ax": -0.06702792264647989,
          "axref": "x",
          "ay": -0.0361339171157604,
          "ayref": "y",
          "opacity": 0.6,
          "showarrow": true,
          "x": -0.40788414817798296,
          "xref": "x",
          "y": 0.6262399174600529,
          "yref": "y"
         },
         {
          "arrowcolor": "gray",
          "arrowhead": 3,
          "arrowsize": 1,
          "arrowwidth": 1,
          "ax": -0.06702792264647989,
          "axref": "x",
          "ay": -0.0361339171157604,
          "ayref": "y",
          "opacity": 0.6,
          "showarrow": true,
          "x": -0.6115775591179159,
          "xref": "x",
          "y": 0.2961630537648191,
          "yref": "y"
         },
         {
          "arrowcolor": "gray",
          "arrowhead": 3,
          "arrowsize": 1,
          "arrowwidth": 1,
          "ax": -0.06702792264647989,
          "axref": "x",
          "ay": -0.0361339171157604,
          "ayref": "y",
          "opacity": 0.6,
          "showarrow": true,
          "x": -0.7112972621098032,
          "xref": "x",
          "y": 0.8992788019002059,
          "yref": "y"
         },
         {
          "arrowcolor": "gray",
          "arrowhead": 3,
          "arrowsize": 1,
          "arrowwidth": 1,
          "ax": -0.06702792264647989,
          "axref": "x",
          "ay": -0.0361339171157604,
          "ayref": "y",
          "opacity": 0.6,
          "showarrow": true,
          "x": 0.5657246273692624,
          "xref": "x",
          "y": -0.12760920001822498,
          "yref": "y"
         },
         {
          "arrowcolor": "gray",
          "arrowhead": 3,
          "arrowsize": 1,
          "arrowwidth": 1,
          "ax": -0.06702792264647989,
          "axref": "x",
          "ay": -0.0361339171157604,
          "ayref": "y",
          "opacity": 0.6,
          "showarrow": true,
          "x": -0.40854021932556955,
          "xref": "x",
          "y": -0.22161431248661012,
          "yref": "y"
         },
         {
          "arrowcolor": "gray",
          "arrowhead": 3,
          "arrowsize": 1,
          "arrowwidth": 1,
          "ax": -0.06702792264647989,
          "axref": "x",
          "ay": -0.0361339171157604,
          "ayref": "y",
          "opacity": 0.6,
          "showarrow": true,
          "x": 0.4429926898097049,
          "xref": "x",
          "y": 0.7010836383005538,
          "yref": "y"
         },
         {
          "arrowcolor": "gray",
          "arrowhead": 3,
          "arrowsize": 1,
          "arrowwidth": 1,
          "ax": -0.06702792264647989,
          "axref": "x",
          "ay": -0.0361339171157604,
          "ayref": "y",
          "opacity": 0.6,
          "showarrow": true,
          "x": 0.533423532258036,
          "xref": "x",
          "y": -0.988493011514228,
          "yref": "y"
         },
         {
          "arrowcolor": "gray",
          "arrowhead": 3,
          "arrowsize": 1,
          "arrowwidth": 1,
          "ax": -0.06702792264647989,
          "axref": "x",
          "ay": -0.0361339171157604,
          "ayref": "y",
          "opacity": 0.6,
          "showarrow": true,
          "x": -0.6608662088316145,
          "xref": "x",
          "y": -0.25949998875660635,
          "yref": "y"
         },
         {
          "arrowcolor": "gray",
          "arrowhead": 3,
          "arrowsize": 1,
          "arrowwidth": 1,
          "ax": -0.06702792264647989,
          "axref": "x",
          "ay": -0.0361339171157604,
          "ayref": "y",
          "opacity": 0.6,
          "showarrow": true,
          "x": 0.9460063681385369,
          "xref": "x",
          "y": -1,
          "yref": "y"
         },
         {
          "arrowcolor": "gray",
          "arrowhead": 3,
          "arrowsize": 1,
          "arrowwidth": 1,
          "ax": 0.024619585126334356,
          "axref": "x",
          "ay": 0.17742142131019373,
          "ayref": "y",
          "opacity": 0.6,
          "showarrow": true,
          "x": 0.024619585126334356,
          "xref": "x",
          "y": 0.17742142131019373,
          "yref": "y"
         },
         {
          "arrowcolor": "gray",
          "arrowhead": 3,
          "arrowsize": 1,
          "arrowwidth": 1,
          "ax": 0.024619585126334356,
          "axref": "x",
          "ay": 0.17742142131019373,
          "ayref": "y",
          "opacity": 0.6,
          "showarrow": true,
          "x": -0.06702792264647989,
          "xref": "x",
          "y": -0.0361339171157604,
          "yref": "y"
         },
         {
          "arrowcolor": "gray",
          "arrowhead": 3,
          "arrowsize": 1,
          "arrowwidth": 1,
          "ax": 0.024619585126334356,
          "axref": "x",
          "ay": 0.17742142131019373,
          "ayref": "y",
          "opacity": 0.6,
          "showarrow": true,
          "x": -0.40788414817798296,
          "xref": "x",
          "y": 0.6262399174600529,
          "yref": "y"
         },
         {
          "arrowcolor": "gray",
          "arrowhead": 3,
          "arrowsize": 1,
          "arrowwidth": 1,
          "ax": 0.024619585126334356,
          "axref": "x",
          "ay": 0.17742142131019373,
          "ayref": "y",
          "opacity": 0.6,
          "showarrow": true,
          "x": 0.14276141452938906,
          "xref": "x",
          "y": 0.9940695215860331,
          "yref": "y"
         },
         {
          "arrowcolor": "gray",
          "arrowhead": 3,
          "arrowsize": 1,
          "arrowwidth": 1,
          "ax": 0.024619585126334356,
          "axref": "x",
          "ay": 0.17742142131019373,
          "ayref": "y",
          "opacity": 0.6,
          "showarrow": true,
          "x": -0.30641473393356694,
          "xref": "x",
          "y": -0.5905260976306941,
          "yref": "y"
         },
         {
          "arrowcolor": "gray",
          "arrowhead": 3,
          "arrowsize": 1,
          "arrowwidth": 1,
          "ax": 0.024619585126334356,
          "axref": "x",
          "ay": 0.17742142131019373,
          "ayref": "y",
          "opacity": 0.6,
          "showarrow": true,
          "x": -0.6115775591179159,
          "xref": "x",
          "y": 0.2961630537648191,
          "yref": "y"
         },
         {
          "arrowcolor": "gray",
          "arrowhead": 3,
          "arrowsize": 1,
          "arrowwidth": 1,
          "ax": 0.024619585126334356,
          "axref": "x",
          "ay": 0.17742142131019373,
          "ayref": "y",
          "opacity": 0.6,
          "showarrow": true,
          "x": 0.5657246273692624,
          "xref": "x",
          "y": -0.12760920001822498,
          "yref": "y"
         },
         {
          "arrowcolor": "gray",
          "arrowhead": 3,
          "arrowsize": 1,
          "arrowwidth": 1,
          "ax": 0.024619585126334356,
          "axref": "x",
          "ay": 0.17742142131019373,
          "ayref": "y",
          "opacity": 0.6,
          "showarrow": true,
          "x": -0.40854021932556955,
          "xref": "x",
          "y": -0.22161431248661012,
          "yref": "y"
         },
         {
          "arrowcolor": "gray",
          "arrowhead": 3,
          "arrowsize": 1,
          "arrowwidth": 1,
          "ax": 0.024619585126334356,
          "axref": "x",
          "ay": 0.17742142131019373,
          "ayref": "y",
          "opacity": 0.6,
          "showarrow": true,
          "x": 0.533423532258036,
          "xref": "x",
          "y": -0.988493011514228,
          "yref": "y"
         },
         {
          "arrowcolor": "gray",
          "arrowhead": 3,
          "arrowsize": 1,
          "arrowwidth": 1,
          "ax": 0.024619585126334356,
          "axref": "x",
          "ay": 0.17742142131019373,
          "ayref": "y",
          "opacity": 0.6,
          "showarrow": true,
          "x": 0.4429926898097049,
          "xref": "x",
          "y": 0.7010836383005538,
          "yref": "y"
         },
         {
          "arrowcolor": "gray",
          "arrowhead": 3,
          "arrowsize": 1,
          "arrowwidth": 1,
          "ax": 0.024619585126334356,
          "axref": "x",
          "ay": 0.17742142131019373,
          "ayref": "y",
          "opacity": 0.6,
          "showarrow": true,
          "x": -0.7112972621098032,
          "xref": "x",
          "y": 0.8992788019002059,
          "yref": "y"
         },
         {
          "arrowcolor": "gray",
          "arrowhead": 3,
          "arrowsize": 1,
          "arrowwidth": 1,
          "ax": 0.024619585126334356,
          "axref": "x",
          "ay": 0.17742142131019373,
          "ayref": "y",
          "opacity": 0.6,
          "showarrow": true,
          "x": -0.6608662088316145,
          "xref": "x",
          "y": -0.25949998875660635,
          "yref": "y"
         },
         {
          "arrowcolor": "gray",
          "arrowhead": 3,
          "arrowsize": 1,
          "arrowwidth": 1,
          "ax": 0.024619585126334356,
          "axref": "x",
          "ay": 0.17742142131019373,
          "ayref": "y",
          "opacity": 0.6,
          "showarrow": true,
          "x": 0.9460063681385369,
          "xref": "x",
          "y": -1,
          "yref": "y"
         }
        ],
        "plot_bgcolor": "white",
        "showlegend": false,
        "template": {
         "data": {
          "bar": [
           {
            "error_x": {
             "color": "#2a3f5f"
            },
            "error_y": {
             "color": "#2a3f5f"
            },
            "marker": {
             "line": {
              "color": "#E5ECF6",
              "width": 0.5
             },
             "pattern": {
              "fillmode": "overlay",
              "size": 10,
              "solidity": 0.2
             }
            },
            "type": "bar"
           }
          ],
          "barpolar": [
           {
            "marker": {
             "line": {
              "color": "#E5ECF6",
              "width": 0.5
             },
             "pattern": {
              "fillmode": "overlay",
              "size": 10,
              "solidity": 0.2
             }
            },
            "type": "barpolar"
           }
          ],
          "carpet": [
           {
            "aaxis": {
             "endlinecolor": "#2a3f5f",
             "gridcolor": "white",
             "linecolor": "white",
             "minorgridcolor": "white",
             "startlinecolor": "#2a3f5f"
            },
            "baxis": {
             "endlinecolor": "#2a3f5f",
             "gridcolor": "white",
             "linecolor": "white",
             "minorgridcolor": "white",
             "startlinecolor": "#2a3f5f"
            },
            "type": "carpet"
           }
          ],
          "choropleth": [
           {
            "colorbar": {
             "outlinewidth": 0,
             "ticks": ""
            },
            "type": "choropleth"
           }
          ],
          "contour": [
           {
            "colorbar": {
             "outlinewidth": 0,
             "ticks": ""
            },
            "colorscale": [
             [
              0,
              "#0d0887"
             ],
             [
              0.1111111111111111,
              "#46039f"
             ],
             [
              0.2222222222222222,
              "#7201a8"
             ],
             [
              0.3333333333333333,
              "#9c179e"
             ],
             [
              0.4444444444444444,
              "#bd3786"
             ],
             [
              0.5555555555555556,
              "#d8576b"
             ],
             [
              0.6666666666666666,
              "#ed7953"
             ],
             [
              0.7777777777777778,
              "#fb9f3a"
             ],
             [
              0.8888888888888888,
              "#fdca26"
             ],
             [
              1,
              "#f0f921"
             ]
            ],
            "type": "contour"
           }
          ],
          "contourcarpet": [
           {
            "colorbar": {
             "outlinewidth": 0,
             "ticks": ""
            },
            "type": "contourcarpet"
           }
          ],
          "heatmap": [
           {
            "colorbar": {
             "outlinewidth": 0,
             "ticks": ""
            },
            "colorscale": [
             [
              0,
              "#0d0887"
             ],
             [
              0.1111111111111111,
              "#46039f"
             ],
             [
              0.2222222222222222,
              "#7201a8"
             ],
             [
              0.3333333333333333,
              "#9c179e"
             ],
             [
              0.4444444444444444,
              "#bd3786"
             ],
             [
              0.5555555555555556,
              "#d8576b"
             ],
             [
              0.6666666666666666,
              "#ed7953"
             ],
             [
              0.7777777777777778,
              "#fb9f3a"
             ],
             [
              0.8888888888888888,
              "#fdca26"
             ],
             [
              1,
              "#f0f921"
             ]
            ],
            "type": "heatmap"
           }
          ],
          "heatmapgl": [
           {
            "colorbar": {
             "outlinewidth": 0,
             "ticks": ""
            },
            "colorscale": [
             [
              0,
              "#0d0887"
             ],
             [
              0.1111111111111111,
              "#46039f"
             ],
             [
              0.2222222222222222,
              "#7201a8"
             ],
             [
              0.3333333333333333,
              "#9c179e"
             ],
             [
              0.4444444444444444,
              "#bd3786"
             ],
             [
              0.5555555555555556,
              "#d8576b"
             ],
             [
              0.6666666666666666,
              "#ed7953"
             ],
             [
              0.7777777777777778,
              "#fb9f3a"
             ],
             [
              0.8888888888888888,
              "#fdca26"
             ],
             [
              1,
              "#f0f921"
             ]
            ],
            "type": "heatmapgl"
           }
          ],
          "histogram": [
           {
            "marker": {
             "pattern": {
              "fillmode": "overlay",
              "size": 10,
              "solidity": 0.2
             }
            },
            "type": "histogram"
           }
          ],
          "histogram2d": [
           {
            "colorbar": {
             "outlinewidth": 0,
             "ticks": ""
            },
            "colorscale": [
             [
              0,
              "#0d0887"
             ],
             [
              0.1111111111111111,
              "#46039f"
             ],
             [
              0.2222222222222222,
              "#7201a8"
             ],
             [
              0.3333333333333333,
              "#9c179e"
             ],
             [
              0.4444444444444444,
              "#bd3786"
             ],
             [
              0.5555555555555556,
              "#d8576b"
             ],
             [
              0.6666666666666666,
              "#ed7953"
             ],
             [
              0.7777777777777778,
              "#fb9f3a"
             ],
             [
              0.8888888888888888,
              "#fdca26"
             ],
             [
              1,
              "#f0f921"
             ]
            ],
            "type": "histogram2d"
           }
          ],
          "histogram2dcontour": [
           {
            "colorbar": {
             "outlinewidth": 0,
             "ticks": ""
            },
            "colorscale": [
             [
              0,
              "#0d0887"
             ],
             [
              0.1111111111111111,
              "#46039f"
             ],
             [
              0.2222222222222222,
              "#7201a8"
             ],
             [
              0.3333333333333333,
              "#9c179e"
             ],
             [
              0.4444444444444444,
              "#bd3786"
             ],
             [
              0.5555555555555556,
              "#d8576b"
             ],
             [
              0.6666666666666666,
              "#ed7953"
             ],
             [
              0.7777777777777778,
              "#fb9f3a"
             ],
             [
              0.8888888888888888,
              "#fdca26"
             ],
             [
              1,
              "#f0f921"
             ]
            ],
            "type": "histogram2dcontour"
           }
          ],
          "mesh3d": [
           {
            "colorbar": {
             "outlinewidth": 0,
             "ticks": ""
            },
            "type": "mesh3d"
           }
          ],
          "parcoords": [
           {
            "line": {
             "colorbar": {
              "outlinewidth": 0,
              "ticks": ""
             }
            },
            "type": "parcoords"
           }
          ],
          "pie": [
           {
            "automargin": true,
            "type": "pie"
           }
          ],
          "scatter": [
           {
            "fillpattern": {
             "fillmode": "overlay",
             "size": 10,
             "solidity": 0.2
            },
            "type": "scatter"
           }
          ],
          "scatter3d": [
           {
            "line": {
             "colorbar": {
              "outlinewidth": 0,
              "ticks": ""
             }
            },
            "marker": {
             "colorbar": {
              "outlinewidth": 0,
              "ticks": ""
             }
            },
            "type": "scatter3d"
           }
          ],
          "scattercarpet": [
           {
            "marker": {
             "colorbar": {
              "outlinewidth": 0,
              "ticks": ""
             }
            },
            "type": "scattercarpet"
           }
          ],
          "scattergeo": [
           {
            "marker": {
             "colorbar": {
              "outlinewidth": 0,
              "ticks": ""
             }
            },
            "type": "scattergeo"
           }
          ],
          "scattergl": [
           {
            "marker": {
             "colorbar": {
              "outlinewidth": 0,
              "ticks": ""
             }
            },
            "type": "scattergl"
           }
          ],
          "scattermapbox": [
           {
            "marker": {
             "colorbar": {
              "outlinewidth": 0,
              "ticks": ""
             }
            },
            "type": "scattermapbox"
           }
          ],
          "scatterpolar": [
           {
            "marker": {
             "colorbar": {
              "outlinewidth": 0,
              "ticks": ""
             }
            },
            "type": "scatterpolar"
           }
          ],
          "scatterpolargl": [
           {
            "marker": {
             "colorbar": {
              "outlinewidth": 0,
              "ticks": ""
             }
            },
            "type": "scatterpolargl"
           }
          ],
          "scatterternary": [
           {
            "marker": {
             "colorbar": {
              "outlinewidth": 0,
              "ticks": ""
             }
            },
            "type": "scatterternary"
           }
          ],
          "surface": [
           {
            "colorbar": {
             "outlinewidth": 0,
             "ticks": ""
            },
            "colorscale": [
             [
              0,
              "#0d0887"
             ],
             [
              0.1111111111111111,
              "#46039f"
             ],
             [
              0.2222222222222222,
              "#7201a8"
             ],
             [
              0.3333333333333333,
              "#9c179e"
             ],
             [
              0.4444444444444444,
              "#bd3786"
             ],
             [
              0.5555555555555556,
              "#d8576b"
             ],
             [
              0.6666666666666666,
              "#ed7953"
             ],
             [
              0.7777777777777778,
              "#fb9f3a"
             ],
             [
              0.8888888888888888,
              "#fdca26"
             ],
             [
              1,
              "#f0f921"
             ]
            ],
            "type": "surface"
           }
          ],
          "table": [
           {
            "cells": {
             "fill": {
              "color": "#EBF0F8"
             },
             "line": {
              "color": "white"
             }
            },
            "header": {
             "fill": {
              "color": "#C8D4E3"
             },
             "line": {
              "color": "white"
             }
            },
            "type": "table"
           }
          ]
         },
         "layout": {
          "annotationdefaults": {
           "arrowcolor": "#2a3f5f",
           "arrowhead": 0,
           "arrowwidth": 1
          },
          "autotypenumbers": "strict",
          "coloraxis": {
           "colorbar": {
            "outlinewidth": 0,
            "ticks": ""
           }
          },
          "colorscale": {
           "diverging": [
            [
             0,
             "#8e0152"
            ],
            [
             0.1,
             "#c51b7d"
            ],
            [
             0.2,
             "#de77ae"
            ],
            [
             0.3,
             "#f1b6da"
            ],
            [
             0.4,
             "#fde0ef"
            ],
            [
             0.5,
             "#f7f7f7"
            ],
            [
             0.6,
             "#e6f5d0"
            ],
            [
             0.7,
             "#b8e186"
            ],
            [
             0.8,
             "#7fbc41"
            ],
            [
             0.9,
             "#4d9221"
            ],
            [
             1,
             "#276419"
            ]
           ],
           "sequential": [
            [
             0,
             "#0d0887"
            ],
            [
             0.1111111111111111,
             "#46039f"
            ],
            [
             0.2222222222222222,
             "#7201a8"
            ],
            [
             0.3333333333333333,
             "#9c179e"
            ],
            [
             0.4444444444444444,
             "#bd3786"
            ],
            [
             0.5555555555555556,
             "#d8576b"
            ],
            [
             0.6666666666666666,
             "#ed7953"
            ],
            [
             0.7777777777777778,
             "#fb9f3a"
            ],
            [
             0.8888888888888888,
             "#fdca26"
            ],
            [
             1,
             "#f0f921"
            ]
           ],
           "sequentialminus": [
            [
             0,
             "#0d0887"
            ],
            [
             0.1111111111111111,
             "#46039f"
            ],
            [
             0.2222222222222222,
             "#7201a8"
            ],
            [
             0.3333333333333333,
             "#9c179e"
            ],
            [
             0.4444444444444444,
             "#bd3786"
            ],
            [
             0.5555555555555556,
             "#d8576b"
            ],
            [
             0.6666666666666666,
             "#ed7953"
            ],
            [
             0.7777777777777778,
             "#fb9f3a"
            ],
            [
             0.8888888888888888,
             "#fdca26"
            ],
            [
             1,
             "#f0f921"
            ]
           ]
          },
          "colorway": [
           "#636efa",
           "#EF553B",
           "#00cc96",
           "#ab63fa",
           "#FFA15A",
           "#19d3f3",
           "#FF6692",
           "#B6E880",
           "#FF97FF",
           "#FECB52"
          ],
          "font": {
           "color": "#2a3f5f"
          },
          "geo": {
           "bgcolor": "white",
           "lakecolor": "white",
           "landcolor": "#E5ECF6",
           "showlakes": true,
           "showland": true,
           "subunitcolor": "white"
          },
          "hoverlabel": {
           "align": "left"
          },
          "hovermode": "closest",
          "mapbox": {
           "style": "light"
          },
          "paper_bgcolor": "white",
          "plot_bgcolor": "#E5ECF6",
          "polar": {
           "angularaxis": {
            "gridcolor": "white",
            "linecolor": "white",
            "ticks": ""
           },
           "bgcolor": "#E5ECF6",
           "radialaxis": {
            "gridcolor": "white",
            "linecolor": "white",
            "ticks": ""
           }
          },
          "scene": {
           "xaxis": {
            "backgroundcolor": "#E5ECF6",
            "gridcolor": "white",
            "gridwidth": 2,
            "linecolor": "white",
            "showbackground": true,
            "ticks": "",
            "zerolinecolor": "white"
           },
           "yaxis": {
            "backgroundcolor": "#E5ECF6",
            "gridcolor": "white",
            "gridwidth": 2,
            "linecolor": "white",
            "showbackground": true,
            "ticks": "",
            "zerolinecolor": "white"
           },
           "zaxis": {
            "backgroundcolor": "#E5ECF6",
            "gridcolor": "white",
            "gridwidth": 2,
            "linecolor": "white",
            "showbackground": true,
            "ticks": "",
            "zerolinecolor": "white"
           }
          },
          "shapedefaults": {
           "line": {
            "color": "#2a3f5f"
           }
          },
          "ternary": {
           "aaxis": {
            "gridcolor": "white",
            "linecolor": "white",
            "ticks": ""
           },
           "baxis": {
            "gridcolor": "white",
            "linecolor": "white",
            "ticks": ""
           },
           "bgcolor": "#E5ECF6",
           "caxis": {
            "gridcolor": "white",
            "linecolor": "white",
            "ticks": ""
           }
          },
          "title": {
           "x": 0.05
          },
          "xaxis": {
           "automargin": true,
           "gridcolor": "white",
           "linecolor": "white",
           "ticks": "",
           "title": {
            "standoff": 15
           },
           "zerolinecolor": "white",
           "zerolinewidth": 2
          },
          "yaxis": {
           "automargin": true,
           "gridcolor": "white",
           "linecolor": "white",
           "ticks": "",
           "title": {
            "standoff": 15
           },
           "zerolinecolor": "white",
           "zerolinewidth": 2
          }
         }
        },
        "title": {
         "text": "Filtered Event Flowchart with Likeliest Transition Percentages"
        },
        "xaxis": {
         "showgrid": false,
         "showticklabels": false,
         "zeroline": false
        },
        "yaxis": {
         "showgrid": false,
         "showticklabels": false,
         "zeroline": false
        }
       }
      }
     },
     "metadata": {},
     "output_type": "display_data"
    }
   ],
   "source": [
    "def pairwise(iterable):\n",
    "    a, b = tee(iterable)\n",
    "    next(b, None)\n",
    "    return zip(a, b)\n",
    "\n",
    "min_count = 4000\n",
    "frequent_events = processed_data['event_type'].value_counts()[lambda x: x >= min_count].index.tolist()\n",
    "\n",
    "# Filter your data accordingly:\n",
    "filtered_data = processed_data[processed_data['event_type'].isin(frequent_events)]\n",
    "\n",
    "# Group each user's events into a list from filtered data\n",
    "sequences = filtered_data.groupby('user_id')['event_type'].apply(list)\n",
    "\n",
    "# Count transitions between consecutive events\n",
    "transition_counts = defaultdict(int)\n",
    "for seq in sequences:\n",
    "    for a, b in pairwise(seq):\n",
    "        transition_counts[(a, b)] += 1\n",
    "\n",
    "# Build directed graph using transition counts as weights\n",
    "G = nx.DiGraph()\n",
    "for (a, b), count in transition_counts.items():\n",
    "    G.add_edge(a, b, weight=count)\n",
    "\n",
    "node_likelihood = {}\n",
    "for node in G.nodes():\n",
    "    out_edges = list(G.out_edges(node, data=True))\n",
    "    total = sum(data['weight'] for _, _, data in out_edges)\n",
    "    if total > 0:\n",
    "        max_edge = max(out_edges, key=lambda x: x[2]['weight'])\n",
    "        prob = max_edge[2]['weight'] / total  # probability (0-1)\n",
    "        node_likelihood[node] = prob\n",
    "    else:\n",
    "        node_likelihood[node] = None  # no outgoing transitions\n",
    "\n",
    "# Use spring layout with increased spacing (adjust k parameter as needed)\n",
    "pos = nx.spring_layout(G, seed=42, k=10)\n",
    "\n",
    "node_x = []\n",
    "node_y = []\n",
    "node_text = []\n",
    "for node in G.nodes():\n",
    "    x, y = pos[node]\n",
    "    node_x.append(x)\n",
    "    node_y.append(y)\n",
    "    if node_likelihood[node] is not None:\n",
    "        text = f\"{node}<br>Max transition: {node_likelihood[node]*100:.1f}%\"\n",
    "    else:\n",
    "        text = f\"{node}<br>No outgoing\"\n",
    "    node_text.append(text)\n",
    "\n",
    "node_trace = go.Scatter(\n",
    "    x=node_x,\n",
    "    y=node_y,\n",
    "    mode='markers+text',\n",
    "    text=node_text,\n",
    "    textposition=\"top center\",\n",
    "    marker=dict(\n",
    "        size=20,\n",
    "        color='LightSkyBlue',\n",
    "        line=dict(width=2)\n",
    "    )\n",
    ")\n",
    "\n",
    "arrow_annotations = []\n",
    "for u, v, data in G.edges(data=True):\n",
    "    x0, y0 = pos[u]\n",
    "    x1, y1 = pos[v]\n",
    "    arrow_annotations.append(\n",
    "        dict(\n",
    "            x=x1, y=y1,\n",
    "            ax=x0, ay=y0,\n",
    "            xref=\"x\", yref=\"y\",\n",
    "            axref=\"x\", ayref=\"y\",\n",
    "            showarrow=True,\n",
    "            arrowhead=3,\n",
    "            arrowsize=1,\n",
    "            arrowwidth=1,\n",
    "            arrowcolor=\"gray\",\n",
    "            opacity=0.6\n",
    "        )\n",
    "    )\n",
    "\n",
    "fig = go.Figure(data=[node_trace])\n",
    "fig.update_layout(\n",
    "    title=\"Filtered Event Flowchart with Likeliest Transition Percentages\",\n",
    "    showlegend=False,\n",
    "    xaxis=dict(showgrid=False, zeroline=False, showticklabels=False),\n",
    "    yaxis=dict(showgrid=False, zeroline=False, showticklabels=False),\n",
    "    annotations=arrow_annotations,\n",
    "    plot_bgcolor=\"white\"\n",
    ")\n",
    "\n",
    "# Save the figure as JSON\n",
    "fig_json = fig.to_json()\n",
    "with open(\"Filtered_Event_Flowchart_with_Likeliest_Transition_Percentages.json\", \"w\") as f:\n",
    "    f.write(fig_json)\n",
    "fig.show()\n"
   ]
  },
  {
   "cell_type": "code",
   "execution_count": 45,
   "id": "4a743e5e-51dc-4087-bd8b-0950560c0d87",
   "metadata": {},
   "outputs": [],
   "source": [
    "# Build event co-occurrence matrix (using a helper function \"pairwise\")\n",
    "event_pairs = processed_data.groupby('user_id')['event_type'].apply(\n",
    "    lambda x: list(pairwise(x.dropna().unique()))\n",
    ")\n",
    "\n",
    "# Build the directed graph from event pairs\n",
    "G = nx.DiGraph()\n",
    "for path in event_pairs:\n",
    "    for a, b in pairwise(path):\n",
    "        G.add_edge(a, b, weight=G.get_edge_data(a, b, default={'weight':0})['weight'] + 1)\n",
    "\n",
    "# Calculate centrality measures\n",
    "betweenness = nx.betweenness_centrality(G, weight='weight')\n",
    "pagerank = nx.pagerank(G, weight='weight')\n",
    "\n",
    "# Create a DataFrame with the results\n",
    "centrality_df = pd.DataFrame({\n",
    "    'event': list(pagerank.keys()),\n",
    "    'pagerank': list(pagerank.values()),\n",
    "    'betweenness': [betweenness[e] for e in pagerank.keys()]\n",
    "})\n",
    "\n",
    "# Normalize the centrality values (if desired)\n",
    "scaler = MinMaxScaler()\n",
    "centrality_df[['pagerank_norm', 'betweenness_norm']] = scaler.fit_transform(\n",
    "    centrality_df[['pagerank', 'betweenness']]\n",
    ")"
   ]
  },
  {
   "cell_type": "code",
   "execution_count": 46,
   "id": "8e4caebf-0746-4bdc-b674-ce2dec681647",
   "metadata": {},
   "outputs": [
    {
     "name": "stdout",
     "output_type": "stream",
     "text": [
      "High Power Nodes:\n",
      "                                                 event  pagerank  betweenness\n",
      "0                         (session_end, session_start)  0.014871     0.135008\n",
      "3    (action-center:::submit-click, action-center:a...  0.009414     0.028051\n",
      "4    (action-center:action-details::view, action-ce...  0.007990     0.038060\n",
      "9    (dashboard:my-book:widget:render, dashboard:my...  0.017806     0.104893\n",
      "10   (:all-accounts:configurable-table:render, :all...  0.020434     0.120773\n",
      "12   (:all-accounts:layout:render, :all-accounts::v...  0.024359     0.165568\n",
      "14   (account-lines::layout:render, account-lines::...  0.029337     0.048761\n",
      "17   (account-lines::widget:render, account-lines::...  0.023577     0.113950\n",
      "20   (::nav-header:action-center-click, action-cent...  0.021055     0.170149\n",
      "27   (dashboard:my-book:layout:render, dashboard:my...  0.020897     0.236070\n",
      "32   (dashboard:portfolio-insights:layout:render, d...  0.005536     0.039860\n",
      "44      (account:::view, account-lines::layout:render)  0.009636     0.053573\n",
      "55   (triaged-submission-list:my-book:configurable-...  0.007114     0.101402\n",
      "58   (account-property-rating:perils:configurable-t...  0.005717     0.058669\n",
      "63      (account-lines::layout:render, account:::view)  0.004867     0.030641\n",
      "83   (action-center:::view, action-center:::close-c...  0.005110     0.105658\n",
      "85   (dashboard:my-book:configurable-table:render, ...  0.007501     0.076859\n",
      "188  (submissions:all-policy:configurable-table:ren...  0.006358     0.097661\n",
      "226  (account-broker-readonly-view::layout:render, ...  0.003211     0.028462\n"
     ]
    }
   ],
   "source": [
    "# --- Filter High Power Nodes ---\n",
    "# Define percentile thresholds (e.g., top 20% = 80th percentile)\n",
    "TOP_PAGERANK_PCT = 95\n",
    "TOP_BETWEENNESS_PCT = 95\n",
    "\n",
    "pagerank_cutoff = np.percentile(centrality_df['pagerank'], TOP_PAGERANK_PCT)\n",
    "betweenness_cutoff = np.percentile(centrality_df['betweenness'], TOP_BETWEENNESS_PCT)\n",
    "\n",
    "# Filter nodes that exceed both thresholds\n",
    "power_nodes = centrality_df[\n",
    "    (centrality_df['pagerank'] >= pagerank_cutoff) &\n",
    "    (centrality_df['betweenness'] >= betweenness_cutoff)\n",
    "]\n",
    "\n",
    "print(\"High Power Nodes:\")\n",
    "print(power_nodes[['event', 'pagerank', 'betweenness']])"
   ]
  },
  {
   "cell_type": "markdown",
   "id": "e8a27a6f-0467-4489-8edf-461647d8759e",
   "metadata": {
    "jp-MarkdownHeadingCollapsed": true
   },
   "source": [
    "### Casual Inference"
   ]
  },
  {
   "cell_type": "code",
   "execution_count": 47,
   "id": "94eee7cc-543e-4858-a5ef-f5719617929b",
   "metadata": {},
   "outputs": [
    {
     "name": "stdout",
     "output_type": "stream",
     "text": [
      "User-level summary:\n",
      "                                user_id              first_seen  \\\n",
      "0  00edf9a8-949a-415d-8ed2-ae04b8f4d326 2025-01-02 15:02:33.007   \n",
      "1  012562f9-1ca0-4a82-8a47-0c4f5d6db7bb 2025-01-02 22:00:45.026   \n",
      "2  0137eb6b-c710-46f5-8667-b0669339d5ef 2024-12-19 20:04:41.516   \n",
      "3  01708ccf-437b-44ed-b5a0-2fed8f7761d3 2025-01-02 16:05:55.550   \n",
      "4  024e0855-dc2f-42cf-9209-93f3ea5f99d0 2024-12-20 20:58:29.901   \n",
      "\n",
      "                last_seen  total_events  observation_days  engagement  \n",
      "0 2025-01-28 14:35:49.660            76                26          76  \n",
      "1 2025-01-28 18:46:16.279           840                25         840  \n",
      "2 2025-01-02 16:12:26.978            11                39          11  \n",
      "3 2025-01-28 14:33:27.723          1114                26        1114  \n",
      "4 2025-01-17 17:51:01.702            89                38          89  \n",
      "Top Events by Frequency:\n",
      " account-lines::widget:render                   44168\n",
      "account-lines::configurable-table:render       26420\n",
      "account-lines:::view                           11428\n",
      "account-lines::layout:render                   10978\n",
      "dashboard:my-book:configurable-table:render    10180\n",
      "dashboard:my-book:widget:render                 9442\n",
      "account:::view                                  6736\n",
      "session_start                                   6014\n",
      "session_end                                     5265\n",
      "application-window-opened                       4925\n",
      "Name: event_type, dtype: int64\n",
      "User history with event indicators:\n",
      "                                user_id              first_seen  \\\n",
      "0  00edf9a8-949a-415d-8ed2-ae04b8f4d326 2025-01-02 15:02:33.007   \n",
      "1  012562f9-1ca0-4a82-8a47-0c4f5d6db7bb 2025-01-02 22:00:45.026   \n",
      "2  0137eb6b-c710-46f5-8667-b0669339d5ef 2024-12-19 20:04:41.516   \n",
      "3  01708ccf-437b-44ed-b5a0-2fed8f7761d3 2025-01-02 16:05:55.550   \n",
      "4  024e0855-dc2f-42cf-9209-93f3ea5f99d0 2024-12-20 20:58:29.901   \n",
      "\n",
      "                last_seen  total_events  observation_days  engagement  \\\n",
      "0 2025-01-28 14:35:49.660            76                26          76   \n",
      "1 2025-01-28 18:46:16.279           840                25         840   \n",
      "2 2025-01-02 16:12:26.978            11                39          11   \n",
      "3 2025-01-28 14:33:27.723          1114                26        1114   \n",
      "4 2025-01-17 17:51:01.702            89                38          89   \n",
      "\n",
      "   did_account-lines::widget:render  \\\n",
      "0                                 0   \n",
      "1                                 1   \n",
      "2                                 0   \n",
      "3                                 1   \n",
      "4                                 1   \n",
      "\n",
      "   did_account-lines::configurable-table:render  did_account-lines:::view  \\\n",
      "0                                             0                         0   \n",
      "1                                             1                         1   \n",
      "2                                             0                         0   \n",
      "3                                             1                         1   \n",
      "4                                             1                         1   \n",
      "\n",
      "   did_account-lines::layout:render  \\\n",
      "0                                 0   \n",
      "1                                 1   \n",
      "2                                 0   \n",
      "3                                 1   \n",
      "4                                 1   \n",
      "\n",
      "   did_dashboard:my-book:configurable-table:render  \\\n",
      "0                                                1   \n",
      "1                                                1   \n",
      "2                                                1   \n",
      "3                                                1   \n",
      "4                                                1   \n",
      "\n",
      "   did_dashboard:my-book:widget:render  did_account:::view  did_session_start  \\\n",
      "0                                    1                   0                  1   \n",
      "1                                    1                   1                  1   \n",
      "2                                    1                   0                  1   \n",
      "3                                    1                   1                  1   \n",
      "4                                    1                   1                  1   \n",
      "\n",
      "   did_session_end  did_application-window-opened  \n",
      "0                1                              1  \n",
      "1                1                              1  \n",
      "2                1                              1  \n",
      "3                1                              1  \n",
      "4                1                              1  \n"
     ]
    },
    {
     "ename": "NameError",
     "evalue": "name 'sm' is not defined",
     "output_type": "error",
     "traceback": [
      "\u001b[0;31m---------------------------------------------------------------------------\u001b[0m",
      "\u001b[0;31mNameError\u001b[0m                                 Traceback (most recent call last)",
      "Cell \u001b[0;32mIn[47], line 47\u001b[0m\n\u001b[1;32m     44\u001b[0m y \u001b[38;5;241m=\u001b[39m user_history[\u001b[38;5;124m'\u001b[39m\u001b[38;5;124mengagement\u001b[39m\u001b[38;5;124m'\u001b[39m]\n\u001b[1;32m     46\u001b[0m \u001b[38;5;66;03m# Optionally standardize predictors or leave as-is\u001b[39;00m\n\u001b[0;32m---> 47\u001b[0m X \u001b[38;5;241m=\u001b[39m \u001b[43msm\u001b[49m\u001b[38;5;241m.\u001b[39madd_constant(X)  \u001b[38;5;66;03m# adds an intercept\u001b[39;00m\n\u001b[1;32m     49\u001b[0m \u001b[38;5;66;03m# Fit an OLS model to estimate the effect of each user action on engagement\u001b[39;00m\n\u001b[1;32m     50\u001b[0m model \u001b[38;5;241m=\u001b[39m sm\u001b[38;5;241m.\u001b[39mOLS(y, X)\u001b[38;5;241m.\u001b[39mfit()\n",
      "\u001b[0;31mNameError\u001b[0m: name 'sm' is not defined"
     ]
    }
   ],
   "source": [
    "causal_df = df.copy()\n",
    "causal_df['event_time'] = pd.to_datetime(causal_df['event_time'])\n",
    "# Define analysis date as the maximum event time\n",
    "analysis_date = causal_df['event_time'].max()\n",
    "\n",
    "# Aggregate per user: first_seen, last_seen, total_events (a proxy for engagement)\n",
    "user_history = causal_df.groupby('user_id').agg(\n",
    "    first_seen=('event_time', 'min'),\n",
    "    last_seen=('event_time', 'max'),\n",
    "    total_events=('event_type', 'count')\n",
    ").reset_index()\n",
    "\n",
    "# Calculate observation period (in days) if needed\n",
    "user_history['observation_days'] = (analysis_date - user_history['first_seen']).dt.days\n",
    "\n",
    "# In this dataset, since nearly all users are active (100% retention), we use total_events as a proxy for retention/engagement.\n",
    "user_history['engagement'] = user_history['total_events']\n",
    "\n",
    "print(\"User-level summary:\")\n",
    "print(user_history.head())\n",
    "\n",
    "# -------------------------------\n",
    "# 3. Identify Top Events & Generate Event Indicators\n",
    "# -------------------------------\n",
    "# Identify the top 10 events by frequency\n",
    "top_events = causal_df['event_type'].value_counts().nlargest(10)\n",
    "print(\"Top Events by Frequency:\\n\", top_events)\n",
    "\n",
    "# For each top event, create a binary indicator for whether a user performed it\n",
    "user_events = causal_df.groupby('user_id')['event_type'].unique().reset_index()\n",
    "for event in top_events.index:\n",
    "    user_events[f'did_{event}'] = user_events['event_type'].apply(lambda events: int(event in events))\n",
    "\n",
    "# Merge these event indicators into the user_history DataFrame\n",
    "user_history = user_history.merge(user_events.drop(columns=['event_type']), on='user_id', how='left')\n",
    "print(\"User history with event indicators:\")\n",
    "print(user_history.head())\n",
    "\n",
    "# Use all did_ columns as covariates\n",
    "covariate_cols = [col for col in user_history.columns if col.startswith(\"did_\")]\n",
    "\n",
    "# Prepare the design matrix X and outcome y (engagement)\n",
    "X = user_history[covariate_cols].fillna(0)\n",
    "y = user_history['engagement']\n",
    "\n",
    "# Optionally standardize predictors or leave as-is\n",
    "X = sm.add_constant(X)  # adds an intercept\n",
    "\n",
    "# Fit an OLS model to estimate the effect of each user action on engagement\n",
    "model = sm.OLS(y, X).fit()\n",
    "print(model.summary())\n",
    "\n",
    "# Extract coefficients for the event indicators and compute p-values\n",
    "coef_df = pd.DataFrame({\n",
    "    'event': covariate_cols,\n",
    "    'coef': model.params[covariate_cols],\n",
    "    'p_value': model.pvalues[covariate_cols]\n",
    "}).sort_values('coef', ascending=False)\n",
    "\n",
    "print(\"Estimated Effects (Odds Ratios Proxy):\")\n",
    "print(coef_df)\n",
    "\n",
    "plt.figure(figsize=(10,6))\n",
    "sns.barplot(x='coef', y='event', data=coef_df, hue='event', palette='viridis', dodge=False, legend=False)\n",
    "plt.axvline(x=0, color='red', linestyle='--')\n",
    "plt.title('Estimated Effect of User Actions on Engagement\\n(Proxy for Retention)')\n",
    "plt.xlabel('Coefficient (Increase in Total Events)')\n",
    "plt.savefig('Estimated_Effect_of_User_Actions_on_Engagement.png', bbox_inches='tight')\n",
    "\n",
    "plt.show()\n",
    "\n"
   ]
  },
  {
   "cell_type": "code",
   "execution_count": null,
   "id": "2a5cfa64-8bd7-4687-9441-f300ff9434ad",
   "metadata": {},
   "outputs": [],
   "source": []
  },
  {
   "cell_type": "code",
   "execution_count": null,
   "id": "084ef683-6c85-446c-8976-07b1c4c64704",
   "metadata": {},
   "outputs": [],
   "source": []
  },
  {
   "cell_type": "code",
   "execution_count": null,
   "id": "b9bdd4bb-041d-45d4-aef0-3944793efbd8",
   "metadata": {},
   "outputs": [],
   "source": []
  },
  {
   "cell_type": "markdown",
   "id": "879f19b5-a819-4f31-8723-58287eae460d",
   "metadata": {},
   "source": [
    "### Prediction Guy Modelling"
   ]
  },
  {
   "cell_type": "code",
   "execution_count": 55,
   "id": "9a1b78e5-5532-44fa-a73c-50c338323817",
   "metadata": {},
   "outputs": [],
   "source": [
    "# Convert event_time to datetime and sort\n",
    "df['event_time'] = pd.to_datetime(df['event_time'])\n",
    "df.sort_values(by=['session_id', 'event_time'], inplace=True)  # Changed to session_id"
   ]
  },
  {
   "cell_type": "code",
   "execution_count": 56,
   "id": "6143b7af-abdb-49bf-b1d7-2505cd59dfbd",
   "metadata": {},
   "outputs": [],
   "source": [
    "# Group by session_id instead of user_id\n",
    "session_groups = df.groupby('session_id')"
   ]
  },
  {
   "cell_type": "code",
   "execution_count": 57,
   "id": "d8bc2e43-7f33-4063-83f8-3cbffd1b300d",
   "metadata": {},
   "outputs": [
    {
     "name": "stdout",
     "output_type": "stream",
     "text": [
      "34\n"
     ]
    }
   ],
   "source": [
    "features = [\n",
    "    \"city\", \"client_event_time\", \"client_upload_time\", \"country\", \"data_type\",\n",
    "    \"device_family\", \"device_type\", \"language\", \"event_type\", \"os_name\", \"os_version\",\n",
    "    \"platform\", \"region\", \"event_properties_type\", \"event_properties_line-of-business\",\n",
    "    \"event_properties_accountId\", \"event_properties_status\", \"event_properties_lineOfBusiness\",\n",
    "    \"event_properties_action\", \"event_properties_error\", \"event_properties_templateName\",\n",
    "    \"event_properties_hasAssignees\", \"event_properties_hasAccounts\", \"event_properties_displayName\",\n",
    "    \"event_properties_variant\", \"event_properties_tableId\", \"event_properties_menu\",\n",
    "    \"event_properties_filename\", \"event_properties_attachmentId\", \"user_properties_isInternalUser\",\n",
    "    \"user_properties_roles\", \"user_properties_referring_domain\", \"user_properties_businessUnit\",\n",
    "    \"user_properties_hostname\"\n",
    "]\n",
    "print(len(features))"
   ]
  },
  {
   "cell_type": "code",
   "execution_count": 58,
   "id": "80e5124e-a9e2-4767-8512-377013abc792",
   "metadata": {},
   "outputs": [],
   "source": [
    "# Create index mappings for each feature (modified for list handling)\n",
    "feature_to_idx = {}\n",
    "\n",
    "for feat in features:\n",
    "    if feat == 'user_properties_roles':\n",
    "        # Handle list values by taking first role\n",
    "        unique_vals = (\n",
    "            df[feat]\n",
    "            .dropna()\n",
    "            .apply(lambda x: x[0] if isinstance(x, list) and len(x) > 0 else np.nan)\n",
    "            .dropna()\n",
    "            .astype(str)\n",
    "            .unique()\n",
    "            .tolist()\n",
    "        )\n",
    "    else:\n",
    "        unique_vals = df[feat].dropna().astype(str).unique().tolist()\n",
    "    \n",
    "    # Create mapping with default index 0\n",
    "    idx_map = {'__default__': 0}\n",
    "    current_idx = 1\n",
    "    for val in unique_vals:\n",
    "        key = str(val)\n",
    "        if key not in idx_map:\n",
    "            idx_map[key] = current_idx\n",
    "            current_idx += 1\n",
    "    feature_to_idx[feat] = idx_map"
   ]
  },
  {
   "cell_type": "code",
   "execution_count": 59,
   "id": "271621ac-3944-40ef-934b-fa4e46529572",
   "metadata": {},
   "outputs": [
    {
     "data": {
      "text/plain": [
       "{'__default__': 0,\n",
       " 'underwriter': 1,\n",
       " 'admin': 2,\n",
       " 'agent': 3,\n",
       " 'System Admin': 4,\n",
       " 'Broker': 5,\n",
       " 'manager': 6,\n",
       " 'Broker View-only': 7,\n",
       " 'Underwriter': 8,\n",
       " 'Leader': 9,\n",
       " 'System Manager': 10,\n",
       " 'executive': 11,\n",
       " 'FS': 12}"
      ]
     },
     "execution_count": 59,
     "metadata": {},
     "output_type": "execute_result"
    }
   ],
   "source": [
    "feature_to_idx['user_properties_roles']"
   ]
  },
  {
   "cell_type": "raw",
   "id": "41242c0d-93e6-42ad-81c4-32d8ac0ec7bc",
   "metadata": {},
   "source": [
    "What it should look like:\n",
    "\n",
    "{'__default__': 0,\n",
    " 'underwriter': 1,\n",
    " 'admin': 2,\n",
    " 'agent': 3,\n",
    " 'System Admin': 4,\n",
    " 'Broker': 5,\n",
    " 'manager': 6,\n",
    " 'Broker View-only': 7,\n",
    " 'Underwriter': 8,\n",
    " 'Leader': 9,\n",
    " 'System Manager': 10,\n",
    " 'executive': 11,\n",
    " 'FS': 12}"
   ]
  },
  {
   "cell_type": "code",
   "execution_count": 60,
   "id": "69bd2b5f-e100-45db-bbf4-9fe54b24cc10",
   "metadata": {},
   "outputs": [
    {
     "name": "stdout",
     "output_type": "stream",
     "text": [
      "8931\n"
     ]
    }
   ],
   "source": [
    "# Process data into indices (with error handling)\n",
    "concatenated_sequences = {}\n",
    "\n",
    "for session_id, group in session_groups:  # Now using session_id\n",
    "    group_sorted = group.sort_values(by='event_time')\n",
    "    event_indices = []\n",
    "    \n",
    "    for _, row in group_sorted.iterrows():\n",
    "        indices = []\n",
    "        for feat in features:\n",
    "            val = row[feat]\n",
    "            \n",
    "            # Handle null/empty values\n",
    "            if isinstance(val, (list, np.ndarray)):\n",
    "                \n",
    "                # Handle empty lists/arrays\n",
    "                if len(val) == 0:\n",
    "                    indices.append(0)\n",
    "                    continue\n",
    "                \n",
    "                # Special handling for user_properties_roles\n",
    "                if feat == 'user_properties_roles':\n",
    "                    # Take first role if available\n",
    "                    val = val[0] if len(val) > 0 else np.nan\n",
    "                else:\n",
    "                    # Convert list to string representation\n",
    "                    val = str(val)\n",
    "            \n",
    "            elif pd.isnull(val):\n",
    "                indices.append(0)\n",
    "                continue\n",
    "            else:\n",
    "                val = str(val)\n",
    "            \n",
    "            # Get index from mapping\n",
    "            idx = feature_to_idx[feat].get(val, 0)\n",
    "            indices.append(idx)\n",
    "        \n",
    "        event_indices.append(torch.tensor(indices, dtype=torch.long))\n",
    "    \n",
    "    if event_indices:\n",
    "        concatenated_sequences[session_id] = event_indices\n",
    "print(len(concatenated_sequences))"
   ]
  },
  {
   "cell_type": "code",
   "execution_count": 61,
   "id": "283524b0-445b-4a55-aaa7-5f4e3fdb4c7e",
   "metadata": {},
   "outputs": [
    {
     "name": "stdout",
     "output_type": "stream",
     "text": [
      "Total sessions: 8931\n",
      "Too short sessions (≤8): 5373\n",
      "Invalid or missing labels: 0\n",
      "Valid examples collected: 151527\n"
     ]
    }
   ],
   "source": [
    "# Set the window size and maximum examples\n",
    "time_steps = 8\n",
    "max_examples = 133713371337\n",
    "\n",
    "# Create action to index mapping\n",
    "action_feat = \"event_type\"\n",
    "action_vals = df[action_feat].dropna().astype(str).unique().tolist()\n",
    "action_to_idx = {val: idx for idx, val in enumerate(action_vals)}\n",
    "\n",
    "# Initialize lists to store the examples and labels\n",
    "X_examples = []\n",
    "y_examples = []\n",
    "\n",
    "too_short_count = 0\n",
    "invalid_label_count = 0\n",
    "total_sessions = len(concatenated_sequences)\n",
    "\n",
    "for session_id, events in concatenated_sequences.items():\n",
    "    if len(events) <= time_steps:\n",
    "        too_short_count += 1\n",
    "        continue  # Skip too short sessions\n",
    "    \n",
    "    session_df = df[df['session_id'] == session_id].sort_values(by='event_time')\n",
    "    \n",
    "    for i in range(len(events) - time_steps):\n",
    "        window = events[i:i + time_steps]\n",
    "        example = torch.stack(window)  # shape: (time_steps, hidden_size)\n",
    "        \n",
    "        target_row = session_df.iloc[i + time_steps]\n",
    "        if pd.isnull(target_row[action_feat]):\n",
    "            invalid_label_count += 1\n",
    "            continue  # Skip missing labels\n",
    "        \n",
    "        target_val = str(target_row[action_feat])\n",
    "        if target_val not in action_to_idx:\n",
    "            invalid_label_count += 1\n",
    "            continue  # Skip unknown labels\n",
    "        \n",
    "        label_idx = action_to_idx[target_val]\n",
    "        \n",
    "        X_examples.append(example)\n",
    "        y_examples.append(label_idx)\n",
    "        \n",
    "        if len(X_examples) >= max_examples:\n",
    "            break\n",
    "    if len(X_examples) >= max_examples:\n",
    "        break\n",
    "\n",
    "# Print debugging info\n",
    "print(f\"Total sessions: {total_sessions}\")\n",
    "print(f\"Too short sessions (≤{time_steps}): {too_short_count}\")\n",
    "print(f\"Invalid or missing labels: {invalid_label_count}\")\n",
    "print(f\"Valid examples collected: {len(X_examples)}\")"
   ]
  },
  {
   "cell_type": "code",
   "execution_count": 62,
   "id": "7f739ef6-273c-4ac5-971f-0bbf15e0d5fc",
   "metadata": {},
   "outputs": [
    {
     "data": {
      "text/plain": [
       "\"['session_end', 'application-window-opened', 'session_start', 'agency-dashboard::layout:render', 'agency-dashboard:::view', 'agency-dashboard::widget:render', 'agency-dashboard::configurable-table:render', '::nav-header:user-signed-out', 'dashboard:my-book:configurable-table:render', 'dashboard:my-book:widget:render', 'triaged-submission-list:my-book:configurable-table:render', 'triaged-submission-list:my-book::view', 'dashboard:my-book:layout:render', 'dashboard:my-book::view', '::nav-header:action-center-click', 'action-center:::view', 'account:::view', 'account-lines:::view', 'account-lines::layout:render', 'account-lines::widget:render', 'account-lines::configurable-table:render', ':all-accounts:configurable-table:render', ':all-accounts:widget:render', ':all-accounts:layout:render', ':all-accounts::view', 'submissions:policy-definition::submit-click', 'submissions:all-policy:configurable-table:render', 'submissions:all-policy::view', 'submissions:triaged_submissions-definition::view', 'triaged-submission:triaged_submissions-definition:layout:render', 'triaged-submission:triaged_submissions-definition::view', 'triaged-submission:triaged_submissions-definition:widget:render', 'triaged-submission-list:triaged_submissions-definition:configurable-table:render', 'triaged-submission-list:triaged_submissions-definition::view', 'submissions:policy-definition::view', 'submissions:policy-definition:configurable-table:render', 'submissions:policy-create::view', 'submissions:policy-create::submit-click', 'account-lines:::change-rating-click', 'account-property-rating:perils:configurable-table:render', 'account-property-rating:perils::view', 'action-center:::submit-click', 'action-center:action-details::view', 'action-center:::close-click', 'dashboard:my-book::action-click', 'action-center:action-details:response-form:submit-click', 'account-lines::templeton-docs:create-document-click', 'account-property-rating:perils:perils-table:add-click', 'account-property-rating:perils:perils-table:edit-click', 'account-property-rating:perils:perils-table:delete-click', 'dashboard:portfolio-insights:layout:render', 'dashboard:portfolio-insights::view', 'dashboard:portfolio-insights:widget:render', 'dashboard:my-book:recent-actions-table:action-click', 'account-auto-rating:::view', 'account-auto-rating::configurable-table:render', 'account-property-rating:perils:layers:add-click', 'account-property-rating:perils:model-request-details:save-click', 'submissions:exposures-create::submit-click', 'submissions:all-exposures:configurable-table:render', 'submissions:all-exposures::view', 'submissions:exposures-create::view', 'dashboard:my-book:recent-actions-table:account-click', '::configurable-table:render', '::layout:render', '::widget:render', 'EMPTY', 'submissions:all-account::view', 'submissions:all-account:configurable-table:render', 'submissions:account-create::view', 'account-broker-view::layout:render', 'account-broker-view:::view', 'account-broker-view::widget:render', 'agency-account::layout:render', 'agency-account:::view', 'agency-account::widget:render', 'agency-account::configurable-table:render', 'account-broker-view::configurable-table:render', 'submissions:all-ingest_policy_through_pd:configurable-table:render', 'submissions:all-ingest_policy_through_pd::view', 'submissions:ingest_policy_through_pd-create::view', '::nav-header:help-menu-opened', 'account-lines::duplicate-policy-modal:duplicate-rating', 'account-property-rating::duplicate-policy-modal:duplicate-rating', 'account-lines::construction-excess-rater:save-new-quote-click', 'account-lines::construction-excess-rater:create-document-click', '::duplicate-policy-modal:duplicate-rating', 'all-accounts:renewals:layout:render', 'all-accounts:renewals::view', 'all-accounts:renewals:configurable-table:render', 'all-accounts:renewals:widget:render', 'submissions:all-financial_lines::view', 'dashboard:team-insights:layout:render', 'dashboard:team-insights::view', 'dashboard:team-insights:widget:render', 'account-property-rating:pricing-detail:configurable-table:render', 'account-property-rating:pricing-detail::view', 'account-property-rating:pricing-detail::open-ra-file-click', 'account-property-rating:building-details:configurable-table:render', 'account-property-rating:building-details::view', 'submissions:exposures-definition::view', 'submissions:all-renewal::view', 'submissions:renewal-definition::view', 'all-accounts:new-business::view', 'all-accounts:new-business:layout:render', 'submissions:policy-create:configurable-table:render', 'submissions:renewal-create::view', 'submissions:renewal-definition::submit-click', 'submissions:renewal-create::submit-click', 'submissions:all-renewal:configurable-table:render', 'all-accounts:new-business:accounts-table:account-click', 'account-lines::construction-excess-rater:modify-existing-quote-click', 'linked-email-thread-attachments:triaged_submissions-definition::document-download-click', 'submissions:all-auto::view', 'submissions:all-auto:configurable-table:render', 'account-workers-comp-rating:::view', 'account-workers-comp-rating:::change-rating-click', ':all-accounts::advanced-filters-opened', ':all-accounts:accounts-table:account-click', 'account-broker-readonly-view::layout:render', 'account-broker-readonly-view:::view', 'account-broker-readonly-view::widget:render', 'triaged-submission:triaged_submissions-definition::winnability-click', 'triaged-submission:triaged_submissions-definition::appetite-click', 'assigned-email-thread:::email-thread-expansion', 'assigned-email-thread:::document-download-click', 'submissions:all-exposure_demo::view', 'submissions:all-exposure_demo:configurable-table:render', 'submissions:all-sashco_submission:configurable-table:render', 'submissions:all-sashco_submission::view', 'goals-and-rules:goals:configurable-table:render', 'goals-and-rules:goals::view', 'goals-and-rules:goal-definition::view', 'account-broker-readonly-view::configurable-table:render', 'submissions:all-terrorism::view', 'submissions:terrorism-create::view', 'submissions:all-terrorism:configurable-table:render', 'submissions:financial_lines-create::view', 'submissions:all-financial_lines:configurable-table:render', 'all-accounts:new-business:configurable-table:render', 'contacts::configurable-table:render', 'brokerage::configurable-table:render', 'brokerage::layout:render', 'brokerage:::view', 'brokerage::widget:render', 'complex-rules::configurable-table:render', 'classification-rules::configurable-table:render', 'rule:::view', 'rule::configurable-table:render', 'account-lines:::action-center-click', 'account-auto-rating:::change-rating-click', ':::account-click', 'account-property-rating::configurable-table:render', 'carriers::configurable-table:render', 'submissions:policy-definition::save-click', 'account-property-rating:perils:layers:delete-click', 'account-auto-rating::duplicate-policy-modal:duplicate-rating', 'classification-rule:::view', 'classification-rule::configurable-table:render', 'submissions:policy-create::save-click', 'account-property-rating:::change-rating-click', 'goals-and-rules:rules:configurable-table:render', 'goals-and-rules:rules::view', 'goals-and-rules:new-rule::view', 'goals-and-rules:new-rule::close-click', 'reinsurance-binders::configurable-table:render', 'reinsurers-on-binders::configurable-table:render', 'reinsurers-on-binders:::view']\""
      ]
     },
     "execution_count": 62,
     "metadata": {},
     "output_type": "execute_result"
    }
   ],
   "source": [
    "str(action_vals)"
   ]
  },
  {
   "cell_type": "code",
   "execution_count": 63,
   "id": "f5bf3605-e572-4578-8fb0-2f97aa1f6708",
   "metadata": {},
   "outputs": [],
   "source": [
    "device = torch.device(\"cuda\" if torch.cuda.is_available() else \"cpu\")\n",
    "X_all = torch.stack(X_examples) # (num_examples, time_steps, 34)\n",
    "y_all = torch.tensor(y_examples, dtype=torch.long)"
   ]
  },
  {
   "cell_type": "code",
   "execution_count": 64,
   "id": "2cd94d73-ac83-4f98-9a8c-1c512c1a607e",
   "metadata": {},
   "outputs": [
    {
     "name": "stdout",
     "output_type": "stream",
     "text": [
      "torch.Size([151527, 8, 34])\n",
      "torch.Size([151527])\n"
     ]
    }
   ],
   "source": [
    "print(X_all.shape)\n",
    "print(y_all.shape)"
   ]
  },
  {
   "cell_type": "code",
   "execution_count": 65,
   "id": "f46758fd-6754-408b-bec7-1551f2727712",
   "metadata": {},
   "outputs": [
    {
     "name": "stdout",
     "output_type": "stream",
     "text": [
      "Training set: torch.Size([121221, 8, 34])\n",
      "Validation set: torch.Size([15153, 8, 34])\n",
      "Test set: torch.Size([15153, 8, 34])\n"
     ]
    }
   ],
   "source": [
    "# Train/val/test split\n",
    "num_examples = len(X_examples)\n",
    "indices = torch.randperm(num_examples)\n",
    "\n",
    "train_idx = indices[:int(0.8*num_examples)]\n",
    "val_idx = indices[int(0.8*num_examples):int(0.9*num_examples)]\n",
    "test_idx = indices[int(0.9*num_examples):]\n",
    "\n",
    "X_train, y_train = X_all[train_idx], y_all[train_idx]\n",
    "X_val, y_val = X_all[val_idx], y_all[val_idx]\n",
    "X_test, y_test = X_all[test_idx], y_all[test_idx]\n",
    "\n",
    "print(f\"Training set: {X_train.shape}\")\n",
    "print(f\"Validation set: {X_val.shape}\")\n",
    "print(f\"Test set: {X_test.shape}\")"
   ]
  },
  {
   "cell_type": "code",
   "execution_count": 90,
   "id": "d0feaa45-6ae2-4784-bf1b-13511229bee7",
   "metadata": {},
   "outputs": [],
   "source": [
    "import torch\n",
    "import torch.nn as nn\n",
    "import torch.nn.functional as F\n",
    "\n",
    "class LSTM(nn.Module):\n",
    "    def __init__(self, feature_sizes, embedding_dim=64, hidden_size=128, dropout=0.5):\n",
    "        super().__init__()\n",
    "        # Create an embedding for each feature\n",
    "        self.embeddings = nn.ModuleList([\n",
    "            nn.Embedding(num_embeddings=size, embedding_dim=embedding_dim)\n",
    "            for size in feature_sizes\n",
    "        ])\n",
    "        \n",
    "        # Dropout module for regularization\n",
    "        self.dropout = nn.Dropout(dropout)\n",
    "        \n",
    "        # First LSTM layer: input is concatenated embeddings\n",
    "        self.lstm1 = nn.LSTM(\n",
    "            input_size=embedding_dim * len(feature_sizes),\n",
    "            hidden_size=hidden_size,\n",
    "            batch_first=True\n",
    "        )\n",
    "        # A linear projection to match the dimensions for the first residual connection\n",
    "        self.residual_proj1 = nn.Linear(embedding_dim * len(feature_sizes), hidden_size)\n",
    "        \n",
    "        # Second LSTM layer: input and output are both hidden_size\n",
    "        self.lstm2 = nn.LSTM(\n",
    "            input_size=hidden_size,\n",
    "            hidden_size=hidden_size,\n",
    "            batch_first=True\n",
    "        )\n",
    "        \n",
    "        # Activation function\n",
    "        self.activation = nn.ReLU()\n",
    "        \n",
    "        # Final fully-connected layer to produce logits over actions\n",
    "        self.fc = nn.Linear(hidden_size, len(action_to_idx))\n",
    "        \n",
    "    def forward(self, x):\n",
    "        # x shape: (batch_size, time_steps, num_features)\n",
    "        batch_size, seq_len, num_feats = x.size()\n",
    "        \n",
    "        # Process each feature through its embedding\n",
    "        embedded = []\n",
    "        for i in range(num_feats):\n",
    "            emb = self.embeddings[i](x[:, :, i])  # (batch_size, seq_len, embedding_dim)\n",
    "            embedded.append(emb)\n",
    "        x_emb = torch.cat(embedded, dim=-1)  # (batch_size, seq_len, embedding_dim*num_feats)\n",
    "        x_emb = self.dropout(x_emb)\n",
    "        \n",
    "        # First LSTM layer\n",
    "        out1, _ = self.lstm1(x_emb)  # (batch_size, seq_len, hidden_size)\n",
    "        # Residual: project input embeddings and add to LSTM output\n",
    "        res1 = self.residual_proj1(x_emb)  # (batch_size, seq_len, hidden_size)\n",
    "        out1 = self.activation(out1 + res1)\n",
    "        out1 = self.dropout(out1)\n",
    "        \n",
    "        # Second LSTM layer\n",
    "        out2, _ = self.lstm2(out1)  # (batch_size, seq_len, hidden_size)\n",
    "        # Residual: add the output of the first LSTM layer (out1) to the output of the second\n",
    "        out2 = self.activation(out2 + out1)\n",
    "        out2 = self.dropout(out2)\n",
    "        \n",
    "        # Use the output of the final time step for prediction\n",
    "        logits = self.fc(out2[:, -1, :])  # (batch_size, num_actions)\n",
    "        return logits\n"
   ]
  },
  {
   "cell_type": "code",
   "execution_count": 91,
   "id": "a8b5ce73-0a44-433b-a753-02e17ce045fb",
   "metadata": {},
   "outputs": [],
   "source": [
    "# Initialize model\n",
    "feature_sizes = [len(feature_to_idx[feat]) for feat in features]\n",
    "model = LSTM(feature_sizes).to(device)"
   ]
  },
  {
   "cell_type": "code",
   "execution_count": 92,
   "id": "5d9cc869-e886-4682-8ac5-ec0498be5ccc",
   "metadata": {},
   "outputs": [
    {
     "name": "stdout",
     "output_type": "stream",
     "text": [
      "Total parameters: 16.13M\n"
     ]
    }
   ],
   "source": [
    "total_params = sum(p.numel() for p in model.parameters() if p.requires_grad)\n",
    "print(f\"Total parameters: {total_params / 1e6:.2f}M\")"
   ]
  },
  {
   "cell_type": "code",
   "execution_count": 93,
   "id": "b732fe58-ec7d-4f2d-9366-3e06f0b5532e",
   "metadata": {},
   "outputs": [],
   "source": [
    "# Create dataloaders\n",
    "batch_size = 128\n",
    "train_dataset = TensorDataset(X_train, y_train)\n",
    "train_loader = DataLoader(train_dataset, batch_size=batch_size, shuffle=True)\n",
    "val_dataset = TensorDataset(X_val, y_val, )\n",
    "val_loader = DataLoader(val_dataset, batch_size=batch_size, shuffle=True)\n",
    "test_dataset = TensorDataset(X_test, y_test)\n",
    "test_loader = DataLoader(test_dataset, batch_size=batch_size, shuffle=True)"
   ]
  },
  {
   "cell_type": "code",
   "execution_count": 94,
   "id": "1e3d8e0e-db7d-4240-a59d-0dd8539a73a6",
   "metadata": {},
   "outputs": [],
   "source": [
    "criterion = nn.CrossEntropyLoss()\n",
    "optimizer = torch.optim.Adam(model.parameters(), lr=0.001)\n",
    "num_epochs = 10"
   ]
  },
  {
   "cell_type": "code",
   "execution_count": null,
   "id": "31dd998c-3802-49f6-a513-220c164e5df0",
   "metadata": {},
   "outputs": [
    {
     "name": "stdout",
     "output_type": "stream",
     "text": [
      "Epoch 1/10\n",
      "Train Loss: 2.0297\n",
      "Val Loss: 1.3553\n",
      "Val Acc: 59.68%\n",
      "-------------------\n",
      "Epoch 2/10\n",
      "Train Loss: 1.4576\n",
      "Val Loss: 1.0909\n",
      "Val Acc: 68.71%\n",
      "-------------------\n",
      "Epoch 3/10\n",
      "Train Loss: 1.2817\n",
      "Val Loss: 0.9761\n",
      "Val Acc: 71.77%\n",
      "-------------------\n",
      "Epoch 4/10\n",
      "Train Loss: 1.1749\n",
      "Val Loss: 0.8658\n",
      "Val Acc: 75.32%\n",
      "-------------------\n",
      "Epoch 5/10\n",
      "Train Loss: 1.1016\n",
      "Val Loss: 0.8110\n",
      "Val Acc: 76.80%\n",
      "-------------------\n",
      "Epoch 6/10\n",
      "Train Loss: 1.0475\n",
      "Val Loss: 0.7801\n",
      "Val Acc: 77.70%\n",
      "-------------------\n"
     ]
    }
   ],
   "source": [
    "# Training loop\n",
    "for epoch in range(num_epochs):\n",
    "    model.train()\n",
    "    train_loss = 0.0\n",
    "    \n",
    "    for inputs, labels in train_loader:\n",
    "        inputs, labels = inputs.to(device), labels.to(device)\n",
    "        \n",
    "        optimizer.zero_grad()\n",
    "        outputs = model(inputs)\n",
    "        loss = criterion(outputs, labels)\n",
    "        loss.backward()\n",
    "        optimizer.step()\n",
    "        \n",
    "        train_loss += loss.item() * inputs.size(0)\n",
    "    \n",
    "    # Validation\n",
    "    model.eval()\n",
    "    val_loss = 0.0\n",
    "    correct = 0\n",
    "    total = 0\n",
    "    \n",
    "    with torch.no_grad():\n",
    "        for inputs, labels in val_loader:\n",
    "            inputs, labels = inputs.to(device), labels.to(device)\n",
    "            \n",
    "            outputs = model(inputs)\n",
    "            loss = criterion(outputs, labels)\n",
    "            val_loss += loss.item() * inputs.size(0)\n",
    "            \n",
    "            _, predicted = torch.max(outputs, 1)\n",
    "            total += labels.size(0)\n",
    "            correct += (predicted == labels).sum().item()\n",
    "    \n",
    "    print(f\"Epoch {epoch+1}/{num_epochs}\")\n",
    "    print(f\"Train Loss: {train_loss/len(train_loader.dataset):.4f}\")\n",
    "    print(f\"Val Loss: {val_loss/len(val_loader.dataset):.4f}\")\n",
    "    print(f\"Val Acc: {100*correct/total:.2f}%\")\n",
    "    print(\"-------------------\")"
   ]
  },
  {
   "cell_type": "code",
   "execution_count": null,
   "id": "1ba5d0ce-c39d-45c7-ba52-74820344d53b",
   "metadata": {},
   "outputs": [],
   "source": [
    "# Test evaluation\n",
    "model.eval()\n",
    "test_loss = 0.0\n",
    "correct = 0\n",
    "total = 0\n",
    "\n",
    "with torch.no_grad():\n",
    "    for inputs, labels in test_loader:\n",
    "        inputs, labels = inputs.to(device), labels.to(device)\n",
    "        \n",
    "        outputs = model(inputs)\n",
    "        loss = criterion(outputs, labels)\n",
    "        test_loss += loss.item() * inputs.size(0)\n",
    "        \n",
    "        _, predicted = torch.max(outputs, 1)\n",
    "        total += labels.size(0)\n",
    "        correct += (predicted == labels).sum().item()\n",
    "        \n",
    "print(f\"Test Loss: {test_loss/len(test_loader.dataset):.4f}\")\n",
    "print(f\"Test Acc: {100*correct/total:.2f}%\")"
   ]
  },
  {
   "cell_type": "raw",
   "id": "8f188f6c-b8af-4857-8a4a-e84f72b21c29",
   "metadata": {},
   "source": [
    "Hidden features to reccomend based on the predicted action that they might do:\n",
    "\n",
    "application-window-opened: Auto-save progress and show \"Resume\" button on return.\n",
    "\n",
    "session_start: Personalized \"Welcome back\" banner with pending tasks.\n",
    "\n",
    "agency-dashboard::layout:render: Quick-access toolbar for frequent actions (e.g., \"New Submission\").\n",
    "\n",
    "agency-dashboard:::view: Interactive onboarding tour for first-time dashboard users.\n",
    "\n",
    "agency-dashboard::widget:render: Real-time data refresh toggle for live updates.\n",
    "\n",
    "agency-dashboard::configurable-table:render: One-click \"Export to CSV\" button.\n",
    "\n",
    "::nav-header:user-signed-out: Display \"Recent Activity\" snippets on the login screen.\n",
    "\n",
    "dashboard:my-book:configurable-table:render: Highlight rows with overdue actions in red.\n",
    "\n",
    "dashboard:my-book:widget:render: Add \"Set Reminder\" button to deadline widgets.\n",
    "\n",
    "triaged-submission-list:my-book:configurable-table:render: Bulk-action dropdown (e.g., \"Assign All\").\n",
    "\n",
    "triaged-submission-list:my-book::view: Auto-expand priority submissions with red flags.\n",
    "\n",
    "dashboard:my-book:layout:render: Collapsible sidebar for focused workspace.\n",
    "\n",
    "dashboard:my-book::view: \"Quick Jump\" search bar for submissions/accounts.\n",
    "\n",
    "::nav-header:action-center-click: Floating \"Quick Actions\" menu in the header.\n",
    "\n",
    "action-center:::view: Progress bars for multi-step tasks (e.g., \"Submission 80% complete\").\n",
    "\n",
    "account:::view: \"Recent Changes\" audit log at the bottom of the page.\n",
    "\n",
    "account-lines:::view: Inline calculator for premium adjustments.\n",
    "\n",
    "account-lines::layout:render: Drag-and-drop reordering of policy lines.\n",
    "\n",
    "account-lines::widget:render: \"Compare Quotes\" widget for alternative rates.\n",
    "\n",
    "account-lines::configurable-table:render: Bulk-edit checkboxes for mass updates.\n",
    "\n",
    ":all-accounts:configurable-table:render: Filter by \"Last Modified\" date.\n",
    "\n",
    ":all-accounts:widget:render: \"Top Brokers\" leaderboard for performance tracking.\n",
    "\n",
    ":all-accounts:layout:render: Customizable dashboard widgets (user-defined layout).\n",
    "\n",
    ":all-accounts::view: \"New Account\" shortcut button in the top-right corner.\n",
    "\n",
    "submissions:policy-definition::submit-click: Auto-redirect to next logical workflow step.\n",
    "\n",
    "submissions:all-policy:configurable-table:render: \"Duplicate Submission\" action in table rows.\n",
    "\n",
    "submissions:all-policy::view: \"Templates\" library for common policy types.\n",
    "\n",
    "submissions:triaged_submissions-definition::view: \"Escalate to Manager\" button for urgent cases.\n",
    "\n",
    "triaged-submission:triaged_submissions-definition:layout:render: Side-by-side view for submissions/comments.\n",
    "\n",
    "triaged-submission:triaged_submissions-definition::view: AI-powered risk assessment summary.\n",
    "\n",
    "triaged-submission:triaged_submissions-definition:widget:render: \"Time Spent\" tracker for triage tasks.\n",
    "\n",
    "triaged-submission-list:triaged_submissions-definition:configurable-table:render: Color-coded urgency labels in columns.\n",
    "\n",
    "triaged-submission-list:triaged_submissions-definition::view: \"Snooze for 24h\" option for non-urgent items.\n",
    "\n",
    "submissions:policy-definition::view: Tooltips explaining complex policy fields.\n",
    "\n",
    "submissions:policy-definition:configurable-table:render: \"Flag for Review\" column toggle.\n",
    "\n",
    "submissions:policy-create::view: Autofill fields using AI from uploaded documents.\n",
    "\n",
    "submissions:policy-create::submit-click: Confetti animation + \"Next Steps\" checklist post-submission.\n",
    "\n",
    "account-lines:::change-rating-click: \"Undo Rating Change\" button for 5 minutes.\n",
    "\n",
    "account-property-rating:perils:configurable-table:render: Pre-filled \"Common Perils\" dropdown.\n",
    "\n",
    "account-property-rating:perils::view: Interactive map overlay for location-based risks.\n",
    "\n",
    "action-center:::submit-click: Auto-archive completed tasks + success notification.\n",
    "\n",
    "action-center:action-details::view: \"Add Collaborator\" button for task delegation.\n",
    "\n",
    "action-center:::close-click: \"Mark as Done\" checkbox with optional feedback.\n",
    "\n",
    "dashboard:my-book::action-click: Preview pane for quick details without leaving the page.\n",
    "\n",
    "action-center:action-details:response-form:submit-click: Save draft responses automatically.\n",
    "\n",
    "account-lines::templeton-docs:create-document-click: AI-generated document outlines.\n",
    "\n",
    "account-property-rating:perils:perils-table:add-click: \"Copy from Template\" button.\n",
    "\n",
    "account-property-rating:perils:perils-table:edit-click: Version history slider for edits.\n",
    "\n",
    "account-property-rating:perils:perils-table:delete-click: \"Archive Instead of Delete\" option.\n",
    "\n",
    "dashboard:portfolio-insights:layout:render: Full-screen mode for data-heavy views.\n",
    "\n",
    "dashboard:portfolio-insights::view: \"Download PDF Report\" button.\n",
    "\n",
    "dashboard:portfolio-insights:widget:render: Drill-down charts on hover.\n",
    "\n",
    "dashboard:my-book:recent-actions-table:action-click: \"Follow-Up Task\" quick-add button.\n",
    "\n",
    "account-auto-rating:::view: Sidebar with regulatory compliance warnings.\n",
    "\n",
    "account-auto-rating::configurable-table:render: \"Compare to Industry Average\" column.\n",
    "\n",
    "account-property-rating:perils:layers:add-click: Auto-calculate layer premiums.\n",
    "\n",
    "account-property-rating:perils:model-request-details:save-click: \"Email Summary to Team\" option.\n",
    "\n",
    "submissions:exposures-create::submit-click: Redirect to related submissions for cross-referencing.\n",
    "\n",
    "submissions:all-exposures:configurable-table:render: \"Group by Status\" toggle.\n",
    "\n",
    "submissions:all-exposures::view: \"Bulk Update Exposure Status\" dropdown.\n",
    "\n",
    "submissions:exposures-create::view: Pre-attach common supporting documents.\n",
    "\n",
    "dashboard:my-book:recent-actions-table:account-click: \"View Full History\" slide-out panel.\n",
    "\n",
    "::configurable-table:render: \"Pin Column\" feature for key data.\n",
    "\n",
    "::layout:render: Dark mode toggle in the footer.\n",
    "\n",
    "::widget:render: \"Expand Widget\" button for detailed views.\n",
    "\n",
    "EMPTY: Session timeout warning with \"Extend Time\" option.\n",
    "\n",
    "submissions:all-account::view: \"Filter by Broker\" search bar.\n",
    "\n",
    "submissions:all-account:configurable-table:render: \"Merge Duplicate Accounts\" action.\n",
    "\n",
    "submissions:account-create::view: \"Clone Existing Account\" button.\n",
    "\n",
    "account-broker-view::layout:render: Broker-specific quick links (e.g., \"Your Clients\").\n",
    "\n",
    "account-broker-view:::view: Live chat integration with underwriting team.\n",
    "\n",
    "account-broker-view::widget:render: \"Client Satisfaction Score\" widget.\n",
    "\n",
    "agency-account::layout:render: \"Agency Performance\" benchmark graphs.\n",
    "\n",
    "agency-account:::view: \"Training Resources\" tab for new agents.\n",
    "\n",
    "agency-account::widget:render: Real-time commission calculator.\n",
    "\n",
    "agency-account::configurable-table:render: \"Export Commission Statement\" button.\n",
    "\n",
    "account-broker-view::configurable-table:render: \"Tag Clients\" bulk-action dropdown.\n",
    "\n",
    "submissions:all-ingest_policy_through_pd:configurable-table:render: \"Retry Failed Imports\" button.\n",
    "\n",
    "submissions:all-ingest_policy_through_pd::view: \"Import History\" timeline.\n",
    "\n",
    "submissions:ingest_policy_through_pd-create::view: Drag-and-drop PDF/CSV upload zone.\n",
    "\n",
    "::nav-header:help-menu-opened: \"Most Asked Questions\" quick links.\n",
    "\n",
    "account-lines::duplicate-policy-modal:duplicate-rating: \"Modify Before Duplicating\" toggle.\n",
    "\n",
    "account-property-rating::duplicate-policy-modal:duplicate-rating: \"Compare to Original\" side-by-side view.\n",
    "\n",
    "account-lines::construction-excess-rater:save-new-quote-click: Auto-generate quote summary PDF.\n",
    "\n",
    "account-lines::construction-excess-rater:create-document-click: Pre-fill clauses from past documents.\n",
    "\n",
    "::duplicate-policy-modal:duplicate-rating: \"Duplicate with Adjustments\" preset options.\n",
    "\n",
    "all-accounts:renewals:layout:render: \"Renewal Calendar\" grid view.\n",
    "\n",
    "all-accounts:renewals::view: \"Auto-Renew\" toggle for eligible policies.\n",
    "\n",
    "all-accounts:renewals:configurable-table:render: \"Renewal Probability\" score column.\n",
    "\n",
    "all-accounts:renewals:widget:render: \"Upcoming Renewals\" countdown timer.\n",
    "\n",
    "submissions:all-financial_lines::view: \"Regulatory Checklist\" sidebar.\n",
    "\n",
    "dashboard:team-insights:layout:render: Team performance heatmaps.\n",
    "\n",
    "dashboard:team-insights::view: \"Assign Workload\" balancing tool.\n",
    "\n",
    "dashboard:team-insights:widget:render: \"Top Performers\" badge system.\n",
    "\n",
    "account-property-rating:pricing-detail:configurable-table:render: \"What-If\" pricing scenario columns.\n",
    "\n",
    "account-property-rating:pricing-detail::view: Interactive rate adjustment slider.\n",
    "\n",
    "account-property-rating:pricing-detail::open-ra-file-click: Auto-sync with cloud storage (e.g., Dropbox).\n",
    "\n",
    "account-property-rating:building-details:configurable-table:render: \"Attach Photos\" button per row.\n",
    "\n",
    "account-property-rating:building-details::view: 3D building model preview (if data exists).\n",
    "\n",
    "submissions:exposures-definition::view: \"Linked Policies\" cross-reference table.\n",
    "\n",
    "submissions:all-renewal::view: \"Renewal Checklist\" with due dates.\n",
    "\n",
    "submissions:renewal-definition::view: \"Premium Change Alert\" banner for increases >10%.\n",
    "\n",
    "all-accounts:new-business::view: \"New Business Pipeline\" funnel chart.\n",
    "\n",
    "all-accounts:new-business:layout:render: \"Hot Leads\" prioritization filter.\n",
    "\n",
    "submissions:policy-create:configurable-table:render: \"Validate Data\" button for error-checking.\n",
    "\n",
    "submissions:renewal-create::view: Sidebar showing policy history.\n",
    "\n",
    "submissions:renewal-definition::submit-click: \"Schedule Renewal Reminder\" prompt.\n",
    "\n",
    "submissions:renewal-create::submit-click: \"Notify Broker\" checkbox upon submission.\n",
    "\n",
    "submissions:all-renewal:configurable-table:render: \"Renewal Status\" color-coded badges.\n",
    "\n",
    "all-accounts:new-business:accounts-table:account-click: \"Similar Accounts\" recommendation panel.\n",
    "\n",
    "account-lines::construction-excess-rater:modify-existing-quote-click: Version comparison slider.\n",
    "\n",
    "linked-email-thread-attachments:triaged_submissions-definition::document-download-click: \"Add to Submission\" shortcut.\n",
    "\n",
    "submissions:all-auto::view: \"Vehicle Database\" integration for VIN lookup.\n",
    "\n",
    "submissions:all-auto:configurable-table:render: \"Accident History\" quick-view column.\n",
    "\n",
    "account-workers-comp-rating:::view: \"Safety Audit\" checklist for compliance.\n",
    "\n",
    "account-workers-comp-rating:::change-rating-click: \"OSHA Violation\" risk alerts.\n",
    "\n",
    ":all-accounts::advanced-filters-opened: Save custom filters as presets.\n",
    "\n",
    ":all-accounts:accounts-table:account-click: \"Quick Actions\" hover menu (Edit, View, Clone).\n",
    "\n",
    "account-broker-readonly-view::layout:render: \"Request Edit Access\" button.\n",
    "\n",
    "account-broker-readonly-view:::view: \"Broker Notes\" public/private toggle.\n",
    "\n",
    "account-broker-readonly-view::widget:render: \"Last Viewed By\" timestamp.\n",
    "\n",
    "triaged-submission:triaged_submissions-definition::winnability-click: AI-generated \"Win Probability\" score.\n",
    "\n",
    "triaged-submission:triaged_submissions-definition::appetite-click: \"Company Appetite\" historical matches.\n",
    "\n",
    "assigned-email-thread:::email-thread-expansion: \"Summarize Thread\" AI button.\n",
    "\n",
    "assigned-email-thread:::document-download-click: \"Preview Document\" without downloading.\n",
    "\n",
    "submissions:all-exposure_demo::view: Interactive risk simulation sandbox.\n",
    "\n",
    "submissions:all-exposure_demo:configurable-table:render: \"Demo vs. Live\" comparison toggle.\n",
    "\n",
    "submissions:all-sashco_submission:configurable-table:render: Custom \"Sashco Workflow\" column presets.\n",
    "\n",
    "submissions:all-sashco_submission::view: \"Sashco Guidelines\" sidebar reference.\n",
    "\n",
    "goals-and-rules:goals:configurable-table:render: \"% Progress\" bar per goal row.\n",
    "\n",
    "goals-and-rules:goals::view: \"Goal Impact\" visualizer (e.g., revenue vs. effort).\n",
    "\n",
    "goals-and-rules:goal-definition::view: \"Attach KPIs\" dropdown for measurable targets.\n",
    "\n",
    "account-broker-readonly-view::configurable-table:render: \"Export to Broker\" button (PDF/Excel).\n",
    "\n",
    "submissions:all-terrorism::view: \"Terrorism Risk Map\" overlay.\n",
    "\n",
    "submissions:terrorism-create::view: Government database auto-check (e.g., OFAC lists).\n",
    "\n",
    "submissions:all-terrorism:configurable-table:render: \"Risk Tier\" sorting options.\n",
    "\n",
    "submissions:financial_lines-create::view: \"Compliance Checklist\" with auto-validation.\n",
    "\n",
    "submissions:all-financial_lines:configurable-table:render: \"Regulatory Deadline\" countdown column.\n",
    "\n",
    "all-accounts:new-business:configurable-table:render: \"Lead Source\" attribution column.\n",
    "\n",
    "contacts::configurable-table:render: \"Merge Duplicate Contacts\" bulk action.\n",
    "\n",
    "brokerage::configurable-table:render: \"Broker Performance Score\" sorting.\n",
    "\n",
    "brokerage::layout:render: \"Brokerage Hierarchy\" tree diagram.\n",
    "\n",
    "brokerage:::view: \"Brokerage Newsfeed\" for internal updates.\n",
    "\n",
    "brokerage::widget:render: \"Commission Forecast\" projection graph.\n",
    "\n",
    "complex-rules::configurable-table:render: \"Rule Dependencies\" warning icon.\n",
    "\n",
    "classification-rules::configurable-table:render: \"Test Rule with Sample Data\" button.\n",
    "\n",
    "rule:::view: \"Rule Impact Analysis\" preview pane.\n",
    "\n",
    "rule::configurable-table:render: \"Activate/Deactivate\" toggle per rule.\n",
    "\n",
    "account-lines:::action-center-click: \"Create Task from This Policy\" shortcut.\n",
    "\n",
    "account-auto-rating:::change-rating-click: \"Undo Last 5 Changes\" history stack.\n",
    "\n",
    ":::account-click: \"Recent Interactions\" popover on account hover.\n",
    "\n",
    "account-property-rating::configurable-table:render: \"Attach Supporting Docs\" per row.\n",
    "\n",
    "carriers::configurable-table:render: \"Carrier Capacity\" utilization meter.\n",
    "\n",
    "submissions:policy-definition::save-click: Auto-versioning with timestamped saves.\n",
    "\n",
    "account-property-rating:perils:layers:delete-click: \"Archive Layer\" with comment prompt.\n",
    "\n",
    "account-auto-rating::duplicate-policy-modal:duplicate-rating: \"Copy Exclusions/Endorsements\" checkbox."
   ]
  }
 ],
 "metadata": {
  "kernelspec": {
   "display_name": "venv",
   "language": "python",
   "name": "python3"
  },
  "language_info": {
   "codemirror_mode": {
    "name": "ipython",
    "version": 3
   },
   "file_extension": ".py",
   "mimetype": "text/x-python",
   "name": "python",
   "nbconvert_exporter": "python",
   "pygments_lexer": "ipython3",
   "version": "3.9.6"
  }
 },
 "nbformat": 4,
 "nbformat_minor": 5
}
